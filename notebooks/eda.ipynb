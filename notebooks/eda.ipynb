{
 "cells": [
  {
   "cell_type": "markdown",
   "metadata": {},
   "source": [
    "# Exploratory Data Analysis"
   ]
  },
  {
   "cell_type": "code",
   "execution_count": null,
   "metadata": {},
   "outputs": [],
   "source": [
    "import matplotlib.pyplot as plt\n",
    "import numpy as np\n",
    "import plotly.express as px\n",
    "import plotly.graph_objects as go\n",
    "import polars as pl\n",
    "import seaborn as sns\n",
    "from matplotlib.colors import LinearSegmentedColormap\n",
    "\n",
    "from scifi.utils import get_reviewer_mapping\n",
    "from scifi.visualize import (\n",
    "    create_voting_text,\n",
    "    rating_to_color,\n",
    ")"
   ]
  },
  {
   "cell_type": "code",
   "execution_count": null,
   "metadata": {},
   "outputs": [],
   "source": [
    "# Read the processed book club data\n",
    "bookclub_processed_df = pl.read_csv(\"data/processed_data.csv\")\n",
    "\n",
    "# Get a list of book club members\n",
    "bookclub_members_list = list(get_reviewer_mapping().values())\n",
    "\n",
    "print(bookclub_processed_df)"
   ]
  },
  {
   "cell_type": "code",
   "execution_count": 3,
   "metadata": {},
   "outputs": [],
   "source": [
    "# Calculate average ratings for each member and create ordered list\n",
    "member_averages = []\n",
    "for member in bookclub_members_list:\n",
    "    avg_rating = (\n",
    "        bookclub_processed_df.select(member)\n",
    "        .filter(pl.col(member) != 0)\n",
    "        .select(pl.col(member).mean())\n",
    "        .item()\n",
    "    )\n",
    "    member_averages.append((member, avg_rating))\n",
    "\n",
    "# Sort by average rating (lowest to highest)\n",
    "member_averages.sort(key=lambda x: x[1])\n",
    "ordered_members = [member for member, _ in member_averages]"
   ]
  },
  {
   "cell_type": "code",
   "execution_count": null,
   "metadata": {},
   "outputs": [],
   "source": [
    "selected_book = \"Concept M\"\n",
    "\n",
    "book_plot_df = bookclub_processed_df.filter(pl.col(\"title\") == selected_book)\n",
    "categories = list(get_reviewer_mapping().values())\n",
    "values = [book_plot_df.select(member).to_series().item() for member in categories]\n",
    "\n",
    "# Calculate average rating (excluding None/null values)\n",
    "valid_values = [v for v in values if v is not None and v != 0]\n",
    "avg_rating = float(np.mean(valid_values)) if valid_values else 0.0\n",
    "\n",
    "fill_color = rating_to_color(avg_rating, alpha=0.3)  # Transparent fill\n",
    "line_color = rating_to_color(avg_rating, alpha=1.0)  # Opaque line\n",
    "\n",
    "fig = go.Figure()\n",
    "fig.add_trace(\n",
    "    go.Scatterpolar(\n",
    "        r=values,\n",
    "        theta=categories,\n",
    "        fill=\"toself\",\n",
    "        name=selected_book,\n",
    "        fillcolor=fill_color,\n",
    "        line={\"color\": line_color},\n",
    "    ),\n",
    ")\n",
    "\n",
    "fig.update_layout(\n",
    "    polar={\"radialaxis\": {\"visible\": True, \"range\": [0, 5]}},\n",
    "    showlegend=False,\n",
    "    title=f\"Ratings for {selected_book} (avg: {avg_rating:.2f})\",\n",
    ")\n",
    "\n",
    "fig.show()"
   ]
  },
  {
   "cell_type": "code",
   "execution_count": 5,
   "metadata": {},
   "outputs": [
    {
     "data": {
      "application/vnd.plotly.v1+json": {
       "config": {
        "plotlyServerURL": "https://plot.ly"
       },
       "data": [
        {
         "alignmentgroup": "True",
         "bingroup": "x",
         "hovertemplate": "Book Club Member=Koen_v_W<br>Rating=%{x}<br>count=%{y}<extra></extra>",
         "legendgroup": "Koen_v_W",
         "marker": {
          "color": "#636efa",
          "pattern": {
           "shape": ""
          }
         },
         "name": "Koen_v_W",
         "offsetgroup": "Koen_v_W",
         "orientation": "v",
         "showlegend": true,
         "type": "histogram",
         "x": {
          "bdata": "AAAAAAAACEAAAAAAAAD4fwAAAAAAAAhAAAAAAAAAEEAAAAAAAAAAQAAAAAAAABBAAAAAAAAAEEAAAAAAAAAUQAAAAAAAAAhAAAAAAAAAAEAAAAAAAAAIQAAAAAAAABBAAAAAAAAA+H8AAAAAAAD4fwAAAAAAAPh/AAAAAAAACEAAAAAAAAAQQAAAAAAAAPh/AAAAAAAAAEAAAAAAAAAIQAAAAAAAAAhAAAAAAAAACEAAAAAAAAD4fwAAAAAAAAhAAAAAAAAAEEAAAAAAAADwPwAAAAAAAABAAAAAAAAAEEAAAAAAAAD4fwAAAAAAAPh/AAAAAAAACEAAAAAAAAD4fwAAAAAAAPh/AAAAAAAAEEAAAAAAAAAAQAAAAAAAAAhAAAAAAAAAEEAAAAAAAAAIQAAAAAAAAABAAAAAAAAAAEAAAAAAAAAQQAAAAAAAAABAAAAAAAAACEAAAAAAAAAQQAAAAAAAAAhAAAAAAAAA+H8AAAAAAAAAQAAAAAAAAPA/AAAAAAAAAEAAAAAAAAAIQAAAAAAAAABAAAAAAAAA+H8AAAAAAAD4fwAAAAAAAAhAAAAAAAAACEAAAAAAAAD4fwAAAAAAAPh/AAAAAAAAEEAAAAAAAAAQQAAAAAAAABRAAAAAAAAA+H8AAAAAAAAQQAAAAAAAAABAAAAAAAAA+H8AAAAAAAAQQAAAAAAAAAhAAAAAAAAAEEAAAAAAAAAQQAAAAAAAABBAAAAAAAAACEAAAAAAAAAIQA==",
          "dtype": "f8"
         },
         "xaxis": "x",
         "yaxis": "y"
        },
        {
         "alignmentgroup": "True",
         "bingroup": "x",
         "hovertemplate": "Book Club Member=Thomas<br>Rating=%{x}<br>count=%{y}<extra></extra>",
         "legendgroup": "Thomas",
         "marker": {
          "color": "#EF553B",
          "pattern": {
           "shape": ""
          }
         },
         "name": "Thomas",
         "offsetgroup": "Thomas",
         "orientation": "v",
         "showlegend": true,
         "type": "histogram",
         "x": {
          "bdata": "AAAAAAAAAEAAAAAAAAAUQAAAAAAAABRAAAAAAAAA+H8AAAAAAAD4fwAAAAAAABRAAAAAAAAACEAAAAAAAAD4fwAAAAAAAPh/AAAAAAAAEEAAAAAAAAD4fwAAAAAAAPh/AAAAAAAA+H8AAAAAAAD4fwAAAAAAAPh/AAAAAAAA+H8AAAAAAAD4fwAAAAAAAPh/AAAAAAAA+H8AAAAAAAD4fwAAAAAAAPh/AAAAAAAA+H8AAAAAAAD4fwAAAAAAAPh/AAAAAAAA+H8AAAAAAAD4fwAAAAAAAAhAAAAAAAAA+H8AAAAAAAD4fwAAAAAAAPh/AAAAAAAA+H8AAAAAAAD4fwAAAAAAAPh/AAAAAAAAEEAAAAAAAAD4fwAAAAAAAAhAAAAAAAAA+H8AAAAAAAD4fwAAAAAAAPh/AAAAAAAA+H8AAAAAAAD4fwAAAAAAABRAAAAAAAAAFEAAAAAAAAD4fwAAAAAAAPh/AAAAAAAA+H8AAAAAAAAQQAAAAAAAAABAAAAAAAAA+H8AAAAAAAD4fwAAAAAAAABAAAAAAAAA+H8AAAAAAAAQQAAAAAAAABBAAAAAAAAACEAAAAAAAAD4fwAAAAAAAPh/AAAAAAAAEEAAAAAAAAD4fwAAAAAAABRAAAAAAAAA+H8AAAAAAAAIQAAAAAAAAPh/AAAAAAAAEEAAAAAAAAD4fwAAAAAAAPh/AAAAAAAA+H8AAAAAAAAUQAAAAAAAAPh/AAAAAAAA+H8AAAAAAAAQQA==",
          "dtype": "f8"
         },
         "xaxis": "x",
         "yaxis": "y"
        },
        {
         "alignmentgroup": "True",
         "bingroup": "x",
         "hovertemplate": "Book Club Member=Koen_M<br>Rating=%{x}<br>count=%{y}<extra></extra>",
         "legendgroup": "Koen_M",
         "marker": {
          "color": "#00cc96",
          "pattern": {
           "shape": ""
          }
         },
         "name": "Koen_M",
         "offsetgroup": "Koen_M",
         "orientation": "v",
         "showlegend": true,
         "type": "histogram",
         "x": {
          "bdata": "AAAAAAAAAEAAAAAAAAD4fwAAAAAAAAhAAAAAAAAAAEAAAAAAAAD4fwAAAAAAAPh/AAAAAAAA+H8AAAAAAAD4fwAAAAAAAPh/AAAAAAAA+H8AAAAAAAD4fwAAAAAAAPh/AAAAAAAA+H8AAAAAAAD4fwAAAAAAAPh/AAAAAAAA+H8AAAAAAAD4fwAAAAAAAPh/AAAAAAAA+H8AAAAAAAD4fwAAAAAAAPh/AAAAAAAA+H8AAAAAAAD4fwAAAAAAAPh/AAAAAAAA+H8AAAAAAAD4fwAAAAAAAPh/AAAAAAAA+H8AAAAAAAD4fwAAAAAAAPh/AAAAAAAA+H8AAAAAAAD4fwAAAAAAAPh/AAAAAAAA+H8AAAAAAAD4fwAAAAAAAPh/AAAAAAAA+H8AAAAAAAD4fwAAAAAAAPh/AAAAAAAA+H8AAAAAAAD4fwAAAAAAAPh/AAAAAAAA+H8AAAAAAAD4fwAAAAAAAPh/AAAAAAAA+H8AAAAAAAD4fwAAAAAAAPh/AAAAAAAA+H8AAAAAAAD4fwAAAAAAAPh/AAAAAAAA+H8AAAAAAAD4fwAAAAAAAPh/AAAAAAAA+H8AAAAAAAD4fwAAAAAAAPh/AAAAAAAA+H8AAAAAAAD4fwAAAAAAAPh/AAAAAAAA+H8AAAAAAAD4fwAAAAAAAPh/AAAAAAAA+H8AAAAAAAD4fwAAAAAAABBAAAAAAAAA+H8AAAAAAAD4fwAAAAAAAPh/AAAAAAAA+H8AAAAAAAD4fw==",
          "dtype": "f8"
         },
         "xaxis": "x",
         "yaxis": "y"
        },
        {
         "alignmentgroup": "True",
         "bingroup": "x",
         "hovertemplate": "Book Club Member=Robert<br>Rating=%{x}<br>count=%{y}<extra></extra>",
         "legendgroup": "Robert",
         "marker": {
          "color": "#ab63fa",
          "pattern": {
           "shape": ""
          }
         },
         "name": "Robert",
         "offsetgroup": "Robert",
         "orientation": "v",
         "showlegend": true,
         "type": "histogram",
         "x": {
          "bdata": "AAAAAAAACEAAAAAAAAAUQAAAAAAAABRAAAAAAAAACEAAAAAAAAAIQAAAAAAAABBAAAAAAAAAEEAAAAAAAAAUQAAAAAAAAAhAAAAAAAAACEAAAAAAAAAIQAAAAAAAAAhAAAAAAAAACEAAAAAAAAAAQAAAAAAAABRAAAAAAAAAFEAAAAAAAAAIQAAAAAAAABBAAAAAAAAAAEAAAAAAAAAIQAAAAAAAAAhAAAAAAAAAEEAAAAAAAAAAQAAAAAAAAAhAAAAAAAAACEAAAAAAAAAAQAAAAAAAABBAAAAAAAAACEAAAAAAAAAUQAAAAAAAAAhAAAAAAAAAAEAAAAAAAAAQQAAAAAAAAAhAAAAAAAAAFEAAAAAAAAAIQAAAAAAAAABAAAAAAAAADEAAAAAAAAAAQAAAAAAAABBAAAAAAAAAEEAAAAAAAAAIQAAAAAAAAABAAAAAAAAAEEAAAAAAAAAIQAAAAAAAAAhAAAAAAAAAAEAAAAAAAAAQQAAAAAAAABBAAAAAAAAACEAAAAAAAAAAQAAAAAAAAAhAAAAAAAAAEEAAAAAAAAAUQAAAAAAAAAhAAAAAAAAAEEAAAAAAAAAUQAAAAAAAAAhAAAAAAAAAFEAAAAAAAAAQQAAAAAAAABRAAAAAAAAA+H8AAAAAAAD4fwAAAAAAAPh/AAAAAAAA+H8AAAAAAAD4fwAAAAAAAPh/AAAAAAAA+H8AAAAAAAD4fwAAAAAAAPh/AAAAAAAA+H8AAAAAAAD4fw==",
          "dtype": "f8"
         },
         "xaxis": "x",
         "yaxis": "y"
        },
        {
         "alignmentgroup": "True",
         "bingroup": "x",
         "hovertemplate": "Book Club Member=Peter<br>Rating=%{x}<br>count=%{y}<extra></extra>",
         "legendgroup": "Peter",
         "marker": {
          "color": "#FFA15A",
          "pattern": {
           "shape": ""
          }
         },
         "name": "Peter",
         "offsetgroup": "Peter",
         "orientation": "v",
         "showlegend": true,
         "type": "histogram",
         "x": {
          "bdata": "AAAAAAAACEAAAAAAAAAUQAAAAAAAABBAAAAAAAAAEEAAAAAAAAAIQAAAAAAAAAhAAAAAAAAAEEAAAAAAAAAUQAAAAAAAAPh/AAAAAAAACEAAAAAAAAAQQAAAAAAAAAhAAAAAAAAA+H8AAAAAAAAIQAAAAAAAAPh/AAAAAAAA+H8AAAAAAAAIQAAAAAAAAPh/AAAAAAAA8D8AAAAAAAAQQAAAAAAAAAhAAAAAAAAACEAAAAAAAAD4fwAAAAAAAPh/AAAAAAAAFEAAAAAAAAD4fwAAAAAAABBAAAAAAAAAEEAAAAAAAAD4fwAAAAAAAAhAAAAAAAAACEAAAAAAAAD4fwAAAAAAABBAAAAAAAAA+H8AAAAAAADwPwAAAAAAAPh/AAAAAAAA+H8AAAAAAAD4fwAAAAAAAPh/AAAAAAAA+H8AAAAAAAD4fwAAAAAAAPh/AAAAAAAA+H8AAAAAAAD4fwAAAAAAAPh/AAAAAAAA+H8AAAAAAAAIQAAAAAAAAAhAAAAAAAAA+H8AAAAAAAAIQAAAAAAAAAhAAAAAAAAA+H8AAAAAAAAIQAAAAAAAAAhAAAAAAAAACEAAAAAAAAD4fwAAAAAAAAhAAAAAAAAAEEAAAAAAAAD4fwAAAAAAAPh/AAAAAAAAEEAAAAAAAAAUQAAAAAAAABBAAAAAAAAA+H8AAAAAAAD4fwAAAAAAAPh/AAAAAAAA+H8AAAAAAAD4fwAAAAAAAPh/AAAAAAAA+H8AAAAAAAD4fw==",
          "dtype": "f8"
         },
         "xaxis": "x",
         "yaxis": "y"
        },
        {
         "alignmentgroup": "True",
         "bingroup": "x",
         "hovertemplate": "Book Club Member=Thirsa<br>Rating=%{x}<br>count=%{y}<extra></extra>",
         "legendgroup": "Thirsa",
         "marker": {
          "color": "#19d3f3",
          "pattern": {
           "shape": ""
          }
         },
         "name": "Thirsa",
         "offsetgroup": "Thirsa",
         "orientation": "v",
         "showlegend": true,
         "type": "histogram",
         "x": {
          "bdata": "AAAAAAAACEAAAAAAAAD4fwAAAAAAAPh/AAAAAAAACEAAAAAAAAD4fwAAAAAAABBAAAAAAAAAEEAAAAAAAAD4fwAAAAAAAABAAAAAAAAA+H8AAAAAAAAIQAAAAAAAAAhAAAAAAAAAEEAAAAAAAAD4fwAAAAAAAPh/AAAAAAAAEEAAAAAAAAD4fwAAAAAAABBAAAAAAAAACEAAAAAAAAAQQAAAAAAAAPh/AAAAAAAA+H8AAAAAAAD4fwAAAAAAAPh/AAAAAAAAEEAAAAAAAAAAQAAAAAAAAAhAAAAAAAAA+H8AAAAAAAD4fwAAAAAAAPh/AAAAAAAACEAAAAAAAAAQQAAAAAAAAPh/AAAAAAAA+H8AAAAAAAAIQAAAAAAAAPh/AAAAAAAAEEAAAAAAAAD4fwAAAAAAAAhAAAAAAAAA+H8AAAAAAAAQQAAAAAAAAPh/AAAAAAAACEAAAAAAAAAQQAAAAAAAAPh/AAAAAAAA+H8AAAAAAAAIQAAAAAAAABBAAAAAAAAA+H8AAAAAAAAAQAAAAAAAAAhAAAAAAAAAEEAAAAAAAAAIQAAAAAAAABBAAAAAAAAACEAAAAAAAAAQQAAAAAAAAPh/AAAAAAAA+H8AAAAAAAAQQAAAAAAAABBAAAAAAAAA+H8AAAAAAAAQQAAAAAAAAPh/AAAAAAAAEEAAAAAAAAAQQAAAAAAAAPh/AAAAAAAA+H8AAAAAAAD4fwAAAAAAAPh/AAAAAAAA+H8AAAAAAAD4fw==",
          "dtype": "f8"
         },
         "xaxis": "x",
         "yaxis": "y"
        }
       ],
       "layout": {
        "barmode": "group",
        "legend": {
         "title": {
          "text": "Book Club Member"
         },
         "tracegroupgap": 0
        },
        "template": {
         "data": {
          "bar": [
           {
            "error_x": {
             "color": "#2a3f5f"
            },
            "error_y": {
             "color": "#2a3f5f"
            },
            "marker": {
             "line": {
              "color": "#E5ECF6",
              "width": 0.5
             },
             "pattern": {
              "fillmode": "overlay",
              "size": 10,
              "solidity": 0.2
             }
            },
            "type": "bar"
           }
          ],
          "barpolar": [
           {
            "marker": {
             "line": {
              "color": "#E5ECF6",
              "width": 0.5
             },
             "pattern": {
              "fillmode": "overlay",
              "size": 10,
              "solidity": 0.2
             }
            },
            "type": "barpolar"
           }
          ],
          "carpet": [
           {
            "aaxis": {
             "endlinecolor": "#2a3f5f",
             "gridcolor": "white",
             "linecolor": "white",
             "minorgridcolor": "white",
             "startlinecolor": "#2a3f5f"
            },
            "baxis": {
             "endlinecolor": "#2a3f5f",
             "gridcolor": "white",
             "linecolor": "white",
             "minorgridcolor": "white",
             "startlinecolor": "#2a3f5f"
            },
            "type": "carpet"
           }
          ],
          "choropleth": [
           {
            "colorbar": {
             "outlinewidth": 0,
             "ticks": ""
            },
            "type": "choropleth"
           }
          ],
          "contour": [
           {
            "colorbar": {
             "outlinewidth": 0,
             "ticks": ""
            },
            "colorscale": [
             [
              0,
              "#0d0887"
             ],
             [
              0.1111111111111111,
              "#46039f"
             ],
             [
              0.2222222222222222,
              "#7201a8"
             ],
             [
              0.3333333333333333,
              "#9c179e"
             ],
             [
              0.4444444444444444,
              "#bd3786"
             ],
             [
              0.5555555555555556,
              "#d8576b"
             ],
             [
              0.6666666666666666,
              "#ed7953"
             ],
             [
              0.7777777777777778,
              "#fb9f3a"
             ],
             [
              0.8888888888888888,
              "#fdca26"
             ],
             [
              1,
              "#f0f921"
             ]
            ],
            "type": "contour"
           }
          ],
          "contourcarpet": [
           {
            "colorbar": {
             "outlinewidth": 0,
             "ticks": ""
            },
            "type": "contourcarpet"
           }
          ],
          "heatmap": [
           {
            "colorbar": {
             "outlinewidth": 0,
             "ticks": ""
            },
            "colorscale": [
             [
              0,
              "#0d0887"
             ],
             [
              0.1111111111111111,
              "#46039f"
             ],
             [
              0.2222222222222222,
              "#7201a8"
             ],
             [
              0.3333333333333333,
              "#9c179e"
             ],
             [
              0.4444444444444444,
              "#bd3786"
             ],
             [
              0.5555555555555556,
              "#d8576b"
             ],
             [
              0.6666666666666666,
              "#ed7953"
             ],
             [
              0.7777777777777778,
              "#fb9f3a"
             ],
             [
              0.8888888888888888,
              "#fdca26"
             ],
             [
              1,
              "#f0f921"
             ]
            ],
            "type": "heatmap"
           }
          ],
          "histogram": [
           {
            "marker": {
             "pattern": {
              "fillmode": "overlay",
              "size": 10,
              "solidity": 0.2
             }
            },
            "type": "histogram"
           }
          ],
          "histogram2d": [
           {
            "colorbar": {
             "outlinewidth": 0,
             "ticks": ""
            },
            "colorscale": [
             [
              0,
              "#0d0887"
             ],
             [
              0.1111111111111111,
              "#46039f"
             ],
             [
              0.2222222222222222,
              "#7201a8"
             ],
             [
              0.3333333333333333,
              "#9c179e"
             ],
             [
              0.4444444444444444,
              "#bd3786"
             ],
             [
              0.5555555555555556,
              "#d8576b"
             ],
             [
              0.6666666666666666,
              "#ed7953"
             ],
             [
              0.7777777777777778,
              "#fb9f3a"
             ],
             [
              0.8888888888888888,
              "#fdca26"
             ],
             [
              1,
              "#f0f921"
             ]
            ],
            "type": "histogram2d"
           }
          ],
          "histogram2dcontour": [
           {
            "colorbar": {
             "outlinewidth": 0,
             "ticks": ""
            },
            "colorscale": [
             [
              0,
              "#0d0887"
             ],
             [
              0.1111111111111111,
              "#46039f"
             ],
             [
              0.2222222222222222,
              "#7201a8"
             ],
             [
              0.3333333333333333,
              "#9c179e"
             ],
             [
              0.4444444444444444,
              "#bd3786"
             ],
             [
              0.5555555555555556,
              "#d8576b"
             ],
             [
              0.6666666666666666,
              "#ed7953"
             ],
             [
              0.7777777777777778,
              "#fb9f3a"
             ],
             [
              0.8888888888888888,
              "#fdca26"
             ],
             [
              1,
              "#f0f921"
             ]
            ],
            "type": "histogram2dcontour"
           }
          ],
          "mesh3d": [
           {
            "colorbar": {
             "outlinewidth": 0,
             "ticks": ""
            },
            "type": "mesh3d"
           }
          ],
          "parcoords": [
           {
            "line": {
             "colorbar": {
              "outlinewidth": 0,
              "ticks": ""
             }
            },
            "type": "parcoords"
           }
          ],
          "pie": [
           {
            "automargin": true,
            "type": "pie"
           }
          ],
          "scatter": [
           {
            "fillpattern": {
             "fillmode": "overlay",
             "size": 10,
             "solidity": 0.2
            },
            "type": "scatter"
           }
          ],
          "scatter3d": [
           {
            "line": {
             "colorbar": {
              "outlinewidth": 0,
              "ticks": ""
             }
            },
            "marker": {
             "colorbar": {
              "outlinewidth": 0,
              "ticks": ""
             }
            },
            "type": "scatter3d"
           }
          ],
          "scattercarpet": [
           {
            "marker": {
             "colorbar": {
              "outlinewidth": 0,
              "ticks": ""
             }
            },
            "type": "scattercarpet"
           }
          ],
          "scattergeo": [
           {
            "marker": {
             "colorbar": {
              "outlinewidth": 0,
              "ticks": ""
             }
            },
            "type": "scattergeo"
           }
          ],
          "scattergl": [
           {
            "marker": {
             "colorbar": {
              "outlinewidth": 0,
              "ticks": ""
             }
            },
            "type": "scattergl"
           }
          ],
          "scattermap": [
           {
            "marker": {
             "colorbar": {
              "outlinewidth": 0,
              "ticks": ""
             }
            },
            "type": "scattermap"
           }
          ],
          "scattermapbox": [
           {
            "marker": {
             "colorbar": {
              "outlinewidth": 0,
              "ticks": ""
             }
            },
            "type": "scattermapbox"
           }
          ],
          "scatterpolar": [
           {
            "marker": {
             "colorbar": {
              "outlinewidth": 0,
              "ticks": ""
             }
            },
            "type": "scatterpolar"
           }
          ],
          "scatterpolargl": [
           {
            "marker": {
             "colorbar": {
              "outlinewidth": 0,
              "ticks": ""
             }
            },
            "type": "scatterpolargl"
           }
          ],
          "scatterternary": [
           {
            "marker": {
             "colorbar": {
              "outlinewidth": 0,
              "ticks": ""
             }
            },
            "type": "scatterternary"
           }
          ],
          "surface": [
           {
            "colorbar": {
             "outlinewidth": 0,
             "ticks": ""
            },
            "colorscale": [
             [
              0,
              "#0d0887"
             ],
             [
              0.1111111111111111,
              "#46039f"
             ],
             [
              0.2222222222222222,
              "#7201a8"
             ],
             [
              0.3333333333333333,
              "#9c179e"
             ],
             [
              0.4444444444444444,
              "#bd3786"
             ],
             [
              0.5555555555555556,
              "#d8576b"
             ],
             [
              0.6666666666666666,
              "#ed7953"
             ],
             [
              0.7777777777777778,
              "#fb9f3a"
             ],
             [
              0.8888888888888888,
              "#fdca26"
             ],
             [
              1,
              "#f0f921"
             ]
            ],
            "type": "surface"
           }
          ],
          "table": [
           {
            "cells": {
             "fill": {
              "color": "#EBF0F8"
             },
             "line": {
              "color": "white"
             }
            },
            "header": {
             "fill": {
              "color": "#C8D4E3"
             },
             "line": {
              "color": "white"
             }
            },
            "type": "table"
           }
          ]
         },
         "layout": {
          "annotationdefaults": {
           "arrowcolor": "#2a3f5f",
           "arrowhead": 0,
           "arrowwidth": 1
          },
          "autotypenumbers": "strict",
          "coloraxis": {
           "colorbar": {
            "outlinewidth": 0,
            "ticks": ""
           }
          },
          "colorscale": {
           "diverging": [
            [
             0,
             "#8e0152"
            ],
            [
             0.1,
             "#c51b7d"
            ],
            [
             0.2,
             "#de77ae"
            ],
            [
             0.3,
             "#f1b6da"
            ],
            [
             0.4,
             "#fde0ef"
            ],
            [
             0.5,
             "#f7f7f7"
            ],
            [
             0.6,
             "#e6f5d0"
            ],
            [
             0.7,
             "#b8e186"
            ],
            [
             0.8,
             "#7fbc41"
            ],
            [
             0.9,
             "#4d9221"
            ],
            [
             1,
             "#276419"
            ]
           ],
           "sequential": [
            [
             0,
             "#0d0887"
            ],
            [
             0.1111111111111111,
             "#46039f"
            ],
            [
             0.2222222222222222,
             "#7201a8"
            ],
            [
             0.3333333333333333,
             "#9c179e"
            ],
            [
             0.4444444444444444,
             "#bd3786"
            ],
            [
             0.5555555555555556,
             "#d8576b"
            ],
            [
             0.6666666666666666,
             "#ed7953"
            ],
            [
             0.7777777777777778,
             "#fb9f3a"
            ],
            [
             0.8888888888888888,
             "#fdca26"
            ],
            [
             1,
             "#f0f921"
            ]
           ],
           "sequentialminus": [
            [
             0,
             "#0d0887"
            ],
            [
             0.1111111111111111,
             "#46039f"
            ],
            [
             0.2222222222222222,
             "#7201a8"
            ],
            [
             0.3333333333333333,
             "#9c179e"
            ],
            [
             0.4444444444444444,
             "#bd3786"
            ],
            [
             0.5555555555555556,
             "#d8576b"
            ],
            [
             0.6666666666666666,
             "#ed7953"
            ],
            [
             0.7777777777777778,
             "#fb9f3a"
            ],
            [
             0.8888888888888888,
             "#fdca26"
            ],
            [
             1,
             "#f0f921"
            ]
           ]
          },
          "colorway": [
           "#636efa",
           "#EF553B",
           "#00cc96",
           "#ab63fa",
           "#FFA15A",
           "#19d3f3",
           "#FF6692",
           "#B6E880",
           "#FF97FF",
           "#FECB52"
          ],
          "font": {
           "color": "#2a3f5f"
          },
          "geo": {
           "bgcolor": "white",
           "lakecolor": "white",
           "landcolor": "#E5ECF6",
           "showlakes": true,
           "showland": true,
           "subunitcolor": "white"
          },
          "hoverlabel": {
           "align": "left"
          },
          "hovermode": "closest",
          "mapbox": {
           "style": "light"
          },
          "paper_bgcolor": "white",
          "plot_bgcolor": "#E5ECF6",
          "polar": {
           "angularaxis": {
            "gridcolor": "white",
            "linecolor": "white",
            "ticks": ""
           },
           "bgcolor": "#E5ECF6",
           "radialaxis": {
            "gridcolor": "white",
            "linecolor": "white",
            "ticks": ""
           }
          },
          "scene": {
           "xaxis": {
            "backgroundcolor": "#E5ECF6",
            "gridcolor": "white",
            "gridwidth": 2,
            "linecolor": "white",
            "showbackground": true,
            "ticks": "",
            "zerolinecolor": "white"
           },
           "yaxis": {
            "backgroundcolor": "#E5ECF6",
            "gridcolor": "white",
            "gridwidth": 2,
            "linecolor": "white",
            "showbackground": true,
            "ticks": "",
            "zerolinecolor": "white"
           },
           "zaxis": {
            "backgroundcolor": "#E5ECF6",
            "gridcolor": "white",
            "gridwidth": 2,
            "linecolor": "white",
            "showbackground": true,
            "ticks": "",
            "zerolinecolor": "white"
           }
          },
          "shapedefaults": {
           "line": {
            "color": "#2a3f5f"
           }
          },
          "ternary": {
           "aaxis": {
            "gridcolor": "white",
            "linecolor": "white",
            "ticks": ""
           },
           "baxis": {
            "gridcolor": "white",
            "linecolor": "white",
            "ticks": ""
           },
           "bgcolor": "#E5ECF6",
           "caxis": {
            "gridcolor": "white",
            "linecolor": "white",
            "ticks": ""
           }
          },
          "title": {
           "x": 0.05
          },
          "xaxis": {
           "automargin": true,
           "gridcolor": "white",
           "linecolor": "white",
           "ticks": "",
           "title": {
            "standoff": 15
           },
           "zerolinecolor": "white",
           "zerolinewidth": 2
          },
          "yaxis": {
           "automargin": true,
           "gridcolor": "white",
           "linecolor": "white",
           "ticks": "",
           "title": {
            "standoff": 15
           },
           "zerolinecolor": "white",
           "zerolinewidth": 2
          }
         }
        },
        "title": {
         "text": "Distribution of Book Club Ratings"
        },
        "xaxis": {
         "anchor": "y",
         "domain": [
          0,
          1
         ],
         "title": {
          "text": "Rating"
         }
        },
        "yaxis": {
         "anchor": "x",
         "domain": [
          0,
          1
         ],
         "title": {
          "text": "count"
         }
        }
       }
      }
     },
     "metadata": {},
     "output_type": "display_data"
    }
   ],
   "source": [
    "# Create a long-form dataframe to plot ratings for each person\n",
    "long_df = bookclub_processed_df.select([\"title\", *bookclub_members_list]).unpivot(\n",
    "    index=\"title\",\n",
    "    on=bookclub_members_list,\n",
    "    variable_name=\"Member\",\n",
    "    value_name=\"Rating\",\n",
    ")\n",
    "\n",
    "# Bar plot of ratings per member\n",
    "fig = px.histogram(\n",
    "    long_df,\n",
    "    x=\"Rating\",\n",
    "    color=\"Member\",\n",
    "    barmode=\"group\",\n",
    "    title=\"Distribution of Book Club Ratings\",\n",
    "    labels={\"Rating\": \"Rating\", \"Member\": \"Book Club Member\"},\n",
    ")\n",
    "\n",
    "fig.show()"
   ]
  },
  {
   "cell_type": "code",
   "execution_count": 6,
   "metadata": {},
   "outputs": [
    {
     "data": {
      "image/png": "[encoded data removed]",
      "text/plain": [
       "<Figure size 800x600 with 2 Axes>"
      ]
     },
     "metadata": {},
     "output_type": "display_data"
    }
   ],
   "source": [
    "# Create rating distribution data for heatmap\n",
    "rating_matrix = []\n",
    "for member in ordered_members:\n",
    "    member_ratings = bookclub_processed_df.select(member).filter(pl.col(member) != 0)\n",
    "\n",
    "    # Count ratings for each category (1-5)\n",
    "    rating_counts = []\n",
    "    for rating in [1, 2, 3, 4, 5]:\n",
    "        count = len(member_ratings.filter(pl.col(member) == rating))\n",
    "        rating_counts.append(count)\n",
    "\n",
    "    rating_matrix.append(rating_counts)\n",
    "\n",
    "# Create heatmap\n",
    "fig, ax = plt.subplots(figsize=(8, 6))\n",
    "sns.heatmap(\n",
    "    rating_matrix,\n",
    "    xticklabels=[1, 2, 3, 4, 5],\n",
    "    yticklabels=ordered_members,\n",
    "    annot=True,\n",
    "    fmt=\"d\",\n",
    "    cmap=\"Blues\",\n",
    "    ax=ax,\n",
    ")\n",
    "\n",
    "ax.set_title(\"Rating Distribution by Member (Ordered by Average Rating)\")\n",
    "ax.set_xlabel(\"Rating\")\n",
    "ax.set_ylabel(\"Member\")\n",
    "\n",
    "plt.show()"
   ]
  },
  {
   "cell_type": "code",
   "execution_count": 7,
   "metadata": {},
   "outputs": [
    {
     "data": {
      "image/png": "[encoded data removed]",
      "text/plain": [
       "<Figure size 1500x1000 with 6 Axes>"
      ]
     },
     "metadata": {},
     "output_type": "display_data"
    }
   ],
   "source": [
    "# Create subplot grid (2 rows, 3 columns)\n",
    "fig, axes = plt.subplots(2, 3, figsize=(15, 10))\n",
    "axes = axes.flatten()\n",
    "\n",
    "# Define consistent bins for all plots\n",
    "bins = np.arange(0.5, 6, 1)  # This creates bins [0.5, 1.5, 2.5, 3.5, 4.5, 5.5]\n",
    "\n",
    "for i, (member, avg_rating) in enumerate(member_averages):\n",
    "    # Extract member's ratings\n",
    "    member_ratings = bookclub_processed_df.select(member).filter(pl.col(member) != 0)\n",
    "\n",
    "    # Create histogram for this member\n",
    "    sns.histplot(\n",
    "        data=member_ratings,\n",
    "        x=member,\n",
    "        bins=bins,  # Use consistent bins\n",
    "        stat=\"count\",\n",
    "        ax=axes[i],\n",
    "    )\n",
    "\n",
    "    # Set x-axis to show only integers 1-5\n",
    "    axes[i].set_xticks([1, 2, 3, 4, 5])\n",
    "    axes[i].set_xlim(0.5, 5.5)\n",
    "\n",
    "    # Set y-axis to consistent maximum\n",
    "    axes[i].set_ylim(0, 25)\n",
    "\n",
    "    # Add average line\n",
    "    axes[i].axvline(avg_rating, color=\"black\", linestyle=\"--\", linewidth=2)\n",
    "\n",
    "    # Set title and labels\n",
    "    axes[i].set_title(f\"{member} (avg: {avg_rating:.2f})\")\n",
    "    axes[i].set_xlabel(\"Rating\")\n",
    "    axes[i].set_ylabel(\"Count\")\n",
    "\n",
    "# Adjust layout\n",
    "plt.tight_layout()\n",
    "plt.show()"
   ]
  },
  {
   "cell_type": "code",
   "execution_count": 8,
   "metadata": {},
   "outputs": [
    {
     "data": {
      "image/png": "[encoded data removed]",
      "text/plain": [
       "<Figure size 1500x1000 with 6 Axes>"
      ]
     },
     "metadata": {},
     "output_type": "display_data"
    }
   ],
   "source": [
    "# Create color map from red to green\n",
    "cmap = LinearSegmentedColormap.from_list(\"red_to_green\", [\"red\", \"yellow\", \"green\"])\n",
    "\n",
    "# Create subplot grid (2 rows, 3 columns)\n",
    "fig, axes = plt.subplots(2, 3, figsize=(15, 10))\n",
    "axes = axes.flatten()\n",
    "\n",
    "for i, (member, avg_rating) in enumerate(member_averages):\n",
    "    # Map average rating to color (2=red, 4=green)\n",
    "    color_value = (avg_rating - 2) / 2  # Normalize 2-4 range to 0-1\n",
    "    color_value = np.clip(color_value, 0, 1)  # Clamp to 0-1 range\n",
    "    member_color = cmap(color_value)\n",
    "\n",
    "    # Extract member's ratings\n",
    "    member_ratings = bookclub_processed_df.select(member).filter(pl.col(member) != 0)\n",
    "\n",
    "    # Calculate histogram counts for each rating\n",
    "    rating_counts = []\n",
    "    for rating in [1, 2, 3, 4, 5]:\n",
    "        count = len(member_ratings.filter(pl.col(member) == rating))\n",
    "        rating_counts.append(count)\n",
    "\n",
    "    # Create bar plot with member's color\n",
    "    bars = axes[i].bar(\n",
    "        [1, 2, 3, 4, 5],\n",
    "        rating_counts,\n",
    "        color=member_color,\n",
    "        width=0.8,\n",
    "        edgecolor=\"black\",\n",
    "        linewidth=0.5,\n",
    "    )\n",
    "\n",
    "    # Set x-axis and y-axis\n",
    "    axes[i].set_xticks([1, 2, 3, 4, 5])\n",
    "    axes[i].set_xlim(0.5, 5.5)\n",
    "    axes[i].set_ylim(0, 25)\n",
    "\n",
    "    # Add average line\n",
    "    axes[i].axvline(avg_rating, color=\"black\", linestyle=\"--\", linewidth=2)\n",
    "\n",
    "    # Set title and labels\n",
    "    axes[i].set_title(f\"{member} (avg: {avg_rating:.2f})\")\n",
    "    axes[i].set_xlabel(\"Rating\")\n",
    "    axes[i].set_ylabel(\"Count\")\n",
    "\n",
    "plt.show()"
   ]
  },
  {
   "cell_type": "code",
   "execution_count": 9,
   "metadata": {},
   "outputs": [
    {
     "data": {
      "application/vnd.plotly.v1+json": {
       "config": {
        "plotlyServerURL": "https://plot.ly"
       },
       "data": [
        {
         "customdata": [
          [
           "The Gambler",
           "Fyodor Dostoyevsky",
           "Koen_v_W: 3.0<br>Robert: 2.0"
          ],
          [
           "The Island of Dr. Moreau",
           "H.G. Wells",
           "Koen_v_W: 4.0<br>Robert: 3.0<br>Peter: 3.0"
          ],
          [
           "The Heart of a Dog",
           "Mikhail Bulgakov",
           "Koen_v_W: 3.0"
          ],
          [
           "Het Slot",
           "Franz Kafka",
           "Koen_v_W: 2.0<br>Robert: 4.0"
          ],
          [
           "Brave New World",
           "Aldous Huxley",
           "Koen_v_W: 4.0<br>Thomas: 4.0<br>Robert: 5.0<br>Peter: 4.0"
          ],
          [
           "Oorlog met de salamanders",
           "Karel Capek",
           "Koen_v_W: 4.0<br>Thomas: 3.0<br>Robert: 4.0<br>Peter: 4.0<br>Thirsa: 4.0"
          ],
          [
           "De Pest",
           "Albert Camus",
           "Koen_v_W: 4.0<br>Robert: 3.0<br>Peter: 5.0<br>Thirsa: 4.0"
          ],
          [
           "1984",
           "George Orwell",
           "Koen_v_W: 5.0<br>Thomas: 5.0<br>Robert: 5.0<br>Thirsa: 4.0"
          ],
          [
           "Fahrenheit 451",
           "Ray Bradbury",
           "Koen_v_W: 3.0<br>Robert: 3.0<br>Peter: 4.0<br>Thirsa: 3.0"
          ],
          [
           "Pnin",
           "Vladimir Nabokov",
           "Robert: 4.0<br>Thirsa: 4.0"
          ],
          [
           "De Opkomst van de Meritocratie",
           "Michael Young",
           "Robert: 3.0<br>Thirsa: 4.0"
          ],
          [
           "Things Fall Apart (The African Trilogy, #1)",
           "Chinua Achebe",
           "Koen_v_W: 3.0<br>Thomas: 5.0<br>Robert: 4.0<br>Thirsa: 3.0"
          ],
          [
           "A Canticle for Leibowitz (St. Leibowitz, #1)",
           "Walter M. Miller",
           "Robert: 2.0"
          ],
          [
           "Starship Troopers",
           "Robert A. Heinlein",
           "Koen_v_W: 3.0<br>Thomas: 3.0<br>Robert: 4.0<br>Peter: 3.0<br>Thirsa: 3.0"
          ],
          [
           "Mother Night",
           "Kurt Vonnegut",
           "Koen_v_W: 3.0<br>Robert: 5.0<br>Thirsa: 4.0"
          ],
          [
           "Stranger in a Strange Land",
           "Robert A. Heinlein",
           "Robert: 2.0"
          ],
          [
           "Solaris",
           "Stanislaw Lem",
           "Koen_v_W: 2.0<br>Thomas: 3.0<br>Robert: 4.0<br>Peter: 4.0<br>Thirsa: 3.0"
          ],
          [
           "Catch-22",
           "Joseph Heller",
           "Robert: 4.0<br>Thirsa: 4.0"
          ],
          [
           "The Drowned World",
           "J.G. Ballard",
           "Koen_v_W: 2.0<br>Robert: 2.0<br>Peter: 1.0<br>Thirsa: 3.0"
          ],
          [
           "A Clockwork Orange",
           "Anthony Burgess",
           "Koen_v_W: 3.0<br>Robert: 3.0"
          ],
          [
           "One Flew Over the Cuckoo’s Nest",
           "Ken Kesey",
           "Koen_v_W: 4.0<br>Robert: 4.0<br>Thirsa: 4.0"
          ],
          [
           "Cat's Cradle",
           "Kurt Vonnegut",
           "Koen_v_W: 4.0"
          ],
          [
           "Het ijs",
           "Anna Kavan",
           "Koen_v_W: 2.0<br>Peter: 4.0"
          ],
          [
           "His Master's Voice",
           "Stanislaw Lem",
           "Koen_v_W: 3.0<br>Thomas: 5.0<br>Koen_M: 3.0<br>Robert: 5.0<br>Peter: 4.0"
          ],
          [
           "Do Androids Dream of Electric Sheep?",
           "Philip K. Dick",
           "Koen_v_W: 3.0<br>Thomas: 4.0<br>Robert: 3.0<br>Peter: 3.0<br>Thirsa: 4.0"
          ],
          [
           "The Left Hand of Darkness",
           "Ursula K. Le Guin",
           "Koen_v_W: 2.0<br>Robert: 4.0<br>Thirsa: 3.0"
          ],
          [
           "Post Office",
           "Charles Bukowski",
           "Robert: 3.0<br>Peter: 4.0"
          ],
          [
           "Fear and Loathing in Las Vegas",
           "Hunter S. Thompson",
           "Koen_v_W: 3.0<br>Robert: 3.0"
          ],
          [
           "Roadside Picnic",
           "Arkady Strugatsky",
           "Koen_v_W: 4.0<br>Thomas: 5.0<br>Robert: 4.0<br>Peter: 3.0<br>Thirsa: 4.0"
          ],
          [
           "The Dispossessed: An Ambiguous Utopia",
           "Ursula K. Le Guin",
           "Koen_v_W: 3.0<br>Robert: 4.0<br>Peter: 3.0"
          ],
          [
           "High-Rise",
           "J.G. Ballard",
           "Koen_v_W: 4.0<br>Robert: 3.0<br>Thirsa: 4.0"
          ],
          [
           "The Passion of New Eve",
           "Angela Carter",
           "Koen_v_W: 1.0<br>Thomas: 2.0<br>Robert: 4.0<br>Peter: 3.0<br>Thirsa: 4.0"
          ],
          [
           "The Hitchhiker’s Guide to the Galaxy (Hitchhiker's Guide to the Galaxy, #1)",
           "Douglas Adams",
           "Koen_v_W: 3.0<br>Thomas: 4.0"
          ],
          [
           "Kroniek van een aangekondigde dood",
           "Gabriel Garcia Marquez",
           "Koen_v_W: 2.0<br>Robert: 3.0<br>Peter: 3.0"
          ],
          [
           "The Unbearable Lightness of Being",
           "Milan Kundera",
           "Koen_v_W: 2.0<br>Thomas: 5.0<br>Robert: 2.0"
          ],
          [
           "Neuromancer (Sprawl, #1)",
           "William Gibson",
           "Robert: 3.0<br>Peter: 3.0"
          ],
          [
           "Galapagos",
           "Kurt Vonnegut",
           "Koen_v_W: 3.0<br>Koen_M: 4.0"
          ],
          [
           "Watchmen",
           "Alan Moore & Dave Gibbons",
           "Robert: 4.0<br>Thirsa: 4.0"
          ],
          [
           "Lilith's Brood (Xenogenesis, #1-3)",
           "Octavia E. Butler",
           "Thomas: 4.0<br>Thirsa: 4.0"
          ],
          [
           "Watchmen",
           "Alan Moore & Dave Gibbons",
           "Koen_v_W: 4.0<br>Thomas: 5.0"
          ],
          [
           "Hyperion (Hyperion Cantos, #1)",
           "Dan Simmons",
           "Thomas: 4.0<br>Robert: 5.0<br>Peter: 3.0<br>Thirsa: 3.0"
          ],
          [
           "Snow Crash",
           "Neal Stephenson",
           "Koen_v_W: 2.0<br>Thomas: 2.0<br>Robert: 3.0<br>Peter: 3.0<br>Thirsa: 3.0"
          ],
          [
           "Parable of the Sower (Earthseed, #1)",
           "Octavia E. Butler",
           "Koen_v_W: 4.0<br>Robert: 3.0<br>Thirsa: 4.0"
          ],
          [
           "Fight Club",
           "Chuck Palahniuk",
           "Koen_v_W: 4.0<br>Robert: 3.5<br>Thirsa: 4.0"
          ],
          [
           "House of Leaves",
           "Mark Z. Danielewski",
           "Robert: 5.0"
          ],
          [
           "Under the Skin",
           "Michel Faber",
           "Koen_v_W: 2.0<br>Robert: 3.0"
          ],
          [
           "The Book of Illusions",
           "Paul Auster",
           "Koen_v_W: 3.0<br>Thomas: 3.0<br>Robert: 2.0"
          ],
          [
           "Oryx and Crake (MaddAddam, #1)",
           "Margaret Atwood",
           "Koen_v_W: 4.0<br>Robert: 3.0<br>Peter: 4.0"
          ],
          [
           "The Algebraist",
           "Iain M. Banks",
           "Robert: 3.0<br>Peter: 3.0"
          ],
          [
           "Never Let Me Go",
           "Kazuo Ishiguro",
           "Koen_v_W: 2.0<br>Thomas: 4.0<br>Robert: 4.0<br>Peter: 3.0<br>Thirsa: 3.0"
          ],
          [
           "Blindsight (Firefall, #1)",
           "Peter Watts",
           "Thomas: 5.0<br>Robert: 5.0<br>Peter: 5.0"
          ],
          [
           "The Three-Body Problem (Remembrance of Earth’s Past, #1)",
           "Liu Cixin",
           "Koen_v_W: 3.0<br>Robert: 2.0<br>Peter: 3.0<br>Thirsa: 2.0"
          ],
          [
           "The Road",
           "Cormac McCarthy",
           "Robert: 5.0<br>Thirsa: 4.0"
          ],
          [
           "The Vegetarian",
           "Han Kang",
           "Peter: 4.0"
          ],
          [
           "The Gone-Away World",
           "Nick Harkaway",
           "Robert: 5.0"
          ],
          [
           "The City & the City",
           "China Miéville",
           "Koen_v_W: 4.0<br>Koen_M: 2.0<br>Robert: 3.0<br>Peter: 4.0<br>Thirsa: 3.0"
          ],
          [
           "The Windup Girl",
           "Paolo Bacigalupi",
           "Koen_v_W: 2.0<br>Robert: 3.0<br>Peter: 1.0<br>Thirsa: 3.0"
          ],
          [
           "1Q84 Book 1 (1Q84, #1)",
           "Haruki Murakami",
           "Koen_v_W: 4.0"
          ],
          [
           "Who Fears Death",
           "Nnedi Okarafor",
           "Koen_v_W: 1.0<br>Robert: 2.0<br>Thirsa: 2.0"
          ],
          [
           "Ready Player One (Ready Player One, #1)",
           "Ernest Cline",
           "Koen_v_W: 4.0<br>Thirsa: 4.0"
          ],
          [
           "Ancillary Justice (Imperial Radch, #1)",
           "Ann Leckie",
           "Koen_v_W: 2.0<br>Thomas: 4.0<br>Robert: 3.0<br>Peter: 3.0"
          ],
          [
           "Station Eleven",
           "Emily St. John Mandel",
           "Koen_v_W: 4.0<br>Robert: 3.0<br>Peter: 3.0<br>Thirsa: 3.0"
          ],
          [
           "Zero K",
           "Don DeLillo",
           "Robert: 2.0<br>Peter: 3.0"
          ],
          [
           "Ivanov",
           "Hanna Bervoets",
           "Koen_v_W: 3.0<br>Robert: 2.0<br>Peter: 3.0<br>Thirsa: 3.0"
          ],
          [
           "The Power",
           "Naomi Alderman",
           "Koen_v_W: 4.0<br>Thomas: 4.0<br>Robert: 5.0"
          ],
          [
           "Tender is the Flesh",
           "Agustina Bazterrica",
           "Koen_v_W: 5.0<br>Robert: 5.0<br>Peter: 5.0"
          ],
          [
           "Klont",
           "Maxim Februari",
           "Koen_v_W: 3.0<br>Robert: 3.0<br>Peter: 3.0"
          ],
          [
           "Concept M",
           "Aafke Romeijn",
           "Koen_v_W: 3.0<br>Thomas: 2.0<br>Koen_M: 2.0<br>Robert: 3.0<br>Peter: 3.0<br>Thirsa: 3.0"
          ],
          [
           "De avond is ongemak",
           "Marieke Lucas Rijneveld",
           "Koen_v_W: 3.0<br>Robert: 3.0<br>Peter: 4.0<br>Thirsa: 4.0"
          ],
          [
           "Bewilderment",
           "Richard Powers",
           "Koen_v_W: 4.0<br>Thomas: 3.0<br>Peter: 5.0<br>Thirsa: 4.0"
          ],
          [
           "Tussentijds",
           "Peter Zantingh",
           "Koen_v_W: 3.0<br>Robert: 3.0<br>Thirsa: 2.0"
          ]
         ],
         "hovertemplate": "<b>%{customdata[0]}</b><br>Author: %{customdata[1]}<br>Year: %{x}<br>Bookclub Rating: %{y:.2f}<br>%{customdata[2]}<extra></extra>",
         "legendgroup": "",
         "line": {
          "color": "#636efa",
          "dash": "solid"
         },
         "marker": {
          "symbol": "circle"
         },
         "mode": "lines+markers",
         "name": "",
         "orientation": "v",
         "showlegend": false,
         "type": "scatter",
         "x": {
          "bdata": "SgcAAGgHAACFBwAAhgcAAIwHAACQBwAAmwcAAJ0HAAChBwAApQcAAKYHAACmBwAApwcAAKcHAACpBwAAqQcAAKkHAACpBwAAqgcAAKoHAACqBwAAqwcAAK8HAACwBwAAsAcAALEHAACzBwAAswcAALQHAAC2BwAAtwcAALkHAAC7BwAAvQcAAMAHAADABwAAwQcAAMMHAADDBwAAwwcAAMUHAADIBwAAyQcAAMwHAADQBwAA0AcAANIHAADTBwAA1AcAANUHAADWBwAA1gcAANYHAADXBwAA2AcAANkHAADZBwAA2QcAANoHAADbBwAA3QcAAN4HAADgBwAA4AcAAOAHAADhBwAA4QcAAOIHAADiBwAA5QcAAOYHAAA=",
          "dtype": "i4"
         },
         "xaxis": "x",
         "y": {
          "bdata": "AAAAAAAABECrqqqqqqoKQAAAAAAAAAhAAAAAAAAACEAAAAAAAAARQGZmZmZmZg5AAAAAAAAAEEAAAAAAAAATQAAAAAAAAApAAAAAAAAAEEAAAAAAAAAMQAAAAAAAAA5AAAAAAAAAAECamZmZmZkJQAAAAAAAABBAAAAAAAAAAECamZmZmZkJQAAAAAAAABBAAAAAAAAAAEAAAAAAAAAIQAAAAAAAABBAAAAAAAAAEEAAAAAAAAAIQAAAAAAAABBAMzMzMzMzC0AAAAAAAAAIQAAAAAAAAAxAAAAAAAAACEAAAAAAAAAQQKuqqqqqqgpAVVVVVVVVDUBmZmZmZmYGQAAAAAAAAAxAVVVVVVVVBUAAAAAAAAAIQAAAAAAAAAhAAAAAAAAADEAAAAAAAAAQQAAAAAAAABBAAAAAAAAAEkAAAAAAAAAOQM3MzMzMzARAVVVVVVVVDUCrqqqqqqoOQAAAAAAAABRAAAAAAAAABEBVVVVVVVUFQFVVVVVVVQ1AAAAAAAAACECamZmZmZkJQAAAAAAAABRAAAAAAAAABEAAAAAAAAASQAAAAAAAABBAAAAAAAAAFECamZmZmZkJQAAAAAAAAAJAAAAAAAAAEECrqqqqqqr6PwAAAAAAABBAAAAAAAAACEAAAAAAAAAKQAAAAAAAAARAAAAAAAAABkBVVVVVVVURQAAAAAAAABRAAAAAAAAACEBVVVVVVVUFQAAAAAAAAAxAAAAAAAAAEEBVVVVVVVUFQA==",
          "dtype": "f8"
         },
         "yaxis": "y"
        },
        {
         "customdata": [
          [
           "The Gambler",
           "Fyodor Dostoyevsky",
           "Koen_v_W: 3.0<br>Robert: 2.0"
          ],
          [
           "The Island of Dr. Moreau",
           "H.G. Wells",
           "Koen_v_W: 4.0<br>Robert: 3.0<br>Peter: 3.0"
          ],
          [
           "The Heart of a Dog",
           "Mikhail Bulgakov",
           "Koen_v_W: 3.0"
          ],
          [
           "Het Slot",
           "Franz Kafka",
           "Koen_v_W: 2.0<br>Robert: 4.0"
          ],
          [
           "Brave New World",
           "Aldous Huxley",
           "Koen_v_W: 4.0<br>Thomas: 4.0<br>Robert: 5.0<br>Peter: 4.0"
          ],
          [
           "Oorlog met de salamanders",
           "Karel Capek",
           "Koen_v_W: 4.0<br>Thomas: 3.0<br>Robert: 4.0<br>Peter: 4.0<br>Thirsa: 4.0"
          ],
          [
           "De Pest",
           "Albert Camus",
           "Koen_v_W: 4.0<br>Robert: 3.0<br>Peter: 5.0<br>Thirsa: 4.0"
          ],
          [
           "1984",
           "George Orwell",
           "Koen_v_W: 5.0<br>Thomas: 5.0<br>Robert: 5.0<br>Thirsa: 4.0"
          ],
          [
           "Fahrenheit 451",
           "Ray Bradbury",
           "Koen_v_W: 3.0<br>Robert: 3.0<br>Peter: 4.0<br>Thirsa: 3.0"
          ],
          [
           "Pnin",
           "Vladimir Nabokov",
           "Robert: 4.0<br>Thirsa: 4.0"
          ],
          [
           "De Opkomst van de Meritocratie",
           "Michael Young",
           "Robert: 3.0<br>Thirsa: 4.0"
          ],
          [
           "Things Fall Apart (The African Trilogy, #1)",
           "Chinua Achebe",
           "Koen_v_W: 3.0<br>Thomas: 5.0<br>Robert: 4.0<br>Thirsa: 3.0"
          ],
          [
           "A Canticle for Leibowitz (St. Leibowitz, #1)",
           "Walter M. Miller",
           "Robert: 2.0"
          ],
          [
           "Starship Troopers",
           "Robert A. Heinlein",
           "Koen_v_W: 3.0<br>Thomas: 3.0<br>Robert: 4.0<br>Peter: 3.0<br>Thirsa: 3.0"
          ],
          [
           "Mother Night",
           "Kurt Vonnegut",
           "Koen_v_W: 3.0<br>Robert: 5.0<br>Thirsa: 4.0"
          ],
          [
           "Stranger in a Strange Land",
           "Robert A. Heinlein",
           "Robert: 2.0"
          ],
          [
           "Solaris",
           "Stanislaw Lem",
           "Koen_v_W: 2.0<br>Thomas: 3.0<br>Robert: 4.0<br>Peter: 4.0<br>Thirsa: 3.0"
          ],
          [
           "Catch-22",
           "Joseph Heller",
           "Robert: 4.0<br>Thirsa: 4.0"
          ],
          [
           "The Drowned World",
           "J.G. Ballard",
           "Koen_v_W: 2.0<br>Robert: 2.0<br>Peter: 1.0<br>Thirsa: 3.0"
          ],
          [
           "A Clockwork Orange",
           "Anthony Burgess",
           "Koen_v_W: 3.0<br>Robert: 3.0"
          ],
          [
           "One Flew Over the Cuckoo’s Nest",
           "Ken Kesey",
           "Koen_v_W: 4.0<br>Robert: 4.0<br>Thirsa: 4.0"
          ],
          [
           "Cat's Cradle",
           "Kurt Vonnegut",
           "Koen_v_W: 4.0"
          ],
          [
           "Het ijs",
           "Anna Kavan",
           "Koen_v_W: 2.0<br>Peter: 4.0"
          ],
          [
           "His Master's Voice",
           "Stanislaw Lem",
           "Koen_v_W: 3.0<br>Thomas: 5.0<br>Koen_M: 3.0<br>Robert: 5.0<br>Peter: 4.0"
          ],
          [
           "Do Androids Dream of Electric Sheep?",
           "Philip K. Dick",
           "Koen_v_W: 3.0<br>Thomas: 4.0<br>Robert: 3.0<br>Peter: 3.0<br>Thirsa: 4.0"
          ],
          [
           "The Left Hand of Darkness",
           "Ursula K. Le Guin",
           "Koen_v_W: 2.0<br>Robert: 4.0<br>Thirsa: 3.0"
          ],
          [
           "Post Office",
           "Charles Bukowski",
           "Robert: 3.0<br>Peter: 4.0"
          ],
          [
           "Fear and Loathing in Las Vegas",
           "Hunter S. Thompson",
           "Koen_v_W: 3.0<br>Robert: 3.0"
          ],
          [
           "Roadside Picnic",
           "Arkady Strugatsky",
           "Koen_v_W: 4.0<br>Thomas: 5.0<br>Robert: 4.0<br>Peter: 3.0<br>Thirsa: 4.0"
          ],
          [
           "The Dispossessed: An Ambiguous Utopia",
           "Ursula K. Le Guin",
           "Koen_v_W: 3.0<br>Robert: 4.0<br>Peter: 3.0"
          ],
          [
           "High-Rise",
           "J.G. Ballard",
           "Koen_v_W: 4.0<br>Robert: 3.0<br>Thirsa: 4.0"
          ],
          [
           "The Passion of New Eve",
           "Angela Carter",
           "Koen_v_W: 1.0<br>Thomas: 2.0<br>Robert: 4.0<br>Peter: 3.0<br>Thirsa: 4.0"
          ],
          [
           "The Hitchhiker’s Guide to the Galaxy (Hitchhiker's Guide to the Galaxy, #1)",
           "Douglas Adams",
           "Koen_v_W: 3.0<br>Thomas: 4.0"
          ],
          [
           "Kroniek van een aangekondigde dood",
           "Gabriel Garcia Marquez",
           "Koen_v_W: 2.0<br>Robert: 3.0<br>Peter: 3.0"
          ],
          [
           "The Unbearable Lightness of Being",
           "Milan Kundera",
           "Koen_v_W: 2.0<br>Thomas: 5.0<br>Robert: 2.0"
          ],
          [
           "Neuromancer (Sprawl, #1)",
           "William Gibson",
           "Robert: 3.0<br>Peter: 3.0"
          ],
          [
           "Galapagos",
           "Kurt Vonnegut",
           "Koen_v_W: 3.0<br>Koen_M: 4.0"
          ],
          [
           "Watchmen",
           "Alan Moore & Dave Gibbons",
           "Robert: 4.0<br>Thirsa: 4.0"
          ],
          [
           "Lilith's Brood (Xenogenesis, #1-3)",
           "Octavia E. Butler",
           "Thomas: 4.0<br>Thirsa: 4.0"
          ],
          [
           "Watchmen",
           "Alan Moore & Dave Gibbons",
           "Koen_v_W: 4.0<br>Thomas: 5.0"
          ],
          [
           "Hyperion (Hyperion Cantos, #1)",
           "Dan Simmons",
           "Thomas: 4.0<br>Robert: 5.0<br>Peter: 3.0<br>Thirsa: 3.0"
          ],
          [
           "Snow Crash",
           "Neal Stephenson",
           "Koen_v_W: 2.0<br>Thomas: 2.0<br>Robert: 3.0<br>Peter: 3.0<br>Thirsa: 3.0"
          ],
          [
           "Parable of the Sower (Earthseed, #1)",
           "Octavia E. Butler",
           "Koen_v_W: 4.0<br>Robert: 3.0<br>Thirsa: 4.0"
          ],
          [
           "Fight Club",
           "Chuck Palahniuk",
           "Koen_v_W: 4.0<br>Robert: 3.5<br>Thirsa: 4.0"
          ],
          [
           "House of Leaves",
           "Mark Z. Danielewski",
           "Robert: 5.0"
          ],
          [
           "Under the Skin",
           "Michel Faber",
           "Koen_v_W: 2.0<br>Robert: 3.0"
          ],
          [
           "The Book of Illusions",
           "Paul Auster",
           "Koen_v_W: 3.0<br>Thomas: 3.0<br>Robert: 2.0"
          ],
          [
           "Oryx and Crake (MaddAddam, #1)",
           "Margaret Atwood",
           "Koen_v_W: 4.0<br>Robert: 3.0<br>Peter: 4.0"
          ],
          [
           "The Algebraist",
           "Iain M. Banks",
           "Robert: 3.0<br>Peter: 3.0"
          ],
          [
           "Never Let Me Go",
           "Kazuo Ishiguro",
           "Koen_v_W: 2.0<br>Thomas: 4.0<br>Robert: 4.0<br>Peter: 3.0<br>Thirsa: 3.0"
          ],
          [
           "Blindsight (Firefall, #1)",
           "Peter Watts",
           "Thomas: 5.0<br>Robert: 5.0<br>Peter: 5.0"
          ],
          [
           "The Three-Body Problem (Remembrance of Earth’s Past, #1)",
           "Liu Cixin",
           "Koen_v_W: 3.0<br>Robert: 2.0<br>Peter: 3.0<br>Thirsa: 2.0"
          ],
          [
           "The Road",
           "Cormac McCarthy",
           "Robert: 5.0<br>Thirsa: 4.0"
          ],
          [
           "The Vegetarian",
           "Han Kang",
           "Peter: 4.0"
          ],
          [
           "The Gone-Away World",
           "Nick Harkaway",
           "Robert: 5.0"
          ],
          [
           "The City & the City",
           "China Miéville",
           "Koen_v_W: 4.0<br>Koen_M: 2.0<br>Robert: 3.0<br>Peter: 4.0<br>Thirsa: 3.0"
          ],
          [
           "The Windup Girl",
           "Paolo Bacigalupi",
           "Koen_v_W: 2.0<br>Robert: 3.0<br>Peter: 1.0<br>Thirsa: 3.0"
          ],
          [
           "1Q84 Book 1 (1Q84, #1)",
           "Haruki Murakami",
           "Koen_v_W: 4.0"
          ],
          [
           "Who Fears Death",
           "Nnedi Okarafor",
           "Koen_v_W: 1.0<br>Robert: 2.0<br>Thirsa: 2.0"
          ],
          [
           "Ready Player One (Ready Player One, #1)",
           "Ernest Cline",
           "Koen_v_W: 4.0<br>Thirsa: 4.0"
          ],
          [
           "Ancillary Justice (Imperial Radch, #1)",
           "Ann Leckie",
           "Koen_v_W: 2.0<br>Thomas: 4.0<br>Robert: 3.0<br>Peter: 3.0"
          ],
          [
           "Station Eleven",
           "Emily St. John Mandel",
           "Koen_v_W: 4.0<br>Robert: 3.0<br>Peter: 3.0<br>Thirsa: 3.0"
          ],
          [
           "Zero K",
           "Don DeLillo",
           "Robert: 2.0<br>Peter: 3.0"
          ],
          [
           "Ivanov",
           "Hanna Bervoets",
           "Koen_v_W: 3.0<br>Robert: 2.0<br>Peter: 3.0<br>Thirsa: 3.0"
          ],
          [
           "The Power",
           "Naomi Alderman",
           "Koen_v_W: 4.0<br>Thomas: 4.0<br>Robert: 5.0"
          ],
          [
           "Tender is the Flesh",
           "Agustina Bazterrica",
           "Koen_v_W: 5.0<br>Robert: 5.0<br>Peter: 5.0"
          ],
          [
           "Klont",
           "Maxim Februari",
           "Koen_v_W: 3.0<br>Robert: 3.0<br>Peter: 3.0"
          ],
          [
           "Concept M",
           "Aafke Romeijn",
           "Koen_v_W: 3.0<br>Thomas: 2.0<br>Koen_M: 2.0<br>Robert: 3.0<br>Peter: 3.0<br>Thirsa: 3.0"
          ],
          [
           "De avond is ongemak",
           "Marieke Lucas Rijneveld",
           "Koen_v_W: 3.0<br>Robert: 3.0<br>Peter: 4.0<br>Thirsa: 4.0"
          ],
          [
           "Bewilderment",
           "Richard Powers",
           "Koen_v_W: 4.0<br>Thomas: 3.0<br>Peter: 5.0<br>Thirsa: 4.0"
          ],
          [
           "Tussentijds",
           "Peter Zantingh",
           "Koen_v_W: 3.0<br>Robert: 3.0<br>Thirsa: 2.0"
          ]
         ],
         "hovertemplate": "<b>%{customdata[0]}</b><br>Author: %{customdata[1]}<br>Year: %{x}<br>Goodreads Rating: %{y:.2f}<br>%{customdata[2]}<extra></extra>",
         "line": {
          "color": "red",
          "dash": "dash"
         },
         "mode": "lines+markers",
         "name": "Goodreads Rating",
         "type": "scatter",
         "x": {
          "bdata": "SgcAAGgHAACFBwAAhgcAAIwHAACQBwAAmwcAAJ0HAAChBwAApQcAAKYHAACmBwAApwcAAKcHAACpBwAAqQcAAKkHAACpBwAAqgcAAKoHAACqBwAAqwcAAK8HAACwBwAAsAcAALEHAACzBwAAswcAALQHAAC2BwAAtwcAALkHAAC7BwAAvQcAAMAHAADABwAAwQcAAMMHAADDBwAAwwcAAMUHAADIBwAAyQcAAMwHAADQBwAA0AcAANIHAADTBwAA1AcAANUHAADWBwAA1gcAANYHAADXBwAA2AcAANkHAADZBwAA2QcAANoHAADbBwAA3QcAAN4HAADgBwAA4AcAAOAHAADhBwAA4QcAAOIHAADiBwAA5QcAAOYHAAA=",
          "dtype": "i4"
         },
         "y": {
          "bdata": "SOF6FK5HD0DXo3A9CtcNQGZmZmZmZhBAcT0K16NwD0DsUbgehesPQK5H4XoUrhBAFK5H4XoUEEDD9Shcj8IQQK5H4XoUrg9AH4XrUbgeD0BmZmZmZmYOQF2PwvUo3A1A16NwPQrXD0AK16NwPQoQQOxRuB6F6xBAXI/C9ShcD0DtUbgehesPQOxRuB6F6w9A16NwPQrXC0AAAAAAAAAQQM3MzMzMzBBAmpmZmZmZEEBSuB6F61ENQFyPwvUoXBBAXI/C9ShcEEBmZmZmZmYQQHE9CtejcA9ASOF6FK5HEECPwvUoXI8QQAAAAAAAABFA4XoUrkfhDEBdj8L1KFwNQOxRuB6F6xBAw/UoXI/CD0BxPQrXo3AQQB+F61G4Hg9A9ihcj8L1DkCF61G4HoURQHsUrkfhehFAhetRuB6FEUAUrkfhehQRQBSuR+F6FBBA16NwPQrXEEC4HoXrUbgQQFyPwvUoXBBAAAAAAAAADkAzMzMzMzMPQArXo3A9ChBAH4XrUbgeEEDNzMzMzMwOQArXo3A9ChBAUrgehetREEDsUbgehesPQI/C9ShcjwxAZmZmZmZmEEAzMzMzMzMPQAAAAAAAAA5ArkfhehSuD0CF61G4HoUPQOxRuB6F6xBA7FG4HoXrD0BI4XoUrkcQQJqZmZmZmQlA9ihcj8L1DEAUrkfhehQOQERERERERA5AKVyPwvUoCEClcD0K16MLQJqZmZmZmQtAUrgehetRD0CX/GLJL5YOQA==",
          "dtype": "f8"
         }
        }
       ],
       "layout": {
        "legend": {
         "tracegroupgap": 0
        },
        "template": {
         "data": {
          "bar": [
           {
            "error_x": {
             "color": "#2a3f5f"
            },
            "error_y": {
             "color": "#2a3f5f"
            },
            "marker": {
             "line": {
              "color": "#E5ECF6",
              "width": 0.5
             },
             "pattern": {
              "fillmode": "overlay",
              "size": 10,
              "solidity": 0.2
             }
            },
            "type": "bar"
           }
          ],
          "barpolar": [
           {
            "marker": {
             "line": {
              "color": "#E5ECF6",
              "width": 0.5
             },
             "pattern": {
              "fillmode": "overlay",
              "size": 10,
              "solidity": 0.2
             }
            },
            "type": "barpolar"
           }
          ],
          "carpet": [
           {
            "aaxis": {
             "endlinecolor": "#2a3f5f",
             "gridcolor": "white",
             "linecolor": "white",
             "minorgridcolor": "white",
             "startlinecolor": "#2a3f5f"
            },
            "baxis": {
             "endlinecolor": "#2a3f5f",
             "gridcolor": "white",
             "linecolor": "white",
             "minorgridcolor": "white",
             "startlinecolor": "#2a3f5f"
            },
            "type": "carpet"
           }
          ],
          "choropleth": [
           {
            "colorbar": {
             "outlinewidth": 0,
             "ticks": ""
            },
            "type": "choropleth"
           }
          ],
          "contour": [
           {
            "colorbar": {
             "outlinewidth": 0,
             "ticks": ""
            },
            "colorscale": [
             [
              0,
              "#0d0887"
             ],
             [
              0.1111111111111111,
              "#46039f"
             ],
             [
              0.2222222222222222,
              "#7201a8"
             ],
             [
              0.3333333333333333,
              "#9c179e"
             ],
             [
              0.4444444444444444,
              "#bd3786"
             ],
             [
              0.5555555555555556,
              "#d8576b"
             ],
             [
              0.6666666666666666,
              "#ed7953"
             ],
             [
              0.7777777777777778,
              "#fb9f3a"
             ],
             [
              0.8888888888888888,
              "#fdca26"
             ],
             [
              1,
              "#f0f921"
             ]
            ],
            "type": "contour"
           }
          ],
          "contourcarpet": [
           {
            "colorbar": {
             "outlinewidth": 0,
             "ticks": ""
            },
            "type": "contourcarpet"
           }
          ],
          "heatmap": [
           {
            "colorbar": {
             "outlinewidth": 0,
             "ticks": ""
            },
            "colorscale": [
             [
              0,
              "#0d0887"
             ],
             [
              0.1111111111111111,
              "#46039f"
             ],
             [
              0.2222222222222222,
              "#7201a8"
             ],
             [
              0.3333333333333333,
              "#9c179e"
             ],
             [
              0.4444444444444444,
              "#bd3786"
             ],
             [
              0.5555555555555556,
              "#d8576b"
             ],
             [
              0.6666666666666666,
              "#ed7953"
             ],
             [
              0.7777777777777778,
              "#fb9f3a"
             ],
             [
              0.8888888888888888,
              "#fdca26"
             ],
             [
              1,
              "#f0f921"
             ]
            ],
            "type": "heatmap"
           }
          ],
          "histogram": [
           {
            "marker": {
             "pattern": {
              "fillmode": "overlay",
              "size": 10,
              "solidity": 0.2
             }
            },
            "type": "histogram"
           }
          ],
          "histogram2d": [
           {
            "colorbar": {
             "outlinewidth": 0,
             "ticks": ""
            },
            "colorscale": [
             [
              0,
              "#0d0887"
             ],
             [
              0.1111111111111111,
              "#46039f"
             ],
             [
              0.2222222222222222,
              "#7201a8"
             ],
             [
              0.3333333333333333,
              "#9c179e"
             ],
             [
              0.4444444444444444,
              "#bd3786"
             ],
             [
              0.5555555555555556,
              "#d8576b"
             ],
             [
              0.6666666666666666,
              "#ed7953"
             ],
             [
              0.7777777777777778,
              "#fb9f3a"
             ],
             [
              0.8888888888888888,
              "#fdca26"
             ],
             [
              1,
              "#f0f921"
             ]
            ],
            "type": "histogram2d"
           }
          ],
          "histogram2dcontour": [
           {
            "colorbar": {
             "outlinewidth": 0,
             "ticks": ""
            },
            "colorscale": [
             [
              0,
              "#0d0887"
             ],
             [
              0.1111111111111111,
              "#46039f"
             ],
             [
              0.2222222222222222,
              "#7201a8"
             ],
             [
              0.3333333333333333,
              "#9c179e"
             ],
             [
              0.4444444444444444,
              "#bd3786"
             ],
             [
              0.5555555555555556,
              "#d8576b"
             ],
             [
              0.6666666666666666,
              "#ed7953"
             ],
             [
              0.7777777777777778,
              "#fb9f3a"
             ],
             [
              0.8888888888888888,
              "#fdca26"
             ],
             [
              1,
              "#f0f921"
             ]
            ],
            "type": "histogram2dcontour"
           }
          ],
          "mesh3d": [
           {
            "colorbar": {
             "outlinewidth": 0,
             "ticks": ""
            },
            "type": "mesh3d"
           }
          ],
          "parcoords": [
           {
            "line": {
             "colorbar": {
              "outlinewidth": 0,
              "ticks": ""
             }
            },
            "type": "parcoords"
           }
          ],
          "pie": [
           {
            "automargin": true,
            "type": "pie"
           }
          ],
          "scatter": [
           {
            "fillpattern": {
             "fillmode": "overlay",
             "size": 10,
             "solidity": 0.2
            },
            "type": "scatter"
           }
          ],
          "scatter3d": [
           {
            "line": {
             "colorbar": {
              "outlinewidth": 0,
              "ticks": ""
             }
            },
            "marker": {
             "colorbar": {
              "outlinewidth": 0,
              "ticks": ""
             }
            },
            "type": "scatter3d"
           }
          ],
          "scattercarpet": [
           {
            "marker": {
             "colorbar": {
              "outlinewidth": 0,
              "ticks": ""
             }
            },
            "type": "scattercarpet"
           }
          ],
          "scattergeo": [
           {
            "marker": {
             "colorbar": {
              "outlinewidth": 0,
              "ticks": ""
             }
            },
            "type": "scattergeo"
           }
          ],
          "scattergl": [
           {
            "marker": {
             "colorbar": {
              "outlinewidth": 0,
              "ticks": ""
             }
            },
            "type": "scattergl"
           }
          ],
          "scattermap": [
           {
            "marker": {
             "colorbar": {
              "outlinewidth": 0,
              "ticks": ""
             }
            },
            "type": "scattermap"
           }
          ],
          "scattermapbox": [
           {
            "marker": {
             "colorbar": {
              "outlinewidth": 0,
              "ticks": ""
             }
            },
            "type": "scattermapbox"
           }
          ],
          "scatterpolar": [
           {
            "marker": {
             "colorbar": {
              "outlinewidth": 0,
              "ticks": ""
             }
            },
            "type": "scatterpolar"
           }
          ],
          "scatterpolargl": [
           {
            "marker": {
             "colorbar": {
              "outlinewidth": 0,
              "ticks": ""
             }
            },
            "type": "scatterpolargl"
           }
          ],
          "scatterternary": [
           {
            "marker": {
             "colorbar": {
              "outlinewidth": 0,
              "ticks": ""
             }
            },
            "type": "scatterternary"
           }
          ],
          "surface": [
           {
            "colorbar": {
             "outlinewidth": 0,
             "ticks": ""
            },
            "colorscale": [
             [
              0,
              "#0d0887"
             ],
             [
              0.1111111111111111,
              "#46039f"
             ],
             [
              0.2222222222222222,
              "#7201a8"
             ],
             [
              0.3333333333333333,
              "#9c179e"
             ],
             [
              0.4444444444444444,
              "#bd3786"
             ],
             [
              0.5555555555555556,
              "#d8576b"
             ],
             [
              0.6666666666666666,
              "#ed7953"
             ],
             [
              0.7777777777777778,
              "#fb9f3a"
             ],
             [
              0.8888888888888888,
              "#fdca26"
             ],
             [
              1,
              "#f0f921"
             ]
            ],
            "type": "surface"
           }
          ],
          "table": [
           {
            "cells": {
             "fill": {
              "color": "#EBF0F8"
             },
             "line": {
              "color": "white"
             }
            },
            "header": {
             "fill": {
              "color": "#C8D4E3"
             },
             "line": {
              "color": "white"
             }
            },
            "type": "table"
           }
          ]
         },
         "layout": {
          "annotationdefaults": {
           "arrowcolor": "#2a3f5f",
           "arrowhead": 0,
           "arrowwidth": 1
          },
          "autotypenumbers": "strict",
          "coloraxis": {
           "colorbar": {
            "outlinewidth": 0,
            "ticks": ""
           }
          },
          "colorscale": {
           "diverging": [
            [
             0,
             "#8e0152"
            ],
            [
             0.1,
             "#c51b7d"
            ],
            [
             0.2,
             "#de77ae"
            ],
            [
             0.3,
             "#f1b6da"
            ],
            [
             0.4,
             "#fde0ef"
            ],
            [
             0.5,
             "#f7f7f7"
            ],
            [
             0.6,
             "#e6f5d0"
            ],
            [
             0.7,
             "#b8e186"
            ],
            [
             0.8,
             "#7fbc41"
            ],
            [
             0.9,
             "#4d9221"
            ],
            [
             1,
             "#276419"
            ]
           ],
           "sequential": [
            [
             0,
             "#0d0887"
            ],
            [
             0.1111111111111111,
             "#46039f"
            ],
            [
             0.2222222222222222,
             "#7201a8"
            ],
            [
             0.3333333333333333,
             "#9c179e"
            ],
            [
             0.4444444444444444,
             "#bd3786"
            ],
            [
             0.5555555555555556,
             "#d8576b"
            ],
            [
             0.6666666666666666,
             "#ed7953"
            ],
            [
             0.7777777777777778,
             "#fb9f3a"
            ],
            [
             0.8888888888888888,
             "#fdca26"
            ],
            [
             1,
             "#f0f921"
            ]
           ],
           "sequentialminus": [
            [
             0,
             "#0d0887"
            ],
            [
             0.1111111111111111,
             "#46039f"
            ],
            [
             0.2222222222222222,
             "#7201a8"
            ],
            [
             0.3333333333333333,
             "#9c179e"
            ],
            [
             0.4444444444444444,
             "#bd3786"
            ],
            [
             0.5555555555555556,
             "#d8576b"
            ],
            [
             0.6666666666666666,
             "#ed7953"
            ],
            [
             0.7777777777777778,
             "#fb9f3a"
            ],
            [
             0.8888888888888888,
             "#fdca26"
            ],
            [
             1,
             "#f0f921"
            ]
           ]
          },
          "colorway": [
           "#636efa",
           "#EF553B",
           "#00cc96",
           "#ab63fa",
           "#FFA15A",
           "#19d3f3",
           "#FF6692",
           "#B6E880",
           "#FF97FF",
           "#FECB52"
          ],
          "font": {
           "color": "#2a3f5f"
          },
          "geo": {
           "bgcolor": "white",
           "lakecolor": "white",
           "landcolor": "#E5ECF6",
           "showlakes": true,
           "showland": true,
           "subunitcolor": "white"
          },
          "hoverlabel": {
           "align": "left"
          },
          "hovermode": "closest",
          "mapbox": {
           "style": "light"
          },
          "paper_bgcolor": "white",
          "plot_bgcolor": "#E5ECF6",
          "polar": {
           "angularaxis": {
            "gridcolor": "white",
            "linecolor": "white",
            "ticks": ""
           },
           "bgcolor": "#E5ECF6",
           "radialaxis": {
            "gridcolor": "white",
            "linecolor": "white",
            "ticks": ""
           }
          },
          "scene": {
           "xaxis": {
            "backgroundcolor": "#E5ECF6",
            "gridcolor": "white",
            "gridwidth": 2,
            "linecolor": "white",
            "showbackground": true,
            "ticks": "",
            "zerolinecolor": "white"
           },
           "yaxis": {
            "backgroundcolor": "#E5ECF6",
            "gridcolor": "white",
            "gridwidth": 2,
            "linecolor": "white",
            "showbackground": true,
            "ticks": "",
            "zerolinecolor": "white"
           },
           "zaxis": {
            "backgroundcolor": "#E5ECF6",
            "gridcolor": "white",
            "gridwidth": 2,
            "linecolor": "white",
            "showbackground": true,
            "ticks": "",
            "zerolinecolor": "white"
           }
          },
          "shapedefaults": {
           "line": {
            "color": "#2a3f5f"
           }
          },
          "ternary": {
           "aaxis": {
            "gridcolor": "white",
            "linecolor": "white",
            "ticks": ""
           },
           "baxis": {
            "gridcolor": "white",
            "linecolor": "white",
            "ticks": ""
           },
           "bgcolor": "#E5ECF6",
           "caxis": {
            "gridcolor": "white",
            "linecolor": "white",
            "ticks": ""
           }
          },
          "title": {
           "x": 0.05
          },
          "xaxis": {
           "automargin": true,
           "gridcolor": "white",
           "linecolor": "white",
           "ticks": "",
           "title": {
            "standoff": 15
           },
           "zerolinecolor": "white",
           "zerolinewidth": 2
          },
          "yaxis": {
           "automargin": true,
           "gridcolor": "white",
           "linecolor": "white",
           "ticks": "",
           "title": {
            "standoff": 15
           },
           "zerolinecolor": "white",
           "zerolinewidth": 2
          }
         }
        },
        "title": {
         "text": "Our Rating per Publication Year"
        },
        "xaxis": {
         "anchor": "y",
         "domain": [
          0,
          1
         ],
         "title": {
          "text": "Publication Year"
         }
        },
        "yaxis": {
         "anchor": "x",
         "domain": [
          0,
          1
         ],
         "title": {
          "text": "Average Rating"
         }
        }
       }
      }
     },
     "metadata": {},
     "output_type": "display_data"
    }
   ],
   "source": [
    "plot_df = bookclub_processed_df.with_columns(\n",
    "    [pl.col(\"original_publication_year\").cast(pl.Int32).alias(\"year\")],\n",
    ")\n",
    "df_plot = plot_df.sort(\"year\")\n",
    "\n",
    "# Add the voting members column using map_rows\n",
    "df_with_voting = df_plot.with_columns(\n",
    "    pl.struct(bookclub_members_list)\n",
    "    .map_elements(lambda row: create_voting_text(bookclub_members_list, row), return_dtype=pl.Utf8)\n",
    "    .alias(\"voting_members\"),\n",
    ")\n",
    "\n",
    "fig = px.line(\n",
    "    df_with_voting,\n",
    "    x=\"year\",\n",
    "    y=\"average_bookclub_rating\",\n",
    "    title=\"Our Rating per Publication Year\",\n",
    "    labels={\"year\": \"Publication Year\", \"average_bookclub_rating\": \"Average Rating\"},\n",
    "    markers=True,\n",
    ")\n",
    "\n",
    "# Update hover template for bookclub rating\n",
    "fig.update_traces(\n",
    "    hovertemplate=\"<b>%{customdata[0]}</b><br>\"\n",
    "    \"Author: %{customdata[1]}<br>\"\n",
    "    \"Year: %{x}<br>\"\n",
    "    \"Bookclub Rating: %{y:.2f}<br>\"\n",
    "    \"%{customdata[2]}<extra></extra>\",\n",
    "    customdata=df_with_voting.select([\"title\", \"author\", \"voting_members\"]).to_numpy(),\n",
    ")\n",
    "\n",
    "# Add Goodreads rating as a dashed red line\n",
    "fig.add_trace(\n",
    "    go.Scatter(\n",
    "        x=df_with_voting[\"year\"],\n",
    "        y=df_with_voting[\"average_goodreads_rating\"],\n",
    "        mode=\"lines+markers\",\n",
    "        name=\"Goodreads Rating\",\n",
    "        line={\"color\": \"red\", \"dash\": \"dash\"},\n",
    "        customdata=df_with_voting.select([\"title\", \"author\", \"voting_members\"]).to_numpy(),\n",
    "        hovertemplate=\"<b>%{customdata[0]}</b><br>\"\n",
    "        \"Author: %{customdata[1]}<br>\"\n",
    "        \"Year: %{x}<br>\"\n",
    "        \"Goodreads Rating: %{y:.2f}<br>\"\n",
    "        \"%{customdata[2]}<extra></extra>\",\n",
    "    ),\n",
    ")\n",
    "\n",
    "# Update y-axis label to be more generic\n",
    "fig.update_layout(yaxis_title=\"Average Rating\")\n",
    "\n",
    "fig.show()"
   ]
  },
  {
   "cell_type": "code",
   "execution_count": 10,
   "metadata": {},
   "outputs": [
    {
     "data": {
      "application/vnd.plotly.v1+json": {
       "config": {
        "plotlyServerURL": "https://plot.ly"
       },
       "data": [
        {
         "customdata": [
          [
           "The Road",
           "Cormac McCarthy",
           "Robert: 5.0<br>Thirsa: 4.0"
          ],
          [
           "Ready Player One (Ready Player One, #1)",
           "Ernest Cline",
           "Koen_v_W: 4.0<br>Thirsa: 4.0"
          ],
          [
           "Do Androids Dream of Electric Sheep?",
           "Philip K. Dick",
           "Koen_v_W: 3.0<br>Thomas: 4.0<br>Robert: 3.0<br>Peter: 3.0<br>Thirsa: 4.0"
          ],
          [
           "Neuromancer (Sprawl, #1)",
           "William Gibson",
           "Robert: 3.0<br>Peter: 3.0"
          ],
          [
           "Starship Troopers",
           "Robert A. Heinlein",
           "Koen_v_W: 3.0<br>Thomas: 3.0<br>Robert: 4.0<br>Peter: 3.0<br>Thirsa: 3.0"
          ],
          [
           "Hyperion (Hyperion Cantos, #1)",
           "Dan Simmons",
           "Thomas: 4.0<br>Robert: 5.0<br>Peter: 3.0<br>Thirsa: 3.0"
          ],
          [
           "1984",
           "George Orwell",
           "Koen_v_W: 5.0<br>Thomas: 5.0<br>Robert: 5.0<br>Thirsa: 4.0"
          ],
          [
           "The Hitchhiker’s Guide to the Galaxy (Hitchhiker's Guide to the Galaxy, #1)",
           "Douglas Adams",
           "Koen_v_W: 3.0<br>Thomas: 4.0"
          ],
          [
           "The Passion of New Eve",
           "Angela Carter",
           "Koen_v_W: 1.0<br>Thomas: 2.0<br>Robert: 4.0<br>Peter: 3.0<br>Thirsa: 4.0"
          ],
          [
           "Fahrenheit 451",
           "Ray Bradbury",
           "Koen_v_W: 3.0<br>Robert: 3.0<br>Peter: 4.0<br>Thirsa: 3.0"
          ],
          [
           "The Three-Body Problem (Remembrance of Earth’s Past, #1)",
           "Liu Cixin",
           "Koen_v_W: 3.0<br>Robert: 2.0<br>Peter: 3.0<br>Thirsa: 2.0"
          ],
          [
           "Lilith's Brood (Xenogenesis, #1-3)",
           "Octavia E. Butler",
           "Thomas: 4.0<br>Thirsa: 4.0"
          ],
          [
           "Blindsight (Firefall, #1)",
           "Peter Watts",
           "Thomas: 5.0<br>Robert: 5.0<br>Peter: 5.0"
          ],
          [
           "Under the Skin",
           "Michel Faber",
           "Koen_v_W: 2.0<br>Robert: 3.0"
          ],
          [
           "Brave New World",
           "Aldous Huxley",
           "Koen_v_W: 4.0<br>Thomas: 4.0<br>Robert: 5.0<br>Peter: 4.0"
          ],
          [
           "The Heart of a Dog",
           "Mikhail Bulgakov",
           "Koen_v_W: 3.0"
          ],
          [
           "The Windup Girl",
           "Paolo Bacigalupi",
           "Koen_v_W: 2.0<br>Robert: 3.0<br>Peter: 1.0<br>Thirsa: 3.0"
          ],
          [
           "Watchmen",
           "Alan Moore & Dave Gibbons",
           "Robert: 4.0<br>Thirsa: 4.0"
          ],
          [
           "Watchmen",
           "Alan Moore & Dave Gibbons",
           "Koen_v_W: 4.0<br>Thomas: 5.0"
          ],
          [
           "Never Let Me Go",
           "Kazuo Ishiguro",
           "Koen_v_W: 2.0<br>Thomas: 4.0<br>Robert: 4.0<br>Peter: 3.0<br>Thirsa: 3.0"
          ],
          [
           "A Canticle for Leibowitz (St. Leibowitz, #1)",
           "Walter M. Miller",
           "Robert: 2.0"
          ],
          [
           "Pnin",
           "Vladimir Nabokov",
           "Robert: 4.0<br>Thirsa: 4.0"
          ],
          [
           "Fear and Loathing in Las Vegas",
           "Hunter S. Thompson",
           "Koen_v_W: 3.0<br>Robert: 3.0"
          ],
          [
           "High-Rise",
           "J.G. Ballard",
           "Koen_v_W: 4.0<br>Robert: 3.0<br>Thirsa: 4.0"
          ],
          [
           "Things Fall Apart (The African Trilogy, #1)",
           "Chinua Achebe",
           "Koen_v_W: 3.0<br>Thomas: 5.0<br>Robert: 4.0<br>Thirsa: 3.0"
          ],
          [
           "The Unbearable Lightness of Being",
           "Milan Kundera",
           "Koen_v_W: 2.0<br>Thomas: 5.0<br>Robert: 2.0"
          ],
          [
           "Parable of the Sower (Earthseed, #1)",
           "Octavia E. Butler",
           "Koen_v_W: 4.0<br>Robert: 3.0<br>Thirsa: 4.0"
          ],
          [
           "Het Slot",
           "Franz Kafka",
           "Koen_v_W: 2.0<br>Robert: 4.0"
          ],
          [
           "1Q84 Book 1 (1Q84, #1)",
           "Haruki Murakami",
           "Koen_v_W: 4.0"
          ],
          [
           "Cat's Cradle",
           "Kurt Vonnegut",
           "Koen_v_W: 4.0"
          ],
          [
           "The Left Hand of Darkness",
           "Ursula K. Le Guin",
           "Koen_v_W: 2.0<br>Robert: 4.0<br>Thirsa: 3.0"
          ],
          [
           "The Power",
           "Naomi Alderman",
           "Koen_v_W: 4.0<br>Thomas: 4.0<br>Robert: 5.0"
          ],
          [
           "The Gambler",
           "Fyodor Dostoyevsky",
           "Koen_v_W: 3.0<br>Robert: 2.0"
          ],
          [
           "Fight Club",
           "Chuck Palahniuk",
           "Koen_v_W: 4.0<br>Robert: 3.5<br>Thirsa: 4.0"
          ],
          [
           "The Book of Illusions",
           "Paul Auster",
           "Koen_v_W: 3.0<br>Thomas: 3.0<br>Robert: 2.0"
          ],
          [
           "Post Office",
           "Charles Bukowski",
           "Robert: 3.0<br>Peter: 4.0"
          ],
          [
           "Catch-22",
           "Joseph Heller",
           "Robert: 4.0<br>Thirsa: 4.0"
          ],
          [
           "Ivanov",
           "Hanna Bervoets",
           "Koen_v_W: 3.0<br>Robert: 2.0<br>Peter: 3.0<br>Thirsa: 3.0"
          ],
          [
           "The Algebraist",
           "Iain M. Banks",
           "Robert: 3.0<br>Peter: 3.0"
          ],
          [
           "The Gone-Away World",
           "Nick Harkaway",
           "Robert: 5.0"
          ],
          [
           "De Pest",
           "Albert Camus",
           "Koen_v_W: 4.0<br>Robert: 3.0<br>Peter: 5.0<br>Thirsa: 4.0"
          ],
          [
           "Oryx and Crake (MaddAddam, #1)",
           "Margaret Atwood",
           "Koen_v_W: 4.0<br>Robert: 3.0<br>Peter: 4.0"
          ],
          [
           "Solaris",
           "Stanislaw Lem",
           "Koen_v_W: 2.0<br>Thomas: 3.0<br>Robert: 4.0<br>Peter: 4.0<br>Thirsa: 3.0"
          ],
          [
           "Who Fears Death",
           "Nnedi Okarafor",
           "Koen_v_W: 1.0<br>Robert: 2.0<br>Thirsa: 2.0"
          ],
          [
           "A Clockwork Orange",
           "Anthony Burgess",
           "Koen_v_W: 3.0<br>Robert: 3.0"
          ],
          [
           "Stranger in a Strange Land",
           "Robert A. Heinlein",
           "Robert: 2.0"
          ],
          [
           "The Dispossessed: An Ambiguous Utopia",
           "Ursula K. Le Guin",
           "Koen_v_W: 3.0<br>Robert: 4.0<br>Peter: 3.0"
          ],
          [
           "Klont",
           "Maxim Februari",
           "Koen_v_W: 3.0<br>Robert: 3.0<br>Peter: 3.0"
          ],
          [
           "De avond is ongemak",
           "Marieke Lucas Rijneveld",
           "Koen_v_W: 3.0<br>Robert: 3.0<br>Peter: 4.0<br>Thirsa: 4.0"
          ],
          [
           "The Drowned World",
           "J.G. Ballard",
           "Koen_v_W: 2.0<br>Robert: 2.0<br>Peter: 1.0<br>Thirsa: 3.0"
          ],
          [
           "Het ijs",
           "Anna Kavan",
           "Koen_v_W: 2.0<br>Peter: 4.0"
          ],
          [
           "Mother Night",
           "Kurt Vonnegut",
           "Koen_v_W: 3.0<br>Robert: 5.0<br>Thirsa: 4.0"
          ],
          [
           "The Island of Dr. Moreau",
           "H.G. Wells",
           "Koen_v_W: 4.0<br>Robert: 3.0<br>Peter: 3.0"
          ],
          [
           "House of Leaves",
           "Mark Z. Danielewski",
           "Robert: 5.0"
          ],
          [
           "Zero K",
           "Don DeLillo",
           "Robert: 2.0<br>Peter: 3.0"
          ],
          [
           "One Flew Over the Cuckoo’s Nest",
           "Ken Kesey",
           "Koen_v_W: 4.0<br>Robert: 4.0<br>Thirsa: 4.0"
          ],
          [
           "De Opkomst van de Meritocratie",
           "Michael Young",
           "Robert: 3.0<br>Thirsa: 4.0"
          ],
          [
           "Station Eleven",
           "Emily St. John Mandel",
           "Koen_v_W: 4.0<br>Robert: 3.0<br>Peter: 3.0<br>Thirsa: 3.0"
          ],
          [
           "Ancillary Justice (Imperial Radch, #1)",
           "Ann Leckie",
           "Koen_v_W: 2.0<br>Thomas: 4.0<br>Robert: 3.0<br>Peter: 3.0"
          ],
          [
           "Tussentijds",
           "Peter Zantingh",
           "Koen_v_W: 3.0<br>Robert: 3.0<br>Thirsa: 2.0"
          ],
          [
           "Tender is the Flesh",
           "Agustina Bazterrica",
           "Koen_v_W: 5.0<br>Robert: 5.0<br>Peter: 5.0"
          ],
          [
           "Snow Crash",
           "Neal Stephenson",
           "Koen_v_W: 2.0<br>Thomas: 2.0<br>Robert: 3.0<br>Peter: 3.0<br>Thirsa: 3.0"
          ],
          [
           "Bewilderment",
           "Richard Powers",
           "Koen_v_W: 4.0<br>Thomas: 3.0<br>Peter: 5.0<br>Thirsa: 4.0"
          ],
          [
           "Oorlog met de salamanders",
           "Karel Capek",
           "Koen_v_W: 4.0<br>Thomas: 3.0<br>Robert: 4.0<br>Peter: 4.0<br>Thirsa: 4.0"
          ],
          [
           "Roadside Picnic",
           "Arkady Strugatsky",
           "Koen_v_W: 4.0<br>Thomas: 5.0<br>Robert: 4.0<br>Peter: 3.0<br>Thirsa: 4.0"
          ],
          [
           "Kroniek van een aangekondigde dood",
           "Gabriel Garcia Marquez",
           "Koen_v_W: 2.0<br>Robert: 3.0<br>Peter: 3.0"
          ],
          [
           "The City & the City",
           "China Miéville",
           "Koen_v_W: 4.0<br>Koen_M: 2.0<br>Robert: 3.0<br>Peter: 4.0<br>Thirsa: 3.0"
          ],
          [
           "His Master's Voice",
           "Stanislaw Lem",
           "Koen_v_W: 3.0<br>Thomas: 5.0<br>Koen_M: 3.0<br>Robert: 5.0<br>Peter: 4.0"
          ],
          [
           "Concept M",
           "Aafke Romeijn",
           "Koen_v_W: 3.0<br>Thomas: 2.0<br>Koen_M: 2.0<br>Robert: 3.0<br>Peter: 3.0<br>Thirsa: 3.0"
          ],
          [
           "Galapagos",
           "Kurt Vonnegut",
           "Koen_v_W: 3.0<br>Koen_M: 4.0"
          ],
          [
           "The Vegetarian",
           "Han Kang",
           "Peter: 4.0"
          ]
         ],
         "hovertemplate": "<b>%{customdata[0]}</b><br>Author: %{customdata[1]}<br>Date: %{x|%Y-%m-%d}<br>Bookclub Rating: %{y:.2f}<br>%{customdata[2]}<extra></extra>",
         "mode": "lines+markers",
         "name": "Bookclub Rating",
         "type": "scatter",
         "x": [
          null,
          "2014-11-26T00:00:00.000000",
          "2015-01-27T00:00:00.000000",
          "2015-04-14T00:00:00.000000",
          "2015-06-08T00:00:00.000000",
          "2015-07-23T00:00:00.000000",
          "2015-09-14T00:00:00.000000",
          "2015-11-16T00:00:00.000000",
          "2016-01-05T00:00:00.000000",
          "2016-02-16T00:00:00.000000",
          "2016-03-29T00:00:00.000000",
          "2016-05-10T00:00:00.000000",
          "2016-09-06T00:00:00.000000",
          "2016-09-06T00:00:00.000000",
          "2016-10-12T00:00:00.000000",
          "2016-11-30T00:00:00.000000",
          "2017-01-18T00:00:00.000000",
          "2017-03-14T00:00:00.000000",
          "2017-03-14T00:00:00.000000",
          "2017-05-02T00:00:00.000000",
          "2017-06-01T00:00:00.000000",
          "2017-07-11T00:00:00.000000",
          "2017-09-08T00:00:00.000000",
          "2017-10-30T00:00:00.000000",
          "2017-12-05T00:00:00.000000",
          "2018-01-17T00:00:00.000000",
          "2018-02-19T00:00:00.000000",
          "2018-04-25T00:00:00.000000",
          "2018-06-06T00:00:00.000000",
          "2018-07-03T00:00:00.000000",
          "2018-09-11T00:00:00.000000",
          "2018-10-15T00:00:00.000000",
          "2018-11-30T00:00:00.000000",
          "2019-01-09T00:00:00.000000",
          "2019-04-17T00:00:00.000000",
          "2019-05-22T00:00:00.000000",
          "2019-07-10T00:00:00.000000",
          "2019-09-04T00:00:00.000000",
          "2019-10-18T00:00:00.000000",
          "2019-12-20T00:00:00.000000",
          "2020-02-03T00:00:00.000000",
          "2020-04-04T00:00:00.000000",
          "2020-05-02T00:00:00.000000",
          "2020-06-19T00:00:00.000000",
          "2020-08-04T00:00:00.000000",
          "2020-09-21T00:00:00.000000",
          "2020-11-18T00:00:00.000000",
          "2021-01-05T00:00:00.000000",
          "2021-02-17T00:00:00.000000",
          "2021-04-04T00:00:00.000000",
          "2021-08-13T00:00:00.000000",
          "2021-10-16T00:00:00.000000",
          "2021-12-08T00:00:00.000000",
          "2022-02-02T00:00:00.000000",
          "2022-03-31T00:00:00.000000",
          "2022-06-06T00:00:00.000000",
          "2022-09-07T00:00:00.000000",
          "2022-11-10T00:00:00.000000",
          "2023-01-06T00:00:00.000000",
          "2023-03-03T00:00:00.000000",
          "2023-04-22T00:00:00.000000",
          "2023-07-07T00:00:00.000000",
          "2023-09-03T00:00:00.000000",
          "2023-11-05T00:00:00.000000",
          "2023-12-16T00:00:00.000000",
          "2024-01-26T00:00:00.000000",
          "2024-04-07T00:00:00.000000",
          "2024-05-24T00:00:00.000000",
          "2024-07-20T00:00:00.000000",
          "2024-09-11T00:00:00.000000",
          "2024-11-08T00:00:00.000000"
         ],
         "y": {
          "bdata": "AAAAAAAAEkAAAAAAAAAQQDMzMzMzMwtAAAAAAAAACECamZmZmZkJQAAAAAAAAA5AAAAAAAAAE0AAAAAAAAAMQGZmZmZmZgZAAAAAAAAACkAAAAAAAAAEQAAAAAAAABBAAAAAAAAAFEAAAAAAAAAEQAAAAAAAABFAAAAAAAAACEAAAAAAAAACQAAAAAAAABBAAAAAAAAAEkCamZmZmZkJQAAAAAAAAABAAAAAAAAAEEAAAAAAAAAIQFVVVVVVVQ1AAAAAAAAADkAAAAAAAAAIQFVVVVVVVQ1AAAAAAAAACEAAAAAAAAAQQAAAAAAAABBAAAAAAAAACEBVVVVVVVURQAAAAAAAAARAq6qqqqqqDkBVVVVVVVUFQAAAAAAAAAxAAAAAAAAAEEAAAAAAAAAGQAAAAAAAAAhAAAAAAAAAFEAAAAAAAAAQQFVVVVVVVQ1AmpmZmZmZCUCrqqqqqqr6PwAAAAAAAAhAAAAAAAAAAECrqqqqqqoKQAAAAAAAAAhAAAAAAAAADEAAAAAAAAAAQAAAAAAAAAhAAAAAAAAAEECrqqqqqqoKQAAAAAAAABRAAAAAAAAABEAAAAAAAAAQQAAAAAAAAAxAAAAAAAAACkAAAAAAAAAIQFVVVVVVVQVAAAAAAAAAFEDNzMzMzMwEQAAAAAAAABBAZmZmZmZmDkAAAAAAAAAQQFVVVVVVVQVAmpmZmZmZCUAAAAAAAAAQQFVVVVVVVQVAAAAAAAAADEAAAAAAAAAQQA==",
          "dtype": "f8"
         }
        },
        {
         "customdata": [
          [
           "The Road",
           "Cormac McCarthy",
           "Robert: 5.0<br>Thirsa: 4.0"
          ],
          [
           "Ready Player One (Ready Player One, #1)",
           "Ernest Cline",
           "Koen_v_W: 4.0<br>Thirsa: 4.0"
          ],
          [
           "Do Androids Dream of Electric Sheep?",
           "Philip K. Dick",
           "Koen_v_W: 3.0<br>Thomas: 4.0<br>Robert: 3.0<br>Peter: 3.0<br>Thirsa: 4.0"
          ],
          [
           "Neuromancer (Sprawl, #1)",
           "William Gibson",
           "Robert: 3.0<br>Peter: 3.0"
          ],
          [
           "Starship Troopers",
           "Robert A. Heinlein",
           "Koen_v_W: 3.0<br>Thomas: 3.0<br>Robert: 4.0<br>Peter: 3.0<br>Thirsa: 3.0"
          ],
          [
           "Hyperion (Hyperion Cantos, #1)",
           "Dan Simmons",
           "Thomas: 4.0<br>Robert: 5.0<br>Peter: 3.0<br>Thirsa: 3.0"
          ],
          [
           "1984",
           "George Orwell",
           "Koen_v_W: 5.0<br>Thomas: 5.0<br>Robert: 5.0<br>Thirsa: 4.0"
          ],
          [
           "The Hitchhiker’s Guide to the Galaxy (Hitchhiker's Guide to the Galaxy, #1)",
           "Douglas Adams",
           "Koen_v_W: 3.0<br>Thomas: 4.0"
          ],
          [
           "The Passion of New Eve",
           "Angela Carter",
           "Koen_v_W: 1.0<br>Thomas: 2.0<br>Robert: 4.0<br>Peter: 3.0<br>Thirsa: 4.0"
          ],
          [
           "Fahrenheit 451",
           "Ray Bradbury",
           "Koen_v_W: 3.0<br>Robert: 3.0<br>Peter: 4.0<br>Thirsa: 3.0"
          ],
          [
           "The Three-Body Problem (Remembrance of Earth’s Past, #1)",
           "Liu Cixin",
           "Koen_v_W: 3.0<br>Robert: 2.0<br>Peter: 3.0<br>Thirsa: 2.0"
          ],
          [
           "Lilith's Brood (Xenogenesis, #1-3)",
           "Octavia E. Butler",
           "Thomas: 4.0<br>Thirsa: 4.0"
          ],
          [
           "Blindsight (Firefall, #1)",
           "Peter Watts",
           "Thomas: 5.0<br>Robert: 5.0<br>Peter: 5.0"
          ],
          [
           "Under the Skin",
           "Michel Faber",
           "Koen_v_W: 2.0<br>Robert: 3.0"
          ],
          [
           "Brave New World",
           "Aldous Huxley",
           "Koen_v_W: 4.0<br>Thomas: 4.0<br>Robert: 5.0<br>Peter: 4.0"
          ],
          [
           "The Heart of a Dog",
           "Mikhail Bulgakov",
           "Koen_v_W: 3.0"
          ],
          [
           "The Windup Girl",
           "Paolo Bacigalupi",
           "Koen_v_W: 2.0<br>Robert: 3.0<br>Peter: 1.0<br>Thirsa: 3.0"
          ],
          [
           "Watchmen",
           "Alan Moore & Dave Gibbons",
           "Robert: 4.0<br>Thirsa: 4.0"
          ],
          [
           "Watchmen",
           "Alan Moore & Dave Gibbons",
           "Koen_v_W: 4.0<br>Thomas: 5.0"
          ],
          [
           "Never Let Me Go",
           "Kazuo Ishiguro",
           "Koen_v_W: 2.0<br>Thomas: 4.0<br>Robert: 4.0<br>Peter: 3.0<br>Thirsa: 3.0"
          ],
          [
           "A Canticle for Leibowitz (St. Leibowitz, #1)",
           "Walter M. Miller",
           "Robert: 2.0"
          ],
          [
           "Pnin",
           "Vladimir Nabokov",
           "Robert: 4.0<br>Thirsa: 4.0"
          ],
          [
           "Fear and Loathing in Las Vegas",
           "Hunter S. Thompson",
           "Koen_v_W: 3.0<br>Robert: 3.0"
          ],
          [
           "High-Rise",
           "J.G. Ballard",
           "Koen_v_W: 4.0<br>Robert: 3.0<br>Thirsa: 4.0"
          ],
          [
           "Things Fall Apart (The African Trilogy, #1)",
           "Chinua Achebe",
           "Koen_v_W: 3.0<br>Thomas: 5.0<br>Robert: 4.0<br>Thirsa: 3.0"
          ],
          [
           "The Unbearable Lightness of Being",
           "Milan Kundera",
           "Koen_v_W: 2.0<br>Thomas: 5.0<br>Robert: 2.0"
          ],
          [
           "Parable of the Sower (Earthseed, #1)",
           "Octavia E. Butler",
           "Koen_v_W: 4.0<br>Robert: 3.0<br>Thirsa: 4.0"
          ],
          [
           "Het Slot",
           "Franz Kafka",
           "Koen_v_W: 2.0<br>Robert: 4.0"
          ],
          [
           "1Q84 Book 1 (1Q84, #1)",
           "Haruki Murakami",
           "Koen_v_W: 4.0"
          ],
          [
           "Cat's Cradle",
           "Kurt Vonnegut",
           "Koen_v_W: 4.0"
          ],
          [
           "The Left Hand of Darkness",
           "Ursula K. Le Guin",
           "Koen_v_W: 2.0<br>Robert: 4.0<br>Thirsa: 3.0"
          ],
          [
           "The Power",
           "Naomi Alderman",
           "Koen_v_W: 4.0<br>Thomas: 4.0<br>Robert: 5.0"
          ],
          [
           "The Gambler",
           "Fyodor Dostoyevsky",
           "Koen_v_W: 3.0<br>Robert: 2.0"
          ],
          [
           "Fight Club",
           "Chuck Palahniuk",
           "Koen_v_W: 4.0<br>Robert: 3.5<br>Thirsa: 4.0"
          ],
          [
           "The Book of Illusions",
           "Paul Auster",
           "Koen_v_W: 3.0<br>Thomas: 3.0<br>Robert: 2.0"
          ],
          [
           "Post Office",
           "Charles Bukowski",
           "Robert: 3.0<br>Peter: 4.0"
          ],
          [
           "Catch-22",
           "Joseph Heller",
           "Robert: 4.0<br>Thirsa: 4.0"
          ],
          [
           "Ivanov",
           "Hanna Bervoets",
           "Koen_v_W: 3.0<br>Robert: 2.0<br>Peter: 3.0<br>Thirsa: 3.0"
          ],
          [
           "The Algebraist",
           "Iain M. Banks",
           "Robert: 3.0<br>Peter: 3.0"
          ],
          [
           "The Gone-Away World",
           "Nick Harkaway",
           "Robert: 5.0"
          ],
          [
           "De Pest",
           "Albert Camus",
           "Koen_v_W: 4.0<br>Robert: 3.0<br>Peter: 5.0<br>Thirsa: 4.0"
          ],
          [
           "Oryx and Crake (MaddAddam, #1)",
           "Margaret Atwood",
           "Koen_v_W: 4.0<br>Robert: 3.0<br>Peter: 4.0"
          ],
          [
           "Solaris",
           "Stanislaw Lem",
           "Koen_v_W: 2.0<br>Thomas: 3.0<br>Robert: 4.0<br>Peter: 4.0<br>Thirsa: 3.0"
          ],
          [
           "Who Fears Death",
           "Nnedi Okarafor",
           "Koen_v_W: 1.0<br>Robert: 2.0<br>Thirsa: 2.0"
          ],
          [
           "A Clockwork Orange",
           "Anthony Burgess",
           "Koen_v_W: 3.0<br>Robert: 3.0"
          ],
          [
           "Stranger in a Strange Land",
           "Robert A. Heinlein",
           "Robert: 2.0"
          ],
          [
           "The Dispossessed: An Ambiguous Utopia",
           "Ursula K. Le Guin",
           "Koen_v_W: 3.0<br>Robert: 4.0<br>Peter: 3.0"
          ],
          [
           "Klont",
           "Maxim Februari",
           "Koen_v_W: 3.0<br>Robert: 3.0<br>Peter: 3.0"
          ],
          [
           "De avond is ongemak",
           "Marieke Lucas Rijneveld",
           "Koen_v_W: 3.0<br>Robert: 3.0<br>Peter: 4.0<br>Thirsa: 4.0"
          ],
          [
           "The Drowned World",
           "J.G. Ballard",
           "Koen_v_W: 2.0<br>Robert: 2.0<br>Peter: 1.0<br>Thirsa: 3.0"
          ],
          [
           "Het ijs",
           "Anna Kavan",
           "Koen_v_W: 2.0<br>Peter: 4.0"
          ],
          [
           "Mother Night",
           "Kurt Vonnegut",
           "Koen_v_W: 3.0<br>Robert: 5.0<br>Thirsa: 4.0"
          ],
          [
           "The Island of Dr. Moreau",
           "H.G. Wells",
           "Koen_v_W: 4.0<br>Robert: 3.0<br>Peter: 3.0"
          ],
          [
           "House of Leaves",
           "Mark Z. Danielewski",
           "Robert: 5.0"
          ],
          [
           "Zero K",
           "Don DeLillo",
           "Robert: 2.0<br>Peter: 3.0"
          ],
          [
           "One Flew Over the Cuckoo’s Nest",
           "Ken Kesey",
           "Koen_v_W: 4.0<br>Robert: 4.0<br>Thirsa: 4.0"
          ],
          [
           "De Opkomst van de Meritocratie",
           "Michael Young",
           "Robert: 3.0<br>Thirsa: 4.0"
          ],
          [
           "Station Eleven",
           "Emily St. John Mandel",
           "Koen_v_W: 4.0<br>Robert: 3.0<br>Peter: 3.0<br>Thirsa: 3.0"
          ],
          [
           "Ancillary Justice (Imperial Radch, #1)",
           "Ann Leckie",
           "Koen_v_W: 2.0<br>Thomas: 4.0<br>Robert: 3.0<br>Peter: 3.0"
          ],
          [
           "Tussentijds",
           "Peter Zantingh",
           "Koen_v_W: 3.0<br>Robert: 3.0<br>Thirsa: 2.0"
          ],
          [
           "Tender is the Flesh",
           "Agustina Bazterrica",
           "Koen_v_W: 5.0<br>Robert: 5.0<br>Peter: 5.0"
          ],
          [
           "Snow Crash",
           "Neal Stephenson",
           "Koen_v_W: 2.0<br>Thomas: 2.0<br>Robert: 3.0<br>Peter: 3.0<br>Thirsa: 3.0"
          ],
          [
           "Bewilderment",
           "Richard Powers",
           "Koen_v_W: 4.0<br>Thomas: 3.0<br>Peter: 5.0<br>Thirsa: 4.0"
          ],
          [
           "Oorlog met de salamanders",
           "Karel Capek",
           "Koen_v_W: 4.0<br>Thomas: 3.0<br>Robert: 4.0<br>Peter: 4.0<br>Thirsa: 4.0"
          ],
          [
           "Roadside Picnic",
           "Arkady Strugatsky",
           "Koen_v_W: 4.0<br>Thomas: 5.0<br>Robert: 4.0<br>Peter: 3.0<br>Thirsa: 4.0"
          ],
          [
           "Kroniek van een aangekondigde dood",
           "Gabriel Garcia Marquez",
           "Koen_v_W: 2.0<br>Robert: 3.0<br>Peter: 3.0"
          ],
          [
           "The City & the City",
           "China Miéville",
           "Koen_v_W: 4.0<br>Koen_M: 2.0<br>Robert: 3.0<br>Peter: 4.0<br>Thirsa: 3.0"
          ],
          [
           "His Master's Voice",
           "Stanislaw Lem",
           "Koen_v_W: 3.0<br>Thomas: 5.0<br>Koen_M: 3.0<br>Robert: 5.0<br>Peter: 4.0"
          ],
          [
           "Concept M",
           "Aafke Romeijn",
           "Koen_v_W: 3.0<br>Thomas: 2.0<br>Koen_M: 2.0<br>Robert: 3.0<br>Peter: 3.0<br>Thirsa: 3.0"
          ],
          [
           "Galapagos",
           "Kurt Vonnegut",
           "Koen_v_W: 3.0<br>Koen_M: 4.0"
          ],
          [
           "The Vegetarian",
           "Han Kang",
           "Peter: 4.0"
          ]
         ],
         "hovertemplate": "<b>%{customdata[0]}</b><br>Author: %{customdata[1]}<br>Date: %{x|%Y-%m-%d}<br>Goodreads Rating: %{y:.2f}<br>%{customdata[2]}<extra></extra>",
         "line": {
          "dash": "dash"
         },
         "mode": "lines+markers",
         "name": "Goodreads Rating",
         "type": "scatter",
         "x": [
          null,
          "2014-11-26T00:00:00.000000",
          "2015-01-27T00:00:00.000000",
          "2015-04-14T00:00:00.000000",
          "2015-06-08T00:00:00.000000",
          "2015-07-23T00:00:00.000000",
          "2015-09-14T00:00:00.000000",
          "2015-11-16T00:00:00.000000",
          "2016-01-05T00:00:00.000000",
          "2016-02-16T00:00:00.000000",
          "2016-03-29T00:00:00.000000",
          "2016-05-10T00:00:00.000000",
          "2016-09-06T00:00:00.000000",
          "2016-09-06T00:00:00.000000",
          "2016-10-12T00:00:00.000000",
          "2016-11-30T00:00:00.000000",
          "2017-01-18T00:00:00.000000",
          "2017-03-14T00:00:00.000000",
          "2017-03-14T00:00:00.000000",
          "2017-05-02T00:00:00.000000",
          "2017-06-01T00:00:00.000000",
          "2017-07-11T00:00:00.000000",
          "2017-09-08T00:00:00.000000",
          "2017-10-30T00:00:00.000000",
          "2017-12-05T00:00:00.000000",
          "2018-01-17T00:00:00.000000",
          "2018-02-19T00:00:00.000000",
          "2018-04-25T00:00:00.000000",
          "2018-06-06T00:00:00.000000",
          "2018-07-03T00:00:00.000000",
          "2018-09-11T00:00:00.000000",
          "2018-10-15T00:00:00.000000",
          "2018-11-30T00:00:00.000000",
          "2019-01-09T00:00:00.000000",
          "2019-04-17T00:00:00.000000",
          "2019-05-22T00:00:00.000000",
          "2019-07-10T00:00:00.000000",
          "2019-09-04T00:00:00.000000",
          "2019-10-18T00:00:00.000000",
          "2019-12-20T00:00:00.000000",
          "2020-02-03T00:00:00.000000",
          "2020-04-04T00:00:00.000000",
          "2020-05-02T00:00:00.000000",
          "2020-06-19T00:00:00.000000",
          "2020-08-04T00:00:00.000000",
          "2020-09-21T00:00:00.000000",
          "2020-11-18T00:00:00.000000",
          "2021-01-05T00:00:00.000000",
          "2021-02-17T00:00:00.000000",
          "2021-04-04T00:00:00.000000",
          "2021-08-13T00:00:00.000000",
          "2021-10-16T00:00:00.000000",
          "2021-12-08T00:00:00.000000",
          "2022-02-02T00:00:00.000000",
          "2022-03-31T00:00:00.000000",
          "2022-06-06T00:00:00.000000",
          "2022-09-07T00:00:00.000000",
          "2022-11-10T00:00:00.000000",
          "2023-01-06T00:00:00.000000",
          "2023-03-03T00:00:00.000000",
          "2023-04-22T00:00:00.000000",
          "2023-07-07T00:00:00.000000",
          "2023-09-03T00:00:00.000000",
          "2023-11-05T00:00:00.000000",
          "2023-12-16T00:00:00.000000",
          "2024-01-26T00:00:00.000000",
          "2024-04-07T00:00:00.000000",
          "2024-05-24T00:00:00.000000",
          "2024-07-20T00:00:00.000000",
          "2024-09-11T00:00:00.000000",
          "2024-11-08T00:00:00.000000"
         ],
         "y": {
          "bdata": "7FG4HoXrD0DsUbgehesQQFyPwvUoXBBAH4XrUbgeD0AK16NwPQoQQBSuR+F6FBFAw/UoXI/CEEDsUbgehesQQF2PwvUoXA1ArkfhehSuD0BSuB6F61EQQHsUrkfhehFACtejcD0KEEAAAAAAAAAOQOxRuB6F6w9AZmZmZmZmEEAAAAAAAAAOQIXrUbgehRFAhetRuB6FEUDNzMzMzMwOQNejcD0K1w9AH4XrUbgeD0BI4XoUrkcQQOF6FK5H4QxAXY/C9SjcDUBxPQrXo3AQQNejcD0K1xBAcT0K16NwD0CuR+F6FK4PQJqZmZmZmRBAZmZmZmZmEEAUrkfhehQOQEjhehSuRw9AuB6F61G4EEAzMzMzMzMPQHE9CtejcA9A7FG4HoXrD0D2KFyPwvUMQB+F61G4HhBAZmZmZmZmEEAUrkfhehQQQArXo3A9ChBA7VG4HoXrD0CF61G4HoUPQAAAAAAAABBAXI/C9ShcD0AAAAAAAAARQClcj8L1KAhAmpmZmZmZC0DXo3A9CtcLQFK4HoXrUQ1A7FG4HoXrEEDXo3A9CtcNQFyPwvUoXBBAmpmZmZmZCUDNzMzMzMwQQGZmZmZmZg5ASOF6FK5HEEDsUbgehesPQJf8Yskvlg5AREREREREDkAUrkfhehQQQFK4HoXrUQ9ArkfhehSuEECPwvUoXI8QQMP1KFyPwg9AMzMzMzMzD0Bcj8L1KFwQQKVwPQrXowtA9ihcj8L1DkCPwvUoXI8MQA==",
          "dtype": "f8"
         }
        }
       ],
       "layout": {
        "template": {
         "data": {
          "bar": [
           {
            "error_x": {
             "color": "#2a3f5f"
            },
            "error_y": {
             "color": "#2a3f5f"
            },
            "marker": {
             "line": {
              "color": "white",
              "width": 0.5
             },
             "pattern": {
              "fillmode": "overlay",
              "size": 10,
              "solidity": 0.2
             }
            },
            "type": "bar"
           }
          ],
          "barpolar": [
           {
            "marker": {
             "line": {
              "color": "white",
              "width": 0.5
             },
             "pattern": {
              "fillmode": "overlay",
              "size": 10,
              "solidity": 0.2
             }
            },
            "type": "barpolar"
           }
          ],
          "carpet": [
           {
            "aaxis": {
             "endlinecolor": "#2a3f5f",
             "gridcolor": "#C8D4E3",
             "linecolor": "#C8D4E3",
             "minorgridcolor": "#C8D4E3",
             "startlinecolor": "#2a3f5f"
            },
            "baxis": {
             "endlinecolor": "#2a3f5f",
             "gridcolor": "#C8D4E3",
             "linecolor": "#C8D4E3",
             "minorgridcolor": "#C8D4E3",
             "startlinecolor": "#2a3f5f"
            },
            "type": "carpet"
           }
          ],
          "choropleth": [
           {
            "colorbar": {
             "outlinewidth": 0,
             "ticks": ""
            },
            "type": "choropleth"
           }
          ],
          "contour": [
           {
            "colorbar": {
             "outlinewidth": 0,
             "ticks": ""
            },
            "colorscale": [
             [
              0,
              "#0d0887"
             ],
             [
              0.1111111111111111,
              "#46039f"
             ],
             [
              0.2222222222222222,
              "#7201a8"
             ],
             [
              0.3333333333333333,
              "#9c179e"
             ],
             [
              0.4444444444444444,
              "#bd3786"
             ],
             [
              0.5555555555555556,
              "#d8576b"
             ],
             [
              0.6666666666666666,
              "#ed7953"
             ],
             [
              0.7777777777777778,
              "#fb9f3a"
             ],
             [
              0.8888888888888888,
              "#fdca26"
             ],
             [
              1,
              "#f0f921"
             ]
            ],
            "type": "contour"
           }
          ],
          "contourcarpet": [
           {
            "colorbar": {
             "outlinewidth": 0,
             "ticks": ""
            },
            "type": "contourcarpet"
           }
          ],
          "heatmap": [
           {
            "colorbar": {
             "outlinewidth": 0,
             "ticks": ""
            },
            "colorscale": [
             [
              0,
              "#0d0887"
             ],
             [
              0.1111111111111111,
              "#46039f"
             ],
             [
              0.2222222222222222,
              "#7201a8"
             ],
             [
              0.3333333333333333,
              "#9c179e"
             ],
             [
              0.4444444444444444,
              "#bd3786"
             ],
             [
              0.5555555555555556,
              "#d8576b"
             ],
             [
              0.6666666666666666,
              "#ed7953"
             ],
             [
              0.7777777777777778,
              "#fb9f3a"
             ],
             [
              0.8888888888888888,
              "#fdca26"
             ],
             [
              1,
              "#f0f921"
             ]
            ],
            "type": "heatmap"
           }
          ],
          "histogram": [
           {
            "marker": {
             "pattern": {
              "fillmode": "overlay",
              "size": 10,
              "solidity": 0.2
             }
            },
            "type": "histogram"
           }
          ],
          "histogram2d": [
           {
            "colorbar": {
             "outlinewidth": 0,
             "ticks": ""
            },
            "colorscale": [
             [
              0,
              "#0d0887"
             ],
             [
              0.1111111111111111,
              "#46039f"
             ],
             [
              0.2222222222222222,
              "#7201a8"
             ],
             [
              0.3333333333333333,
              "#9c179e"
             ],
             [
              0.4444444444444444,
              "#bd3786"
             ],
             [
              0.5555555555555556,
              "#d8576b"
             ],
             [
              0.6666666666666666,
              "#ed7953"
             ],
             [
              0.7777777777777778,
              "#fb9f3a"
             ],
             [
              0.8888888888888888,
              "#fdca26"
             ],
             [
              1,
              "#f0f921"
             ]
            ],
            "type": "histogram2d"
           }
          ],
          "histogram2dcontour": [
           {
            "colorbar": {
             "outlinewidth": 0,
             "ticks": ""
            },
            "colorscale": [
             [
              0,
              "#0d0887"
             ],
             [
              0.1111111111111111,
              "#46039f"
             ],
             [
              0.2222222222222222,
              "#7201a8"
             ],
             [
              0.3333333333333333,
              "#9c179e"
             ],
             [
              0.4444444444444444,
              "#bd3786"
             ],
             [
              0.5555555555555556,
              "#d8576b"
             ],
             [
              0.6666666666666666,
              "#ed7953"
             ],
             [
              0.7777777777777778,
              "#fb9f3a"
             ],
             [
              0.8888888888888888,
              "#fdca26"
             ],
             [
              1,
              "#f0f921"
             ]
            ],
            "type": "histogram2dcontour"
           }
          ],
          "mesh3d": [
           {
            "colorbar": {
             "outlinewidth": 0,
             "ticks": ""
            },
            "type": "mesh3d"
           }
          ],
          "parcoords": [
           {
            "line": {
             "colorbar": {
              "outlinewidth": 0,
              "ticks": ""
             }
            },
            "type": "parcoords"
           }
          ],
          "pie": [
           {
            "automargin": true,
            "type": "pie"
           }
          ],
          "scatter": [
           {
            "fillpattern": {
             "fillmode": "overlay",
             "size": 10,
             "solidity": 0.2
            },
            "type": "scatter"
           }
          ],
          "scatter3d": [
           {
            "line": {
             "colorbar": {
              "outlinewidth": 0,
              "ticks": ""
             }
            },
            "marker": {
             "colorbar": {
              "outlinewidth": 0,
              "ticks": ""
             }
            },
            "type": "scatter3d"
           }
          ],
          "scattercarpet": [
           {
            "marker": {
             "colorbar": {
              "outlinewidth": 0,
              "ticks": ""
             }
            },
            "type": "scattercarpet"
           }
          ],
          "scattergeo": [
           {
            "marker": {
             "colorbar": {
              "outlinewidth": 0,
              "ticks": ""
             }
            },
            "type": "scattergeo"
           }
          ],
          "scattergl": [
           {
            "marker": {
             "colorbar": {
              "outlinewidth": 0,
              "ticks": ""
             }
            },
            "type": "scattergl"
           }
          ],
          "scattermap": [
           {
            "marker": {
             "colorbar": {
              "outlinewidth": 0,
              "ticks": ""
             }
            },
            "type": "scattermap"
           }
          ],
          "scattermapbox": [
           {
            "marker": {
             "colorbar": {
              "outlinewidth": 0,
              "ticks": ""
             }
            },
            "type": "scattermapbox"
           }
          ],
          "scatterpolar": [
           {
            "marker": {
             "colorbar": {
              "outlinewidth": 0,
              "ticks": ""
             }
            },
            "type": "scatterpolar"
           }
          ],
          "scatterpolargl": [
           {
            "marker": {
             "colorbar": {
              "outlinewidth": 0,
              "ticks": ""
             }
            },
            "type": "scatterpolargl"
           }
          ],
          "scatterternary": [
           {
            "marker": {
             "colorbar": {
              "outlinewidth": 0,
              "ticks": ""
             }
            },
            "type": "scatterternary"
           }
          ],
          "surface": [
           {
            "colorbar": {
             "outlinewidth": 0,
             "ticks": ""
            },
            "colorscale": [
             [
              0,
              "#0d0887"
             ],
             [
              0.1111111111111111,
              "#46039f"
             ],
             [
              0.2222222222222222,
              "#7201a8"
             ],
             [
              0.3333333333333333,
              "#9c179e"
             ],
             [
              0.4444444444444444,
              "#bd3786"
             ],
             [
              0.5555555555555556,
              "#d8576b"
             ],
             [
              0.6666666666666666,
              "#ed7953"
             ],
             [
              0.7777777777777778,
              "#fb9f3a"
             ],
             [
              0.8888888888888888,
              "#fdca26"
             ],
             [
              1,
              "#f0f921"
             ]
            ],
            "type": "surface"
           }
          ],
          "table": [
           {
            "cells": {
             "fill": {
              "color": "#EBF0F8"
             },
             "line": {
              "color": "white"
             }
            },
            "header": {
             "fill": {
              "color": "#C8D4E3"
             },
             "line": {
              "color": "white"
             }
            },
            "type": "table"
           }
          ]
         },
         "layout": {
          "annotationdefaults": {
           "arrowcolor": "#2a3f5f",
           "arrowhead": 0,
           "arrowwidth": 1
          },
          "autotypenumbers": "strict",
          "coloraxis": {
           "colorbar": {
            "outlinewidth": 0,
            "ticks": ""
           }
          },
          "colorscale": {
           "diverging": [
            [
             0,
             "#8e0152"
            ],
            [
             0.1,
             "#c51b7d"
            ],
            [
             0.2,
             "#de77ae"
            ],
            [
             0.3,
             "#f1b6da"
            ],
            [
             0.4,
             "#fde0ef"
            ],
            [
             0.5,
             "#f7f7f7"
            ],
            [
             0.6,
             "#e6f5d0"
            ],
            [
             0.7,
             "#b8e186"
            ],
            [
             0.8,
             "#7fbc41"
            ],
            [
             0.9,
             "#4d9221"
            ],
            [
             1,
             "#276419"
            ]
           ],
           "sequential": [
            [
             0,
             "#0d0887"
            ],
            [
             0.1111111111111111,
             "#46039f"
            ],
            [
             0.2222222222222222,
             "#7201a8"
            ],
            [
             0.3333333333333333,
             "#9c179e"
            ],
            [
             0.4444444444444444,
             "#bd3786"
            ],
            [
             0.5555555555555556,
             "#d8576b"
            ],
            [
             0.6666666666666666,
             "#ed7953"
            ],
            [
             0.7777777777777778,
             "#fb9f3a"
            ],
            [
             0.8888888888888888,
             "#fdca26"
            ],
            [
             1,
             "#f0f921"
            ]
           ],
           "sequentialminus": [
            [
             0,
             "#0d0887"
            ],
            [
             0.1111111111111111,
             "#46039f"
            ],
            [
             0.2222222222222222,
             "#7201a8"
            ],
            [
             0.3333333333333333,
             "#9c179e"
            ],
            [
             0.4444444444444444,
             "#bd3786"
            ],
            [
             0.5555555555555556,
             "#d8576b"
            ],
            [
             0.6666666666666666,
             "#ed7953"
            ],
            [
             0.7777777777777778,
             "#fb9f3a"
            ],
            [
             0.8888888888888888,
             "#fdca26"
            ],
            [
             1,
             "#f0f921"
            ]
           ]
          },
          "colorway": [
           "#636efa",
           "#EF553B",
           "#00cc96",
           "#ab63fa",
           "#FFA15A",
           "#19d3f3",
           "#FF6692",
           "#B6E880",
           "#FF97FF",
           "#FECB52"
          ],
          "font": {
           "color": "#2a3f5f"
          },
          "geo": {
           "bgcolor": "white",
           "lakecolor": "white",
           "landcolor": "white",
           "showlakes": true,
           "showland": true,
           "subunitcolor": "#C8D4E3"
          },
          "hoverlabel": {
           "align": "left"
          },
          "hovermode": "closest",
          "mapbox": {
           "style": "light"
          },
          "paper_bgcolor": "white",
          "plot_bgcolor": "white",
          "polar": {
           "angularaxis": {
            "gridcolor": "#EBF0F8",
            "linecolor": "#EBF0F8",
            "ticks": ""
           },
           "bgcolor": "white",
           "radialaxis": {
            "gridcolor": "#EBF0F8",
            "linecolor": "#EBF0F8",
            "ticks": ""
           }
          },
          "scene": {
           "xaxis": {
            "backgroundcolor": "white",
            "gridcolor": "#DFE8F3",
            "gridwidth": 2,
            "linecolor": "#EBF0F8",
            "showbackground": true,
            "ticks": "",
            "zerolinecolor": "#EBF0F8"
           },
           "yaxis": {
            "backgroundcolor": "white",
            "gridcolor": "#DFE8F3",
            "gridwidth": 2,
            "linecolor": "#EBF0F8",
            "showbackground": true,
            "ticks": "",
            "zerolinecolor": "#EBF0F8"
           },
           "zaxis": {
            "backgroundcolor": "white",
            "gridcolor": "#DFE8F3",
            "gridwidth": 2,
            "linecolor": "#EBF0F8",
            "showbackground": true,
            "ticks": "",
            "zerolinecolor": "#EBF0F8"
           }
          },
          "shapedefaults": {
           "line": {
            "color": "#2a3f5f"
           }
          },
          "ternary": {
           "aaxis": {
            "gridcolor": "#DFE8F3",
            "linecolor": "#A2B1C6",
            "ticks": ""
           },
           "baxis": {
            "gridcolor": "#DFE8F3",
            "linecolor": "#A2B1C6",
            "ticks": ""
           },
           "bgcolor": "white",
           "caxis": {
            "gridcolor": "#DFE8F3",
            "linecolor": "#A2B1C6",
            "ticks": ""
           }
          },
          "title": {
           "x": 0.05
          },
          "xaxis": {
           "automargin": true,
           "gridcolor": "#EBF0F8",
           "linecolor": "#EBF0F8",
           "ticks": "",
           "title": {
            "standoff": 15
           },
           "zerolinecolor": "#EBF0F8",
           "zerolinewidth": 2
          },
          "yaxis": {
           "automargin": true,
           "gridcolor": "#EBF0F8",
           "linecolor": "#EBF0F8",
           "ticks": "",
           "title": {
            "standoff": 15
           },
           "zerolinecolor": "#EBF0F8",
           "zerolinewidth": 2
          }
         }
        },
        "title": {
         "text": "Rating Over Time"
        },
        "xaxis": {
         "title": {
          "text": "Date"
         }
        },
        "yaxis": {
         "title": {
          "text": "Rating"
         }
        }
       }
      }
     },
     "metadata": {},
     "output_type": "display_data"
    }
   ],
   "source": [
    "# Sort the dataframe by date\n",
    "plot_df = bookclub_processed_df.sort(\"date\")\n",
    "\n",
    "# Add the voting members column using map_rows (same as first figure)\n",
    "df_with_voting = plot_df.with_columns(\n",
    "    pl.struct(bookclub_members_list)\n",
    "    .map_elements(lambda row: create_voting_text(bookclub_members_list, row), return_dtype=pl.Utf8)\n",
    "    .alias(\"voting_members\"),\n",
    ")\n",
    "\n",
    "# Create a Plotly figure\n",
    "fig = go.Figure()\n",
    "\n",
    "# Add a line trace for the rating over time, with enhanced hover information\n",
    "fig.add_trace(\n",
    "    go.Scatter(\n",
    "        x=df_with_voting[\"date\"],\n",
    "        y=df_with_voting[\"average_bookclub_rating\"],\n",
    "        mode=\"lines+markers\",\n",
    "        name=\"Bookclub Rating\",\n",
    "        customdata=df_with_voting.select([\"title\", \"author\", \"voting_members\"]).to_numpy(),\n",
    "        hovertemplate=\"<b>%{customdata[0]}</b><br>\"\n",
    "        \"Author: %{customdata[1]}<br>\"\n",
    "        \"Date: %{x|%Y-%m-%d}<br>\"\n",
    "        \"Bookclub Rating: %{y:.2f}<br>\"\n",
    "        \"%{customdata[2]}<extra></extra>\",\n",
    "    ),\n",
    ")\n",
    "\n",
    "# Add a line trace for the average Goodreads rating over time\n",
    "fig.add_trace(\n",
    "    go.Scatter(\n",
    "        x=df_with_voting[\"date\"],\n",
    "        y=df_with_voting[\"average_goodreads_rating\"],\n",
    "        mode=\"lines+markers\",\n",
    "        name=\"Goodreads Rating\",\n",
    "        customdata=df_with_voting.select([\"title\", \"author\", \"voting_members\"]).to_numpy(),\n",
    "        hovertemplate=\"<b>%{customdata[0]}</b><br>\"\n",
    "        \"Author: %{customdata[1]}<br>\"\n",
    "        \"Date: %{x|%Y-%m-%d}<br>\"\n",
    "        \"Goodreads Rating: %{y:.2f}<br>\"\n",
    "        \"%{customdata[2]}<extra></extra>\",\n",
    "        line={\"dash\": \"dash\"},  # Optionally make the Goodreads rating line dashed\n",
    "    ),\n",
    ")\n",
    "\n",
    "# Set the title and labels for axes\n",
    "fig.update_layout(\n",
    "    title=\"Rating Over Time\",\n",
    "    xaxis_title=\"Date\",\n",
    "    yaxis_title=\"Rating\",\n",
    "    template=\"plotly_white\",\n",
    ")\n",
    "\n",
    "# Show the interactive plot\n",
    "fig.show()"
   ]
  },
  {
   "cell_type": "code",
   "execution_count": null,
   "metadata": {},
   "outputs": [],
   "source": []
  }
 ],
 "metadata": {
  "kernelspec": {
   "display_name": ".venv",
   "language": "python",
   "name": "python3"
  },
  "language_info": {
   "codemirror_mode": {
    "name": "ipython",
    "version": 3
   },
   "file_extension": ".py",
   "mimetype": "text/x-python",
   "name": "python",
   "nbconvert_exporter": "python",
   "pygments_lexer": "ipython3",
   "version": "3.12.6"
  }
 },
 "nbformat": 4,
 "nbformat_minor": 2
}
