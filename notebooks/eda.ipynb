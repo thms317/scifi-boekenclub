{
 "cells": [
  {
   "cell_type": "markdown",
   "metadata": {},
   "source": [
    "# Exploratory Data Analysis"
   ]
  },
  {
   "cell_type": "code",
   "execution_count": 1,
   "metadata": {},
   "outputs": [],
   "source": [
    "import matplotlib.pyplot as plt\n",
    "import numpy as np\n",
    "import plotly.express as px\n",
    "import plotly.graph_objects as go\n",
    "import polars as pl\n",
    "import seaborn as sns\n",
    "from matplotlib.colors import LinearSegmentedColormap\n",
    "\n",
    "from scifi.members import BookClubMembers\n",
    "from scifi.visualizer import (\n",
    "    create_voting_text,\n",
    "    rating_to_color,\n",
    ")"
   ]
  },
  {
   "cell_type": "code",
   "execution_count": 2,
   "metadata": {},
   "outputs": [
    {
     "name": "stdout",
     "output_type": "stream",
     "text": [
      "Available member columns: ['Thirsa', 'Koen_v_W', 'Dion', 'Marloes', 'Robert', 'Peter', 'Thomas', 'Koen_M']\n",
      "Data shape: (73, 20)\n",
      "Sample data:\n",
      "shape: (5, 9)\n",
      "┌────────────────────────────────┬────────┬──────────┬──────┬───┬────────┬───────┬────────┬────────┐\n",
      "│ title                          ┆ Thirsa ┆ Koen_v_W ┆ Dion ┆ … ┆ Robert ┆ Peter ┆ Thomas ┆ Koen_M │\n",
      "│ ---                            ┆ ---    ┆ ---      ┆ ---  ┆   ┆ ---    ┆ ---   ┆ ---    ┆ ---    │\n",
      "│ str                            ┆ f64    ┆ f64      ┆ f64  ┆   ┆ f64    ┆ f64   ┆ f64    ┆ f64    │\n",
      "╞════════════════════════════════╪════════╪══════════╪══════╪═══╪════════╪═══════╪════════╪════════╡\n",
      "│ The Road                       ┆ 4.0    ┆ null     ┆ 4.0  ┆ … ┆ 5.0    ┆ null  ┆ null   ┆ null   │\n",
      "│ Ready Player One (Ready        ┆ 4.0    ┆ 4.0      ┆ 4.0  ┆ … ┆ null   ┆ null  ┆ null   ┆ null   │\n",
      "│ Player…                        ┆        ┆          ┆      ┆   ┆        ┆       ┆        ┆        │\n",
      "│ Do Androids Dream of Electric  ┆ 4.0    ┆ 3.0      ┆ null ┆ … ┆ 3.0    ┆ 3.0   ┆ 4.0    ┆ null   │\n",
      "│ …                              ┆        ┆          ┆      ┆   ┆        ┆       ┆        ┆        │\n",
      "│ Neuromancer (Sprawl, #1)       ┆ null   ┆ null     ┆ null ┆ … ┆ 3.0    ┆ 3.0   ┆ null   ┆ null   │\n",
      "│ Starship Troopers              ┆ 3.0    ┆ 3.0      ┆ 4.0  ┆ … ┆ 4.0    ┆ 3.0   ┆ 3.0    ┆ null   │\n",
      "└────────────────────────────────┴────────┴──────────┴──────┴───┴────────┴───────┴────────┴────────┘\n"
     ]
    }
   ],
   "source": [
    "# Read the processed book club data\n",
    "bookclub_processed_df = pl.read_csv(\"data/processed_data.csv\")\n",
    "\n",
    "# Get actual member names from the BookClubMembers class\n",
    "all_member_names = BookClubMembers.get_member_names()\n",
    "\n",
    "# Only include members who actually have columns in the data\n",
    "bookclub_members_list = [name for name in all_member_names if name in bookclub_processed_df.columns]\n",
    "\n",
    "print(\"Available member columns:\", bookclub_members_list)\n",
    "print(\"Data shape:\", bookclub_processed_df.shape)\n",
    "print(\"Sample data:\")\n",
    "print(bookclub_processed_df.select([\"title\", *bookclub_members_list]).head())"
   ]
  },
  {
   "cell_type": "code",
   "execution_count": null,
   "metadata": {},
   "outputs": [
    {
     "name": "stdout",
     "output_type": "stream",
     "text": [
      "Thirsa: 41 ratings, avg: 3.39\n",
      "Koen_v_W: 57 ratings, avg: 3.11\n",
      "Dion: 59 ratings, avg: 3.60\n",
      "Marloes: 1 ratings, avg: 4.00\n",
      "Robert: 64 ratings, avg: 3.41\n",
      "Peter: 40 ratings, avg: 3.35\n",
      "Thomas: 29 ratings, avg: 3.83\n",
      "Koen_M: 8 ratings, avg: 2.50\n",
      "\n",
      "Members with valid ratings (8): ['Koen_M', 'Koen_v_W', 'Peter', 'Thirsa', 'Robert', 'Dion', 'Thomas', 'Marloes']\n"
     ]
    }
   ],
   "source": [
    "# Calculate average ratings for each member and create ordered list\n",
    "# Only include members who have at least one valid rating (numeric and non-zero)\n",
    "member_averages = []\n",
    "for member in bookclub_members_list:\n",
    "    try:\n",
    "        # Check if column is numeric type and filter for non-null and non-zero ratings\n",
    "        col_dtype = bookclub_processed_df.select(member).dtypes[0]\n",
    "        if col_dtype in [pl.Float64, pl.Float32, pl.Int64, pl.Int32]:\n",
    "            member_ratings = bookclub_processed_df.filter(\n",
    "                pl.col(member).is_not_null() & (pl.col(member) != 0)\n",
    "            ).select(member)\n",
    "\n",
    "            if len(member_ratings) > 0:  # Only include if member has ratings\n",
    "                avg_rating = member_ratings.select(pl.col(member).mean()).item()\n",
    "                if avg_rating is not None:  # Make sure average is valid\n",
    "                    member_averages.append((member, avg_rating))\n",
    "                    print(f\"{member}: {len(member_ratings)} ratings, avg: {avg_rating:.2f}\")\n",
    "        else:\n",
    "            print(f\"Skipping {member}: non-numeric column type {col_dtype}\")\n",
    "    except Exception as e:  # noqa: BLE001\n",
    "        print(f\"Skipping {member}: {e}\")\n",
    "\n",
    "# Sort by average rating (lowest to highest)\n",
    "member_averages.sort(key=lambda x: x[1])\n",
    "ordered_members = [member for member, _ in member_averages]\n",
    "\n",
    "print(f\"\\nMembers with valid ratings ({len(ordered_members)}): {ordered_members}\")"
   ]
  },
  {
   "cell_type": "code",
   "execution_count": 4,
   "metadata": {},
   "outputs": [
    {
     "data": {
      "application/vnd.plotly.v1+json": {
       "config": {
        "plotlyServerURL": "https://plot.ly"
       },
       "data": [
        {
         "fill": "toself",
         "fillcolor": "rgba(145, 109, 0, 0.3)",
         "line": {
          "color": "rgba(145, 109, 0, 1.0)"
         },
         "name": "Concept M",
         "r": [
          2,
          3,
          3,
          3,
          3,
          3,
          2
         ],
         "theta": [
          "Koen_M",
          "Koen_v_W",
          "Peter",
          "Thirsa",
          "Robert",
          "Dion",
          "Thomas"
         ],
         "type": "scatterpolar"
        }
       ],
       "layout": {
        "polar": {
         "radialaxis": {
          "range": [
           0,
           5
          ],
          "visible": true
         }
        },
        "showlegend": false,
        "template": {
         "data": {
          "bar": [
           {
            "error_x": {
             "color": "#2a3f5f"
            },
            "error_y": {
             "color": "#2a3f5f"
            },
            "marker": {
             "line": {
              "color": "#E5ECF6",
              "width": 0.5
             },
             "pattern": {
              "fillmode": "overlay",
              "size": 10,
              "solidity": 0.2
             }
            },
            "type": "bar"
           }
          ],
          "barpolar": [
           {
            "marker": {
             "line": {
              "color": "#E5ECF6",
              "width": 0.5
             },
             "pattern": {
              "fillmode": "overlay",
              "size": 10,
              "solidity": 0.2
             }
            },
            "type": "barpolar"
           }
          ],
          "carpet": [
           {
            "aaxis": {
             "endlinecolor": "#2a3f5f",
             "gridcolor": "white",
             "linecolor": "white",
             "minorgridcolor": "white",
             "startlinecolor": "#2a3f5f"
            },
            "baxis": {
             "endlinecolor": "#2a3f5f",
             "gridcolor": "white",
             "linecolor": "white",
             "minorgridcolor": "white",
             "startlinecolor": "#2a3f5f"
            },
            "type": "carpet"
           }
          ],
          "choropleth": [
           {
            "colorbar": {
             "outlinewidth": 0,
             "ticks": ""
            },
            "type": "choropleth"
           }
          ],
          "contour": [
           {
            "colorbar": {
             "outlinewidth": 0,
             "ticks": ""
            },
            "colorscale": [
             [
              0,
              "#0d0887"
             ],
             [
              0.1111111111111111,
              "#46039f"
             ],
             [
              0.2222222222222222,
              "#7201a8"
             ],
             [
              0.3333333333333333,
              "#9c179e"
             ],
             [
              0.4444444444444444,
              "#bd3786"
             ],
             [
              0.5555555555555556,
              "#d8576b"
             ],
             [
              0.6666666666666666,
              "#ed7953"
             ],
             [
              0.7777777777777778,
              "#fb9f3a"
             ],
             [
              0.8888888888888888,
              "#fdca26"
             ],
             [
              1,
              "#f0f921"
             ]
            ],
            "type": "contour"
           }
          ],
          "contourcarpet": [
           {
            "colorbar": {
             "outlinewidth": 0,
             "ticks": ""
            },
            "type": "contourcarpet"
           }
          ],
          "heatmap": [
           {
            "colorbar": {
             "outlinewidth": 0,
             "ticks": ""
            },
            "colorscale": [
             [
              0,
              "#0d0887"
             ],
             [
              0.1111111111111111,
              "#46039f"
             ],
             [
              0.2222222222222222,
              "#7201a8"
             ],
             [
              0.3333333333333333,
              "#9c179e"
             ],
             [
              0.4444444444444444,
              "#bd3786"
             ],
             [
              0.5555555555555556,
              "#d8576b"
             ],
             [
              0.6666666666666666,
              "#ed7953"
             ],
             [
              0.7777777777777778,
              "#fb9f3a"
             ],
             [
              0.8888888888888888,
              "#fdca26"
             ],
             [
              1,
              "#f0f921"
             ]
            ],
            "type": "heatmap"
           }
          ],
          "histogram": [
           {
            "marker": {
             "pattern": {
              "fillmode": "overlay",
              "size": 10,
              "solidity": 0.2
             }
            },
            "type": "histogram"
           }
          ],
          "histogram2d": [
           {
            "colorbar": {
             "outlinewidth": 0,
             "ticks": ""
            },
            "colorscale": [
             [
              0,
              "#0d0887"
             ],
             [
              0.1111111111111111,
              "#46039f"
             ],
             [
              0.2222222222222222,
              "#7201a8"
             ],
             [
              0.3333333333333333,
              "#9c179e"
             ],
             [
              0.4444444444444444,
              "#bd3786"
             ],
             [
              0.5555555555555556,
              "#d8576b"
             ],
             [
              0.6666666666666666,
              "#ed7953"
             ],
             [
              0.7777777777777778,
              "#fb9f3a"
             ],
             [
              0.8888888888888888,
              "#fdca26"
             ],
             [
              1,
              "#f0f921"
             ]
            ],
            "type": "histogram2d"
           }
          ],
          "histogram2dcontour": [
           {
            "colorbar": {
             "outlinewidth": 0,
             "ticks": ""
            },
            "colorscale": [
             [
              0,
              "#0d0887"
             ],
             [
              0.1111111111111111,
              "#46039f"
             ],
             [
              0.2222222222222222,
              "#7201a8"
             ],
             [
              0.3333333333333333,
              "#9c179e"
             ],
             [
              0.4444444444444444,
              "#bd3786"
             ],
             [
              0.5555555555555556,
              "#d8576b"
             ],
             [
              0.6666666666666666,
              "#ed7953"
             ],
             [
              0.7777777777777778,
              "#fb9f3a"
             ],
             [
              0.8888888888888888,
              "#fdca26"
             ],
             [
              1,
              "#f0f921"
             ]
            ],
            "type": "histogram2dcontour"
           }
          ],
          "mesh3d": [
           {
            "colorbar": {
             "outlinewidth": 0,
             "ticks": ""
            },
            "type": "mesh3d"
           }
          ],
          "parcoords": [
           {
            "line": {
             "colorbar": {
              "outlinewidth": 0,
              "ticks": ""
             }
            },
            "type": "parcoords"
           }
          ],
          "pie": [
           {
            "automargin": true,
            "type": "pie"
           }
          ],
          "scatter": [
           {
            "fillpattern": {
             "fillmode": "overlay",
             "size": 10,
             "solidity": 0.2
            },
            "type": "scatter"
           }
          ],
          "scatter3d": [
           {
            "line": {
             "colorbar": {
              "outlinewidth": 0,
              "ticks": ""
             }
            },
            "marker": {
             "colorbar": {
              "outlinewidth": 0,
              "ticks": ""
             }
            },
            "type": "scatter3d"
           }
          ],
          "scattercarpet": [
           {
            "marker": {
             "colorbar": {
              "outlinewidth": 0,
              "ticks": ""
             }
            },
            "type": "scattercarpet"
           }
          ],
          "scattergeo": [
           {
            "marker": {
             "colorbar": {
              "outlinewidth": 0,
              "ticks": ""
             }
            },
            "type": "scattergeo"
           }
          ],
          "scattergl": [
           {
            "marker": {
             "colorbar": {
              "outlinewidth": 0,
              "ticks": ""
             }
            },
            "type": "scattergl"
           }
          ],
          "scattermap": [
           {
            "marker": {
             "colorbar": {
              "outlinewidth": 0,
              "ticks": ""
             }
            },
            "type": "scattermap"
           }
          ],
          "scattermapbox": [
           {
            "marker": {
             "colorbar": {
              "outlinewidth": 0,
              "ticks": ""
             }
            },
            "type": "scattermapbox"
           }
          ],
          "scatterpolar": [
           {
            "marker": {
             "colorbar": {
              "outlinewidth": 0,
              "ticks": ""
             }
            },
            "type": "scatterpolar"
           }
          ],
          "scatterpolargl": [
           {
            "marker": {
             "colorbar": {
              "outlinewidth": 0,
              "ticks": ""
             }
            },
            "type": "scatterpolargl"
           }
          ],
          "scatterternary": [
           {
            "marker": {
             "colorbar": {
              "outlinewidth": 0,
              "ticks": ""
             }
            },
            "type": "scatterternary"
           }
          ],
          "surface": [
           {
            "colorbar": {
             "outlinewidth": 0,
             "ticks": ""
            },
            "colorscale": [
             [
              0,
              "#0d0887"
             ],
             [
              0.1111111111111111,
              "#46039f"
             ],
             [
              0.2222222222222222,
              "#7201a8"
             ],
             [
              0.3333333333333333,
              "#9c179e"
             ],
             [
              0.4444444444444444,
              "#bd3786"
             ],
             [
              0.5555555555555556,
              "#d8576b"
             ],
             [
              0.6666666666666666,
              "#ed7953"
             ],
             [
              0.7777777777777778,
              "#fb9f3a"
             ],
             [
              0.8888888888888888,
              "#fdca26"
             ],
             [
              1,
              "#f0f921"
             ]
            ],
            "type": "surface"
           }
          ],
          "table": [
           {
            "cells": {
             "fill": {
              "color": "#EBF0F8"
             },
             "line": {
              "color": "white"
             }
            },
            "header": {
             "fill": {
              "color": "#C8D4E3"
             },
             "line": {
              "color": "white"
             }
            },
            "type": "table"
           }
          ]
         },
         "layout": {
          "annotationdefaults": {
           "arrowcolor": "#2a3f5f",
           "arrowhead": 0,
           "arrowwidth": 1
          },
          "autotypenumbers": "strict",
          "coloraxis": {
           "colorbar": {
            "outlinewidth": 0,
            "ticks": ""
           }
          },
          "colorscale": {
           "diverging": [
            [
             0,
             "#8e0152"
            ],
            [
             0.1,
             "#c51b7d"
            ],
            [
             0.2,
             "#de77ae"
            ],
            [
             0.3,
             "#f1b6da"
            ],
            [
             0.4,
             "#fde0ef"
            ],
            [
             0.5,
             "#f7f7f7"
            ],
            [
             0.6,
             "#e6f5d0"
            ],
            [
             0.7,
             "#b8e186"
            ],
            [
             0.8,
             "#7fbc41"
            ],
            [
             0.9,
             "#4d9221"
            ],
            [
             1,
             "#276419"
            ]
           ],
           "sequential": [
            [
             0,
             "#0d0887"
            ],
            [
             0.1111111111111111,
             "#46039f"
            ],
            [
             0.2222222222222222,
             "#7201a8"
            ],
            [
             0.3333333333333333,
             "#9c179e"
            ],
            [
             0.4444444444444444,
             "#bd3786"
            ],
            [
             0.5555555555555556,
             "#d8576b"
            ],
            [
             0.6666666666666666,
             "#ed7953"
            ],
            [
             0.7777777777777778,
             "#fb9f3a"
            ],
            [
             0.8888888888888888,
             "#fdca26"
            ],
            [
             1,
             "#f0f921"
            ]
           ],
           "sequentialminus": [
            [
             0,
             "#0d0887"
            ],
            [
             0.1111111111111111,
             "#46039f"
            ],
            [
             0.2222222222222222,
             "#7201a8"
            ],
            [
             0.3333333333333333,
             "#9c179e"
            ],
            [
             0.4444444444444444,
             "#bd3786"
            ],
            [
             0.5555555555555556,
             "#d8576b"
            ],
            [
             0.6666666666666666,
             "#ed7953"
            ],
            [
             0.7777777777777778,
             "#fb9f3a"
            ],
            [
             0.8888888888888888,
             "#fdca26"
            ],
            [
             1,
             "#f0f921"
            ]
           ]
          },
          "colorway": [
           "#636efa",
           "#EF553B",
           "#00cc96",
           "#ab63fa",
           "#FFA15A",
           "#19d3f3",
           "#FF6692",
           "#B6E880",
           "#FF97FF",
           "#FECB52"
          ],
          "font": {
           "color": "#2a3f5f"
          },
          "geo": {
           "bgcolor": "white",
           "lakecolor": "white",
           "landcolor": "#E5ECF6",
           "showlakes": true,
           "showland": true,
           "subunitcolor": "white"
          },
          "hoverlabel": {
           "align": "left"
          },
          "hovermode": "closest",
          "mapbox": {
           "style": "light"
          },
          "paper_bgcolor": "white",
          "plot_bgcolor": "#E5ECF6",
          "polar": {
           "angularaxis": {
            "gridcolor": "white",
            "linecolor": "white",
            "ticks": ""
           },
           "bgcolor": "#E5ECF6",
           "radialaxis": {
            "gridcolor": "white",
            "linecolor": "white",
            "ticks": ""
           }
          },
          "scene": {
           "xaxis": {
            "backgroundcolor": "#E5ECF6",
            "gridcolor": "white",
            "gridwidth": 2,
            "linecolor": "white",
            "showbackground": true,
            "ticks": "",
            "zerolinecolor": "white"
           },
           "yaxis": {
            "backgroundcolor": "#E5ECF6",
            "gridcolor": "white",
            "gridwidth": 2,
            "linecolor": "white",
            "showbackground": true,
            "ticks": "",
            "zerolinecolor": "white"
           },
           "zaxis": {
            "backgroundcolor": "#E5ECF6",
            "gridcolor": "white",
            "gridwidth": 2,
            "linecolor": "white",
            "showbackground": true,
            "ticks": "",
            "zerolinecolor": "white"
           }
          },
          "shapedefaults": {
           "line": {
            "color": "#2a3f5f"
           }
          },
          "ternary": {
           "aaxis": {
            "gridcolor": "white",
            "linecolor": "white",
            "ticks": ""
           },
           "baxis": {
            "gridcolor": "white",
            "linecolor": "white",
            "ticks": ""
           },
           "bgcolor": "#E5ECF6",
           "caxis": {
            "gridcolor": "white",
            "linecolor": "white",
            "ticks": ""
           }
          },
          "title": {
           "x": 0.05
          },
          "xaxis": {
           "automargin": true,
           "gridcolor": "white",
           "linecolor": "white",
           "ticks": "",
           "title": {
            "standoff": 15
           },
           "zerolinecolor": "white",
           "zerolinewidth": 2
          },
          "yaxis": {
           "automargin": true,
           "gridcolor": "white",
           "linecolor": "white",
           "ticks": "",
           "title": {
            "standoff": 15
           },
           "zerolinecolor": "white",
           "zerolinewidth": 2
          }
         }
        },
        "title": {
         "text": "Ratings for Concept M (avg: 2.71) - 7 members"
        }
       }
      }
     },
     "metadata": {},
     "output_type": "display_data"
    }
   ],
   "source": [
    "selected_book = \"Concept M\"\n",
    "\n",
    "book_plot_df = bookclub_processed_df.filter(pl.col(\"title\") == selected_book)\n",
    "\n",
    "# Only include members who have ratings for this book\n",
    "members_with_ratings = []\n",
    "values_with_ratings = []\n",
    "for member in ordered_members:  # Use only members we know have numeric ratings\n",
    "    rating = book_plot_df.select(member).to_series().item()\n",
    "    if rating is not None and rating != 0:\n",
    "        members_with_ratings.append(member)\n",
    "        values_with_ratings.append(float(rating))  # Ensure it's a float\n",
    "\n",
    "# Calculate average rating (excluding None/null values)\n",
    "avg_rating = float(np.mean(values_with_ratings)) if values_with_ratings else 0.0\n",
    "\n",
    "fill_color = rating_to_color(avg_rating, alpha=0.3)  # Transparent fill\n",
    "line_color = rating_to_color(avg_rating, alpha=1.0)  # Opaque line\n",
    "\n",
    "fig = go.Figure()\n",
    "fig.add_trace(\n",
    "    go.Scatterpolar(\n",
    "        r=values_with_ratings,\n",
    "        theta=members_with_ratings,\n",
    "        fill=\"toself\",\n",
    "        name=selected_book,\n",
    "        fillcolor=fill_color,\n",
    "        line={\"color\": line_color},\n",
    "    ),\n",
    ")\n",
    "\n",
    "fig.update_layout(\n",
    "    polar={\"radialaxis\": {\"visible\": True, \"range\": [0, 5]}},\n",
    "    showlegend=False,\n",
    "    title=f\"Ratings for {selected_book} (avg: {avg_rating:.2f}) - {len(members_with_ratings)} members\",\n",
    ")\n",
    "\n",
    "fig.show()"
   ]
  },
  {
   "cell_type": "code",
   "execution_count": null,
   "metadata": {},
   "outputs": [
    {
     "data": {
      "application/vnd.plotly.v1+json": {
       "config": {
        "plotlyServerURL": "https://plot.ly"
       },
       "data": [
        {
         "alignmentgroup": "True",
         "bingroup": "x",
         "hovertemplate": "Book Club Member=Koen_M<br>Rating=%{x}<br>count=%{y}<extra></extra>",
         "legendgroup": "Koen_M",
         "marker": {
          "color": "#636efa",
          "pattern": {
           "shape": ""
          }
         },
         "name": "Koen_M",
         "offsetgroup": "Koen_M",
         "orientation": "v",
         "showlegend": true,
         "type": "histogram",
         "x": {
          "bdata": "AAAAAAAAAEAAAAAAAAAIQAAAAAAAAABAAAAAAAAAEEAAAAAAAAAAQAAAAAAAAPA/AAAAAAAAAEAAAAAAAAAQQA==",
          "dtype": "f8"
         },
         "xaxis": "x",
         "yaxis": "y"
        },
        {
         "alignmentgroup": "True",
         "bingroup": "x",
         "hovertemplate": "Book Club Member=Koen_v_W<br>Rating=%{x}<br>count=%{y}<extra></extra>",
         "legendgroup": "Koen_v_W",
         "marker": {
          "color": "#EF553B",
          "pattern": {
           "shape": ""
          }
         },
         "name": "Koen_v_W",
         "offsetgroup": "Koen_v_W",
         "orientation": "v",
         "showlegend": true,
         "type": "histogram",
         "x": {
          "bdata": "AAAAAAAAEEAAAAAAAAAIQAAAAAAAAAhAAAAAAAAAFEAAAAAAAAAIQAAAAAAAAPA/AAAAAAAACEAAAAAAAAAIQAAAAAAAAABAAAAAAAAAEEAAAAAAAAAIQAAAAAAAAABAAAAAAAAAEEAAAAAAAAAAQAAAAAAAAAhAAAAAAAAAEEAAAAAAAAAIQAAAAAAAAABAAAAAAAAAEEAAAAAAAAAAQAAAAAAAABBAAAAAAAAAEEAAAAAAAAAAQAAAAAAAABBAAAAAAAAACEAAAAAAAAAQQAAAAAAAAAhAAAAAAAAACEAAAAAAAAAQQAAAAAAAABBAAAAAAAAAAEAAAAAAAADwPwAAAAAAAAhAAAAAAAAACEAAAAAAAAAIQAAAAAAAAAhAAAAAAAAAAEAAAAAAAAAAQAAAAAAAAAhAAAAAAAAAEEAAAAAAAAAQQAAAAAAAAABAAAAAAAAACEAAAAAAAAAUQAAAAAAAAABAAAAAAAAAEEAAAAAAAAAQQAAAAAAAABBAAAAAAAAAAEAAAAAAAAAQQAAAAAAAAAhAAAAAAAAACEAAAAAAAAAIQAAAAAAAABBAAAAAAAAAAEAAAAAAAAAAQAAAAAAAABRA",
          "dtype": "f8"
         },
         "xaxis": "x",
         "yaxis": "y"
        },
        {
         "alignmentgroup": "True",
         "bingroup": "x",
         "hovertemplate": "Book Club Member=Peter<br>Rating=%{x}<br>count=%{y}<extra></extra>",
         "legendgroup": "Peter",
         "marker": {
          "color": "#00cc96",
          "pattern": {
           "shape": ""
          }
         },
         "name": "Peter",
         "offsetgroup": "Peter",
         "orientation": "v",
         "showlegend": true,
         "type": "histogram",
         "x": {
          "bdata": "AAAAAAAACEAAAAAAAAAIQAAAAAAAAAhAAAAAAAAACEAAAAAAAAAIQAAAAAAAABBAAAAAAAAACEAAAAAAAAAUQAAAAAAAABBAAAAAAAAA8D8AAAAAAAAIQAAAAAAAABBAAAAAAAAACEAAAAAAAAAIQAAAAAAAABRAAAAAAAAAEEAAAAAAAAAQQAAAAAAAAAhAAAAAAAAACEAAAAAAAAAQQAAAAAAAAPA/AAAAAAAAEEAAAAAAAAAIQAAAAAAAAAhAAAAAAAAACEAAAAAAAAAIQAAAAAAAABRAAAAAAAAACEAAAAAAAAAUQAAAAAAAABBAAAAAAAAACEAAAAAAAAAIQAAAAAAAABBAAAAAAAAAEEAAAAAAAAAIQAAAAAAAAAhAAAAAAAAAEEAAAAAAAADwPwAAAAAAAABAAAAAAAAAFEA=",
          "dtype": "f8"
         },
         "xaxis": "x",
         "yaxis": "y"
        },
        {
         "alignmentgroup": "True",
         "bingroup": "x",
         "hovertemplate": "Book Club Member=Thirsa<br>Rating=%{x}<br>count=%{y}<extra></extra>",
         "legendgroup": "Thirsa",
         "marker": {
          "color": "#ab63fa",
          "pattern": {
           "shape": ""
          }
         },
         "name": "Thirsa",
         "offsetgroup": "Thirsa",
         "orientation": "v",
         "showlegend": true,
         "type": "histogram",
         "x": {
          "bdata": "AAAAAAAAEEAAAAAAAAAQQAAAAAAAABBAAAAAAAAACEAAAAAAAAAIQAAAAAAAABBAAAAAAAAAEEAAAAAAAAAIQAAAAAAAAABAAAAAAAAAEEAAAAAAAAAIQAAAAAAAABBAAAAAAAAACEAAAAAAAAAQQAAAAAAAABBAAAAAAAAACEAAAAAAAAAQQAAAAAAAAAhAAAAAAAAAEEAAAAAAAAAQQAAAAAAAAAhAAAAAAAAAEEAAAAAAAAAIQAAAAAAAAABAAAAAAAAAEEAAAAAAAAAIQAAAAAAAABBAAAAAAAAAEEAAAAAAAAAIQAAAAAAAAABAAAAAAAAACEAAAAAAAAAQQAAAAAAAABBAAAAAAAAAEEAAAAAAAAAIQAAAAAAAAAhAAAAAAAAACEAAAAAAAAAQQAAAAAAAAABAAAAAAAAAAEAAAAAAAAAQQA==",
          "dtype": "f8"
         },
         "xaxis": "x",
         "yaxis": "y"
        },
        {
         "alignmentgroup": "True",
         "bingroup": "x",
         "hovertemplate": "Book Club Member=Robert<br>Rating=%{x}<br>count=%{y}<extra></extra>",
         "legendgroup": "Robert",
         "marker": {
          "color": "#FFA15A",
          "pattern": {
           "shape": ""
          }
         },
         "name": "Robert",
         "offsetgroup": "Robert",
         "orientation": "v",
         "showlegend": true,
         "type": "histogram",
         "x": {
          "bdata": "AAAAAAAAFEAAAAAAAAAIQAAAAAAAAAhAAAAAAAAAEEAAAAAAAAAUQAAAAAAAABRAAAAAAAAAEEAAAAAAAAAIQAAAAAAAAABAAAAAAAAAFEAAAAAAAAAIQAAAAAAAABRAAAAAAAAACEAAAAAAAAAQQAAAAAAAABBAAAAAAAAAAEAAAAAAAAAQQAAAAAAAAAhAAAAAAAAACEAAAAAAAAAQQAAAAAAAAABAAAAAAAAACEAAAAAAAAAQQAAAAAAAABBAAAAAAAAAFEAAAAAAAAAAQAAAAAAAAAxAAAAAAAAAAEAAAAAAAAAIQAAAAAAAABBAAAAAAAAAAEAAAAAAAAAIQAAAAAAAABRAAAAAAAAACEAAAAAAAAAIQAAAAAAAABBAAAAAAAAAAEAAAAAAAAAIQAAAAAAAAABAAAAAAAAAEEAAAAAAAAAIQAAAAAAAAAhAAAAAAAAAAEAAAAAAAAAUQAAAAAAAAAhAAAAAAAAAFEAAAAAAAAAAQAAAAAAAAAhAAAAAAAAACEAAAAAAAAAIQAAAAAAAAAhAAAAAAAAAFEAAAAAAAAAIQAAAAAAAABBAAAAAAAAAEEAAAAAAAAAIQAAAAAAAAAhAAAAAAAAAFEAAAAAAAAAIQAAAAAAAAAhAAAAAAAAAEEAAAAAAAAAAQAAAAAAAAABAAAAAAAAAFEA=",
          "dtype": "f8"
         },
         "xaxis": "x",
         "yaxis": "y"
        },
        {
         "alignmentgroup": "True",
         "bingroup": "x",
         "hovertemplate": "Book Club Member=Dion<br>Rating=%{x}<br>count=%{y}<extra></extra>",
         "legendgroup": "Dion",
         "marker": {
          "color": "#19d3f3",
          "pattern": {
           "shape": ""
          }
         },
         "name": "Dion",
         "offsetgroup": "Dion",
         "orientation": "v",
         "showlegend": true,
         "type": "histogram",
         "x": {
          "bdata": "AAAAAAAAEEAAAAAAAAAQQAAAAAAAABBAAAAAAAAAEEAAAAAAAAAUQAAAAAAAAAhAAAAAAAAACEAAAAAAAAAQQAAAAAAAAAhAAAAAAAAAEEAAAAAAAAAUQAAAAAAAABBAAAAAAAAACEAAAAAAAAAUQAAAAAAAAABAAAAAAAAAEEAAAAAAAAAQQAAAAAAAABBAAAAAAAAAEEAAAAAAAAAAQAAAAAAAABBAAAAAAAAACEAAAAAAAAAQQAAAAAAAAABAAAAAAAAAEEAAAAAAAAAQQAAAAAAAAAhAAAAAAAAACEAAAAAAAAAQQAAAAAAAAABAAAAAAAAACEAAAAAAAAAQQAAAAAAAABBAAAAAAAAAEEAAAAAAAAAAQAAAAAAAABJAAAAAAAAACEAAAAAAAAAQQAAAAAAAABBAAAAAAAAACEAAAAAAAAAQQAAAAAAAABBAAAAAAAAACEAAAAAAAAAAQAAAAAAAABBAAAAAAAAACEAAAAAAAAAQQAAAAAAAAAhAAAAAAAAAEEAAAAAAAAAUQAAAAAAAABRAAAAAAAAAEEAAAAAAAAAIQAAAAAAAABBAAAAAAAAACEAAAAAAAAAIQAAAAAAAAABAAAAAAAAAEEAAAAAAAAAUQA==",
          "dtype": "f8"
         },
         "xaxis": "x",
         "yaxis": "y"
        },
        {
         "alignmentgroup": "True",
         "bingroup": "x",
         "hovertemplate": "Book Club Member=Thomas<br>Rating=%{x}<br>count=%{y}<extra></extra>",
         "legendgroup": "Thomas",
         "marker": {
          "color": "#FF6692",
          "pattern": {
           "shape": ""
          }
         },
         "name": "Thomas",
         "offsetgroup": "Thomas",
         "orientation": "v",
         "showlegend": true,
         "type": "histogram",
         "x": {
          "bdata": "AAAAAAAAEEAAAAAAAAAIQAAAAAAAABBAAAAAAAAAFEAAAAAAAAAQQAAAAAAAAABAAAAAAAAAEEAAAAAAAAAUQAAAAAAAABBAAAAAAAAAFEAAAAAAAAAQQAAAAAAAABRAAAAAAAAAFEAAAAAAAAAQQAAAAAAAABBAAAAAAAAACEAAAAAAAAAIQAAAAAAAABRAAAAAAAAAEEAAAAAAAAAAQAAAAAAAAAhAAAAAAAAACEAAAAAAAAAUQAAAAAAAABRAAAAAAAAAAEAAAAAAAAAUQAAAAAAAAABAAAAAAAAAAEAAAAAAAAAUQA==",
          "dtype": "f8"
         },
         "xaxis": "x",
         "yaxis": "y"
        },
        {
         "alignmentgroup": "True",
         "bingroup": "x",
         "hovertemplate": "Book Club Member=Marloes<br>Rating=%{x}<br>count=%{y}<extra></extra>",
         "legendgroup": "Marloes",
         "marker": {
          "color": "#B6E880",
          "pattern": {
           "shape": ""
          }
         },
         "name": "Marloes",
         "offsetgroup": "Marloes",
         "orientation": "v",
         "showlegend": true,
         "type": "histogram",
         "x": {
          "bdata": "AAAAAAAAEEA=",
          "dtype": "f8"
         },
         "xaxis": "x",
         "yaxis": "y"
        }
       ],
       "layout": {
        "barmode": "group",
        "legend": {
         "title": {
          "text": "Book Club Member"
         },
         "tracegroupgap": 0
        },
        "template": {
         "data": {
          "bar": [
           {
            "error_x": {
             "color": "#2a3f5f"
            },
            "error_y": {
             "color": "#2a3f5f"
            },
            "marker": {
             "line": {
              "color": "#E5ECF6",
              "width": 0.5
             },
             "pattern": {
              "fillmode": "overlay",
              "size": 10,
              "solidity": 0.2
             }
            },
            "type": "bar"
           }
          ],
          "barpolar": [
           {
            "marker": {
             "line": {
              "color": "#E5ECF6",
              "width": 0.5
             },
             "pattern": {
              "fillmode": "overlay",
              "size": 10,
              "solidity": 0.2
             }
            },
            "type": "barpolar"
           }
          ],
          "carpet": [
           {
            "aaxis": {
             "endlinecolor": "#2a3f5f",
             "gridcolor": "white",
             "linecolor": "white",
             "minorgridcolor": "white",
             "startlinecolor": "#2a3f5f"
            },
            "baxis": {
             "endlinecolor": "#2a3f5f",
             "gridcolor": "white",
             "linecolor": "white",
             "minorgridcolor": "white",
             "startlinecolor": "#2a3f5f"
            },
            "type": "carpet"
           }
          ],
          "choropleth": [
           {
            "colorbar": {
             "outlinewidth": 0,
             "ticks": ""
            },
            "type": "choropleth"
           }
          ],
          "contour": [
           {
            "colorbar": {
             "outlinewidth": 0,
             "ticks": ""
            },
            "colorscale": [
             [
              0,
              "#0d0887"
             ],
             [
              0.1111111111111111,
              "#46039f"
             ],
             [
              0.2222222222222222,
              "#7201a8"
             ],
             [
              0.3333333333333333,
              "#9c179e"
             ],
             [
              0.4444444444444444,
              "#bd3786"
             ],
             [
              0.5555555555555556,
              "#d8576b"
             ],
             [
              0.6666666666666666,
              "#ed7953"
             ],
             [
              0.7777777777777778,
              "#fb9f3a"
             ],
             [
              0.8888888888888888,
              "#fdca26"
             ],
             [
              1,
              "#f0f921"
             ]
            ],
            "type": "contour"
           }
          ],
          "contourcarpet": [
           {
            "colorbar": {
             "outlinewidth": 0,
             "ticks": ""
            },
            "type": "contourcarpet"
           }
          ],
          "heatmap": [
           {
            "colorbar": {
             "outlinewidth": 0,
             "ticks": ""
            },
            "colorscale": [
             [
              0,
              "#0d0887"
             ],
             [
              0.1111111111111111,
              "#46039f"
             ],
             [
              0.2222222222222222,
              "#7201a8"
             ],
             [
              0.3333333333333333,
              "#9c179e"
             ],
             [
              0.4444444444444444,
              "#bd3786"
             ],
             [
              0.5555555555555556,
              "#d8576b"
             ],
             [
              0.6666666666666666,
              "#ed7953"
             ],
             [
              0.7777777777777778,
              "#fb9f3a"
             ],
             [
              0.8888888888888888,
              "#fdca26"
             ],
             [
              1,
              "#f0f921"
             ]
            ],
            "type": "heatmap"
           }
          ],
          "histogram": [
           {
            "marker": {
             "pattern": {
              "fillmode": "overlay",
              "size": 10,
              "solidity": 0.2
             }
            },
            "type": "histogram"
           }
          ],
          "histogram2d": [
           {
            "colorbar": {
             "outlinewidth": 0,
             "ticks": ""
            },
            "colorscale": [
             [
              0,
              "#0d0887"
             ],
             [
              0.1111111111111111,
              "#46039f"
             ],
             [
              0.2222222222222222,
              "#7201a8"
             ],
             [
              0.3333333333333333,
              "#9c179e"
             ],
             [
              0.4444444444444444,
              "#bd3786"
             ],
             [
              0.5555555555555556,
              "#d8576b"
             ],
             [
              0.6666666666666666,
              "#ed7953"
             ],
             [
              0.7777777777777778,
              "#fb9f3a"
             ],
             [
              0.8888888888888888,
              "#fdca26"
             ],
             [
              1,
              "#f0f921"
             ]
            ],
            "type": "histogram2d"
           }
          ],
          "histogram2dcontour": [
           {
            "colorbar": {
             "outlinewidth": 0,
             "ticks": ""
            },
            "colorscale": [
             [
              0,
              "#0d0887"
             ],
             [
              0.1111111111111111,
              "#46039f"
             ],
             [
              0.2222222222222222,
              "#7201a8"
             ],
             [
              0.3333333333333333,
              "#9c179e"
             ],
             [
              0.4444444444444444,
              "#bd3786"
             ],
             [
              0.5555555555555556,
              "#d8576b"
             ],
             [
              0.6666666666666666,
              "#ed7953"
             ],
             [
              0.7777777777777778,
              "#fb9f3a"
             ],
             [
              0.8888888888888888,
              "#fdca26"
             ],
             [
              1,
              "#f0f921"
             ]
            ],
            "type": "histogram2dcontour"
           }
          ],
          "mesh3d": [
           {
            "colorbar": {
             "outlinewidth": 0,
             "ticks": ""
            },
            "type": "mesh3d"
           }
          ],
          "parcoords": [
           {
            "line": {
             "colorbar": {
              "outlinewidth": 0,
              "ticks": ""
             }
            },
            "type": "parcoords"
           }
          ],
          "pie": [
           {
            "automargin": true,
            "type": "pie"
           }
          ],
          "scatter": [
           {
            "fillpattern": {
             "fillmode": "overlay",
             "size": 10,
             "solidity": 0.2
            },
            "type": "scatter"
           }
          ],
          "scatter3d": [
           {
            "line": {
             "colorbar": {
              "outlinewidth": 0,
              "ticks": ""
             }
            },
            "marker": {
             "colorbar": {
              "outlinewidth": 0,
              "ticks": ""
             }
            },
            "type": "scatter3d"
           }
          ],
          "scattercarpet": [
           {
            "marker": {
             "colorbar": {
              "outlinewidth": 0,
              "ticks": ""
             }
            },
            "type": "scattercarpet"
           }
          ],
          "scattergeo": [
           {
            "marker": {
             "colorbar": {
              "outlinewidth": 0,
              "ticks": ""
             }
            },
            "type": "scattergeo"
           }
          ],
          "scattergl": [
           {
            "marker": {
             "colorbar": {
              "outlinewidth": 0,
              "ticks": ""
             }
            },
            "type": "scattergl"
           }
          ],
          "scattermap": [
           {
            "marker": {
             "colorbar": {
              "outlinewidth": 0,
              "ticks": ""
             }
            },
            "type": "scattermap"
           }
          ],
          "scattermapbox": [
           {
            "marker": {
             "colorbar": {
              "outlinewidth": 0,
              "ticks": ""
             }
            },
            "type": "scattermapbox"
           }
          ],
          "scatterpolar": [
           {
            "marker": {
             "colorbar": {
              "outlinewidth": 0,
              "ticks": ""
             }
            },
            "type": "scatterpolar"
           }
          ],
          "scatterpolargl": [
           {
            "marker": {
             "colorbar": {
              "outlinewidth": 0,
              "ticks": ""
             }
            },
            "type": "scatterpolargl"
           }
          ],
          "scatterternary": [
           {
            "marker": {
             "colorbar": {
              "outlinewidth": 0,
              "ticks": ""
             }
            },
            "type": "scatterternary"
           }
          ],
          "surface": [
           {
            "colorbar": {
             "outlinewidth": 0,
             "ticks": ""
            },
            "colorscale": [
             [
              0,
              "#0d0887"
             ],
             [
              0.1111111111111111,
              "#46039f"
             ],
             [
              0.2222222222222222,
              "#7201a8"
             ],
             [
              0.3333333333333333,
              "#9c179e"
             ],
             [
              0.4444444444444444,
              "#bd3786"
             ],
             [
              0.5555555555555556,
              "#d8576b"
             ],
             [
              0.6666666666666666,
              "#ed7953"
             ],
             [
              0.7777777777777778,
              "#fb9f3a"
             ],
             [
              0.8888888888888888,
              "#fdca26"
             ],
             [
              1,
              "#f0f921"
             ]
            ],
            "type": "surface"
           }
          ],
          "table": [
           {
            "cells": {
             "fill": {
              "color": "#EBF0F8"
             },
             "line": {
              "color": "white"
             }
            },
            "header": {
             "fill": {
              "color": "#C8D4E3"
             },
             "line": {
              "color": "white"
             }
            },
            "type": "table"
           }
          ]
         },
         "layout": {
          "annotationdefaults": {
           "arrowcolor": "#2a3f5f",
           "arrowhead": 0,
           "arrowwidth": 1
          },
          "autotypenumbers": "strict",
          "coloraxis": {
           "colorbar": {
            "outlinewidth": 0,
            "ticks": ""
           }
          },
          "colorscale": {
           "diverging": [
            [
             0,
             "#8e0152"
            ],
            [
             0.1,
             "#c51b7d"
            ],
            [
             0.2,
             "#de77ae"
            ],
            [
             0.3,
             "#f1b6da"
            ],
            [
             0.4,
             "#fde0ef"
            ],
            [
             0.5,
             "#f7f7f7"
            ],
            [
             0.6,
             "#e6f5d0"
            ],
            [
             0.7,
             "#b8e186"
            ],
            [
             0.8,
             "#7fbc41"
            ],
            [
             0.9,
             "#4d9221"
            ],
            [
             1,
             "#276419"
            ]
           ],
           "sequential": [
            [
             0,
             "#0d0887"
            ],
            [
             0.1111111111111111,
             "#46039f"
            ],
            [
             0.2222222222222222,
             "#7201a8"
            ],
            [
             0.3333333333333333,
             "#9c179e"
            ],
            [
             0.4444444444444444,
             "#bd3786"
            ],
            [
             0.5555555555555556,
             "#d8576b"
            ],
            [
             0.6666666666666666,
             "#ed7953"
            ],
            [
             0.7777777777777778,
             "#fb9f3a"
            ],
            [
             0.8888888888888888,
             "#fdca26"
            ],
            [
             1,
             "#f0f921"
            ]
           ],
           "sequentialminus": [
            [
             0,
             "#0d0887"
            ],
            [
             0.1111111111111111,
             "#46039f"
            ],
            [
             0.2222222222222222,
             "#7201a8"
            ],
            [
             0.3333333333333333,
             "#9c179e"
            ],
            [
             0.4444444444444444,
             "#bd3786"
            ],
            [
             0.5555555555555556,
             "#d8576b"
            ],
            [
             0.6666666666666666,
             "#ed7953"
            ],
            [
             0.7777777777777778,
             "#fb9f3a"
            ],
            [
             0.8888888888888888,
             "#fdca26"
            ],
            [
             1,
             "#f0f921"
            ]
           ]
          },
          "colorway": [
           "#636efa",
           "#EF553B",
           "#00cc96",
           "#ab63fa",
           "#FFA15A",
           "#19d3f3",
           "#FF6692",
           "#B6E880",
           "#FF97FF",
           "#FECB52"
          ],
          "font": {
           "color": "#2a3f5f"
          },
          "geo": {
           "bgcolor": "white",
           "lakecolor": "white",
           "landcolor": "#E5ECF6",
           "showlakes": true,
           "showland": true,
           "subunitcolor": "white"
          },
          "hoverlabel": {
           "align": "left"
          },
          "hovermode": "closest",
          "mapbox": {
           "style": "light"
          },
          "paper_bgcolor": "white",
          "plot_bgcolor": "#E5ECF6",
          "polar": {
           "angularaxis": {
            "gridcolor": "white",
            "linecolor": "white",
            "ticks": ""
           },
           "bgcolor": "#E5ECF6",
           "radialaxis": {
            "gridcolor": "white",
            "linecolor": "white",
            "ticks": ""
           }
          },
          "scene": {
           "xaxis": {
            "backgroundcolor": "#E5ECF6",
            "gridcolor": "white",
            "gridwidth": 2,
            "linecolor": "white",
            "showbackground": true,
            "ticks": "",
            "zerolinecolor": "white"
           },
           "yaxis": {
            "backgroundcolor": "#E5ECF6",
            "gridcolor": "white",
            "gridwidth": 2,
            "linecolor": "white",
            "showbackground": true,
            "ticks": "",
            "zerolinecolor": "white"
           },
           "zaxis": {
            "backgroundcolor": "#E5ECF6",
            "gridcolor": "white",
            "gridwidth": 2,
            "linecolor": "white",
            "showbackground": true,
            "ticks": "",
            "zerolinecolor": "white"
           }
          },
          "shapedefaults": {
           "line": {
            "color": "#2a3f5f"
           }
          },
          "ternary": {
           "aaxis": {
            "gridcolor": "white",
            "linecolor": "white",
            "ticks": ""
           },
           "baxis": {
            "gridcolor": "white",
            "linecolor": "white",
            "ticks": ""
           },
           "bgcolor": "#E5ECF6",
           "caxis": {
            "gridcolor": "white",
            "linecolor": "white",
            "ticks": ""
           }
          },
          "title": {
           "x": 0.05
          },
          "xaxis": {
           "automargin": true,
           "gridcolor": "white",
           "linecolor": "white",
           "ticks": "",
           "title": {
            "standoff": 15
           },
           "zerolinecolor": "white",
           "zerolinewidth": 2
          },
          "yaxis": {
           "automargin": true,
           "gridcolor": "white",
           "linecolor": "white",
           "ticks": "",
           "title": {
            "standoff": 15
           },
           "zerolinecolor": "white",
           "zerolinewidth": 2
          }
         }
        },
        "title": {
         "text": "Distribution of Book Club Ratings"
        },
        "xaxis": {
         "anchor": "y",
         "domain": [
          0,
          1
         ],
         "title": {
          "text": "Rating"
         }
        },
        "yaxis": {
         "anchor": "x",
         "domain": [
          0,
          1
         ],
         "title": {
          "text": "count"
         }
        }
       }
      }
     },
     "metadata": {},
     "output_type": "display_data"
    }
   ],
   "source": [
    "# Create a long-form dataframe to plot ratings for each person\n",
    "# Only include members who have numeric rating columns\n",
    "long_df = (\n",
    "    bookclub_processed_df.select([\"title\", *ordered_members])\n",
    "    .unpivot(\n",
    "        index=\"title\",\n",
    "        on=ordered_members,\n",
    "        variable_name=\"Member\",\n",
    "        value_name=\"Rating\",\n",
    "    )\n",
    "    .filter((pl.col(\"Rating\").is_not_null()) & (pl.col(\"Rating\") != 0))\n",
    ")\n",
    "\n",
    "# Bar plot of ratings per member\n",
    "fig = px.histogram(\n",
    "    long_df,\n",
    "    x=\"Rating\",\n",
    "    color=\"Member\",\n",
    "    barmode=\"group\",\n",
    "    title=\"Distribution of Book Club Ratings\",\n",
    "    labels={\"Rating\": \"Rating\", \"Member\": \"Book Club Member\"},\n",
    ")\n",
    "\n",
    "fig.show()"
   ]
  },
  {
   "cell_type": "code",
   "execution_count": 6,
   "metadata": {},
   "outputs": [
    {
     "data": {
      "image/png": "[encoded data removed]",
      "text/plain": [
       "<Figure size 800x600 with 2 Axes>"
      ]
     },
     "metadata": {},
     "output_type": "display_data"
    }
   ],
   "source": [
    "# Create rating distribution data for heatmap\n",
    "# Only use members who have ratings\n",
    "rating_matrix = []\n",
    "for member in ordered_members:\n",
    "    member_ratings = bookclub_processed_df.filter(\n",
    "        (pl.col(member) != 0) & (pl.col(member).is_not_null())\n",
    "    ).select(member)\n",
    "\n",
    "    # Count ratings for each category (1-5)\n",
    "    rating_counts = []\n",
    "    for rating in [1, 2, 3, 4, 5]:\n",
    "        count = len(member_ratings.filter(pl.col(member) == rating))\n",
    "        rating_counts.append(count)\n",
    "\n",
    "    rating_matrix.append(rating_counts)\n",
    "\n",
    "# Only create heatmap if we have members with ratings\n",
    "if len(ordered_members) > 0:\n",
    "    # Create heatmap\n",
    "    fig, ax = plt.subplots(figsize=(8, 6))\n",
    "    sns.heatmap(\n",
    "        rating_matrix,\n",
    "        xticklabels=[1, 2, 3, 4, 5],\n",
    "        yticklabels=ordered_members,\n",
    "        annot=True,\n",
    "        fmt=\"d\",\n",
    "        cmap=\"Blues\",\n",
    "        ax=ax,\n",
    "    )\n",
    "\n",
    "    ax.set_title(\"Rating Distribution by Member (Ordered by Average Rating)\")\n",
    "    ax.set_xlabel(\"Rating\")\n",
    "    ax.set_ylabel(\"Member\")\n",
    "\n",
    "    plt.show()\n",
    "else:\n",
    "    print(\"No members with valid ratings found for heatmap\")"
   ]
  },
  {
   "cell_type": "code",
   "execution_count": 7,
   "metadata": {},
   "outputs": [
    {
     "data": {
      "image/png": "[encoded data removed]",
      "text/plain": [
       "<Figure size 1500x1500 with 9 Axes>"
      ]
     },
     "metadata": {},
     "output_type": "display_data"
    }
   ],
   "source": [
    "# Create subplot grid - only show members who have ratings\n",
    "n_members = len(member_averages)\n",
    "\n",
    "if n_members > 0:\n",
    "    cols = 3\n",
    "    rows = (n_members + cols - 1) // cols  # Ceiling division\n",
    "\n",
    "    fig, axes = plt.subplots(rows, cols, figsize=(15, rows * 5))\n",
    "    if rows == 1:\n",
    "        axes = axes.reshape(1, -1)\n",
    "    axes = axes.flatten()\n",
    "\n",
    "    # Define consistent bins for all plots\n",
    "    bins = np.arange(0.5, 6, 1)  # This creates bins [0.5, 1.5, 2.5, 3.5, 4.5, 5.5]\n",
    "\n",
    "    for i, (member, avg_rating) in enumerate(member_averages):\n",
    "        # Extract member's ratings\n",
    "        member_ratings = bookclub_processed_df.filter(\n",
    "            (pl.col(member) != 0) & (pl.col(member).is_not_null())\n",
    "        ).select(member)\n",
    "\n",
    "        # Create histogram for this member\n",
    "        sns.histplot(\n",
    "            data=member_ratings,\n",
    "            x=member,\n",
    "            bins=bins,  # Use consistent bins\n",
    "            stat=\"count\",\n",
    "            ax=axes[i],\n",
    "        )\n",
    "\n",
    "        # Set x-axis to show only integers 1-5\n",
    "        axes[i].set_xticks([1, 2, 3, 4, 5])\n",
    "        axes[i].set_xlim(0.5, 5.5)\n",
    "\n",
    "        # Set y-axis to consistent maximum\n",
    "        axes[i].set_ylim(0, 25)\n",
    "\n",
    "        # Add average line\n",
    "        axes[i].axvline(avg_rating, color=\"black\", linestyle=\"--\", linewidth=2)\n",
    "\n",
    "        # Set title and labels\n",
    "        axes[i].set_title(f\"{member} (avg: {avg_rating:.2f})\")\n",
    "        axes[i].set_xlabel(\"Rating\")\n",
    "        axes[i].set_ylabel(\"Count\")\n",
    "\n",
    "    # Hide unused subplots\n",
    "    for i in range(len(member_averages), len(axes)):\n",
    "        axes[i].set_visible(False)\n",
    "\n",
    "    # Adjust layout\n",
    "    plt.tight_layout()\n",
    "    plt.show()\n",
    "else:\n",
    "    print(\"No members with valid ratings found for histogram plots\")"
   ]
  },
  {
   "cell_type": "code",
   "execution_count": 8,
   "metadata": {},
   "outputs": [
    {
     "data": {
      "image/png": "[encoded data removed]",
      "text/plain": [
       "<Figure size 1500x1500 with 9 Axes>"
      ]
     },
     "metadata": {},
     "output_type": "display_data"
    }
   ],
   "source": [
    "# Create color map from red to green\n",
    "cmap = LinearSegmentedColormap.from_list(\"red_to_green\", [\"red\", \"yellow\", \"green\"])\n",
    "\n",
    "# Create subplot grid for members with ratings\n",
    "n_members = len(member_averages)\n",
    "\n",
    "if n_members > 0:\n",
    "    cols = 3\n",
    "    rows = (n_members + cols - 1) // cols  # Ceiling division\n",
    "\n",
    "    fig, axes = plt.subplots(rows, cols, figsize=(15, rows * 5))\n",
    "    if rows == 1:\n",
    "        axes = axes.reshape(1, -1)\n",
    "    axes = axes.flatten()\n",
    "\n",
    "    for i, (member, avg_rating) in enumerate(member_averages):\n",
    "        # Map average rating to color (2=red, 4=green)\n",
    "        color_value = (avg_rating - 2) / 2  # Normalize 2-4 range to 0-1\n",
    "        color_value = np.clip(color_value, 0, 1)  # Clamp to 0-1 range\n",
    "        member_color = cmap(color_value)\n",
    "\n",
    "        # Extract member's ratings\n",
    "        member_ratings = bookclub_processed_df.filter(\n",
    "            (pl.col(member) != 0) & (pl.col(member).is_not_null())\n",
    "        ).select(member)\n",
    "\n",
    "        # Calculate histogram counts for each rating\n",
    "        rating_counts = []\n",
    "        for rating in [1, 2, 3, 4, 5]:\n",
    "            count = len(member_ratings.filter(pl.col(member) == rating))\n",
    "            rating_counts.append(count)\n",
    "\n",
    "        # Create bar plot with member's color\n",
    "        bars = axes[i].bar(\n",
    "            [1, 2, 3, 4, 5],\n",
    "            rating_counts,\n",
    "            color=member_color,\n",
    "            width=0.8,\n",
    "            edgecolor=\"black\",\n",
    "            linewidth=0.5,\n",
    "        )\n",
    "\n",
    "        # Set x-axis and y-axis\n",
    "        axes[i].set_xticks([1, 2, 3, 4, 5])\n",
    "        axes[i].set_xlim(0.5, 5.5)\n",
    "        axes[i].set_ylim(0, 25)\n",
    "\n",
    "        # Add average line\n",
    "        axes[i].axvline(avg_rating, color=\"black\", linestyle=\"--\", linewidth=2)\n",
    "\n",
    "        # Set title and labels\n",
    "        axes[i].set_title(f\"{member} (avg: {avg_rating:.2f})\")\n",
    "        axes[i].set_xlabel(\"Rating\")\n",
    "        axes[i].set_ylabel(\"Count\")\n",
    "\n",
    "    # Hide unused subplots\n",
    "    for i in range(len(member_averages), len(axes)):\n",
    "        axes[i].set_visible(False)\n",
    "\n",
    "    plt.tight_layout()\n",
    "    plt.show()\n",
    "else:\n",
    "    print(\"No members with valid ratings found for colored bar plots\")"
   ]
  },
  {
   "cell_type": "code",
   "execution_count": 9,
   "metadata": {},
   "outputs": [
    {
     "data": {
      "application/vnd.plotly.v1+json": {
       "config": {
        "plotlyServerURL": "https://plot.ly"
       },
       "data": [
        {
         "customdata": [
          [
           "The Gambler",
           "Fyodor Dostoyevsky",
           "Koen_v_W: 3.0<br>Robert: 2.0<br>Dion: 4.0"
          ],
          [
           "The Island of Dr. Moreau",
           "H.G. Wells",
           "Koen_v_W: 4.0<br>Peter: 3.0<br>Robert: 3.0<br>Dion: 4.0"
          ],
          [
           "The Heart of a Dog",
           "Mikhail Bulgakov",
           "Koen_v_W: 3.0"
          ],
          [
           "Het Slot",
           "Franz Kafka",
           "Koen_v_W: 2.0<br>Robert: 4.0"
          ],
          [
           "Brave New World",
           "Aldous Huxley",
           "Koen_v_W: 4.0<br>Peter: 4.0<br>Robert: 5.0<br>Dion: 4.0<br>Thomas: 4.0"
          ],
          [
           "Oorlog met de salamanders",
           "Karel Capek",
           "Koen_v_W: 4.0<br>Peter: 4.0<br>Thirsa: 4.0<br>Robert: 4.0<br>Dion: 5.0<br>Thomas: 3.0"
          ],
          [
           "De Pest",
           "Albert Camus",
           "Koen_v_W: 4.0<br>Peter: 5.0<br>Thirsa: 4.0<br>Robert: 3.0"
          ],
          [
           "1984",
           "George Orwell",
           "Koen_v_W: 5.0<br>Thirsa: 4.0<br>Robert: 5.0<br>Dion: 5.0<br>Thomas: 5.0"
          ],
          [
           "Fahrenheit 451",
           "Ray Bradbury",
           "Koen_v_W: 3.0<br>Peter: 4.0<br>Thirsa: 3.0<br>Robert: 3.0<br>Dion: 4.0"
          ],
          [
           "Pnin",
           "Vladimir Nabokov",
           "Thirsa: 4.0<br>Robert: 4.0<br>Dion: 4.0"
          ],
          [
           "Things Fall Apart (The African Trilogy, #1)",
           "Chinua Achebe",
           "Koen_v_W: 3.0<br>Thirsa: 3.0<br>Robert: 4.0<br>Dion: 4.0<br>Thomas: 5.0"
          ],
          [
           "De Opkomst van de Meritocratie",
           "Michael Young",
           "Thirsa: 4.0<br>Robert: 3.0<br>Dion: 4.0"
          ],
          [
           "Starship Troopers",
           "Robert A. Heinlein",
           "Koen_v_W: 3.0<br>Peter: 3.0<br>Thirsa: 3.0<br>Robert: 4.0<br>Dion: 4.0<br>Thomas: 3.0"
          ],
          [
           "A Canticle for Leibowitz (St. Leibowitz, #1)",
           "Walter M. Miller",
           "Robert: 2.0<br>Dion: 4.0"
          ],
          [
           "Catch-22",
           "Joseph Heller",
           "Thirsa: 4.0<br>Robert: 4.0<br>Dion: 4.0"
          ],
          [
           "Solaris",
           "Stanislaw Lem",
           "Koen_v_W: 2.0<br>Peter: 4.0<br>Thirsa: 3.0<br>Robert: 4.0<br>Dion: 4.0<br>Thomas: 3.0"
          ],
          [
           "Stranger in a Strange Land",
           "Robert A. Heinlein",
           "Robert: 2.0<br>Dion: 3.0"
          ],
          [
           "Mother Night",
           "Kurt Vonnegut",
           "Koen_v_W: 3.0<br>Thirsa: 4.0<br>Robert: 5.0<br>Dion: 4.0"
          ],
          [
           "A Clockwork Orange",
           "Anthony Burgess",
           "Koen_v_W: 3.0<br>Robert: 3.0<br>Dion: 4.5<br>Thomas: 5.0"
          ],
          [
           "The Drowned World",
           "J.G. Ballard",
           "Koen_v_W: 2.0<br>Peter: 1.0<br>Thirsa: 3.0<br>Robert: 2.0<br>Dion: 3.0"
          ],
          [
           "Cat's Cradle",
           "Kurt Vonnegut",
           "Koen_v_W: 4.0"
          ],
          [
           "Het ijs",
           "Anna Kavan",
           "Koen_v_W: 2.0<br>Peter: 4.0"
          ],
          [
           "Lord of Light",
           "Roger Zelazny",
           "Koen_M: 2.0<br>Koen_v_W: 2.0<br>Peter: 2.0<br>Thirsa: 2.0<br>Robert: 2.0<br>Dion: 4.0<br>Thomas: 2.0"
          ],
          [
           "Do Androids Dream of Electric Sheep?",
           "Philip K. Dick",
           "Koen_v_W: 3.0<br>Peter: 3.0<br>Thirsa: 4.0<br>Robert: 3.0<br>Thomas: 4.0"
          ],
          [
           "His Master's Voice",
           "Stanislaw Lem",
           "Koen_M: 3.0<br>Koen_v_W: 3.0<br>Peter: 4.0<br>Robert: 5.0<br>Dion: 4.0<br>Thomas: 5.0"
          ],
          [
           "The Left Hand of Darkness",
           "Ursula K. Le Guin",
           "Koen_v_W: 2.0<br>Thirsa: 3.0<br>Robert: 4.0<br>Dion: 4.0<br>Thomas: 4.0"
          ],
          [
           "Fear and Loathing in Las Vegas",
           "Hunter S. Thompson",
           "Koen_v_W: 3.0<br>Robert: 3.0"
          ],
          [
           "Post Office",
           "Charles Bukowski",
           "Peter: 4.0<br>Robert: 3.0<br>Dion: 3.0"
          ],
          [
           "Roadside Picnic",
           "Arkady Strugatsky",
           "Koen_v_W: 4.0<br>Peter: 3.0<br>Thirsa: 4.0<br>Robert: 4.0<br>Dion: 4.0<br>Thomas: 5.0"
          ],
          [
           "The Dispossessed: An Ambiguous Utopia",
           "Ursula K. Le Guin",
           "Koen_v_W: 3.0<br>Peter: 3.0<br>Robert: 4.0"
          ],
          [
           "High-Rise",
           "J.G. Ballard",
           "Koen_v_W: 4.0<br>Thirsa: 4.0<br>Robert: 3.0<br>Dion: 4.0"
          ],
          [
           "The Passion of New Eve",
           "Angela Carter",
           "Koen_v_W: 1.0<br>Peter: 3.0<br>Thirsa: 4.0<br>Robert: 4.0<br>Dion: 3.0<br>Thomas: 2.0"
          ],
          [
           "The Hitchhiker's Guide to the Galaxy (Hitchhiker's Guide to the Galaxy, #1)",
           "Douglas Adams",
           "Koen_v_W: 3.0<br>Dion: 3.0<br>Thomas: 4.0"
          ],
          [
           "Kroniek van een aangekondigde dood",
           "Gabriel Garcia Marquez",
           "Koen_v_W: 2.0<br>Peter: 3.0<br>Robert: 3.0"
          ],
          [
           "Neuromancer (Sprawl, #1)",
           "William Gibson",
           "Peter: 3.0<br>Robert: 3.0"
          ],
          [
           "The Unbearable Lightness of Being",
           "Milan Kundera",
           "Koen_v_W: 2.0<br>Robert: 2.0<br>Dion: 2.0<br>Thomas: 5.0"
          ],
          [
           "Galapagos",
           "Kurt Vonnegut",
           "Koen_M: 4.0<br>Koen_v_W: 3.0<br>Peter: 3.0<br>Thirsa: 3.0<br>Robert: 3.0"
          ],
          [
           "Lilith's Brood (Xenogenesis, #1-3)",
           "Octavia E. Butler",
           "Thirsa: 4.0<br>Thomas: 4.0"
          ],
          [
           "Watchmen",
           "Alan Moore & Dave Gibbons",
           "Koen_v_W: 4.0<br>Thirsa: 4.0<br>Robert: 4.0<br>Dion: 5.0<br>Thomas: 5.0"
          ],
          [
           "Hyperion (Hyperion Cantos, #1)",
           "Dan Simmons",
           "Peter: 3.0<br>Thirsa: 3.0<br>Robert: 5.0<br>Dion: 4.0<br>Thomas: 4.0"
          ],
          [
           "Snow Crash",
           "Neal Stephenson",
           "Koen_v_W: 2.0<br>Peter: 3.0<br>Thirsa: 3.0<br>Robert: 3.0<br>Dion: 5.0<br>Thomas: 2.0"
          ],
          [
           "Parable of the Sower (Earthseed, #1)",
           "Octavia E. Butler",
           "Koen_v_W: 4.0<br>Thirsa: 4.0<br>Robert: 3.0<br>Dion: 4.0"
          ],
          [
           "I who have never known men",
           "Jacqueline Harpman",
           "Koen_M: 4.0<br>Koen_v_W: 5.0<br>Peter: 5.0<br>Thirsa: 4.0<br>Robert: 5.0<br>Dion: 5.0<br>Thomas: 5.0<br>Marloes: 4.0"
          ],
          [
           "Fight Club",
           "Chuck Palahniuk",
           "Koen_v_W: 4.0<br>Thirsa: 4.0<br>Robert: 3.5<br>Dion: 4.0"
          ],
          [
           "Under the Skin",
           "Michel Faber",
           "Koen_v_W: 2.0<br>Robert: 3.0<br>Dion: 5.0"
          ],
          [
           "House of Leaves",
           "Mark Z. Danielewski",
           "Robert: 5.0<br>Dion: 3.0"
          ],
          [
           "The Book of Illusions",
           "Paul Auster",
           "Koen_v_W: 3.0<br>Robert: 2.0<br>Dion: 3.0<br>Thomas: 3.0"
          ],
          [
           "Oryx and Crake (MaddAddam, #1)",
           "Margaret Atwood",
           "Koen_v_W: 4.0<br>Peter: 4.0<br>Robert: 3.0<br>Dion: 4.0"
          ],
          [
           "The Algebraist",
           "Iain M. Banks",
           "Peter: 3.0<br>Robert: 3.0<br>Dion: 3.0"
          ],
          [
           "Never Let Me Go",
           "Kazuo Ishiguro",
           "Koen_v_W: 2.0<br>Peter: 3.0<br>Thirsa: 3.0<br>Robert: 4.0<br>Dion: 2.0<br>Thomas: 4.0"
          ],
          [
           "The Road",
           "Cormac McCarthy",
           "Thirsa: 4.0<br>Robert: 5.0<br>Dion: 4.0"
          ],
          [
           "The Three-Body Problem (Remembrance of Earth's Past, #1)",
           "Liu Cixin",
           "Koen_v_W: 3.0<br>Peter: 3.0<br>Thirsa: 2.0<br>Robert: 2.0<br>Dion: 3.0"
          ],
          [
           "Blindsight (Firefall, #1)",
           "Peter Watts",
           "Peter: 5.0<br>Robert: 5.0<br>Dion: 4.0<br>Thomas: 5.0"
          ],
          [
           "The Vegetarian",
           "Han Kang",
           "Koen_M: 2.0<br>Koen_v_W: 4.0<br>Peter: 4.0<br>Thirsa: 4.0<br>Robert: 4.0<br>Dion: 3.0<br>Thomas: 5.0"
          ],
          [
           "The Gone-Away World",
           "Nick Harkaway",
           "Robert: 5.0<br>Dion: 4.0"
          ],
          [
           "The Windup Girl",
           "Paolo Bacigalupi",
           "Koen_v_W: 2.0<br>Peter: 1.0<br>Thirsa: 3.0<br>Robert: 3.0<br>Dion: 3.0"
          ],
          [
           "1Q84 Book 1 (1Q84, #1)",
           "Haruki Murakami",
           "Koen_v_W: 4.0<br>Dion: 3.0"
          ],
          [
           "The City & the City",
           "China Miéville",
           "Koen_M: 2.0<br>Koen_v_W: 4.0<br>Peter: 4.0<br>Thirsa: 3.0<br>Robert: 3.0<br>Dion: 3.0"
          ],
          [
           "Who Fears Death",
           "Nnedi Okarafor",
           "Koen_v_W: 1.0<br>Thirsa: 2.0<br>Robert: 2.0<br>Dion: 2.0"
          ],
          [
           "Ready Player One (Ready Player One, #1)",
           "Ernest Cline",
           "Koen_v_W: 4.0<br>Thirsa: 4.0<br>Dion: 4.0"
          ],
          [
           "Ancillary Justice (Imperial Radch, #1)",
           "Ann Leckie",
           "Koen_v_W: 2.0<br>Peter: 3.0<br>Robert: 3.0<br>Dion: 4.0<br>Thomas: 4.0"
          ],
          [
           "Station Eleven",
           "Emily St. John Mandel",
           "Koen_v_W: 4.0<br>Peter: 3.0<br>Thirsa: 3.0<br>Robert: 3.0<br>Dion: 3.0"
          ],
          [
           "The Power",
           "Naomi Alderman",
           "Koen_v_W: 4.0<br>Robert: 5.0<br>Dion: 2.0<br>Thomas: 4.0"
          ],
          [
           "Ivanov",
           "Hanna Bervoets",
           "Koen_v_W: 3.0<br>Peter: 3.0<br>Thirsa: 3.0<br>Robert: 2.0<br>Dion: 2.0"
          ],
          [
           "Zero K",
           "Don DeLillo",
           "Peter: 3.0<br>Robert: 2.0<br>Dion: 2.0"
          ],
          [
           "Dark Matter",
           "Blake Crouch",
           "Koen_M: 1.0<br>Koen_v_W: 2.0<br>Peter: 1.0<br>Thirsa: 2.0<br>Robert: 2.0<br>Dion: 2.0<br>Thomas: 2.0"
          ],
          [
           "Klont",
           "Maxim Februari",
           "Koen_v_W: 3.0<br>Peter: 3.0<br>Robert: 3.0<br>Dion: 4.0"
          ],
          [
           "Tender is the Flesh",
           "Agustina Bazterrica",
           "Koen_v_W: 5.0<br>Peter: 5.0<br>Robert: 5.0<br>Dion: 4.0"
          ],
          [
           "De avond is ongemak",
           "Marieke Lucas Rijneveld",
           "Koen_v_W: 3.0<br>Peter: 4.0<br>Thirsa: 4.0<br>Robert: 3.0"
          ],
          [
           "De avond is ongemak",
           "Marieke Lucas Rijneveld",
           "Dion: 4.0"
          ],
          [
           "Concept M",
           "Aafke Romeijn",
           "Koen_M: 2.0<br>Koen_v_W: 3.0<br>Peter: 3.0<br>Thirsa: 3.0<br>Robert: 3.0<br>Dion: 3.0<br>Thomas: 2.0"
          ],
          [
           "Bewilderment",
           "Richard Powers",
           "Koen_v_W: 4.0<br>Peter: 5.0<br>Thirsa: 4.0<br>Thomas: 3.0"
          ],
          [
           "Tussentijds",
           "Peter Zantingh",
           "Koen_v_W: 3.0<br>Thirsa: 2.0<br>Robert: 3.0<br>Dion: 3.0"
          ]
         ],
         "hovertemplate": "<b>%{customdata[0]}</b><br>Author: %{customdata[1]}<br>Year: %{x}<br>Bookclub Rating: %{y:.2f}<br>%{customdata[2]}<extra></extra>",
         "legendgroup": "",
         "line": {
          "color": "#636efa",
          "dash": "solid"
         },
         "marker": {
          "symbol": "circle"
         },
         "mode": "lines+markers",
         "name": "",
         "orientation": "v",
         "showlegend": false,
         "type": "scatter",
         "x": {
          "bdata": "SgcAAGgHAACFBwAAhgcAAIwHAACQBwAAmwcAAJ0HAAChBwAApQcAAKYHAACmBwAApwcAAKcHAACpBwAAqQcAAKkHAACpBwAAqgcAAKoHAACrBwAArwcAAK8HAACwBwAAsAcAALEHAACzBwAAswcAALQHAAC2BwAAtwcAALkHAAC7BwAAvQcAAMAHAADABwAAwQcAAMMHAADDBwAAxQcAAMgHAADJBwAAywcAAMwHAADQBwAA0AcAANIHAADTBwAA1AcAANUHAADWBwAA1gcAANYHAADXBwAA2AcAANkHAADZBwAA2QcAANoHAADbBwAA3QcAAN4HAADgBwAA4AcAAOAHAADgBwAA4QcAAOEHAADiBwAA4gcAAOIHAADlBwAA5gcAAA==",
          "dtype": "i4"
         },
         "xaxis": "x",
         "y": {
          "bdata": "AAAAAAAACEAAAAAAAAAMQAAAAAAAAAhAAAAAAAAACEDNzMzMzMwQQAAAAAAAABBAAAAAAAAAEEAzMzMzMzMTQDMzMzMzMwtAAAAAAAAAEEBmZmZmZmYOQFVVVVVVVQ1Aq6qqqqqqCkAAAAAAAAAIQAAAAAAAABBAq6qqqqqqCkAAAAAAAAAEQAAAAAAAABBAAAAAAAAAD0CamZmZmZkBQAAAAAAAABBAAAAAAAAACEAAAAAAAAAIQDMzMzMzMwtAAAAAAAAAEEAzMzMzMzMLQAAAAAAAAAhAq6qqqqqqCkAAAAAAAAAQQKuqqqqqqgpAAAAAAAAADkCrqqqqqqoGQKuqqqqqqgpAVVVVVVVVBUAAAAAAAAAIQAAAAAAAAAZAAAAAAAAADEAAAAAAAAAQQJqZmZmZmRFAZmZmZmZmDkAAAAAAAAAIQAAAAAAAAA5Aq6qqqqqqEkAAAAAAAAAPQKuqqqqqqgpAAAAAAAAAEEAAAAAAAAAGQAAAAAAAAA5AAAAAAAAACEAAAAAAAAAIQFVVVVVVVRFAzczMzMzMBEAAAAAAAAATQAAAAAAAABBAAAAAAAAAEkAzMzMzMzMDQAAAAAAAAAxAVVVVVVVVCUAAAAAAAAD8PwAAAAAAABBAmpmZmZmZCUCamZmZmZkJQAAAAAAAAA5AzczMzMzMBECrqqqqqqoCQAAAAAAAAABAAAAAAAAACkAAAAAAAAATQAAAAAAAAAxAAAAAAAAAEEBu27Zt27YFQAAAAAAAABBAAAAAAAAABkA=",
          "dtype": "f8"
         },
         "yaxis": "y"
        },
        {
         "customdata": [
          [
           "The Gambler",
           "Fyodor Dostoyevsky",
           "Koen_v_W: 3.0<br>Robert: 2.0<br>Dion: 4.0"
          ],
          [
           "The Island of Dr. Moreau",
           "H.G. Wells",
           "Koen_v_W: 4.0<br>Peter: 3.0<br>Robert: 3.0<br>Dion: 4.0"
          ],
          [
           "The Heart of a Dog",
           "Mikhail Bulgakov",
           "Koen_v_W: 3.0"
          ],
          [
           "Het Slot",
           "Franz Kafka",
           "Koen_v_W: 2.0<br>Robert: 4.0"
          ],
          [
           "Brave New World",
           "Aldous Huxley",
           "Koen_v_W: 4.0<br>Peter: 4.0<br>Robert: 5.0<br>Dion: 4.0<br>Thomas: 4.0"
          ],
          [
           "Oorlog met de salamanders",
           "Karel Capek",
           "Koen_v_W: 4.0<br>Peter: 4.0<br>Thirsa: 4.0<br>Robert: 4.0<br>Dion: 5.0<br>Thomas: 3.0"
          ],
          [
           "De Pest",
           "Albert Camus",
           "Koen_v_W: 4.0<br>Peter: 5.0<br>Thirsa: 4.0<br>Robert: 3.0"
          ],
          [
           "1984",
           "George Orwell",
           "Koen_v_W: 5.0<br>Thirsa: 4.0<br>Robert: 5.0<br>Dion: 5.0<br>Thomas: 5.0"
          ],
          [
           "Fahrenheit 451",
           "Ray Bradbury",
           "Koen_v_W: 3.0<br>Peter: 4.0<br>Thirsa: 3.0<br>Robert: 3.0<br>Dion: 4.0"
          ],
          [
           "Pnin",
           "Vladimir Nabokov",
           "Thirsa: 4.0<br>Robert: 4.0<br>Dion: 4.0"
          ],
          [
           "Things Fall Apart (The African Trilogy, #1)",
           "Chinua Achebe",
           "Koen_v_W: 3.0<br>Thirsa: 3.0<br>Robert: 4.0<br>Dion: 4.0<br>Thomas: 5.0"
          ],
          [
           "De Opkomst van de Meritocratie",
           "Michael Young",
           "Thirsa: 4.0<br>Robert: 3.0<br>Dion: 4.0"
          ],
          [
           "Starship Troopers",
           "Robert A. Heinlein",
           "Koen_v_W: 3.0<br>Peter: 3.0<br>Thirsa: 3.0<br>Robert: 4.0<br>Dion: 4.0<br>Thomas: 3.0"
          ],
          [
           "A Canticle for Leibowitz (St. Leibowitz, #1)",
           "Walter M. Miller",
           "Robert: 2.0<br>Dion: 4.0"
          ],
          [
           "Catch-22",
           "Joseph Heller",
           "Thirsa: 4.0<br>Robert: 4.0<br>Dion: 4.0"
          ],
          [
           "Solaris",
           "Stanislaw Lem",
           "Koen_v_W: 2.0<br>Peter: 4.0<br>Thirsa: 3.0<br>Robert: 4.0<br>Dion: 4.0<br>Thomas: 3.0"
          ],
          [
           "Stranger in a Strange Land",
           "Robert A. Heinlein",
           "Robert: 2.0<br>Dion: 3.0"
          ],
          [
           "Mother Night",
           "Kurt Vonnegut",
           "Koen_v_W: 3.0<br>Thirsa: 4.0<br>Robert: 5.0<br>Dion: 4.0"
          ],
          [
           "A Clockwork Orange",
           "Anthony Burgess",
           "Koen_v_W: 3.0<br>Robert: 3.0<br>Dion: 4.5<br>Thomas: 5.0"
          ],
          [
           "The Drowned World",
           "J.G. Ballard",
           "Koen_v_W: 2.0<br>Peter: 1.0<br>Thirsa: 3.0<br>Robert: 2.0<br>Dion: 3.0"
          ],
          [
           "Cat's Cradle",
           "Kurt Vonnegut",
           "Koen_v_W: 4.0"
          ],
          [
           "Het ijs",
           "Anna Kavan",
           "Koen_v_W: 2.0<br>Peter: 4.0"
          ],
          [
           "Lord of Light",
           "Roger Zelazny",
           "Koen_M: 2.0<br>Koen_v_W: 2.0<br>Peter: 2.0<br>Thirsa: 2.0<br>Robert: 2.0<br>Dion: 4.0<br>Thomas: 2.0"
          ],
          [
           "Do Androids Dream of Electric Sheep?",
           "Philip K. Dick",
           "Koen_v_W: 3.0<br>Peter: 3.0<br>Thirsa: 4.0<br>Robert: 3.0<br>Thomas: 4.0"
          ],
          [
           "His Master's Voice",
           "Stanislaw Lem",
           "Koen_M: 3.0<br>Koen_v_W: 3.0<br>Peter: 4.0<br>Robert: 5.0<br>Dion: 4.0<br>Thomas: 5.0"
          ],
          [
           "The Left Hand of Darkness",
           "Ursula K. Le Guin",
           "Koen_v_W: 2.0<br>Thirsa: 3.0<br>Robert: 4.0<br>Dion: 4.0<br>Thomas: 4.0"
          ],
          [
           "Fear and Loathing in Las Vegas",
           "Hunter S. Thompson",
           "Koen_v_W: 3.0<br>Robert: 3.0"
          ],
          [
           "Post Office",
           "Charles Bukowski",
           "Peter: 4.0<br>Robert: 3.0<br>Dion: 3.0"
          ],
          [
           "Roadside Picnic",
           "Arkady Strugatsky",
           "Koen_v_W: 4.0<br>Peter: 3.0<br>Thirsa: 4.0<br>Robert: 4.0<br>Dion: 4.0<br>Thomas: 5.0"
          ],
          [
           "The Dispossessed: An Ambiguous Utopia",
           "Ursula K. Le Guin",
           "Koen_v_W: 3.0<br>Peter: 3.0<br>Robert: 4.0"
          ],
          [
           "High-Rise",
           "J.G. Ballard",
           "Koen_v_W: 4.0<br>Thirsa: 4.0<br>Robert: 3.0<br>Dion: 4.0"
          ],
          [
           "The Passion of New Eve",
           "Angela Carter",
           "Koen_v_W: 1.0<br>Peter: 3.0<br>Thirsa: 4.0<br>Robert: 4.0<br>Dion: 3.0<br>Thomas: 2.0"
          ],
          [
           "The Hitchhiker's Guide to the Galaxy (Hitchhiker's Guide to the Galaxy, #1)",
           "Douglas Adams",
           "Koen_v_W: 3.0<br>Dion: 3.0<br>Thomas: 4.0"
          ],
          [
           "Kroniek van een aangekondigde dood",
           "Gabriel Garcia Marquez",
           "Koen_v_W: 2.0<br>Peter: 3.0<br>Robert: 3.0"
          ],
          [
           "Neuromancer (Sprawl, #1)",
           "William Gibson",
           "Peter: 3.0<br>Robert: 3.0"
          ],
          [
           "The Unbearable Lightness of Being",
           "Milan Kundera",
           "Koen_v_W: 2.0<br>Robert: 2.0<br>Dion: 2.0<br>Thomas: 5.0"
          ],
          [
           "Galapagos",
           "Kurt Vonnegut",
           "Koen_M: 4.0<br>Koen_v_W: 3.0<br>Peter: 3.0<br>Thirsa: 3.0<br>Robert: 3.0"
          ],
          [
           "Lilith's Brood (Xenogenesis, #1-3)",
           "Octavia E. Butler",
           "Thirsa: 4.0<br>Thomas: 4.0"
          ],
          [
           "Watchmen",
           "Alan Moore & Dave Gibbons",
           "Koen_v_W: 4.0<br>Thirsa: 4.0<br>Robert: 4.0<br>Dion: 5.0<br>Thomas: 5.0"
          ],
          [
           "Hyperion (Hyperion Cantos, #1)",
           "Dan Simmons",
           "Peter: 3.0<br>Thirsa: 3.0<br>Robert: 5.0<br>Dion: 4.0<br>Thomas: 4.0"
          ],
          [
           "Snow Crash",
           "Neal Stephenson",
           "Koen_v_W: 2.0<br>Peter: 3.0<br>Thirsa: 3.0<br>Robert: 3.0<br>Dion: 5.0<br>Thomas: 2.0"
          ],
          [
           "Parable of the Sower (Earthseed, #1)",
           "Octavia E. Butler",
           "Koen_v_W: 4.0<br>Thirsa: 4.0<br>Robert: 3.0<br>Dion: 4.0"
          ],
          [
           "I who have never known men",
           "Jacqueline Harpman",
           "Koen_M: 4.0<br>Koen_v_W: 5.0<br>Peter: 5.0<br>Thirsa: 4.0<br>Robert: 5.0<br>Dion: 5.0<br>Thomas: 5.0<br>Marloes: 4.0"
          ],
          [
           "Fight Club",
           "Chuck Palahniuk",
           "Koen_v_W: 4.0<br>Thirsa: 4.0<br>Robert: 3.5<br>Dion: 4.0"
          ],
          [
           "Under the Skin",
           "Michel Faber",
           "Koen_v_W: 2.0<br>Robert: 3.0<br>Dion: 5.0"
          ],
          [
           "House of Leaves",
           "Mark Z. Danielewski",
           "Robert: 5.0<br>Dion: 3.0"
          ],
          [
           "The Book of Illusions",
           "Paul Auster",
           "Koen_v_W: 3.0<br>Robert: 2.0<br>Dion: 3.0<br>Thomas: 3.0"
          ],
          [
           "Oryx and Crake (MaddAddam, #1)",
           "Margaret Atwood",
           "Koen_v_W: 4.0<br>Peter: 4.0<br>Robert: 3.0<br>Dion: 4.0"
          ],
          [
           "The Algebraist",
           "Iain M. Banks",
           "Peter: 3.0<br>Robert: 3.0<br>Dion: 3.0"
          ],
          [
           "Never Let Me Go",
           "Kazuo Ishiguro",
           "Koen_v_W: 2.0<br>Peter: 3.0<br>Thirsa: 3.0<br>Robert: 4.0<br>Dion: 2.0<br>Thomas: 4.0"
          ],
          [
           "The Road",
           "Cormac McCarthy",
           "Thirsa: 4.0<br>Robert: 5.0<br>Dion: 4.0"
          ],
          [
           "The Three-Body Problem (Remembrance of Earth's Past, #1)",
           "Liu Cixin",
           "Koen_v_W: 3.0<br>Peter: 3.0<br>Thirsa: 2.0<br>Robert: 2.0<br>Dion: 3.0"
          ],
          [
           "Blindsight (Firefall, #1)",
           "Peter Watts",
           "Peter: 5.0<br>Robert: 5.0<br>Dion: 4.0<br>Thomas: 5.0"
          ],
          [
           "The Vegetarian",
           "Han Kang",
           "Koen_M: 2.0<br>Koen_v_W: 4.0<br>Peter: 4.0<br>Thirsa: 4.0<br>Robert: 4.0<br>Dion: 3.0<br>Thomas: 5.0"
          ],
          [
           "The Gone-Away World",
           "Nick Harkaway",
           "Robert: 5.0<br>Dion: 4.0"
          ],
          [
           "The Windup Girl",
           "Paolo Bacigalupi",
           "Koen_v_W: 2.0<br>Peter: 1.0<br>Thirsa: 3.0<br>Robert: 3.0<br>Dion: 3.0"
          ],
          [
           "1Q84 Book 1 (1Q84, #1)",
           "Haruki Murakami",
           "Koen_v_W: 4.0<br>Dion: 3.0"
          ],
          [
           "The City & the City",
           "China Miéville",
           "Koen_M: 2.0<br>Koen_v_W: 4.0<br>Peter: 4.0<br>Thirsa: 3.0<br>Robert: 3.0<br>Dion: 3.0"
          ],
          [
           "Who Fears Death",
           "Nnedi Okarafor",
           "Koen_v_W: 1.0<br>Thirsa: 2.0<br>Robert: 2.0<br>Dion: 2.0"
          ],
          [
           "Ready Player One (Ready Player One, #1)",
           "Ernest Cline",
           "Koen_v_W: 4.0<br>Thirsa: 4.0<br>Dion: 4.0"
          ],
          [
           "Ancillary Justice (Imperial Radch, #1)",
           "Ann Leckie",
           "Koen_v_W: 2.0<br>Peter: 3.0<br>Robert: 3.0<br>Dion: 4.0<br>Thomas: 4.0"
          ],
          [
           "Station Eleven",
           "Emily St. John Mandel",
           "Koen_v_W: 4.0<br>Peter: 3.0<br>Thirsa: 3.0<br>Robert: 3.0<br>Dion: 3.0"
          ],
          [
           "The Power",
           "Naomi Alderman",
           "Koen_v_W: 4.0<br>Robert: 5.0<br>Dion: 2.0<br>Thomas: 4.0"
          ],
          [
           "Ivanov",
           "Hanna Bervoets",
           "Koen_v_W: 3.0<br>Peter: 3.0<br>Thirsa: 3.0<br>Robert: 2.0<br>Dion: 2.0"
          ],
          [
           "Zero K",
           "Don DeLillo",
           "Peter: 3.0<br>Robert: 2.0<br>Dion: 2.0"
          ],
          [
           "Dark Matter",
           "Blake Crouch",
           "Koen_M: 1.0<br>Koen_v_W: 2.0<br>Peter: 1.0<br>Thirsa: 2.0<br>Robert: 2.0<br>Dion: 2.0<br>Thomas: 2.0"
          ],
          [
           "Klont",
           "Maxim Februari",
           "Koen_v_W: 3.0<br>Peter: 3.0<br>Robert: 3.0<br>Dion: 4.0"
          ],
          [
           "Tender is the Flesh",
           "Agustina Bazterrica",
           "Koen_v_W: 5.0<br>Peter: 5.0<br>Robert: 5.0<br>Dion: 4.0"
          ],
          [
           "De avond is ongemak",
           "Marieke Lucas Rijneveld",
           "Koen_v_W: 3.0<br>Peter: 4.0<br>Thirsa: 4.0<br>Robert: 3.0"
          ],
          [
           "De avond is ongemak",
           "Marieke Lucas Rijneveld",
           "Dion: 4.0"
          ],
          [
           "Concept M",
           "Aafke Romeijn",
           "Koen_M: 2.0<br>Koen_v_W: 3.0<br>Peter: 3.0<br>Thirsa: 3.0<br>Robert: 3.0<br>Dion: 3.0<br>Thomas: 2.0"
          ],
          [
           "Bewilderment",
           "Richard Powers",
           "Koen_v_W: 4.0<br>Peter: 5.0<br>Thirsa: 4.0<br>Thomas: 3.0"
          ],
          [
           "Tussentijds",
           "Peter Zantingh",
           "Koen_v_W: 3.0<br>Thirsa: 2.0<br>Robert: 3.0<br>Dion: 3.0"
          ]
         ],
         "hovertemplate": "<b>%{customdata[0]}</b><br>Author: %{customdata[1]}<br>Year: %{x}<br>Goodreads Rating: %{y:.2f}<br>%{customdata[2]}<extra></extra>",
         "line": {
          "color": "red",
          "dash": "dash"
         },
         "mode": "lines+markers",
         "name": "Goodreads Rating",
         "type": "scatter",
         "x": {
          "bdata": "SgcAAGgHAACFBwAAhgcAAIwHAACQBwAAmwcAAJ0HAAChBwAApQcAAKYHAACmBwAApwcAAKcHAACpBwAAqQcAAKkHAACpBwAAqgcAAKoHAACrBwAArwcAAK8HAACwBwAAsAcAALEHAACzBwAAswcAALQHAAC2BwAAtwcAALkHAAC7BwAAvQcAAMAHAADABwAAwQcAAMMHAADDBwAAxQcAAMgHAADJBwAAywcAAMwHAADQBwAA0AcAANIHAADTBwAA1AcAANUHAADWBwAA1gcAANYHAADXBwAA2AcAANkHAADZBwAA2QcAANoHAADbBwAA3QcAAN4HAADgBwAA4AcAAOAHAADgBwAA4QcAAOEHAADiBwAA4gcAAOIHAADlBwAA5gcAAA==",
          "dtype": "i4"
         },
         "y": {
          "bdata": "SOF6FK5HD0DXo3A9CtcNQGZmZmZmZhBAcT0K16NwD0DtUbgehesPQK9H4XoUrhBAFK5H4XoUEEAusp3vp8YQQBoEVg4tsg9AGEt+seQXD0AW2c73U+MNQGAs+cWSXw5ACdejcD0KEEDiehSuR+EPQOxRuB6F6w9A7VG4HoXrD0Bcj8L1KFwPQOxRuB6F6xBAAAAAAAAAEEBt5/up8dILQJqZmZmZmRBAUrgehetRDUAzMzMzMzMQQFyPwvUoXBBA16NwPQpXEEBmZmZmZmYQQEjhehSuRxBAcT0K16NwD0CMJb9Y8osQQAAAAAAAABFAXI/C9SjcDEBdj8L1KFwNQOQXS36x5BBAw/UoXI/CD0AfhetRuB4PQHE9CtejcBBA9ihcj8L1DkB7FK5H4XoRQO+nxks3iRFAFK5H4XoUEUAREREREREQQBWuR+F61BBAq6qqqqqqEEC4HoXrUbgQQAAAAAAAAA5AXI/C9ShcEEAzMzMzMzMPQEjhehSuBxBAIyIiIiIiEEDNzMzMzMwOQPOLJb9Y8g9AUrgehetREEAK16NwPQoQQO/u7u7u7gxAZmZmZmZmEEAAAAAAAAAOQKRwPQrXow9AMzMzMzMzD0AAAAAAAIAPQOxRuB6F6xBA7VG4HoXrD0BI4XoUrkcQQArXo3A9Cg5A9ihcj8L1DECTXyz5xZIJQI/C9ShcjxBArkfhehQuCEDC9Shcj0IOQJqZmZmZmQtAmpmZmZmZC0CamZmZmZkLQM3MzMzMTA9AkML1KFyPDkA=",
          "dtype": "f8"
         }
        }
       ],
       "layout": {
        "legend": {
         "tracegroupgap": 0
        },
        "template": {
         "data": {
          "bar": [
           {
            "error_x": {
             "color": "#2a3f5f"
            },
            "error_y": {
             "color": "#2a3f5f"
            },
            "marker": {
             "line": {
              "color": "#E5ECF6",
              "width": 0.5
             },
             "pattern": {
              "fillmode": "overlay",
              "size": 10,
              "solidity": 0.2
             }
            },
            "type": "bar"
           }
          ],
          "barpolar": [
           {
            "marker": {
             "line": {
              "color": "#E5ECF6",
              "width": 0.5
             },
             "pattern": {
              "fillmode": "overlay",
              "size": 10,
              "solidity": 0.2
             }
            },
            "type": "barpolar"
           }
          ],
          "carpet": [
           {
            "aaxis": {
             "endlinecolor": "#2a3f5f",
             "gridcolor": "white",
             "linecolor": "white",
             "minorgridcolor": "white",
             "startlinecolor": "#2a3f5f"
            },
            "baxis": {
             "endlinecolor": "#2a3f5f",
             "gridcolor": "white",
             "linecolor": "white",
             "minorgridcolor": "white",
             "startlinecolor": "#2a3f5f"
            },
            "type": "carpet"
           }
          ],
          "choropleth": [
           {
            "colorbar": {
             "outlinewidth": 0,
             "ticks": ""
            },
            "type": "choropleth"
           }
          ],
          "contour": [
           {
            "colorbar": {
             "outlinewidth": 0,
             "ticks": ""
            },
            "colorscale": [
             [
              0,
              "#0d0887"
             ],
             [
              0.1111111111111111,
              "#46039f"
             ],
             [
              0.2222222222222222,
              "#7201a8"
             ],
             [
              0.3333333333333333,
              "#9c179e"
             ],
             [
              0.4444444444444444,
              "#bd3786"
             ],
             [
              0.5555555555555556,
              "#d8576b"
             ],
             [
              0.6666666666666666,
              "#ed7953"
             ],
             [
              0.7777777777777778,
              "#fb9f3a"
             ],
             [
              0.8888888888888888,
              "#fdca26"
             ],
             [
              1,
              "#f0f921"
             ]
            ],
            "type": "contour"
           }
          ],
          "contourcarpet": [
           {
            "colorbar": {
             "outlinewidth": 0,
             "ticks": ""
            },
            "type": "contourcarpet"
           }
          ],
          "heatmap": [
           {
            "colorbar": {
             "outlinewidth": 0,
             "ticks": ""
            },
            "colorscale": [
             [
              0,
              "#0d0887"
             ],
             [
              0.1111111111111111,
              "#46039f"
             ],
             [
              0.2222222222222222,
              "#7201a8"
             ],
             [
              0.3333333333333333,
              "#9c179e"
             ],
             [
              0.4444444444444444,
              "#bd3786"
             ],
             [
              0.5555555555555556,
              "#d8576b"
             ],
             [
              0.6666666666666666,
              "#ed7953"
             ],
             [
              0.7777777777777778,
              "#fb9f3a"
             ],
             [
              0.8888888888888888,
              "#fdca26"
             ],
             [
              1,
              "#f0f921"
             ]
            ],
            "type": "heatmap"
           }
          ],
          "histogram": [
           {
            "marker": {
             "pattern": {
              "fillmode": "overlay",
              "size": 10,
              "solidity": 0.2
             }
            },
            "type": "histogram"
           }
          ],
          "histogram2d": [
           {
            "colorbar": {
             "outlinewidth": 0,
             "ticks": ""
            },
            "colorscale": [
             [
              0,
              "#0d0887"
             ],
             [
              0.1111111111111111,
              "#46039f"
             ],
             [
              0.2222222222222222,
              "#7201a8"
             ],
             [
              0.3333333333333333,
              "#9c179e"
             ],
             [
              0.4444444444444444,
              "#bd3786"
             ],
             [
              0.5555555555555556,
              "#d8576b"
             ],
             [
              0.6666666666666666,
              "#ed7953"
             ],
             [
              0.7777777777777778,
              "#fb9f3a"
             ],
             [
              0.8888888888888888,
              "#fdca26"
             ],
             [
              1,
              "#f0f921"
             ]
            ],
            "type": "histogram2d"
           }
          ],
          "histogram2dcontour": [
           {
            "colorbar": {
             "outlinewidth": 0,
             "ticks": ""
            },
            "colorscale": [
             [
              0,
              "#0d0887"
             ],
             [
              0.1111111111111111,
              "#46039f"
             ],
             [
              0.2222222222222222,
              "#7201a8"
             ],
             [
              0.3333333333333333,
              "#9c179e"
             ],
             [
              0.4444444444444444,
              "#bd3786"
             ],
             [
              0.5555555555555556,
              "#d8576b"
             ],
             [
              0.6666666666666666,
              "#ed7953"
             ],
             [
              0.7777777777777778,
              "#fb9f3a"
             ],
             [
              0.8888888888888888,
              "#fdca26"
             ],
             [
              1,
              "#f0f921"
             ]
            ],
            "type": "histogram2dcontour"
           }
          ],
          "mesh3d": [
           {
            "colorbar": {
             "outlinewidth": 0,
             "ticks": ""
            },
            "type": "mesh3d"
           }
          ],
          "parcoords": [
           {
            "line": {
             "colorbar": {
              "outlinewidth": 0,
              "ticks": ""
             }
            },
            "type": "parcoords"
           }
          ],
          "pie": [
           {
            "automargin": true,
            "type": "pie"
           }
          ],
          "scatter": [
           {
            "fillpattern": {
             "fillmode": "overlay",
             "size": 10,
             "solidity": 0.2
            },
            "type": "scatter"
           }
          ],
          "scatter3d": [
           {
            "line": {
             "colorbar": {
              "outlinewidth": 0,
              "ticks": ""
             }
            },
            "marker": {
             "colorbar": {
              "outlinewidth": 0,
              "ticks": ""
             }
            },
            "type": "scatter3d"
           }
          ],
          "scattercarpet": [
           {
            "marker": {
             "colorbar": {
              "outlinewidth": 0,
              "ticks": ""
             }
            },
            "type": "scattercarpet"
           }
          ],
          "scattergeo": [
           {
            "marker": {
             "colorbar": {
              "outlinewidth": 0,
              "ticks": ""
             }
            },
            "type": "scattergeo"
           }
          ],
          "scattergl": [
           {
            "marker": {
             "colorbar": {
              "outlinewidth": 0,
              "ticks": ""
             }
            },
            "type": "scattergl"
           }
          ],
          "scattermap": [
           {
            "marker": {
             "colorbar": {
              "outlinewidth": 0,
              "ticks": ""
             }
            },
            "type": "scattermap"
           }
          ],
          "scattermapbox": [
           {
            "marker": {
             "colorbar": {
              "outlinewidth": 0,
              "ticks": ""
             }
            },
            "type": "scattermapbox"
           }
          ],
          "scatterpolar": [
           {
            "marker": {
             "colorbar": {
              "outlinewidth": 0,
              "ticks": ""
             }
            },
            "type": "scatterpolar"
           }
          ],
          "scatterpolargl": [
           {
            "marker": {
             "colorbar": {
              "outlinewidth": 0,
              "ticks": ""
             }
            },
            "type": "scatterpolargl"
           }
          ],
          "scatterternary": [
           {
            "marker": {
             "colorbar": {
              "outlinewidth": 0,
              "ticks": ""
             }
            },
            "type": "scatterternary"
           }
          ],
          "surface": [
           {
            "colorbar": {
             "outlinewidth": 0,
             "ticks": ""
            },
            "colorscale": [
             [
              0,
              "#0d0887"
             ],
             [
              0.1111111111111111,
              "#46039f"
             ],
             [
              0.2222222222222222,
              "#7201a8"
             ],
             [
              0.3333333333333333,
              "#9c179e"
             ],
             [
              0.4444444444444444,
              "#bd3786"
             ],
             [
              0.5555555555555556,
              "#d8576b"
             ],
             [
              0.6666666666666666,
              "#ed7953"
             ],
             [
              0.7777777777777778,
              "#fb9f3a"
             ],
             [
              0.8888888888888888,
              "#fdca26"
             ],
             [
              1,
              "#f0f921"
             ]
            ],
            "type": "surface"
           }
          ],
          "table": [
           {
            "cells": {
             "fill": {
              "color": "#EBF0F8"
             },
             "line": {
              "color": "white"
             }
            },
            "header": {
             "fill": {
              "color": "#C8D4E3"
             },
             "line": {
              "color": "white"
             }
            },
            "type": "table"
           }
          ]
         },
         "layout": {
          "annotationdefaults": {
           "arrowcolor": "#2a3f5f",
           "arrowhead": 0,
           "arrowwidth": 1
          },
          "autotypenumbers": "strict",
          "coloraxis": {
           "colorbar": {
            "outlinewidth": 0,
            "ticks": ""
           }
          },
          "colorscale": {
           "diverging": [
            [
             0,
             "#8e0152"
            ],
            [
             0.1,
             "#c51b7d"
            ],
            [
             0.2,
             "#de77ae"
            ],
            [
             0.3,
             "#f1b6da"
            ],
            [
             0.4,
             "#fde0ef"
            ],
            [
             0.5,
             "#f7f7f7"
            ],
            [
             0.6,
             "#e6f5d0"
            ],
            [
             0.7,
             "#b8e186"
            ],
            [
             0.8,
             "#7fbc41"
            ],
            [
             0.9,
             "#4d9221"
            ],
            [
             1,
             "#276419"
            ]
           ],
           "sequential": [
            [
             0,
             "#0d0887"
            ],
            [
             0.1111111111111111,
             "#46039f"
            ],
            [
             0.2222222222222222,
             "#7201a8"
            ],
            [
             0.3333333333333333,
             "#9c179e"
            ],
            [
             0.4444444444444444,
             "#bd3786"
            ],
            [
             0.5555555555555556,
             "#d8576b"
            ],
            [
             0.6666666666666666,
             "#ed7953"
            ],
            [
             0.7777777777777778,
             "#fb9f3a"
            ],
            [
             0.8888888888888888,
             "#fdca26"
            ],
            [
             1,
             "#f0f921"
            ]
           ],
           "sequentialminus": [
            [
             0,
             "#0d0887"
            ],
            [
             0.1111111111111111,
             "#46039f"
            ],
            [
             0.2222222222222222,
             "#7201a8"
            ],
            [
             0.3333333333333333,
             "#9c179e"
            ],
            [
             0.4444444444444444,
             "#bd3786"
            ],
            [
             0.5555555555555556,
             "#d8576b"
            ],
            [
             0.6666666666666666,
             "#ed7953"
            ],
            [
             0.7777777777777778,
             "#fb9f3a"
            ],
            [
             0.8888888888888888,
             "#fdca26"
            ],
            [
             1,
             "#f0f921"
            ]
           ]
          },
          "colorway": [
           "#636efa",
           "#EF553B",
           "#00cc96",
           "#ab63fa",
           "#FFA15A",
           "#19d3f3",
           "#FF6692",
           "#B6E880",
           "#FF97FF",
           "#FECB52"
          ],
          "font": {
           "color": "#2a3f5f"
          },
          "geo": {
           "bgcolor": "white",
           "lakecolor": "white",
           "landcolor": "#E5ECF6",
           "showlakes": true,
           "showland": true,
           "subunitcolor": "white"
          },
          "hoverlabel": {
           "align": "left"
          },
          "hovermode": "closest",
          "mapbox": {
           "style": "light"
          },
          "paper_bgcolor": "white",
          "plot_bgcolor": "#E5ECF6",
          "polar": {
           "angularaxis": {
            "gridcolor": "white",
            "linecolor": "white",
            "ticks": ""
           },
           "bgcolor": "#E5ECF6",
           "radialaxis": {
            "gridcolor": "white",
            "linecolor": "white",
            "ticks": ""
           }
          },
          "scene": {
           "xaxis": {
            "backgroundcolor": "#E5ECF6",
            "gridcolor": "white",
            "gridwidth": 2,
            "linecolor": "white",
            "showbackground": true,
            "ticks": "",
            "zerolinecolor": "white"
           },
           "yaxis": {
            "backgroundcolor": "#E5ECF6",
            "gridcolor": "white",
            "gridwidth": 2,
            "linecolor": "white",
            "showbackground": true,
            "ticks": "",
            "zerolinecolor": "white"
           },
           "zaxis": {
            "backgroundcolor": "#E5ECF6",
            "gridcolor": "white",
            "gridwidth": 2,
            "linecolor": "white",
            "showbackground": true,
            "ticks": "",
            "zerolinecolor": "white"
           }
          },
          "shapedefaults": {
           "line": {
            "color": "#2a3f5f"
           }
          },
          "ternary": {
           "aaxis": {
            "gridcolor": "white",
            "linecolor": "white",
            "ticks": ""
           },
           "baxis": {
            "gridcolor": "white",
            "linecolor": "white",
            "ticks": ""
           },
           "bgcolor": "#E5ECF6",
           "caxis": {
            "gridcolor": "white",
            "linecolor": "white",
            "ticks": ""
           }
          },
          "title": {
           "x": 0.05
          },
          "xaxis": {
           "automargin": true,
           "gridcolor": "white",
           "linecolor": "white",
           "ticks": "",
           "title": {
            "standoff": 15
           },
           "zerolinecolor": "white",
           "zerolinewidth": 2
          },
          "yaxis": {
           "automargin": true,
           "gridcolor": "white",
           "linecolor": "white",
           "ticks": "",
           "title": {
            "standoff": 15
           },
           "zerolinecolor": "white",
           "zerolinewidth": 2
          }
         }
        },
        "title": {
         "text": "Our Rating per Publication Year"
        },
        "xaxis": {
         "anchor": "y",
         "domain": [
          0,
          1
         ],
         "title": {
          "text": "Publication Year"
         }
        },
        "yaxis": {
         "anchor": "x",
         "domain": [
          0,
          1
         ],
         "title": {
          "text": "Average Rating"
         }
        }
       }
      }
     },
     "metadata": {},
     "output_type": "display_data"
    }
   ],
   "source": [
    "plot_df = bookclub_processed_df.with_columns(\n",
    "    [pl.col(\"original_publication_year\").cast(pl.Int32).alias(\"year\")],\n",
    ")\n",
    "df_plot = plot_df.sort(\"year\")\n",
    "\n",
    "# Add the voting members column using map_rows\n",
    "# Only use members who actually exist in the data and have numeric ratings\n",
    "df_with_voting = df_plot.with_columns(\n",
    "    pl.struct(ordered_members)\n",
    "    .map_elements(lambda row: create_voting_text(ordered_members, row), return_dtype=pl.Utf8)\n",
    "    .alias(\"voting_members\"),\n",
    ")\n",
    "\n",
    "fig = px.line(\n",
    "    df_with_voting,\n",
    "    x=\"year\",\n",
    "    y=\"average_bookclub_rating\",\n",
    "    title=\"Our Rating per Publication Year\",\n",
    "    labels={\"year\": \"Publication Year\", \"average_bookclub_rating\": \"Average Rating\"},\n",
    "    markers=True,\n",
    ")\n",
    "\n",
    "# Update hover template for bookclub rating\n",
    "fig.update_traces(\n",
    "    hovertemplate=\"<b>%{customdata[0]}</b><br>\"\n",
    "    \"Author: %{customdata[1]}<br>\"\n",
    "    \"Year: %{x}<br>\"\n",
    "    \"Bookclub Rating: %{y:.2f}<br>\"\n",
    "    \"%{customdata[2]}<extra></extra>\",\n",
    "    customdata=df_with_voting.select([\"title\", \"author\", \"voting_members\"]).to_numpy(),\n",
    ")\n",
    "\n",
    "# Add Goodreads rating as a dashed red line\n",
    "fig.add_trace(\n",
    "    go.Scatter(\n",
    "        x=df_with_voting[\"year\"],\n",
    "        y=df_with_voting[\"average_goodreads_rating\"],\n",
    "        mode=\"lines+markers\",\n",
    "        name=\"Goodreads Rating\",\n",
    "        line={\"color\": \"red\", \"dash\": \"dash\"},\n",
    "        customdata=df_with_voting.select([\"title\", \"author\", \"voting_members\"]).to_numpy(),\n",
    "        hovertemplate=\"<b>%{customdata[0]}</b><br>\"\n",
    "        \"Author: %{customdata[1]}<br>\"\n",
    "        \"Year: %{x}<br>\"\n",
    "        \"Goodreads Rating: %{y:.2f}<br>\"\n",
    "        \"%{customdata[2]}<extra></extra>\",\n",
    "    ),\n",
    ")\n",
    "\n",
    "# Update y-axis label to be more generic\n",
    "fig.update_layout(yaxis_title=\"Average Rating\")\n",
    "\n",
    "fig.show()"
   ]
  },
  {
   "cell_type": "code",
   "execution_count": 10,
   "metadata": {},
   "outputs": [
    {
     "data": {
      "application/vnd.plotly.v1+json": {
       "config": {
        "plotlyServerURL": "https://plot.ly"
       },
       "data": [
        {
         "customdata": [
          [
           "The Road",
           "Cormac McCarthy",
           "Thirsa: 4.0<br>Robert: 5.0<br>Dion: 4.0"
          ],
          [
           "Ready Player One (Ready Player One, #1)",
           "Ernest Cline",
           "Koen_v_W: 4.0<br>Thirsa: 4.0<br>Dion: 4.0"
          ],
          [
           "Do Androids Dream of Electric Sheep?",
           "Philip K. Dick",
           "Koen_v_W: 3.0<br>Peter: 3.0<br>Thirsa: 4.0<br>Robert: 3.0<br>Thomas: 4.0"
          ],
          [
           "Neuromancer (Sprawl, #1)",
           "William Gibson",
           "Peter: 3.0<br>Robert: 3.0"
          ],
          [
           "Starship Troopers",
           "Robert A. Heinlein",
           "Koen_v_W: 3.0<br>Peter: 3.0<br>Thirsa: 3.0<br>Robert: 4.0<br>Dion: 4.0<br>Thomas: 3.0"
          ],
          [
           "Hyperion (Hyperion Cantos, #1)",
           "Dan Simmons",
           "Peter: 3.0<br>Thirsa: 3.0<br>Robert: 5.0<br>Dion: 4.0<br>Thomas: 4.0"
          ],
          [
           "1984",
           "George Orwell",
           "Koen_v_W: 5.0<br>Thirsa: 4.0<br>Robert: 5.0<br>Dion: 5.0<br>Thomas: 5.0"
          ],
          [
           "The Hitchhiker's Guide to the Galaxy (Hitchhiker's Guide to the Galaxy, #1)",
           "Douglas Adams",
           "Koen_v_W: 3.0<br>Dion: 3.0<br>Thomas: 4.0"
          ],
          [
           "The Passion of New Eve",
           "Angela Carter",
           "Koen_v_W: 1.0<br>Peter: 3.0<br>Thirsa: 4.0<br>Robert: 4.0<br>Dion: 3.0<br>Thomas: 2.0"
          ],
          [
           "Fahrenheit 451",
           "Ray Bradbury",
           "Koen_v_W: 3.0<br>Peter: 4.0<br>Thirsa: 3.0<br>Robert: 3.0<br>Dion: 4.0"
          ],
          [
           "The Three-Body Problem (Remembrance of Earth's Past, #1)",
           "Liu Cixin",
           "Koen_v_W: 3.0<br>Peter: 3.0<br>Thirsa: 2.0<br>Robert: 2.0<br>Dion: 3.0"
          ],
          [
           "Lilith's Brood (Xenogenesis, #1-3)",
           "Octavia E. Butler",
           "Thirsa: 4.0<br>Thomas: 4.0"
          ],
          [
           "Blindsight (Firefall, #1)",
           "Peter Watts",
           "Peter: 5.0<br>Robert: 5.0<br>Dion: 4.0<br>Thomas: 5.0"
          ],
          [
           "Under the Skin",
           "Michel Faber",
           "Koen_v_W: 2.0<br>Robert: 3.0<br>Dion: 5.0"
          ],
          [
           "Brave New World",
           "Aldous Huxley",
           "Koen_v_W: 4.0<br>Peter: 4.0<br>Robert: 5.0<br>Dion: 4.0<br>Thomas: 4.0"
          ],
          [
           "The Heart of a Dog",
           "Mikhail Bulgakov",
           "Koen_v_W: 3.0"
          ],
          [
           "The Windup Girl",
           "Paolo Bacigalupi",
           "Koen_v_W: 2.0<br>Peter: 1.0<br>Thirsa: 3.0<br>Robert: 3.0<br>Dion: 3.0"
          ],
          [
           "Watchmen",
           "Alan Moore & Dave Gibbons",
           "Koen_v_W: 4.0<br>Thirsa: 4.0<br>Robert: 4.0<br>Dion: 5.0<br>Thomas: 5.0"
          ],
          [
           "Never Let Me Go",
           "Kazuo Ishiguro",
           "Koen_v_W: 2.0<br>Peter: 3.0<br>Thirsa: 3.0<br>Robert: 4.0<br>Dion: 2.0<br>Thomas: 4.0"
          ],
          [
           "A Canticle for Leibowitz (St. Leibowitz, #1)",
           "Walter M. Miller",
           "Robert: 2.0<br>Dion: 4.0"
          ],
          [
           "Pnin",
           "Vladimir Nabokov",
           "Thirsa: 4.0<br>Robert: 4.0<br>Dion: 4.0"
          ],
          [
           "Fear and Loathing in Las Vegas",
           "Hunter S. Thompson",
           "Koen_v_W: 3.0<br>Robert: 3.0"
          ],
          [
           "High-Rise",
           "J.G. Ballard",
           "Koen_v_W: 4.0<br>Thirsa: 4.0<br>Robert: 3.0<br>Dion: 4.0"
          ],
          [
           "Things Fall Apart (The African Trilogy, #1)",
           "Chinua Achebe",
           "Koen_v_W: 3.0<br>Thirsa: 3.0<br>Robert: 4.0<br>Dion: 4.0<br>Thomas: 5.0"
          ],
          [
           "The Unbearable Lightness of Being",
           "Milan Kundera",
           "Koen_v_W: 2.0<br>Robert: 2.0<br>Dion: 2.0<br>Thomas: 5.0"
          ],
          [
           "Parable of the Sower (Earthseed, #1)",
           "Octavia E. Butler",
           "Koen_v_W: 4.0<br>Thirsa: 4.0<br>Robert: 3.0<br>Dion: 4.0"
          ],
          [
           "Het Slot",
           "Franz Kafka",
           "Koen_v_W: 2.0<br>Robert: 4.0"
          ],
          [
           "1Q84 Book 1 (1Q84, #1)",
           "Haruki Murakami",
           "Koen_v_W: 4.0<br>Dion: 3.0"
          ],
          [
           "Cat's Cradle",
           "Kurt Vonnegut",
           "Koen_v_W: 4.0"
          ],
          [
           "The Left Hand of Darkness",
           "Ursula K. Le Guin",
           "Koen_v_W: 2.0<br>Thirsa: 3.0<br>Robert: 4.0<br>Dion: 4.0<br>Thomas: 4.0"
          ],
          [
           "The Power",
           "Naomi Alderman",
           "Koen_v_W: 4.0<br>Robert: 5.0<br>Dion: 2.0<br>Thomas: 4.0"
          ],
          [
           "The Gambler",
           "Fyodor Dostoyevsky",
           "Koen_v_W: 3.0<br>Robert: 2.0<br>Dion: 4.0"
          ],
          [
           "Fight Club",
           "Chuck Palahniuk",
           "Koen_v_W: 4.0<br>Thirsa: 4.0<br>Robert: 3.5<br>Dion: 4.0"
          ],
          [
           "The Book of Illusions",
           "Paul Auster",
           "Koen_v_W: 3.0<br>Robert: 2.0<br>Dion: 3.0<br>Thomas: 3.0"
          ],
          [
           "Post Office",
           "Charles Bukowski",
           "Peter: 4.0<br>Robert: 3.0<br>Dion: 3.0"
          ],
          [
           "Catch-22",
           "Joseph Heller",
           "Thirsa: 4.0<br>Robert: 4.0<br>Dion: 4.0"
          ],
          [
           "Ivanov",
           "Hanna Bervoets",
           "Koen_v_W: 3.0<br>Peter: 3.0<br>Thirsa: 3.0<br>Robert: 2.0<br>Dion: 2.0"
          ],
          [
           "The Algebraist",
           "Iain M. Banks",
           "Peter: 3.0<br>Robert: 3.0<br>Dion: 3.0"
          ],
          [
           "The Gone-Away World",
           "Nick Harkaway",
           "Robert: 5.0<br>Dion: 4.0"
          ],
          [
           "De Pest",
           "Albert Camus",
           "Koen_v_W: 4.0<br>Peter: 5.0<br>Thirsa: 4.0<br>Robert: 3.0"
          ],
          [
           "Oryx and Crake (MaddAddam, #1)",
           "Margaret Atwood",
           "Koen_v_W: 4.0<br>Peter: 4.0<br>Robert: 3.0<br>Dion: 4.0"
          ],
          [
           "Solaris",
           "Stanislaw Lem",
           "Koen_v_W: 2.0<br>Peter: 4.0<br>Thirsa: 3.0<br>Robert: 4.0<br>Dion: 4.0<br>Thomas: 3.0"
          ],
          [
           "Who Fears Death",
           "Nnedi Okarafor",
           "Koen_v_W: 1.0<br>Thirsa: 2.0<br>Robert: 2.0<br>Dion: 2.0"
          ],
          [
           "A Clockwork Orange",
           "Anthony Burgess",
           "Koen_v_W: 3.0<br>Robert: 3.0<br>Dion: 4.5<br>Thomas: 5.0"
          ],
          [
           "Stranger in a Strange Land",
           "Robert A. Heinlein",
           "Robert: 2.0<br>Dion: 3.0"
          ],
          [
           "The Dispossessed: An Ambiguous Utopia",
           "Ursula K. Le Guin",
           "Koen_v_W: 3.0<br>Peter: 3.0<br>Robert: 4.0"
          ],
          [
           "Klont",
           "Maxim Februari",
           "Koen_v_W: 3.0<br>Peter: 3.0<br>Robert: 3.0<br>Dion: 4.0"
          ],
          [
           "De avond is ongemak",
           "Marieke Lucas Rijneveld",
           "Koen_v_W: 3.0<br>Peter: 4.0<br>Thirsa: 4.0<br>Robert: 3.0"
          ],
          [
           "De avond is ongemak",
           "Marieke Lucas Rijneveld",
           "Dion: 4.0"
          ],
          [
           "The Drowned World",
           "J.G. Ballard",
           "Koen_v_W: 2.0<br>Peter: 1.0<br>Thirsa: 3.0<br>Robert: 2.0<br>Dion: 3.0"
          ],
          [
           "Het ijs",
           "Anna Kavan",
           "Koen_v_W: 2.0<br>Peter: 4.0"
          ],
          [
           "Mother Night",
           "Kurt Vonnegut",
           "Koen_v_W: 3.0<br>Thirsa: 4.0<br>Robert: 5.0<br>Dion: 4.0"
          ],
          [
           "The Island of Dr. Moreau",
           "H.G. Wells",
           "Koen_v_W: 4.0<br>Peter: 3.0<br>Robert: 3.0<br>Dion: 4.0"
          ],
          [
           "House of Leaves",
           "Mark Z. Danielewski",
           "Robert: 5.0<br>Dion: 3.0"
          ],
          [
           "Zero K",
           "Don DeLillo",
           "Peter: 3.0<br>Robert: 2.0<br>Dion: 2.0"
          ],
          [
           "De Opkomst van de Meritocratie",
           "Michael Young",
           "Thirsa: 4.0<br>Robert: 3.0<br>Dion: 4.0"
          ],
          [
           "Station Eleven",
           "Emily St. John Mandel",
           "Koen_v_W: 4.0<br>Peter: 3.0<br>Thirsa: 3.0<br>Robert: 3.0<br>Dion: 3.0"
          ],
          [
           "Ancillary Justice (Imperial Radch, #1)",
           "Ann Leckie",
           "Koen_v_W: 2.0<br>Peter: 3.0<br>Robert: 3.0<br>Dion: 4.0<br>Thomas: 4.0"
          ],
          [
           "Tussentijds",
           "Peter Zantingh",
           "Koen_v_W: 3.0<br>Thirsa: 2.0<br>Robert: 3.0<br>Dion: 3.0"
          ],
          [
           "Tender is the Flesh",
           "Agustina Bazterrica",
           "Koen_v_W: 5.0<br>Peter: 5.0<br>Robert: 5.0<br>Dion: 4.0"
          ],
          [
           "Snow Crash",
           "Neal Stephenson",
           "Koen_v_W: 2.0<br>Peter: 3.0<br>Thirsa: 3.0<br>Robert: 3.0<br>Dion: 5.0<br>Thomas: 2.0"
          ],
          [
           "Bewilderment",
           "Richard Powers",
           "Koen_v_W: 4.0<br>Peter: 5.0<br>Thirsa: 4.0<br>Thomas: 3.0"
          ],
          [
           "Oorlog met de salamanders",
           "Karel Capek",
           "Koen_v_W: 4.0<br>Peter: 4.0<br>Thirsa: 4.0<br>Robert: 4.0<br>Dion: 5.0<br>Thomas: 3.0"
          ],
          [
           "Roadside Picnic",
           "Arkady Strugatsky",
           "Koen_v_W: 4.0<br>Peter: 3.0<br>Thirsa: 4.0<br>Robert: 4.0<br>Dion: 4.0<br>Thomas: 5.0"
          ],
          [
           "Kroniek van een aangekondigde dood",
           "Gabriel Garcia Marquez",
           "Koen_v_W: 2.0<br>Peter: 3.0<br>Robert: 3.0"
          ],
          [
           "The City & the City",
           "China Miéville",
           "Koen_M: 2.0<br>Koen_v_W: 4.0<br>Peter: 4.0<br>Thirsa: 3.0<br>Robert: 3.0<br>Dion: 3.0"
          ],
          [
           "His Master's Voice",
           "Stanislaw Lem",
           "Koen_M: 3.0<br>Koen_v_W: 3.0<br>Peter: 4.0<br>Robert: 5.0<br>Dion: 4.0<br>Thomas: 5.0"
          ],
          [
           "Concept M",
           "Aafke Romeijn",
           "Koen_M: 2.0<br>Koen_v_W: 3.0<br>Peter: 3.0<br>Thirsa: 3.0<br>Robert: 3.0<br>Dion: 3.0<br>Thomas: 2.0"
          ],
          [
           "Galapagos",
           "Kurt Vonnegut",
           "Koen_M: 4.0<br>Koen_v_W: 3.0<br>Peter: 3.0<br>Thirsa: 3.0<br>Robert: 3.0"
          ],
          [
           "The Vegetarian",
           "Han Kang",
           "Koen_M: 2.0<br>Koen_v_W: 4.0<br>Peter: 4.0<br>Thirsa: 4.0<br>Robert: 4.0<br>Dion: 3.0<br>Thomas: 5.0"
          ],
          [
           "Dark Matter",
           "Blake Crouch",
           "Koen_M: 1.0<br>Koen_v_W: 2.0<br>Peter: 1.0<br>Thirsa: 2.0<br>Robert: 2.0<br>Dion: 2.0<br>Thomas: 2.0"
          ],
          [
           "Lord of Light",
           "Roger Zelazny",
           "Koen_M: 2.0<br>Koen_v_W: 2.0<br>Peter: 2.0<br>Thirsa: 2.0<br>Robert: 2.0<br>Dion: 4.0<br>Thomas: 2.0"
          ],
          [
           "I who have never known men",
           "Jacqueline Harpman",
           "Koen_M: 4.0<br>Koen_v_W: 5.0<br>Peter: 5.0<br>Thirsa: 4.0<br>Robert: 5.0<br>Dion: 5.0<br>Thomas: 5.0<br>Marloes: 4.0"
          ]
         ],
         "hovertemplate": "<b>%{customdata[0]}</b><br>Author: %{customdata[1]}<br>Date: %{x|%Y-%m-%d}<br>Bookclub Rating: %{y:.2f}<br>%{customdata[2]}<extra></extra>",
         "mode": "lines+markers",
         "name": "Bookclub Rating",
         "type": "scatter",
         "x": [
          "2014-10-19",
          "2014-11-26",
          "2015-01-27",
          "2015-04-14",
          "2015-06-08",
          "2015-07-23",
          "2015-09-14",
          "2015-11-16",
          "2016-01-05",
          "2016-02-16",
          "2016-03-29",
          "2016-05-10",
          "2016-09-06",
          "2016-09-06",
          "2016-10-12",
          "2016-11-30",
          "2017-01-18",
          "2017-03-14",
          "2017-05-02",
          "2017-06-01",
          "2017-07-11",
          "2017-09-08",
          "2017-10-30",
          "2017-12-05",
          "2018-01-17",
          "2018-02-19",
          "2018-04-25",
          "2018-06-06",
          "2018-07-03",
          "2018-09-11",
          "2018-10-15",
          "2018-11-30",
          "2019-01-09",
          "2019-04-17",
          "2019-05-22",
          "2019-07-10",
          "2019-09-04",
          "2019-10-18",
          "2019-12-20",
          "2020-02-03",
          "2020-04-04",
          "2020-05-02",
          "2020-06-19",
          "2020-08-04",
          "2020-09-21",
          "2020-11-18",
          "2021-01-05",
          "2021-02-17",
          "2021-02-17",
          "2021-04-04",
          "2021-08-13",
          "2021-10-16",
          "2021-12-08",
          "2022-02-02",
          "2022-03-31",
          "2022-09-07",
          "2022-11-10",
          "2023-01-06",
          "2023-03-03",
          "2023-04-22",
          "2023-07-07",
          "2023-09-03",
          "2023-11-05",
          "2023-12-16",
          "2024-01-26",
          "2024-04-07",
          "2024-05-24",
          "2024-07-20",
          "2024-09-11",
          "2024-11-08",
          "2025-03-23",
          "2025-05-21",
          "2025-07-13"
         ],
         "y": {
          "bdata": "VVVVVVVVEUAAAAAAAAAQQDMzMzMzMwtAAAAAAAAACECrqqqqqqoKQGZmZmZmZg5AMzMzMzMzE0CrqqqqqqoKQKuqqqqqqgZAMzMzMzMzC0DNzMzMzMwEQAAAAAAAABBAAAAAAAAAE0CrqqqqqqoKQM3MzMzMzBBAAAAAAAAACEAzMzMzMzMDQJqZmZmZmRFAAAAAAAAACEAAAAAAAAAIQAAAAAAAABBAAAAAAAAACEAAAAAAAAAOQGZmZmZmZg5AAAAAAAAABkAAAAAAAAAOQAAAAAAAAAhAAAAAAAAADEAAAAAAAAAQQDMzMzMzMwtAAAAAAAAADkAAAAAAAAAIQAAAAAAAAA9AAAAAAAAABkCrqqqqqqoKQAAAAAAAABBAzczMzMzMBEAAAAAAAAAIQAAAAAAAABJAAAAAAAAAEEAAAAAAAAAOQKuqqqqqqgpAAAAAAAAA/D8AAAAAAAAPQAAAAAAAAARAq6qqqqqqCkAAAAAAAAAKQAAAAAAAAAxAAAAAAAAAEECamZmZmZkBQAAAAAAAAAhAAAAAAAAAEEAAAAAAAAAMQAAAAAAAABBAq6qqqqqqAkBVVVVVVVUNQJqZmZmZmQlAmpmZmZmZCUAAAAAAAAAGQAAAAAAAABNAAAAAAAAACEAAAAAAAAAQQAAAAAAAABBAAAAAAAAAEEBVVVVVVVUFQFVVVVVVVQlAAAAAAAAAEEBu27Zt27YFQAAAAAAAAAxAAAAAAAAAEEAAAAAAAAAAQAAAAAAAAAhAq6qqqqqqEkA=",
          "dtype": "f8"
         }
        },
        {
         "customdata": [
          [
           "The Road",
           "Cormac McCarthy",
           "Thirsa: 4.0<br>Robert: 5.0<br>Dion: 4.0"
          ],
          [
           "Ready Player One (Ready Player One, #1)",
           "Ernest Cline",
           "Koen_v_W: 4.0<br>Thirsa: 4.0<br>Dion: 4.0"
          ],
          [
           "Do Androids Dream of Electric Sheep?",
           "Philip K. Dick",
           "Koen_v_W: 3.0<br>Peter: 3.0<br>Thirsa: 4.0<br>Robert: 3.0<br>Thomas: 4.0"
          ],
          [
           "Neuromancer (Sprawl, #1)",
           "William Gibson",
           "Peter: 3.0<br>Robert: 3.0"
          ],
          [
           "Starship Troopers",
           "Robert A. Heinlein",
           "Koen_v_W: 3.0<br>Peter: 3.0<br>Thirsa: 3.0<br>Robert: 4.0<br>Dion: 4.0<br>Thomas: 3.0"
          ],
          [
           "Hyperion (Hyperion Cantos, #1)",
           "Dan Simmons",
           "Peter: 3.0<br>Thirsa: 3.0<br>Robert: 5.0<br>Dion: 4.0<br>Thomas: 4.0"
          ],
          [
           "1984",
           "George Orwell",
           "Koen_v_W: 5.0<br>Thirsa: 4.0<br>Robert: 5.0<br>Dion: 5.0<br>Thomas: 5.0"
          ],
          [
           "The Hitchhiker's Guide to the Galaxy (Hitchhiker's Guide to the Galaxy, #1)",
           "Douglas Adams",
           "Koen_v_W: 3.0<br>Dion: 3.0<br>Thomas: 4.0"
          ],
          [
           "The Passion of New Eve",
           "Angela Carter",
           "Koen_v_W: 1.0<br>Peter: 3.0<br>Thirsa: 4.0<br>Robert: 4.0<br>Dion: 3.0<br>Thomas: 2.0"
          ],
          [
           "Fahrenheit 451",
           "Ray Bradbury",
           "Koen_v_W: 3.0<br>Peter: 4.0<br>Thirsa: 3.0<br>Robert: 3.0<br>Dion: 4.0"
          ],
          [
           "The Three-Body Problem (Remembrance of Earth's Past, #1)",
           "Liu Cixin",
           "Koen_v_W: 3.0<br>Peter: 3.0<br>Thirsa: 2.0<br>Robert: 2.0<br>Dion: 3.0"
          ],
          [
           "Lilith's Brood (Xenogenesis, #1-3)",
           "Octavia E. Butler",
           "Thirsa: 4.0<br>Thomas: 4.0"
          ],
          [
           "Blindsight (Firefall, #1)",
           "Peter Watts",
           "Peter: 5.0<br>Robert: 5.0<br>Dion: 4.0<br>Thomas: 5.0"
          ],
          [
           "Under the Skin",
           "Michel Faber",
           "Koen_v_W: 2.0<br>Robert: 3.0<br>Dion: 5.0"
          ],
          [
           "Brave New World",
           "Aldous Huxley",
           "Koen_v_W: 4.0<br>Peter: 4.0<br>Robert: 5.0<br>Dion: 4.0<br>Thomas: 4.0"
          ],
          [
           "The Heart of a Dog",
           "Mikhail Bulgakov",
           "Koen_v_W: 3.0"
          ],
          [
           "The Windup Girl",
           "Paolo Bacigalupi",
           "Koen_v_W: 2.0<br>Peter: 1.0<br>Thirsa: 3.0<br>Robert: 3.0<br>Dion: 3.0"
          ],
          [
           "Watchmen",
           "Alan Moore & Dave Gibbons",
           "Koen_v_W: 4.0<br>Thirsa: 4.0<br>Robert: 4.0<br>Dion: 5.0<br>Thomas: 5.0"
          ],
          [
           "Never Let Me Go",
           "Kazuo Ishiguro",
           "Koen_v_W: 2.0<br>Peter: 3.0<br>Thirsa: 3.0<br>Robert: 4.0<br>Dion: 2.0<br>Thomas: 4.0"
          ],
          [
           "A Canticle for Leibowitz (St. Leibowitz, #1)",
           "Walter M. Miller",
           "Robert: 2.0<br>Dion: 4.0"
          ],
          [
           "Pnin",
           "Vladimir Nabokov",
           "Thirsa: 4.0<br>Robert: 4.0<br>Dion: 4.0"
          ],
          [
           "Fear and Loathing in Las Vegas",
           "Hunter S. Thompson",
           "Koen_v_W: 3.0<br>Robert: 3.0"
          ],
          [
           "High-Rise",
           "J.G. Ballard",
           "Koen_v_W: 4.0<br>Thirsa: 4.0<br>Robert: 3.0<br>Dion: 4.0"
          ],
          [
           "Things Fall Apart (The African Trilogy, #1)",
           "Chinua Achebe",
           "Koen_v_W: 3.0<br>Thirsa: 3.0<br>Robert: 4.0<br>Dion: 4.0<br>Thomas: 5.0"
          ],
          [
           "The Unbearable Lightness of Being",
           "Milan Kundera",
           "Koen_v_W: 2.0<br>Robert: 2.0<br>Dion: 2.0<br>Thomas: 5.0"
          ],
          [
           "Parable of the Sower (Earthseed, #1)",
           "Octavia E. Butler",
           "Koen_v_W: 4.0<br>Thirsa: 4.0<br>Robert: 3.0<br>Dion: 4.0"
          ],
          [
           "Het Slot",
           "Franz Kafka",
           "Koen_v_W: 2.0<br>Robert: 4.0"
          ],
          [
           "1Q84 Book 1 (1Q84, #1)",
           "Haruki Murakami",
           "Koen_v_W: 4.0<br>Dion: 3.0"
          ],
          [
           "Cat's Cradle",
           "Kurt Vonnegut",
           "Koen_v_W: 4.0"
          ],
          [
           "The Left Hand of Darkness",
           "Ursula K. Le Guin",
           "Koen_v_W: 2.0<br>Thirsa: 3.0<br>Robert: 4.0<br>Dion: 4.0<br>Thomas: 4.0"
          ],
          [
           "The Power",
           "Naomi Alderman",
           "Koen_v_W: 4.0<br>Robert: 5.0<br>Dion: 2.0<br>Thomas: 4.0"
          ],
          [
           "The Gambler",
           "Fyodor Dostoyevsky",
           "Koen_v_W: 3.0<br>Robert: 2.0<br>Dion: 4.0"
          ],
          [
           "Fight Club",
           "Chuck Palahniuk",
           "Koen_v_W: 4.0<br>Thirsa: 4.0<br>Robert: 3.5<br>Dion: 4.0"
          ],
          [
           "The Book of Illusions",
           "Paul Auster",
           "Koen_v_W: 3.0<br>Robert: 2.0<br>Dion: 3.0<br>Thomas: 3.0"
          ],
          [
           "Post Office",
           "Charles Bukowski",
           "Peter: 4.0<br>Robert: 3.0<br>Dion: 3.0"
          ],
          [
           "Catch-22",
           "Joseph Heller",
           "Thirsa: 4.0<br>Robert: 4.0<br>Dion: 4.0"
          ],
          [
           "Ivanov",
           "Hanna Bervoets",
           "Koen_v_W: 3.0<br>Peter: 3.0<br>Thirsa: 3.0<br>Robert: 2.0<br>Dion: 2.0"
          ],
          [
           "The Algebraist",
           "Iain M. Banks",
           "Peter: 3.0<br>Robert: 3.0<br>Dion: 3.0"
          ],
          [
           "The Gone-Away World",
           "Nick Harkaway",
           "Robert: 5.0<br>Dion: 4.0"
          ],
          [
           "De Pest",
           "Albert Camus",
           "Koen_v_W: 4.0<br>Peter: 5.0<br>Thirsa: 4.0<br>Robert: 3.0"
          ],
          [
           "Oryx and Crake (MaddAddam, #1)",
           "Margaret Atwood",
           "Koen_v_W: 4.0<br>Peter: 4.0<br>Robert: 3.0<br>Dion: 4.0"
          ],
          [
           "Solaris",
           "Stanislaw Lem",
           "Koen_v_W: 2.0<br>Peter: 4.0<br>Thirsa: 3.0<br>Robert: 4.0<br>Dion: 4.0<br>Thomas: 3.0"
          ],
          [
           "Who Fears Death",
           "Nnedi Okarafor",
           "Koen_v_W: 1.0<br>Thirsa: 2.0<br>Robert: 2.0<br>Dion: 2.0"
          ],
          [
           "A Clockwork Orange",
           "Anthony Burgess",
           "Koen_v_W: 3.0<br>Robert: 3.0<br>Dion: 4.5<br>Thomas: 5.0"
          ],
          [
           "Stranger in a Strange Land",
           "Robert A. Heinlein",
           "Robert: 2.0<br>Dion: 3.0"
          ],
          [
           "The Dispossessed: An Ambiguous Utopia",
           "Ursula K. Le Guin",
           "Koen_v_W: 3.0<br>Peter: 3.0<br>Robert: 4.0"
          ],
          [
           "Klont",
           "Maxim Februari",
           "Koen_v_W: 3.0<br>Peter: 3.0<br>Robert: 3.0<br>Dion: 4.0"
          ],
          [
           "De avond is ongemak",
           "Marieke Lucas Rijneveld",
           "Koen_v_W: 3.0<br>Peter: 4.0<br>Thirsa: 4.0<br>Robert: 3.0"
          ],
          [
           "De avond is ongemak",
           "Marieke Lucas Rijneveld",
           "Dion: 4.0"
          ],
          [
           "The Drowned World",
           "J.G. Ballard",
           "Koen_v_W: 2.0<br>Peter: 1.0<br>Thirsa: 3.0<br>Robert: 2.0<br>Dion: 3.0"
          ],
          [
           "Het ijs",
           "Anna Kavan",
           "Koen_v_W: 2.0<br>Peter: 4.0"
          ],
          [
           "Mother Night",
           "Kurt Vonnegut",
           "Koen_v_W: 3.0<br>Thirsa: 4.0<br>Robert: 5.0<br>Dion: 4.0"
          ],
          [
           "The Island of Dr. Moreau",
           "H.G. Wells",
           "Koen_v_W: 4.0<br>Peter: 3.0<br>Robert: 3.0<br>Dion: 4.0"
          ],
          [
           "House of Leaves",
           "Mark Z. Danielewski",
           "Robert: 5.0<br>Dion: 3.0"
          ],
          [
           "Zero K",
           "Don DeLillo",
           "Peter: 3.0<br>Robert: 2.0<br>Dion: 2.0"
          ],
          [
           "De Opkomst van de Meritocratie",
           "Michael Young",
           "Thirsa: 4.0<br>Robert: 3.0<br>Dion: 4.0"
          ],
          [
           "Station Eleven",
           "Emily St. John Mandel",
           "Koen_v_W: 4.0<br>Peter: 3.0<br>Thirsa: 3.0<br>Robert: 3.0<br>Dion: 3.0"
          ],
          [
           "Ancillary Justice (Imperial Radch, #1)",
           "Ann Leckie",
           "Koen_v_W: 2.0<br>Peter: 3.0<br>Robert: 3.0<br>Dion: 4.0<br>Thomas: 4.0"
          ],
          [
           "Tussentijds",
           "Peter Zantingh",
           "Koen_v_W: 3.0<br>Thirsa: 2.0<br>Robert: 3.0<br>Dion: 3.0"
          ],
          [
           "Tender is the Flesh",
           "Agustina Bazterrica",
           "Koen_v_W: 5.0<br>Peter: 5.0<br>Robert: 5.0<br>Dion: 4.0"
          ],
          [
           "Snow Crash",
           "Neal Stephenson",
           "Koen_v_W: 2.0<br>Peter: 3.0<br>Thirsa: 3.0<br>Robert: 3.0<br>Dion: 5.0<br>Thomas: 2.0"
          ],
          [
           "Bewilderment",
           "Richard Powers",
           "Koen_v_W: 4.0<br>Peter: 5.0<br>Thirsa: 4.0<br>Thomas: 3.0"
          ],
          [
           "Oorlog met de salamanders",
           "Karel Capek",
           "Koen_v_W: 4.0<br>Peter: 4.0<br>Thirsa: 4.0<br>Robert: 4.0<br>Dion: 5.0<br>Thomas: 3.0"
          ],
          [
           "Roadside Picnic",
           "Arkady Strugatsky",
           "Koen_v_W: 4.0<br>Peter: 3.0<br>Thirsa: 4.0<br>Robert: 4.0<br>Dion: 4.0<br>Thomas: 5.0"
          ],
          [
           "Kroniek van een aangekondigde dood",
           "Gabriel Garcia Marquez",
           "Koen_v_W: 2.0<br>Peter: 3.0<br>Robert: 3.0"
          ],
          [
           "The City & the City",
           "China Miéville",
           "Koen_M: 2.0<br>Koen_v_W: 4.0<br>Peter: 4.0<br>Thirsa: 3.0<br>Robert: 3.0<br>Dion: 3.0"
          ],
          [
           "His Master's Voice",
           "Stanislaw Lem",
           "Koen_M: 3.0<br>Koen_v_W: 3.0<br>Peter: 4.0<br>Robert: 5.0<br>Dion: 4.0<br>Thomas: 5.0"
          ],
          [
           "Concept M",
           "Aafke Romeijn",
           "Koen_M: 2.0<br>Koen_v_W: 3.0<br>Peter: 3.0<br>Thirsa: 3.0<br>Robert: 3.0<br>Dion: 3.0<br>Thomas: 2.0"
          ],
          [
           "Galapagos",
           "Kurt Vonnegut",
           "Koen_M: 4.0<br>Koen_v_W: 3.0<br>Peter: 3.0<br>Thirsa: 3.0<br>Robert: 3.0"
          ],
          [
           "The Vegetarian",
           "Han Kang",
           "Koen_M: 2.0<br>Koen_v_W: 4.0<br>Peter: 4.0<br>Thirsa: 4.0<br>Robert: 4.0<br>Dion: 3.0<br>Thomas: 5.0"
          ],
          [
           "Dark Matter",
           "Blake Crouch",
           "Koen_M: 1.0<br>Koen_v_W: 2.0<br>Peter: 1.0<br>Thirsa: 2.0<br>Robert: 2.0<br>Dion: 2.0<br>Thomas: 2.0"
          ],
          [
           "Lord of Light",
           "Roger Zelazny",
           "Koen_M: 2.0<br>Koen_v_W: 2.0<br>Peter: 2.0<br>Thirsa: 2.0<br>Robert: 2.0<br>Dion: 4.0<br>Thomas: 2.0"
          ],
          [
           "I who have never known men",
           "Jacqueline Harpman",
           "Koen_M: 4.0<br>Koen_v_W: 5.0<br>Peter: 5.0<br>Thirsa: 4.0<br>Robert: 5.0<br>Dion: 5.0<br>Thomas: 5.0<br>Marloes: 4.0"
          ]
         ],
         "hovertemplate": "<b>%{customdata[0]}</b><br>Author: %{customdata[1]}<br>Date: %{x|%Y-%m-%d}<br>Goodreads Rating: %{y:.2f}<br>%{customdata[2]}<extra></extra>",
         "line": {
          "dash": "dash"
         },
         "mode": "lines+markers",
         "name": "Goodreads Rating",
         "type": "scatter",
         "x": [
          "2014-10-19",
          "2014-11-26",
          "2015-01-27",
          "2015-04-14",
          "2015-06-08",
          "2015-07-23",
          "2015-09-14",
          "2015-11-16",
          "2016-01-05",
          "2016-02-16",
          "2016-03-29",
          "2016-05-10",
          "2016-09-06",
          "2016-09-06",
          "2016-10-12",
          "2016-11-30",
          "2017-01-18",
          "2017-03-14",
          "2017-05-02",
          "2017-06-01",
          "2017-07-11",
          "2017-09-08",
          "2017-10-30",
          "2017-12-05",
          "2018-01-17",
          "2018-02-19",
          "2018-04-25",
          "2018-06-06",
          "2018-07-03",
          "2018-09-11",
          "2018-10-15",
          "2018-11-30",
          "2019-01-09",
          "2019-04-17",
          "2019-05-22",
          "2019-07-10",
          "2019-09-04",
          "2019-10-18",
          "2019-12-20",
          "2020-02-03",
          "2020-04-04",
          "2020-05-02",
          "2020-06-19",
          "2020-08-04",
          "2020-09-21",
          "2020-11-18",
          "2021-01-05",
          "2021-02-17",
          "2021-02-17",
          "2021-04-04",
          "2021-08-13",
          "2021-10-16",
          "2021-12-08",
          "2022-02-02",
          "2022-03-31",
          "2022-09-07",
          "2022-11-10",
          "2023-01-06",
          "2023-03-03",
          "2023-04-22",
          "2023-07-07",
          "2023-09-03",
          "2023-11-05",
          "2023-12-16",
          "2024-01-26",
          "2024-04-07",
          "2024-05-24",
          "2024-07-20",
          "2024-09-11",
          "2024-11-08",
          "2025-03-23",
          "2025-05-21",
          "2025-07-13"
         ],
         "y": {
          "bdata": "84slv1jyD0DsUbgehesQQFyPwvUoXBBAH4XrUbgeD0AJ16NwPQoQQBSuR+F6FBFALrKd76fGEEDkF0t+seQQQF2PwvUoXA1AGgRWDi2yD0BSuB6F61EQQHsUrkfhehFACtejcD0KEEAAAAAAAAAOQO1RuB6F6w9AZmZmZmZmEEAAAAAAAAAOQO+nxks3iRFAzczMzMzMDkDiehSuR+EPQBhLfrHkFw9ASOF6FK5HEEBcj8L1KNwMQBbZzvdT4w1AcT0K16NwEEAVrkfhetQQQHE9CtejcA9ApHA9CtejD0CamZmZmZkQQGZmZmZmZhBACtejcD0KDkBI4XoUrkcPQLgehetRuBBAMzMzMzMzD0BxPQrXo3APQOxRuB6F6w9A9ihcj8L1DEAjIiIiIiIQQGZmZmZmZhBAFK5H4XoUEEBI4XoUrgcQQO1RuB6F6w9AAAAAAACAD0AAAAAAAAAQQFyPwvUoXA9AAAAAAAAAEUCuR+F6FC4IQJqZmZmZmQtAmpmZmZmZC0Bt5/up8dILQFK4HoXrUQ1A7FG4HoXrEEDXo3A9CtcNQFyPwvUoXBBAk18s+cWSCUBgLPnFkl8OQEjhehSuRxBA7VG4HoXrD0CQwvUoXI8OQML1KFyPQg5AEREREREREEDNzMzMzEwPQK9H4XoUrhBAjCW/WPKLEEDD9Shcj8IPQDMzMzMzMw9A16NwPQpXEECamZmZmZkLQPYoXI/C9Q5A7+7u7u7uDECPwvUoXI8QQDMzMzMzMxBAq6qqqqqqEEA=",
          "dtype": "f8"
         }
        }
       ],
       "layout": {
        "template": {
         "data": {
          "bar": [
           {
            "error_x": {
             "color": "#2a3f5f"
            },
            "error_y": {
             "color": "#2a3f5f"
            },
            "marker": {
             "line": {
              "color": "white",
              "width": 0.5
             },
             "pattern": {
              "fillmode": "overlay",
              "size": 10,
              "solidity": 0.2
             }
            },
            "type": "bar"
           }
          ],
          "barpolar": [
           {
            "marker": {
             "line": {
              "color": "white",
              "width": 0.5
             },
             "pattern": {
              "fillmode": "overlay",
              "size": 10,
              "solidity": 0.2
             }
            },
            "type": "barpolar"
           }
          ],
          "carpet": [
           {
            "aaxis": {
             "endlinecolor": "#2a3f5f",
             "gridcolor": "#C8D4E3",
             "linecolor": "#C8D4E3",
             "minorgridcolor": "#C8D4E3",
             "startlinecolor": "#2a3f5f"
            },
            "baxis": {
             "endlinecolor": "#2a3f5f",
             "gridcolor": "#C8D4E3",
             "linecolor": "#C8D4E3",
             "minorgridcolor": "#C8D4E3",
             "startlinecolor": "#2a3f5f"
            },
            "type": "carpet"
           }
          ],
          "choropleth": [
           {
            "colorbar": {
             "outlinewidth": 0,
             "ticks": ""
            },
            "type": "choropleth"
           }
          ],
          "contour": [
           {
            "colorbar": {
             "outlinewidth": 0,
             "ticks": ""
            },
            "colorscale": [
             [
              0,
              "#0d0887"
             ],
             [
              0.1111111111111111,
              "#46039f"
             ],
             [
              0.2222222222222222,
              "#7201a8"
             ],
             [
              0.3333333333333333,
              "#9c179e"
             ],
             [
              0.4444444444444444,
              "#bd3786"
             ],
             [
              0.5555555555555556,
              "#d8576b"
             ],
             [
              0.6666666666666666,
              "#ed7953"
             ],
             [
              0.7777777777777778,
              "#fb9f3a"
             ],
             [
              0.8888888888888888,
              "#fdca26"
             ],
             [
              1,
              "#f0f921"
             ]
            ],
            "type": "contour"
           }
          ],
          "contourcarpet": [
           {
            "colorbar": {
             "outlinewidth": 0,
             "ticks": ""
            },
            "type": "contourcarpet"
           }
          ],
          "heatmap": [
           {
            "colorbar": {
             "outlinewidth": 0,
             "ticks": ""
            },
            "colorscale": [
             [
              0,
              "#0d0887"
             ],
             [
              0.1111111111111111,
              "#46039f"
             ],
             [
              0.2222222222222222,
              "#7201a8"
             ],
             [
              0.3333333333333333,
              "#9c179e"
             ],
             [
              0.4444444444444444,
              "#bd3786"
             ],
             [
              0.5555555555555556,
              "#d8576b"
             ],
             [
              0.6666666666666666,
              "#ed7953"
             ],
             [
              0.7777777777777778,
              "#fb9f3a"
             ],
             [
              0.8888888888888888,
              "#fdca26"
             ],
             [
              1,
              "#f0f921"
             ]
            ],
            "type": "heatmap"
           }
          ],
          "histogram": [
           {
            "marker": {
             "pattern": {
              "fillmode": "overlay",
              "size": 10,
              "solidity": 0.2
             }
            },
            "type": "histogram"
           }
          ],
          "histogram2d": [
           {
            "colorbar": {
             "outlinewidth": 0,
             "ticks": ""
            },
            "colorscale": [
             [
              0,
              "#0d0887"
             ],
             [
              0.1111111111111111,
              "#46039f"
             ],
             [
              0.2222222222222222,
              "#7201a8"
             ],
             [
              0.3333333333333333,
              "#9c179e"
             ],
             [
              0.4444444444444444,
              "#bd3786"
             ],
             [
              0.5555555555555556,
              "#d8576b"
             ],
             [
              0.6666666666666666,
              "#ed7953"
             ],
             [
              0.7777777777777778,
              "#fb9f3a"
             ],
             [
              0.8888888888888888,
              "#fdca26"
             ],
             [
              1,
              "#f0f921"
             ]
            ],
            "type": "histogram2d"
           }
          ],
          "histogram2dcontour": [
           {
            "colorbar": {
             "outlinewidth": 0,
             "ticks": ""
            },
            "colorscale": [
             [
              0,
              "#0d0887"
             ],
             [
              0.1111111111111111,
              "#46039f"
             ],
             [
              0.2222222222222222,
              "#7201a8"
             ],
             [
              0.3333333333333333,
              "#9c179e"
             ],
             [
              0.4444444444444444,
              "#bd3786"
             ],
             [
              0.5555555555555556,
              "#d8576b"
             ],
             [
              0.6666666666666666,
              "#ed7953"
             ],
             [
              0.7777777777777778,
              "#fb9f3a"
             ],
             [
              0.8888888888888888,
              "#fdca26"
             ],
             [
              1,
              "#f0f921"
             ]
            ],
            "type": "histogram2dcontour"
           }
          ],
          "mesh3d": [
           {
            "colorbar": {
             "outlinewidth": 0,
             "ticks": ""
            },
            "type": "mesh3d"
           }
          ],
          "parcoords": [
           {
            "line": {
             "colorbar": {
              "outlinewidth": 0,
              "ticks": ""
             }
            },
            "type": "parcoords"
           }
          ],
          "pie": [
           {
            "automargin": true,
            "type": "pie"
           }
          ],
          "scatter": [
           {
            "fillpattern": {
             "fillmode": "overlay",
             "size": 10,
             "solidity": 0.2
            },
            "type": "scatter"
           }
          ],
          "scatter3d": [
           {
            "line": {
             "colorbar": {
              "outlinewidth": 0,
              "ticks": ""
             }
            },
            "marker": {
             "colorbar": {
              "outlinewidth": 0,
              "ticks": ""
             }
            },
            "type": "scatter3d"
           }
          ],
          "scattercarpet": [
           {
            "marker": {
             "colorbar": {
              "outlinewidth": 0,
              "ticks": ""
             }
            },
            "type": "scattercarpet"
           }
          ],
          "scattergeo": [
           {
            "marker": {
             "colorbar": {
              "outlinewidth": 0,
              "ticks": ""
             }
            },
            "type": "scattergeo"
           }
          ],
          "scattergl": [
           {
            "marker": {
             "colorbar": {
              "outlinewidth": 0,
              "ticks": ""
             }
            },
            "type": "scattergl"
           }
          ],
          "scattermap": [
           {
            "marker": {
             "colorbar": {
              "outlinewidth": 0,
              "ticks": ""
             }
            },
            "type": "scattermap"
           }
          ],
          "scattermapbox": [
           {
            "marker": {
             "colorbar": {
              "outlinewidth": 0,
              "ticks": ""
             }
            },
            "type": "scattermapbox"
           }
          ],
          "scatterpolar": [
           {
            "marker": {
             "colorbar": {
              "outlinewidth": 0,
              "ticks": ""
             }
            },
            "type": "scatterpolar"
           }
          ],
          "scatterpolargl": [
           {
            "marker": {
             "colorbar": {
              "outlinewidth": 0,
              "ticks": ""
             }
            },
            "type": "scatterpolargl"
           }
          ],
          "scatterternary": [
           {
            "marker": {
             "colorbar": {
              "outlinewidth": 0,
              "ticks": ""
             }
            },
            "type": "scatterternary"
           }
          ],
          "surface": [
           {
            "colorbar": {
             "outlinewidth": 0,
             "ticks": ""
            },
            "colorscale": [
             [
              0,
              "#0d0887"
             ],
             [
              0.1111111111111111,
              "#46039f"
             ],
             [
              0.2222222222222222,
              "#7201a8"
             ],
             [
              0.3333333333333333,
              "#9c179e"
             ],
             [
              0.4444444444444444,
              "#bd3786"
             ],
             [
              0.5555555555555556,
              "#d8576b"
             ],
             [
              0.6666666666666666,
              "#ed7953"
             ],
             [
              0.7777777777777778,
              "#fb9f3a"
             ],
             [
              0.8888888888888888,
              "#fdca26"
             ],
             [
              1,
              "#f0f921"
             ]
            ],
            "type": "surface"
           }
          ],
          "table": [
           {
            "cells": {
             "fill": {
              "color": "#EBF0F8"
             },
             "line": {
              "color": "white"
             }
            },
            "header": {
             "fill": {
              "color": "#C8D4E3"
             },
             "line": {
              "color": "white"
             }
            },
            "type": "table"
           }
          ]
         },
         "layout": {
          "annotationdefaults": {
           "arrowcolor": "#2a3f5f",
           "arrowhead": 0,
           "arrowwidth": 1
          },
          "autotypenumbers": "strict",
          "coloraxis": {
           "colorbar": {
            "outlinewidth": 0,
            "ticks": ""
           }
          },
          "colorscale": {
           "diverging": [
            [
             0,
             "#8e0152"
            ],
            [
             0.1,
             "#c51b7d"
            ],
            [
             0.2,
             "#de77ae"
            ],
            [
             0.3,
             "#f1b6da"
            ],
            [
             0.4,
             "#fde0ef"
            ],
            [
             0.5,
             "#f7f7f7"
            ],
            [
             0.6,
             "#e6f5d0"
            ],
            [
             0.7,
             "#b8e186"
            ],
            [
             0.8,
             "#7fbc41"
            ],
            [
             0.9,
             "#4d9221"
            ],
            [
             1,
             "#276419"
            ]
           ],
           "sequential": [
            [
             0,
             "#0d0887"
            ],
            [
             0.1111111111111111,
             "#46039f"
            ],
            [
             0.2222222222222222,
             "#7201a8"
            ],
            [
             0.3333333333333333,
             "#9c179e"
            ],
            [
             0.4444444444444444,
             "#bd3786"
            ],
            [
             0.5555555555555556,
             "#d8576b"
            ],
            [
             0.6666666666666666,
             "#ed7953"
            ],
            [
             0.7777777777777778,
             "#fb9f3a"
            ],
            [
             0.8888888888888888,
             "#fdca26"
            ],
            [
             1,
             "#f0f921"
            ]
           ],
           "sequentialminus": [
            [
             0,
             "#0d0887"
            ],
            [
             0.1111111111111111,
             "#46039f"
            ],
            [
             0.2222222222222222,
             "#7201a8"
            ],
            [
             0.3333333333333333,
             "#9c179e"
            ],
            [
             0.4444444444444444,
             "#bd3786"
            ],
            [
             0.5555555555555556,
             "#d8576b"
            ],
            [
             0.6666666666666666,
             "#ed7953"
            ],
            [
             0.7777777777777778,
             "#fb9f3a"
            ],
            [
             0.8888888888888888,
             "#fdca26"
            ],
            [
             1,
             "#f0f921"
            ]
           ]
          },
          "colorway": [
           "#636efa",
           "#EF553B",
           "#00cc96",
           "#ab63fa",
           "#FFA15A",
           "#19d3f3",
           "#FF6692",
           "#B6E880",
           "#FF97FF",
           "#FECB52"
          ],
          "font": {
           "color": "#2a3f5f"
          },
          "geo": {
           "bgcolor": "white",
           "lakecolor": "white",
           "landcolor": "white",
           "showlakes": true,
           "showland": true,
           "subunitcolor": "#C8D4E3"
          },
          "hoverlabel": {
           "align": "left"
          },
          "hovermode": "closest",
          "mapbox": {
           "style": "light"
          },
          "paper_bgcolor": "white",
          "plot_bgcolor": "white",
          "polar": {
           "angularaxis": {
            "gridcolor": "#EBF0F8",
            "linecolor": "#EBF0F8",
            "ticks": ""
           },
           "bgcolor": "white",
           "radialaxis": {
            "gridcolor": "#EBF0F8",
            "linecolor": "#EBF0F8",
            "ticks": ""
           }
          },
          "scene": {
           "xaxis": {
            "backgroundcolor": "white",
            "gridcolor": "#DFE8F3",
            "gridwidth": 2,
            "linecolor": "#EBF0F8",
            "showbackground": true,
            "ticks": "",
            "zerolinecolor": "#EBF0F8"
           },
           "yaxis": {
            "backgroundcolor": "white",
            "gridcolor": "#DFE8F3",
            "gridwidth": 2,
            "linecolor": "#EBF0F8",
            "showbackground": true,
            "ticks": "",
            "zerolinecolor": "#EBF0F8"
           },
           "zaxis": {
            "backgroundcolor": "white",
            "gridcolor": "#DFE8F3",
            "gridwidth": 2,
            "linecolor": "#EBF0F8",
            "showbackground": true,
            "ticks": "",
            "zerolinecolor": "#EBF0F8"
           }
          },
          "shapedefaults": {
           "line": {
            "color": "#2a3f5f"
           }
          },
          "ternary": {
           "aaxis": {
            "gridcolor": "#DFE8F3",
            "linecolor": "#A2B1C6",
            "ticks": ""
           },
           "baxis": {
            "gridcolor": "#DFE8F3",
            "linecolor": "#A2B1C6",
            "ticks": ""
           },
           "bgcolor": "white",
           "caxis": {
            "gridcolor": "#DFE8F3",
            "linecolor": "#A2B1C6",
            "ticks": ""
           }
          },
          "title": {
           "x": 0.05
          },
          "xaxis": {
           "automargin": true,
           "gridcolor": "#EBF0F8",
           "linecolor": "#EBF0F8",
           "ticks": "",
           "title": {
            "standoff": 15
           },
           "zerolinecolor": "#EBF0F8",
           "zerolinewidth": 2
          },
          "yaxis": {
           "automargin": true,
           "gridcolor": "#EBF0F8",
           "linecolor": "#EBF0F8",
           "ticks": "",
           "title": {
            "standoff": 15
           },
           "zerolinecolor": "#EBF0F8",
           "zerolinewidth": 2
          }
         }
        },
        "title": {
         "text": "Rating Over Time"
        },
        "xaxis": {
         "title": {
          "text": "Date"
         }
        },
        "yaxis": {
         "title": {
          "text": "Rating"
         }
        }
       }
      }
     },
     "metadata": {},
     "output_type": "display_data"
    }
   ],
   "source": [
    "# Sort the dataframe by date\n",
    "plot_df = bookclub_processed_df.sort(\"date\")\n",
    "\n",
    "# Add the voting members column using map_rows (same as first figure)\n",
    "# Only use members who actually exist in the data and have numeric ratings\n",
    "df_with_voting = plot_df.with_columns(\n",
    "    pl.struct(ordered_members)\n",
    "    .map_elements(lambda row: create_voting_text(ordered_members, row), return_dtype=pl.Utf8)\n",
    "    .alias(\"voting_members\"),\n",
    ")\n",
    "\n",
    "# Create a Plotly figure\n",
    "fig = go.Figure()\n",
    "\n",
    "# Add a line trace for the rating over time, with enhanced hover information\n",
    "fig.add_trace(\n",
    "    go.Scatter(\n",
    "        x=df_with_voting[\"date\"],\n",
    "        y=df_with_voting[\"average_bookclub_rating\"],\n",
    "        mode=\"lines+markers\",\n",
    "        name=\"Bookclub Rating\",\n",
    "        customdata=df_with_voting.select([\"title\", \"author\", \"voting_members\"]).to_numpy(),\n",
    "        hovertemplate=\"<b>%{customdata[0]}</b><br>\"\n",
    "        \"Author: %{customdata[1]}<br>\"\n",
    "        \"Date: %{x|%Y-%m-%d}<br>\"\n",
    "        \"Bookclub Rating: %{y:.2f}<br>\"\n",
    "        \"%{customdata[2]}<extra></extra>\",\n",
    "    ),\n",
    ")\n",
    "\n",
    "# Add a line trace for the average Goodreads rating over time\n",
    "fig.add_trace(\n",
    "    go.Scatter(\n",
    "        x=df_with_voting[\"date\"],\n",
    "        y=df_with_voting[\"average_goodreads_rating\"],\n",
    "        mode=\"lines+markers\",\n",
    "        name=\"Goodreads Rating\",\n",
    "        customdata=df_with_voting.select([\"title\", \"author\", \"voting_members\"]).to_numpy(),\n",
    "        hovertemplate=\"<b>%{customdata[0]}</b><br>\"\n",
    "        \"Author: %{customdata[1]}<br>\"\n",
    "        \"Date: %{x|%Y-%m-%d}<br>\"\n",
    "        \"Goodreads Rating: %{y:.2f}<br>\"\n",
    "        \"%{customdata[2]}<extra></extra>\",\n",
    "        line={\"dash\": \"dash\"},  # Optionally make the Goodreads rating line dashed\n",
    "    ),\n",
    ")\n",
    "\n",
    "# Set the title and labels for axes\n",
    "fig.update_layout(\n",
    "    title=\"Rating Over Time\",\n",
    "    xaxis_title=\"Date\",\n",
    "    yaxis_title=\"Rating\",\n",
    "    template=\"plotly_white\",\n",
    ")\n",
    "\n",
    "# Show the interactive plot\n",
    "fig.show()"
   ]
  },
  {
   "cell_type": "code",
   "execution_count": null,
   "metadata": {},
   "outputs": [],
   "source": []
  }
 ],
 "metadata": {
  "kernelspec": {
   "display_name": "scifi",
   "language": "python",
   "name": "python3"
  },
  "language_info": {
   "codemirror_mode": {
    "name": "ipython",
    "version": 3
   },
   "file_extension": ".py",
   "mimetype": "text/x-python",
   "name": "python",
   "nbconvert_exporter": "python",
   "pygments_lexer": "ipython3",
   "version": "3.12.6"
  }
 },
 "nbformat": 4,
 "nbformat_minor": 2
}
