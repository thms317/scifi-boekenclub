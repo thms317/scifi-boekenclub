{
 "cells": [
  {
   "cell_type": "markdown",
   "metadata": {},
   "source": [
    "# Anti-joining"
   ]
  },
  {
   "cell_type": "code",
   "execution_count": 5,
   "metadata": {},
   "outputs": [],
   "source": [
    "from pathlib import Path\n",
    "\n",
    "from scifi.file_utils import (\n",
    "    get_reviewer_mapping,\n",
    "    match_dataframes,\n",
    "    pivot_goodreads_data,\n",
    "    read_bookclub,\n",
    "    read_goodreads,\n",
    ")"
   ]
  },
  {
   "cell_type": "code",
   "execution_count": 6,
   "metadata": {},
   "outputs": [],
   "source": [
    "# Paths to your CSV files\n",
    "path_goodreads_dir = Path(\"data/goodreads\")\n",
    "path_bookclub = Path(\"./data/boekenclub_overzicht/csv\")\n",
    "\n",
    "# Read and combine Goodreads CSV files\n",
    "df_goodreads = read_goodreads(path_goodreads_dir)\n",
    "df_bookclub = read_bookclub(path_bookclub)\n",
    "\n",
    "# Match Goodreads data with book club data\n",
    "reviewer_mapping = get_reviewer_mapping()\n",
    "df_pivot = pivot_goodreads_data(df_goodreads, reviewer_mapping)"
   ]
  },
  {
   "cell_type": "code",
   "execution_count": 7,
   "metadata": {},
   "outputs": [
    {
     "name": "stdout",
     "output_type": "stream",
     "text": [
      "shape: (2, 6)\n",
      "┌───────┬──────────────┬────────────┬──────────────────────┬─────────────────┬─────────────────────┐\n",
      "│ index ┆ date         ┆ title      ┆ author               ┆ blame           ┆ location            │\n",
      "│ ---   ┆ ---          ┆ ---        ┆ ---                  ┆ ---             ┆ ---                 │\n",
      "│ i64   ┆ datetime[μs] ┆ str        ┆ str                  ┆ str             ┆ str                 │\n",
      "╞═══════╪══════════════╪════════════╪══════════════════════╪═════════════════╪═════════════════════╡\n",
      "│ 34    ┆ 2019-02-20   ┆ Saga comic ┆ Bryan K. Vaughan &   ┆ David           ┆ De Doelen           │\n",
      "│       ┆ 00:00:00     ┆ series     ┆ Fiona Stapl…         ┆                 ┆                     │\n",
      "│ 51    ┆ 2021-05-22   ┆ The Things ┆ Peter Watts          ┆ Allen (stemmen) ┆ Laurynas -          │\n",
      "│       ┆ 00:00:00     ┆            ┆                      ┆                 ┆ Keizersgracht 92k   │\n",
      "└───────┴──────────────┴────────────┴──────────────────────┴─────────────────┴─────────────────────┘\n"
     ]
    }
   ],
   "source": [
    "df_scifi = match_dataframes(df_bookclub, df_pivot, \"title\", \"inner\")\n",
    "df_unmatched = match_dataframes(df_bookclub, df_pivot, \"title\", \"anti\")\n",
    "\n",
    "df_scifi.write_csv(\"data/clean/scifi.csv\")\n",
    "df_unmatched.write_csv(\"data/clean/unmatched.csv\")\n",
    "df_goodreads.write_csv(\"data/clean/goodreads.csv\")\n",
    "\n",
    "print(df_unmatched)"
   ]
  },
  {
   "cell_type": "code",
   "execution_count": null,
   "metadata": {},
   "outputs": [],
   "source": []
  }
 ],
 "metadata": {
  "kernelspec": {
   "display_name": ".venv",
   "language": "python",
   "name": "python3"
  },
  "language_info": {
   "codemirror_mode": {
    "name": "ipython",
    "version": 3
   },
   "file_extension": ".py",
   "mimetype": "text/x-python",
   "name": "python",
   "nbconvert_exporter": "python",
   "pygments_lexer": "ipython3",
   "version": "3.12.6"
  }
 },
 "nbformat": 4,
 "nbformat_minor": 2
}
