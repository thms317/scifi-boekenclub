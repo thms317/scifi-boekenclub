{
 "cells": [
  {
   "cell_type": "markdown",
   "metadata": {},
   "source": [
    "# Exploration"
   ]
  },
  {
   "cell_type": "code",
   "execution_count": 13,
   "metadata": {},
   "outputs": [],
   "source": [
    "from pathlib import Path\n",
    "\n",
    "import plotly.express as px\n",
    "import plotly.graph_objects as go\n",
    "import polars as pl"
   ]
  },
  {
   "cell_type": "code",
   "execution_count": 14,
   "metadata": {},
   "outputs": [],
   "source": [
    "def read_goodreads(path_goodreads_dir: Path) -> pl.DataFrame:\n",
    "    \"\"\"Read the Goodreads CSVs into a Polars DataFrame.\n",
    "\n",
    "    The title and author columns are stripped of whitespace.\n",
    "\n",
    "    Parameters\n",
    "    ----------\n",
    "    path_goodreads_dir : Path\n",
    "        The directory containing the Goodreads CSVs.\n",
    "\n",
    "    Returns\n",
    "    -------\n",
    "    pl.DataFrame\n",
    "        The Goodreads data.\n",
    "    \"\"\"\n",
    "    columns = {\n",
    "        \"Title\": \"title\",\n",
    "        \"Author\": \"author\",\n",
    "        \"My Rating\": \"rating\",\n",
    "        \"Average Rating\": \"average_goodreads_rating\",\n",
    "        \"Original Publication Year\": \"original_publication_year\",\n",
    "        \"Number of Pages\": \"number_of_pages\",\n",
    "    }\n",
    "    q = (\n",
    "        pl.scan_csv(path_goodreads_dir, include_file_paths=\"path\")\n",
    "        .filter(pl.col(\"Exclusive Shelf\") == \"read\")\n",
    "        .select([*columns.keys(), \"path\"])\n",
    "        .rename(columns)\n",
    "        .with_columns(\n",
    "            pl.col(\"title\").str.strip_chars(),\n",
    "            pl.col(\"author\").str.strip_chars(),\n",
    "        )\n",
    "    )\n",
    "    return q.collect()\n",
    "\n",
    "\n",
    "def read_bookclub(path_bookclub: Path) -> pl.DataFrame:\n",
    "    \"\"\"Read the Bookclub CSV into a Polars DataFrame.\n",
    "\n",
    "    The date column is converted to a date, and the title and author columns\n",
    "    are stripped of whitespace.\n",
    "\n",
    "    Parameters\n",
    "    ----------\n",
    "    path_bookclub : Path\n",
    "        Path to the Bookclub CSV.\n",
    "\n",
    "    Returns\n",
    "    -------\n",
    "    pl.DataFrame\n",
    "        The Bookclub data.\n",
    "    \"\"\"\n",
    "    columns = {\n",
    "        \"Nummer\": \"index\",\n",
    "        \"Datum\": \"date\",\n",
    "        \"Boek\": \"title\",\n",
    "        \"Auteur\": \"author\",\n",
    "        \"Wie heeft gekozen?\": \"blame\",\n",
    "        \"Locatie\": \"location\",\n",
    "    }\n",
    "    q = (\n",
    "        pl.scan_csv(path_bookclub)\n",
    "        .select(columns.keys())\n",
    "        .rename(columns)\n",
    "        .with_columns(\n",
    "            pl.col(\"date\").str.to_date(\"%m/%d/%Y\"),\n",
    "            pl.col(\"title\").str.strip_chars(),\n",
    "            pl.col(\"author\").str.strip_chars(),\n",
    "        )\n",
    "    )\n",
    "    return q.collect()\n",
    "\n",
    "\n",
    "def pivot_goodreads_data(df_goodreads: pl.DataFrame) -> pl.DataFrame:\n",
    "    \"\"\"Pivot the Goodreads data, grouping by book, and calculating ratings.\n",
    "\n",
    "    Parameters\n",
    "    ----------\n",
    "    df_goodreads : pl.DataFrame\n",
    "        The Goodreads data.\n",
    "\n",
    "    Returns\n",
    "    -------\n",
    "    pl.DataFrame\n",
    "        The pivoted Goodreads data.\n",
    "    \"\"\"\n",
    "    return (\n",
    "        df_goodreads.pivot(\n",
    "            \"path\",\n",
    "            index=(\n",
    "                \"title\",\n",
    "                \"author\",\n",
    "                \"average_goodreads_rating\",\n",
    "                \"original_publication_year\",\n",
    "                \"number_of_pages\",\n",
    "            ),\n",
    "            values=\"rating\",\n",
    "            aggregate_function=\"mean\",\n",
    "        )\n",
    "        .rename(\n",
    "            {\n",
    "                \"data/goodreads/koen_goodreads_library_export.csv\": \"Koen\",\n",
    "                \"data/goodreads/thomas_goodreads_library_export.csv\": \"Thomas\",\n",
    "                \"data/goodreads/koen_m_goodreads_library_export.csv\": \"Koen_M\",\n",
    "            }\n",
    "        )\n",
    "        .with_columns(\n",
    "            pl.mean_horizontal(\"Koen\", \"Thomas\", \"Koen_M\").alias(\"average_bookclub_rating\")\n",
    "        )\n",
    "    )\n",
    "\n",
    "\n",
    "def match_dataframes(\n",
    "    df_bookclub: pl.DataFrame, df_pivot: pl.DataFrame, on: str, how: str\n",
    ") -> pl.DataFrame:\n",
    "    \"\"\"Match the Bookclub and Goodreads DataFrames on a column.\n",
    "\n",
    "    The match column is converted to lowercase before matching.\n",
    "    After the match, the match column is dropped.\n",
    "\n",
    "    Parameters\n",
    "    ----------\n",
    "    df_bookclub : pl.DataFrame\n",
    "        The Bookclub DataFrame.\n",
    "    df_pivot : pl.DataFrame\n",
    "        The Goodreads DataFrame.\n",
    "    on : str\n",
    "        The column to match on.\n",
    "    how : str\n",
    "        The type of join to perform.\n",
    "\n",
    "    Returns\n",
    "    -------\n",
    "    pl.DataFrame\n",
    "        The matched DataFrame.\n",
    "    \"\"\"\n",
    "    return (\n",
    "        df_bookclub.with_columns(pl.col(on).str.to_lowercase().alias(\"temp_match_column\"))\n",
    "        .join(\n",
    "            df_pivot.with_columns(pl.col(on).str.to_lowercase().alias(\"temp_match_column\")),\n",
    "            on=\"temp_match_column\",\n",
    "            how=how,\n",
    "        )\n",
    "        .drop(\"temp_match_column\")\n",
    "    )\n",
    "\n",
    "\n",
    "def select_unmatched(df_bookclub: pl.DataFrame, df_scifi: pl.DataFrame) -> pl.DataFrame:\n",
    "    \"\"\"Select the rows in the Bookclub DataFrame that do not have a match in the Goodreads DataFrame.\n",
    "\n",
    "    Parameters\n",
    "    ----------\n",
    "    df_bookclub : pl.DataFrame\n",
    "        The Bookclub DataFrame.\n",
    "    df_scifi : pl.DataFrame\n",
    "        The matched DataFrame.\n",
    "\n",
    "    Returns\n",
    "    -------\n",
    "    pl.DataFrame\n",
    "        The unmatched rows.\n",
    "    \"\"\"\n",
    "    return df_bookclub.filter(\n",
    "        pl.col(\"title\").is_in(\n",
    "            df_scifi.filter(pl.col(\"average_goodreads_rating\").is_null()).select(\"title\")\n",
    "        )\n",
    "    )"
   ]
  },
  {
   "cell_type": "code",
   "execution_count": 15,
   "metadata": {},
   "outputs": [
    {
     "name": "stdout",
     "output_type": "stream",
     "text": [
      "shape: (318, 7)\n",
      "┌──────────────┬──────────────┬────────┬──────────────┬──────────────┬──────────────┬──────────────┐\n",
      "│ title        ┆ author       ┆ rating ┆ average_good ┆ original_pub ┆ number_of_pa ┆ path         │\n",
      "│ ---          ┆ ---          ┆ ---    ┆ reads_rating ┆ lication_yea ┆ ges          ┆ ---          │\n",
      "│ str          ┆ str          ┆ i64    ┆ ---          ┆ r            ┆ ---          ┆ str          │\n",
      "│              ┆              ┆        ┆ f64          ┆ ---          ┆ i64          ┆              │\n",
      "│              ┆              ┆        ┆              ┆ i64          ┆              ┆              │\n",
      "╞══════════════╪══════════════╪════════╪══════════════╪══════════════╪══════════════╪══════════════╡\n",
      "│ Opvoedfeiten ┆ Emily Oster  ┆ 4      ┆ 4.14         ┆ 2019         ┆ 384          ┆ data/goodrea │\n",
      "│ : Op data    ┆              ┆        ┆              ┆              ┆              ┆ ds/koen_good │\n",
      "│ gebaseer…    ┆              ┆        ┆              ┆              ┆              ┆ reads_…      │\n",
      "│ Galapagos    ┆ Kurt         ┆ 3      ┆ 3.87         ┆ 1985         ┆ 302          ┆ data/goodrea │\n",
      "│              ┆ Vonnegut Jr. ┆        ┆              ┆              ┆              ┆ ds/koen_good │\n",
      "│              ┆              ┆        ┆              ┆              ┆              ┆ reads_…      │\n",
      "│ 1Q84 Book 1  ┆ Haruki       ┆ 4      ┆ 3.96         ┆ 2009         ┆ 554          ┆ data/goodrea │\n",
      "│ (1Q84, #1)   ┆ Murakami     ┆        ┆              ┆              ┆              ┆ ds/koen_good │\n",
      "│              ┆              ┆        ┆              ┆              ┆              ┆ reads_…      │\n",
      "│ His Master's ┆ Stanisław    ┆ 3      ┆ 4.09         ┆ 1968         ┆ 199          ┆ data/goodrea │\n",
      "│ Voice        ┆ Lem          ┆        ┆              ┆              ┆              ┆ ds/koen_good │\n",
      "│              ┆              ┆        ┆              ┆              ┆              ┆ reads_…      │\n",
      "│ Concept M    ┆ Aafke        ┆ 3      ┆ 3.46         ┆ 2018         ┆ 253          ┆ data/goodrea │\n",
      "│              ┆ Romeijn      ┆        ┆              ┆              ┆              ┆ ds/koen_good │\n",
      "│              ┆              ┆        ┆              ┆              ┆              ┆ reads_…      │\n",
      "│ …            ┆ …            ┆ …      ┆ …            ┆ …            ┆ …            ┆ …            │\n",
      "│ The          ┆ Paulo Coelho ┆ 2      ┆ 3.65         ┆ 1987         ┆ 226          ┆ data/goodrea │\n",
      "│ Pilgrimage   ┆              ┆        ┆              ┆              ┆              ┆ ds/thomas_go │\n",
      "│              ┆              ┆        ┆              ┆              ┆              ┆ odread…      │\n",
      "│ The          ┆ Milan        ┆ 5      ┆ 4.11         ┆ 1984         ┆ 314          ┆ data/goodrea │\n",
      "│ Unbearable   ┆ Kundera      ┆        ┆              ┆              ┆              ┆ ds/thomas_go │\n",
      "│ Lightness of ┆              ┆        ┆              ┆              ┆              ┆ odread…      │\n",
      "│ Be…          ┆              ┆        ┆              ┆              ┆              ┆              │\n",
      "│ The World    ┆ John Irving  ┆ 4      ┆ 4.1          ┆ 1978         ┆ 610          ┆ data/goodrea │\n",
      "│ According to ┆              ┆        ┆              ┆              ┆              ┆ ds/thomas_go │\n",
      "│ Garp         ┆              ┆        ┆              ┆              ┆              ┆ odread…      │\n",
      "│ The Cider    ┆ John Irving  ┆ 5      ┆ 4.16         ┆ 1985         ┆ 1064         ┆ data/goodrea │\n",
      "│ House Rules  ┆              ┆        ┆              ┆              ┆              ┆ ds/thomas_go │\n",
      "│              ┆              ┆        ┆              ┆              ┆              ┆ odread…      │\n",
      "│ Stoner       ┆ John         ┆ 5      ┆ 4.34         ┆ 1965         ┆ 292          ┆ data/goodrea │\n",
      "│              ┆ Williams     ┆        ┆              ┆              ┆              ┆ ds/thomas_go │\n",
      "│              ┆              ┆        ┆              ┆              ┆              ┆ odread…      │\n",
      "└──────────────┴──────────────┴────────┴──────────────┴──────────────┴──────────────┴──────────────┘\n",
      "shape: (72, 6)\n",
      "┌───────┬────────────┬─────────────────────┬────────────────────┬─────────────┬────────────────────┐\n",
      "│ index ┆ date       ┆ title               ┆ author             ┆ blame       ┆ location           │\n",
      "│ ---   ┆ ---        ┆ ---                 ┆ ---                ┆ ---         ┆ ---                │\n",
      "│ i64   ┆ date       ┆ str                 ┆ str                ┆ str         ┆ str                │\n",
      "╞═══════╪════════════╪═════════════════════╪════════════════════╪═════════════╪════════════════════╡\n",
      "│ 1     ┆ null       ┆ The Road            ┆ Cormac McCarthy    ┆ gezamenlijk ┆ ?                  │\n",
      "│ 2     ┆ 2014-11-26 ┆ Ready Player One    ┆ Ernest Cline       ┆ gezamenlijk ┆ Koen -             │\n",
      "│       ┆            ┆ (Ready Player…      ┆                    ┆             ┆ Prinsengracht 241  │\n",
      "│ 3     ┆ 2015-01-27 ┆ Do Androids Dream   ┆ Philip K. Dick     ┆ gezamenlijk ┆ Laurynas - Jan     │\n",
      "│       ┆            ┆ of Electric …       ┆                    ┆             ┆ Muschstraat 54     │\n",
      "│ 4     ┆ 2015-04-14 ┆ Neuromancer         ┆ William Gibson     ┆ gezamenlijk ┆ ?                  │\n",
      "│ 5     ┆ 2015-06-08 ┆ Starship Troopers   ┆ Robert A. Heinlein ┆ Dion        ┆ ?                  │\n",
      "│ …     ┆ …          ┆ …                   ┆ …                  ┆ …           ┆ …                  │\n",
      "│ 68    ┆ 2024-04-07 ┆ The City & the City ┆ China Miéville     ┆ Laurynas    ┆ vandeStreek,       │\n",
      "│       ┆            ┆                     ┆                    ┆             ┆ Utrecht            │\n",
      "│ 69    ┆ 2024-05-24 ┆ His Master's Voice  ┆ Stanislaw Lem      ┆ Robert      ┆ Knossos, Den Haag  │\n",
      "│ 70    ┆ 2024-07-20 ┆ Concept M           ┆ Aafke Romeijn      ┆ Thomas      ┆ Cafe Cook          │\n",
      "│ 71    ┆ 2024-09-11 ┆ Galapagos           ┆ Kurt Vonnegut      ┆ Dion        ┆ De Doelen          │\n",
      "│ 72    ┆ 2024-11-08 ┆ The Vegetarian      ┆ Han Kang           ┆ Koen        ┆ null               │\n",
      "└───────┴────────────┴─────────────────────┴────────────────────┴─────────────┴────────────────────┘\n"
     ]
    }
   ],
   "source": [
    "# Paths to your CSV files\n",
    "path_goodreads_dir = Path(\"data/goodreads\")\n",
    "# path_bookclub = Path(\"./data/boekenclub_overzicht.csv\")\n",
    "path_bookclub = Path(\"./data/boekenclub_overzicht_updated.csv\")\n",
    "\n",
    "# Read and combine Goodreads CSV files\n",
    "df_goodreads = read_goodreads(path_goodreads_dir)\n",
    "df_bookclub = read_bookclub(path_bookclub)\n",
    "\n",
    "print(df_goodreads)\n",
    "print(df_bookclub)"
   ]
  },
  {
   "cell_type": "code",
   "execution_count": 16,
   "metadata": {},
   "outputs": [
    {
     "name": "stdout",
     "output_type": "stream",
     "text": [
      "shape: (287, 9)\n",
      "┌─────────────┬─────────────┬─────────────┬─────────────┬───┬──────┬────────┬────────┬─────────────┐\n",
      "│ title       ┆ author      ┆ average_goo ┆ original_pu ┆ … ┆ Koen ┆ Koen_M ┆ Thomas ┆ average_boo │\n",
      "│ ---         ┆ ---         ┆ dreads_rati ┆ blication_y ┆   ┆ ---  ┆ ---    ┆ ---    ┆ kclub_ratin │\n",
      "│ str         ┆ str         ┆ ng          ┆ ear         ┆   ┆ f64  ┆ f64    ┆ f64    ┆ g           │\n",
      "│             ┆             ┆ ---         ┆ ---         ┆   ┆      ┆        ┆        ┆ ---         │\n",
      "│             ┆             ┆ f64         ┆ i64         ┆   ┆      ┆        ┆        ┆ f64         │\n",
      "╞═════════════╪═════════════╪═════════════╪═════════════╪═══╪══════╪════════╪════════╪═════════════╡\n",
      "│ Opvoedfeite ┆ Emily Oster ┆ 4.14        ┆ 2019        ┆ … ┆ 4.0  ┆ null   ┆ null   ┆ 4.0         │\n",
      "│ n: Op data  ┆             ┆             ┆             ┆   ┆      ┆        ┆        ┆             │\n",
      "│ gebaseer…   ┆             ┆             ┆             ┆   ┆      ┆        ┆        ┆             │\n",
      "│ Galapagos   ┆ Kurt        ┆ 3.87        ┆ 1985        ┆ … ┆ 3.0  ┆ 4.0    ┆ null   ┆ 3.5         │\n",
      "│             ┆ Vonnegut    ┆             ┆             ┆   ┆      ┆        ┆        ┆             │\n",
      "│             ┆ Jr.         ┆             ┆             ┆   ┆      ┆        ┆        ┆             │\n",
      "│ 1Q84 Book 1 ┆ Haruki      ┆ 3.96        ┆ 2009        ┆ … ┆ 4.0  ┆ null   ┆ null   ┆ 4.0         │\n",
      "│ (1Q84, #1)  ┆ Murakami    ┆             ┆             ┆   ┆      ┆        ┆        ┆             │\n",
      "│ His         ┆ Stanisław   ┆ 4.09        ┆ 1968        ┆ … ┆ 3.0  ┆ 3.0    ┆ 5.0    ┆ 3.666667    │\n",
      "│ Master's    ┆ Lem         ┆             ┆             ┆   ┆      ┆        ┆        ┆             │\n",
      "│ Voice       ┆             ┆             ┆             ┆   ┆      ┆        ┆        ┆             │\n",
      "│ Concept M   ┆ Aafke       ┆ 3.46        ┆ 2018        ┆ … ┆ 3.0  ┆ 2.0    ┆ 2.0    ┆ 2.333333    │\n",
      "│             ┆ Romeijn     ┆             ┆             ┆   ┆      ┆        ┆        ┆             │\n",
      "│ …           ┆ …           ┆ …           ┆ …           ┆ … ┆ …    ┆ …      ┆ …      ┆ …           │\n",
      "│ The         ┆ Paulo       ┆ 3.91        ┆ 1988        ┆ … ┆ null ┆ null   ┆ 3.0    ┆ 3.0         │\n",
      "│ Alchemist   ┆ Coelho      ┆             ┆             ┆   ┆      ┆        ┆        ┆             │\n",
      "│ The         ┆ Paulo       ┆ 3.65        ┆ 1987        ┆ … ┆ null ┆ null   ┆ 2.0    ┆ 2.0         │\n",
      "│ Pilgrimage  ┆ Coelho      ┆             ┆             ┆   ┆      ┆        ┆        ┆             │\n",
      "│ The World   ┆ John Irving ┆ 4.1         ┆ 1978        ┆ … ┆ null ┆ null   ┆ 4.0    ┆ 4.0         │\n",
      "│ According   ┆             ┆             ┆             ┆   ┆      ┆        ┆        ┆             │\n",
      "│ to Garp     ┆             ┆             ┆             ┆   ┆      ┆        ┆        ┆             │\n",
      "│ The Cider   ┆ John Irving ┆ 4.16        ┆ 1985        ┆ … ┆ null ┆ null   ┆ 5.0    ┆ 5.0         │\n",
      "│ House Rules ┆             ┆             ┆             ┆   ┆      ┆        ┆        ┆             │\n",
      "│ Stoner      ┆ John        ┆ 4.34        ┆ 1965        ┆ … ┆ null ┆ null   ┆ 5.0    ┆ 5.0         │\n",
      "│             ┆ Williams    ┆             ┆             ┆   ┆      ┆        ┆        ┆             │\n",
      "└─────────────┴─────────────┴─────────────┴─────────────┴───┴──────┴────────┴────────┴─────────────┘\n"
     ]
    }
   ],
   "source": [
    "df_pivot = pivot_goodreads_data(df_goodreads)\n",
    "\n",
    "print(df_pivot)"
   ]
  },
  {
   "cell_type": "code",
   "execution_count": 17,
   "metadata": {},
   "outputs": [
    {
     "name": "stdout",
     "output_type": "stream",
     "text": [
      "shape: (59, 15)\n",
      "┌───────┬────────────┬────────────────┬───────────────┬───┬──────┬────────┬────────┬───────────────┐\n",
      "│ index ┆ date       ┆ title          ┆ author        ┆ … ┆ Koen ┆ Koen_M ┆ Thomas ┆ average_bookc │\n",
      "│ ---   ┆ ---        ┆ ---            ┆ ---           ┆   ┆ ---  ┆ ---    ┆ ---    ┆ lub_rating    │\n",
      "│ i64   ┆ date       ┆ str            ┆ str           ┆   ┆ f64  ┆ f64    ┆ f64    ┆ ---           │\n",
      "│       ┆            ┆                ┆               ┆   ┆      ┆        ┆        ┆ f64           │\n",
      "╞═══════╪════════════╪════════════════╪═══════════════╪═══╪══════╪════════╪════════╪═══════════════╡\n",
      "│ 71    ┆ 2024-09-11 ┆ Galapagos      ┆ Kurt Vonnegut ┆ … ┆ 3.0  ┆ 4.0    ┆ null   ┆ 3.5           │\n",
      "│ 28    ┆ 2018-06-06 ┆ 1Q84 Book 1    ┆ Haruki        ┆ … ┆ 4.0  ┆ null   ┆ null   ┆ 4.0           │\n",
      "│       ┆            ┆ (1Q84, #1)     ┆ Murakami      ┆   ┆      ┆        ┆        ┆               │\n",
      "│ 69    ┆ 2024-05-24 ┆ His Master's   ┆ Stanislaw Lem ┆ … ┆ 3.0  ┆ 3.0    ┆ 5.0    ┆ 3.666667      │\n",
      "│       ┆            ┆ Voice          ┆               ┆   ┆      ┆        ┆        ┆               │\n",
      "│ 70    ┆ 2024-07-20 ┆ Concept M      ┆ Aafke Romeijn ┆ … ┆ 3.0  ┆ 2.0    ┆ 2.0    ┆ 2.333333      │\n",
      "│ 68    ┆ 2024-04-07 ┆ The City & the ┆ China         ┆ … ┆ 4.0  ┆ 2.0    ┆ null   ┆ 3.0           │\n",
      "│       ┆            ┆ City           ┆ Miéville      ┆   ┆      ┆        ┆        ┆               │\n",
      "│ …     ┆ …          ┆ …              ┆ …             ┆ … ┆ …    ┆ …      ┆ …      ┆ …             │\n",
      "│ 2     ┆ 2014-11-26 ┆ Ready Player   ┆ Ernest Cline  ┆ … ┆ 4.0  ┆ null   ┆ null   ┆ 4.0           │\n",
      "│       ┆            ┆ One (Ready     ┆               ┆   ┆      ┆        ┆        ┆               │\n",
      "│       ┆            ┆ Player…        ┆               ┆   ┆      ┆        ┆        ┆               │\n",
      "│ 43    ┆ 2020-05-02 ┆ Solaris        ┆ Stanislaw Lem ┆ … ┆ null ┆ null   ┆ 3.0    ┆ 3.0           │\n",
      "│ 15    ┆ 2016-10-12 ┆ Brave New      ┆ Aldous Huxley ┆ … ┆ null ┆ null   ┆ 4.0    ┆ 4.0           │\n",
      "│       ┆            ┆ World          ┆               ┆   ┆      ┆        ┆        ┆               │\n",
      "│ 3     ┆ 2015-01-27 ┆ Do Androids    ┆ Philip K.     ┆ … ┆ null ┆ null   ┆ 4.0    ┆ 4.0           │\n",
      "│       ┆            ┆ Dream of       ┆ Dick          ┆   ┆      ┆        ┆        ┆               │\n",
      "│       ┆            ┆ Electric …     ┆               ┆   ┆      ┆        ┆        ┆               │\n",
      "│ 18    ┆ 2017-03-14 ┆ Watchmen       ┆ Alan Moore &  ┆ … ┆ null ┆ null   ┆ 5.0    ┆ 5.0           │\n",
      "│       ┆            ┆                ┆ Dave Gibbons  ┆   ┆      ┆        ┆        ┆               │\n",
      "└───────┴────────────┴────────────────┴───────────────┴───┴──────┴────────┴────────┴───────────────┘\n",
      "shape: (18, 6)\n",
      "┌───────┬────────────┬───────────────────┬───────────────────┬─────────────────┬───────────────────┐\n",
      "│ index ┆ date       ┆ title             ┆ author            ┆ blame           ┆ location          │\n",
      "│ ---   ┆ ---        ┆ ---               ┆ ---               ┆ ---             ┆ ---               │\n",
      "│ i64   ┆ date       ┆ str               ┆ str               ┆ str             ┆ str               │\n",
      "╞═══════╪════════════╪═══════════════════╪═══════════════════╪═════════════════╪═══════════════════╡\n",
      "│ 1     ┆ null       ┆ The Road          ┆ Cormac McCarthy   ┆ gezamenlijk     ┆ ?                 │\n",
      "│ 4     ┆ 2015-04-14 ┆ Neuromancer       ┆ William Gibson    ┆ gezamenlijk     ┆ ?                 │\n",
      "│ 6     ┆ 2015-07-23 ┆ Hyperion          ┆ Dan Simmons       ┆ null            ┆ ?                 │\n",
      "│ 12    ┆ 2016-05-10 ┆ Lilith's Brood    ┆ Octavia E. Butler ┆ Thirsa & Koen   ┆ ?                 │\n",
      "│ 13    ┆ 2016-09-06 ┆ Blindsight        ┆ Peter Watts       ┆ Robert          ┆ Tweede            │\n",
      "│       ┆            ┆                   ┆                   ┆                 ┆ Kostverlorenkade  │\n",
      "│ …     ┆ …          ┆ …                 ┆ …                 ┆ …               ┆ …                 │\n",
      "│ 51    ┆ 2021-05-22 ┆ The Things        ┆ Peter Watts       ┆ Allen (stemmen) ┆ Laurynas -        │\n",
      "│       ┆            ┆                   ┆                   ┆                 ┆ Keizersgracht 92k │\n",
      "│ 55    ┆ 2022-02-02 ┆ The House of      ┆ Mark Z.           ┆ Allen (stemmen) ┆ De Doelen         │\n",
      "│       ┆            ┆ Leaves            ┆ Danielewski       ┆                 ┆                   │\n",
      "│ 56    ┆ 2022-03-31 ┆ Zero K            ┆ Don DeLillo       ┆ Allen (stemmen) ┆ ?                 │\n",
      "│ 58    ┆ 2022-09-07 ┆ De Opkomst van de ┆ Michael Young     ┆ Dion            ┆ Vooges Centraal   │\n",
      "│       ┆            ┆ Meritocratie      ┆                   ┆                 ┆                   │\n",
      "│ 72    ┆ 2024-11-08 ┆ The Vegetarian    ┆ Han Kang          ┆ Koen            ┆ null              │\n",
      "└───────┴────────────┴───────────────────┴───────────────────┴─────────────────┴───────────────────┘\n"
     ]
    }
   ],
   "source": [
    "df_scifi = match_dataframes(df_bookclub, df_pivot, \"title\", \"inner\")\n",
    "df_unmatched = match_dataframes(df_bookclub, df_pivot, \"title\", \"anti\")\n",
    "\n",
    "# export to csv\n",
    "df_scifi.write_csv(\"data/clean/scifi.csv\")\n",
    "df_unmatched.write_csv(\"data/clean/unmatched.csv\")\n",
    "\n",
    "print(df_scifi)\n",
    "print(df_unmatched)"
   ]
  },
  {
   "cell_type": "code",
   "execution_count": 18,
   "metadata": {},
   "outputs": [
    {
     "data": {
      "application/vnd.plotly.v1+json": {
       "config": {
        "plotlyServerURL": "https://plot.ly"
       },
       "data": [
        {
         "hovertemplate": "year=%{x}<br>average_bookclub_rating=%{y}<extra></extra>",
         "legendgroup": "",
         "line": {
          "color": "#636efa",
          "dash": "solid"
         },
         "marker": {
          "symbol": "circle"
         },
         "mode": "lines+markers",
         "name": "",
         "orientation": "v",
         "showlegend": false,
         "type": "scatter",
         "x": [
          1866,
          1896,
          1925,
          1926,
          1932,
          1932,
          1936,
          1947,
          1949,
          1953,
          1958,
          1959,
          1961,
          1961,
          1961,
          1962,
          1962,
          1962,
          1963,
          1967,
          1968,
          1968,
          1968,
          1969,
          1971,
          1972,
          1974,
          1975,
          1977,
          1979,
          1981,
          1984,
          1985,
          1987,
          1987,
          1992,
          1993,
          1996,
          1996,
          2000,
          2002,
          2003,
          2005,
          2006,
          2009,
          2009,
          2009,
          2010,
          2011,
          2013,
          2014,
          2016,
          2016,
          2017,
          2017,
          2018,
          2018,
          2021,
          2022
         ],
         "xaxis": "x",
         "y": [
          3,
          4,
          3,
          2,
          4,
          4,
          3.5,
          4,
          5,
          3,
          4,
          3,
          3,
          2,
          3,
          4,
          2,
          3,
          4,
          2,
          3.6666666666666665,
          3,
          4,
          2,
          3,
          4.5,
          3,
          4,
          1.5,
          3.5,
          2,
          3.5,
          3.5,
          4,
          5,
          2,
          4,
          5,
          3,
          2,
          3,
          4,
          3,
          3,
          4,
          3,
          2,
          1,
          4,
          3,
          4,
          3,
          4,
          2.5,
          3,
          2.3333333333333335,
          3,
          3.5,
          3
         ],
         "yaxis": "y"
        }
       ],
       "layout": {
        "legend": {
         "tracegroupgap": 0
        },
        "template": {
         "data": {
          "bar": [
           {
            "error_x": {
             "color": "#2a3f5f"
            },
            "error_y": {
             "color": "#2a3f5f"
            },
            "marker": {
             "line": {
              "color": "#E5ECF6",
              "width": 0.5
             },
             "pattern": {
              "fillmode": "overlay",
              "size": 10,
              "solidity": 0.2
             }
            },
            "type": "bar"
           }
          ],
          "barpolar": [
           {
            "marker": {
             "line": {
              "color": "#E5ECF6",
              "width": 0.5
             },
             "pattern": {
              "fillmode": "overlay",
              "size": 10,
              "solidity": 0.2
             }
            },
            "type": "barpolar"
           }
          ],
          "carpet": [
           {
            "aaxis": {
             "endlinecolor": "#2a3f5f",
             "gridcolor": "white",
             "linecolor": "white",
             "minorgridcolor": "white",
             "startlinecolor": "#2a3f5f"
            },
            "baxis": {
             "endlinecolor": "#2a3f5f",
             "gridcolor": "white",
             "linecolor": "white",
             "minorgridcolor": "white",
             "startlinecolor": "#2a3f5f"
            },
            "type": "carpet"
           }
          ],
          "choropleth": [
           {
            "colorbar": {
             "outlinewidth": 0,
             "ticks": ""
            },
            "type": "choropleth"
           }
          ],
          "contour": [
           {
            "colorbar": {
             "outlinewidth": 0,
             "ticks": ""
            },
            "colorscale": [
             [
              0,
              "#0d0887"
             ],
             [
              0.1111111111111111,
              "#46039f"
             ],
             [
              0.2222222222222222,
              "#7201a8"
             ],
             [
              0.3333333333333333,
              "#9c179e"
             ],
             [
              0.4444444444444444,
              "#bd3786"
             ],
             [
              0.5555555555555556,
              "#d8576b"
             ],
             [
              0.6666666666666666,
              "#ed7953"
             ],
             [
              0.7777777777777778,
              "#fb9f3a"
             ],
             [
              0.8888888888888888,
              "#fdca26"
             ],
             [
              1,
              "#f0f921"
             ]
            ],
            "type": "contour"
           }
          ],
          "contourcarpet": [
           {
            "colorbar": {
             "outlinewidth": 0,
             "ticks": ""
            },
            "type": "contourcarpet"
           }
          ],
          "heatmap": [
           {
            "colorbar": {
             "outlinewidth": 0,
             "ticks": ""
            },
            "colorscale": [
             [
              0,
              "#0d0887"
             ],
             [
              0.1111111111111111,
              "#46039f"
             ],
             [
              0.2222222222222222,
              "#7201a8"
             ],
             [
              0.3333333333333333,
              "#9c179e"
             ],
             [
              0.4444444444444444,
              "#bd3786"
             ],
             [
              0.5555555555555556,
              "#d8576b"
             ],
             [
              0.6666666666666666,
              "#ed7953"
             ],
             [
              0.7777777777777778,
              "#fb9f3a"
             ],
             [
              0.8888888888888888,
              "#fdca26"
             ],
             [
              1,
              "#f0f921"
             ]
            ],
            "type": "heatmap"
           }
          ],
          "heatmapgl": [
           {
            "colorbar": {
             "outlinewidth": 0,
             "ticks": ""
            },
            "colorscale": [
             [
              0,
              "#0d0887"
             ],
             [
              0.1111111111111111,
              "#46039f"
             ],
             [
              0.2222222222222222,
              "#7201a8"
             ],
             [
              0.3333333333333333,
              "#9c179e"
             ],
             [
              0.4444444444444444,
              "#bd3786"
             ],
             [
              0.5555555555555556,
              "#d8576b"
             ],
             [
              0.6666666666666666,
              "#ed7953"
             ],
             [
              0.7777777777777778,
              "#fb9f3a"
             ],
             [
              0.8888888888888888,
              "#fdca26"
             ],
             [
              1,
              "#f0f921"
             ]
            ],
            "type": "heatmapgl"
           }
          ],
          "histogram": [
           {
            "marker": {
             "pattern": {
              "fillmode": "overlay",
              "size": 10,
              "solidity": 0.2
             }
            },
            "type": "histogram"
           }
          ],
          "histogram2d": [
           {
            "colorbar": {
             "outlinewidth": 0,
             "ticks": ""
            },
            "colorscale": [
             [
              0,
              "#0d0887"
             ],
             [
              0.1111111111111111,
              "#46039f"
             ],
             [
              0.2222222222222222,
              "#7201a8"
             ],
             [
              0.3333333333333333,
              "#9c179e"
             ],
             [
              0.4444444444444444,
              "#bd3786"
             ],
             [
              0.5555555555555556,
              "#d8576b"
             ],
             [
              0.6666666666666666,
              "#ed7953"
             ],
             [
              0.7777777777777778,
              "#fb9f3a"
             ],
             [
              0.8888888888888888,
              "#fdca26"
             ],
             [
              1,
              "#f0f921"
             ]
            ],
            "type": "histogram2d"
           }
          ],
          "histogram2dcontour": [
           {
            "colorbar": {
             "outlinewidth": 0,
             "ticks": ""
            },
            "colorscale": [
             [
              0,
              "#0d0887"
             ],
             [
              0.1111111111111111,
              "#46039f"
             ],
             [
              0.2222222222222222,
              "#7201a8"
             ],
             [
              0.3333333333333333,
              "#9c179e"
             ],
             [
              0.4444444444444444,
              "#bd3786"
             ],
             [
              0.5555555555555556,
              "#d8576b"
             ],
             [
              0.6666666666666666,
              "#ed7953"
             ],
             [
              0.7777777777777778,
              "#fb9f3a"
             ],
             [
              0.8888888888888888,
              "#fdca26"
             ],
             [
              1,
              "#f0f921"
             ]
            ],
            "type": "histogram2dcontour"
           }
          ],
          "mesh3d": [
           {
            "colorbar": {
             "outlinewidth": 0,
             "ticks": ""
            },
            "type": "mesh3d"
           }
          ],
          "parcoords": [
           {
            "line": {
             "colorbar": {
              "outlinewidth": 0,
              "ticks": ""
             }
            },
            "type": "parcoords"
           }
          ],
          "pie": [
           {
            "automargin": true,
            "type": "pie"
           }
          ],
          "scatter": [
           {
            "fillpattern": {
             "fillmode": "overlay",
             "size": 10,
             "solidity": 0.2
            },
            "type": "scatter"
           }
          ],
          "scatter3d": [
           {
            "line": {
             "colorbar": {
              "outlinewidth": 0,
              "ticks": ""
             }
            },
            "marker": {
             "colorbar": {
              "outlinewidth": 0,
              "ticks": ""
             }
            },
            "type": "scatter3d"
           }
          ],
          "scattercarpet": [
           {
            "marker": {
             "colorbar": {
              "outlinewidth": 0,
              "ticks": ""
             }
            },
            "type": "scattercarpet"
           }
          ],
          "scattergeo": [
           {
            "marker": {
             "colorbar": {
              "outlinewidth": 0,
              "ticks": ""
             }
            },
            "type": "scattergeo"
           }
          ],
          "scattergl": [
           {
            "marker": {
             "colorbar": {
              "outlinewidth": 0,
              "ticks": ""
             }
            },
            "type": "scattergl"
           }
          ],
          "scattermapbox": [
           {
            "marker": {
             "colorbar": {
              "outlinewidth": 0,
              "ticks": ""
             }
            },
            "type": "scattermapbox"
           }
          ],
          "scatterpolar": [
           {
            "marker": {
             "colorbar": {
              "outlinewidth": 0,
              "ticks": ""
             }
            },
            "type": "scatterpolar"
           }
          ],
          "scatterpolargl": [
           {
            "marker": {
             "colorbar": {
              "outlinewidth": 0,
              "ticks": ""
             }
            },
            "type": "scatterpolargl"
           }
          ],
          "scatterternary": [
           {
            "marker": {
             "colorbar": {
              "outlinewidth": 0,
              "ticks": ""
             }
            },
            "type": "scatterternary"
           }
          ],
          "surface": [
           {
            "colorbar": {
             "outlinewidth": 0,
             "ticks": ""
            },
            "colorscale": [
             [
              0,
              "#0d0887"
             ],
             [
              0.1111111111111111,
              "#46039f"
             ],
             [
              0.2222222222222222,
              "#7201a8"
             ],
             [
              0.3333333333333333,
              "#9c179e"
             ],
             [
              0.4444444444444444,
              "#bd3786"
             ],
             [
              0.5555555555555556,
              "#d8576b"
             ],
             [
              0.6666666666666666,
              "#ed7953"
             ],
             [
              0.7777777777777778,
              "#fb9f3a"
             ],
             [
              0.8888888888888888,
              "#fdca26"
             ],
             [
              1,
              "#f0f921"
             ]
            ],
            "type": "surface"
           }
          ],
          "table": [
           {
            "cells": {
             "fill": {
              "color": "#EBF0F8"
             },
             "line": {
              "color": "white"
             }
            },
            "header": {
             "fill": {
              "color": "#C8D4E3"
             },
             "line": {
              "color": "white"
             }
            },
            "type": "table"
           }
          ]
         },
         "layout": {
          "annotationdefaults": {
           "arrowcolor": "#2a3f5f",
           "arrowhead": 0,
           "arrowwidth": 1
          },
          "autotypenumbers": "strict",
          "coloraxis": {
           "colorbar": {
            "outlinewidth": 0,
            "ticks": ""
           }
          },
          "colorscale": {
           "diverging": [
            [
             0,
             "#8e0152"
            ],
            [
             0.1,
             "#c51b7d"
            ],
            [
             0.2,
             "#de77ae"
            ],
            [
             0.3,
             "#f1b6da"
            ],
            [
             0.4,
             "#fde0ef"
            ],
            [
             0.5,
             "#f7f7f7"
            ],
            [
             0.6,
             "#e6f5d0"
            ],
            [
             0.7,
             "#b8e186"
            ],
            [
             0.8,
             "#7fbc41"
            ],
            [
             0.9,
             "#4d9221"
            ],
            [
             1,
             "#276419"
            ]
           ],
           "sequential": [
            [
             0,
             "#0d0887"
            ],
            [
             0.1111111111111111,
             "#46039f"
            ],
            [
             0.2222222222222222,
             "#7201a8"
            ],
            [
             0.3333333333333333,
             "#9c179e"
            ],
            [
             0.4444444444444444,
             "#bd3786"
            ],
            [
             0.5555555555555556,
             "#d8576b"
            ],
            [
             0.6666666666666666,
             "#ed7953"
            ],
            [
             0.7777777777777778,
             "#fb9f3a"
            ],
            [
             0.8888888888888888,
             "#fdca26"
            ],
            [
             1,
             "#f0f921"
            ]
           ],
           "sequentialminus": [
            [
             0,
             "#0d0887"
            ],
            [
             0.1111111111111111,
             "#46039f"
            ],
            [
             0.2222222222222222,
             "#7201a8"
            ],
            [
             0.3333333333333333,
             "#9c179e"
            ],
            [
             0.4444444444444444,
             "#bd3786"
            ],
            [
             0.5555555555555556,
             "#d8576b"
            ],
            [
             0.6666666666666666,
             "#ed7953"
            ],
            [
             0.7777777777777778,
             "#fb9f3a"
            ],
            [
             0.8888888888888888,
             "#fdca26"
            ],
            [
             1,
             "#f0f921"
            ]
           ]
          },
          "colorway": [
           "#636efa",
           "#EF553B",
           "#00cc96",
           "#ab63fa",
           "#FFA15A",
           "#19d3f3",
           "#FF6692",
           "#B6E880",
           "#FF97FF",
           "#FECB52"
          ],
          "font": {
           "color": "#2a3f5f"
          },
          "geo": {
           "bgcolor": "white",
           "lakecolor": "white",
           "landcolor": "#E5ECF6",
           "showlakes": true,
           "showland": true,
           "subunitcolor": "white"
          },
          "hoverlabel": {
           "align": "left"
          },
          "hovermode": "closest",
          "mapbox": {
           "style": "light"
          },
          "paper_bgcolor": "white",
          "plot_bgcolor": "#E5ECF6",
          "polar": {
           "angularaxis": {
            "gridcolor": "white",
            "linecolor": "white",
            "ticks": ""
           },
           "bgcolor": "#E5ECF6",
           "radialaxis": {
            "gridcolor": "white",
            "linecolor": "white",
            "ticks": ""
           }
          },
          "scene": {
           "xaxis": {
            "backgroundcolor": "#E5ECF6",
            "gridcolor": "white",
            "gridwidth": 2,
            "linecolor": "white",
            "showbackground": true,
            "ticks": "",
            "zerolinecolor": "white"
           },
           "yaxis": {
            "backgroundcolor": "#E5ECF6",
            "gridcolor": "white",
            "gridwidth": 2,
            "linecolor": "white",
            "showbackground": true,
            "ticks": "",
            "zerolinecolor": "white"
           },
           "zaxis": {
            "backgroundcolor": "#E5ECF6",
            "gridcolor": "white",
            "gridwidth": 2,
            "linecolor": "white",
            "showbackground": true,
            "ticks": "",
            "zerolinecolor": "white"
           }
          },
          "shapedefaults": {
           "line": {
            "color": "#2a3f5f"
           }
          },
          "ternary": {
           "aaxis": {
            "gridcolor": "white",
            "linecolor": "white",
            "ticks": ""
           },
           "baxis": {
            "gridcolor": "white",
            "linecolor": "white",
            "ticks": ""
           },
           "bgcolor": "#E5ECF6",
           "caxis": {
            "gridcolor": "white",
            "linecolor": "white",
            "ticks": ""
           }
          },
          "title": {
           "x": 0.05
          },
          "xaxis": {
           "automargin": true,
           "gridcolor": "white",
           "linecolor": "white",
           "ticks": "",
           "title": {
            "standoff": 15
           },
           "zerolinecolor": "white",
           "zerolinewidth": 2
          },
          "yaxis": {
           "automargin": true,
           "gridcolor": "white",
           "linecolor": "white",
           "ticks": "",
           "title": {
            "standoff": 15
           },
           "zerolinecolor": "white",
           "zerolinewidth": 2
          }
         }
        },
        "title": {
         "text": "Our Average Rating Over Time"
        },
        "xaxis": {
         "anchor": "y",
         "domain": [
          0,
          1
         ],
         "title": {
          "text": "year"
         }
        },
        "yaxis": {
         "anchor": "x",
         "domain": [
          0,
          1
         ],
         "title": {
          "text": "average_bookclub_rating"
         }
        }
       }
      }
     },
     "metadata": {},
     "output_type": "display_data"
    }
   ],
   "source": [
    "df_plot = df_scifi.with_columns([pl.col(\"original_publication_year\").cast(pl.Int32).alias(\"year\")])\n",
    "df_plot = df_plot.sort(\"year\")\n",
    "px.line(\n",
    "    df_plot,\n",
    "    x=\"year\",\n",
    "    y=\"average_bookclub_rating\",\n",
    "    title=\"Our Average Rating Over Time\",\n",
    "    markers=True,\n",
    ")"
   ]
  },
  {
   "cell_type": "code",
   "execution_count": 23,
   "metadata": {},
   "outputs": [
    {
     "data": {
      "application/vnd.plotly.v1+json": {
       "config": {
        "plotlyServerURL": "https://plot.ly"
       },
       "data": [
        {
         "fill": "toself",
         "name": "Concept M",
         "r": [
          3,
          2,
          2
         ],
         "theta": [
          "Koen",
          "Thomas",
          "Koen_M"
         ],
         "type": "scatterpolar"
        }
       ],
       "layout": {
        "polar": {
         "radialaxis": {
          "range": [
           0,
           5
          ],
          "visible": true
         }
        },
        "showlegend": false,
        "template": {
         "data": {
          "bar": [
           {
            "error_x": {
             "color": "#2a3f5f"
            },
            "error_y": {
             "color": "#2a3f5f"
            },
            "marker": {
             "line": {
              "color": "#E5ECF6",
              "width": 0.5
             },
             "pattern": {
              "fillmode": "overlay",
              "size": 10,
              "solidity": 0.2
             }
            },
            "type": "bar"
           }
          ],
          "barpolar": [
           {
            "marker": {
             "line": {
              "color": "#E5ECF6",
              "width": 0.5
             },
             "pattern": {
              "fillmode": "overlay",
              "size": 10,
              "solidity": 0.2
             }
            },
            "type": "barpolar"
           }
          ],
          "carpet": [
           {
            "aaxis": {
             "endlinecolor": "#2a3f5f",
             "gridcolor": "white",
             "linecolor": "white",
             "minorgridcolor": "white",
             "startlinecolor": "#2a3f5f"
            },
            "baxis": {
             "endlinecolor": "#2a3f5f",
             "gridcolor": "white",
             "linecolor": "white",
             "minorgridcolor": "white",
             "startlinecolor": "#2a3f5f"
            },
            "type": "carpet"
           }
          ],
          "choropleth": [
           {
            "colorbar": {
             "outlinewidth": 0,
             "ticks": ""
            },
            "type": "choropleth"
           }
          ],
          "contour": [
           {
            "colorbar": {
             "outlinewidth": 0,
             "ticks": ""
            },
            "colorscale": [
             [
              0,
              "#0d0887"
             ],
             [
              0.1111111111111111,
              "#46039f"
             ],
             [
              0.2222222222222222,
              "#7201a8"
             ],
             [
              0.3333333333333333,
              "#9c179e"
             ],
             [
              0.4444444444444444,
              "#bd3786"
             ],
             [
              0.5555555555555556,
              "#d8576b"
             ],
             [
              0.6666666666666666,
              "#ed7953"
             ],
             [
              0.7777777777777778,
              "#fb9f3a"
             ],
             [
              0.8888888888888888,
              "#fdca26"
             ],
             [
              1,
              "#f0f921"
             ]
            ],
            "type": "contour"
           }
          ],
          "contourcarpet": [
           {
            "colorbar": {
             "outlinewidth": 0,
             "ticks": ""
            },
            "type": "contourcarpet"
           }
          ],
          "heatmap": [
           {
            "colorbar": {
             "outlinewidth": 0,
             "ticks": ""
            },
            "colorscale": [
             [
              0,
              "#0d0887"
             ],
             [
              0.1111111111111111,
              "#46039f"
             ],
             [
              0.2222222222222222,
              "#7201a8"
             ],
             [
              0.3333333333333333,
              "#9c179e"
             ],
             [
              0.4444444444444444,
              "#bd3786"
             ],
             [
              0.5555555555555556,
              "#d8576b"
             ],
             [
              0.6666666666666666,
              "#ed7953"
             ],
             [
              0.7777777777777778,
              "#fb9f3a"
             ],
             [
              0.8888888888888888,
              "#fdca26"
             ],
             [
              1,
              "#f0f921"
             ]
            ],
            "type": "heatmap"
           }
          ],
          "heatmapgl": [
           {
            "colorbar": {
             "outlinewidth": 0,
             "ticks": ""
            },
            "colorscale": [
             [
              0,
              "#0d0887"
             ],
             [
              0.1111111111111111,
              "#46039f"
             ],
             [
              0.2222222222222222,
              "#7201a8"
             ],
             [
              0.3333333333333333,
              "#9c179e"
             ],
             [
              0.4444444444444444,
              "#bd3786"
             ],
             [
              0.5555555555555556,
              "#d8576b"
             ],
             [
              0.6666666666666666,
              "#ed7953"
             ],
             [
              0.7777777777777778,
              "#fb9f3a"
             ],
             [
              0.8888888888888888,
              "#fdca26"
             ],
             [
              1,
              "#f0f921"
             ]
            ],
            "type": "heatmapgl"
           }
          ],
          "histogram": [
           {
            "marker": {
             "pattern": {
              "fillmode": "overlay",
              "size": 10,
              "solidity": 0.2
             }
            },
            "type": "histogram"
           }
          ],
          "histogram2d": [
           {
            "colorbar": {
             "outlinewidth": 0,
             "ticks": ""
            },
            "colorscale": [
             [
              0,
              "#0d0887"
             ],
             [
              0.1111111111111111,
              "#46039f"
             ],
             [
              0.2222222222222222,
              "#7201a8"
             ],
             [
              0.3333333333333333,
              "#9c179e"
             ],
             [
              0.4444444444444444,
              "#bd3786"
             ],
             [
              0.5555555555555556,
              "#d8576b"
             ],
             [
              0.6666666666666666,
              "#ed7953"
             ],
             [
              0.7777777777777778,
              "#fb9f3a"
             ],
             [
              0.8888888888888888,
              "#fdca26"
             ],
             [
              1,
              "#f0f921"
             ]
            ],
            "type": "histogram2d"
           }
          ],
          "histogram2dcontour": [
           {
            "colorbar": {
             "outlinewidth": 0,
             "ticks": ""
            },
            "colorscale": [
             [
              0,
              "#0d0887"
             ],
             [
              0.1111111111111111,
              "#46039f"
             ],
             [
              0.2222222222222222,
              "#7201a8"
             ],
             [
              0.3333333333333333,
              "#9c179e"
             ],
             [
              0.4444444444444444,
              "#bd3786"
             ],
             [
              0.5555555555555556,
              "#d8576b"
             ],
             [
              0.6666666666666666,
              "#ed7953"
             ],
             [
              0.7777777777777778,
              "#fb9f3a"
             ],
             [
              0.8888888888888888,
              "#fdca26"
             ],
             [
              1,
              "#f0f921"
             ]
            ],
            "type": "histogram2dcontour"
           }
          ],
          "mesh3d": [
           {
            "colorbar": {
             "outlinewidth": 0,
             "ticks": ""
            },
            "type": "mesh3d"
           }
          ],
          "parcoords": [
           {
            "line": {
             "colorbar": {
              "outlinewidth": 0,
              "ticks": ""
             }
            },
            "type": "parcoords"
           }
          ],
          "pie": [
           {
            "automargin": true,
            "type": "pie"
           }
          ],
          "scatter": [
           {
            "fillpattern": {
             "fillmode": "overlay",
             "size": 10,
             "solidity": 0.2
            },
            "type": "scatter"
           }
          ],
          "scatter3d": [
           {
            "line": {
             "colorbar": {
              "outlinewidth": 0,
              "ticks": ""
             }
            },
            "marker": {
             "colorbar": {
              "outlinewidth": 0,
              "ticks": ""
             }
            },
            "type": "scatter3d"
           }
          ],
          "scattercarpet": [
           {
            "marker": {
             "colorbar": {
              "outlinewidth": 0,
              "ticks": ""
             }
            },
            "type": "scattercarpet"
           }
          ],
          "scattergeo": [
           {
            "marker": {
             "colorbar": {
              "outlinewidth": 0,
              "ticks": ""
             }
            },
            "type": "scattergeo"
           }
          ],
          "scattergl": [
           {
            "marker": {
             "colorbar": {
              "outlinewidth": 0,
              "ticks": ""
             }
            },
            "type": "scattergl"
           }
          ],
          "scattermapbox": [
           {
            "marker": {
             "colorbar": {
              "outlinewidth": 0,
              "ticks": ""
             }
            },
            "type": "scattermapbox"
           }
          ],
          "scatterpolar": [
           {
            "marker": {
             "colorbar": {
              "outlinewidth": 0,
              "ticks": ""
             }
            },
            "type": "scatterpolar"
           }
          ],
          "scatterpolargl": [
           {
            "marker": {
             "colorbar": {
              "outlinewidth": 0,
              "ticks": ""
             }
            },
            "type": "scatterpolargl"
           }
          ],
          "scatterternary": [
           {
            "marker": {
             "colorbar": {
              "outlinewidth": 0,
              "ticks": ""
             }
            },
            "type": "scatterternary"
           }
          ],
          "surface": [
           {
            "colorbar": {
             "outlinewidth": 0,
             "ticks": ""
            },
            "colorscale": [
             [
              0,
              "#0d0887"
             ],
             [
              0.1111111111111111,
              "#46039f"
             ],
             [
              0.2222222222222222,
              "#7201a8"
             ],
             [
              0.3333333333333333,
              "#9c179e"
             ],
             [
              0.4444444444444444,
              "#bd3786"
             ],
             [
              0.5555555555555556,
              "#d8576b"
             ],
             [
              0.6666666666666666,
              "#ed7953"
             ],
             [
              0.7777777777777778,
              "#fb9f3a"
             ],
             [
              0.8888888888888888,
              "#fdca26"
             ],
             [
              1,
              "#f0f921"
             ]
            ],
            "type": "surface"
           }
          ],
          "table": [
           {
            "cells": {
             "fill": {
              "color": "#EBF0F8"
             },
             "line": {
              "color": "white"
             }
            },
            "header": {
             "fill": {
              "color": "#C8D4E3"
             },
             "line": {
              "color": "white"
             }
            },
            "type": "table"
           }
          ]
         },
         "layout": {
          "annotationdefaults": {
           "arrowcolor": "#2a3f5f",
           "arrowhead": 0,
           "arrowwidth": 1
          },
          "autotypenumbers": "strict",
          "coloraxis": {
           "colorbar": {
            "outlinewidth": 0,
            "ticks": ""
           }
          },
          "colorscale": {
           "diverging": [
            [
             0,
             "#8e0152"
            ],
            [
             0.1,
             "#c51b7d"
            ],
            [
             0.2,
             "#de77ae"
            ],
            [
             0.3,
             "#f1b6da"
            ],
            [
             0.4,
             "#fde0ef"
            ],
            [
             0.5,
             "#f7f7f7"
            ],
            [
             0.6,
             "#e6f5d0"
            ],
            [
             0.7,
             "#b8e186"
            ],
            [
             0.8,
             "#7fbc41"
            ],
            [
             0.9,
             "#4d9221"
            ],
            [
             1,
             "#276419"
            ]
           ],
           "sequential": [
            [
             0,
             "#0d0887"
            ],
            [
             0.1111111111111111,
             "#46039f"
            ],
            [
             0.2222222222222222,
             "#7201a8"
            ],
            [
             0.3333333333333333,
             "#9c179e"
            ],
            [
             0.4444444444444444,
             "#bd3786"
            ],
            [
             0.5555555555555556,
             "#d8576b"
            ],
            [
             0.6666666666666666,
             "#ed7953"
            ],
            [
             0.7777777777777778,
             "#fb9f3a"
            ],
            [
             0.8888888888888888,
             "#fdca26"
            ],
            [
             1,
             "#f0f921"
            ]
           ],
           "sequentialminus": [
            [
             0,
             "#0d0887"
            ],
            [
             0.1111111111111111,
             "#46039f"
            ],
            [
             0.2222222222222222,
             "#7201a8"
            ],
            [
             0.3333333333333333,
             "#9c179e"
            ],
            [
             0.4444444444444444,
             "#bd3786"
            ],
            [
             0.5555555555555556,
             "#d8576b"
            ],
            [
             0.6666666666666666,
             "#ed7953"
            ],
            [
             0.7777777777777778,
             "#fb9f3a"
            ],
            [
             0.8888888888888888,
             "#fdca26"
            ],
            [
             1,
             "#f0f921"
            ]
           ]
          },
          "colorway": [
           "#636efa",
           "#EF553B",
           "#00cc96",
           "#ab63fa",
           "#FFA15A",
           "#19d3f3",
           "#FF6692",
           "#B6E880",
           "#FF97FF",
           "#FECB52"
          ],
          "font": {
           "color": "#2a3f5f"
          },
          "geo": {
           "bgcolor": "white",
           "lakecolor": "white",
           "landcolor": "#E5ECF6",
           "showlakes": true,
           "showland": true,
           "subunitcolor": "white"
          },
          "hoverlabel": {
           "align": "left"
          },
          "hovermode": "closest",
          "mapbox": {
           "style": "light"
          },
          "paper_bgcolor": "white",
          "plot_bgcolor": "#E5ECF6",
          "polar": {
           "angularaxis": {
            "gridcolor": "white",
            "linecolor": "white",
            "ticks": ""
           },
           "bgcolor": "#E5ECF6",
           "radialaxis": {
            "gridcolor": "white",
            "linecolor": "white",
            "ticks": ""
           }
          },
          "scene": {
           "xaxis": {
            "backgroundcolor": "#E5ECF6",
            "gridcolor": "white",
            "gridwidth": 2,
            "linecolor": "white",
            "showbackground": true,
            "ticks": "",
            "zerolinecolor": "white"
           },
           "yaxis": {
            "backgroundcolor": "#E5ECF6",
            "gridcolor": "white",
            "gridwidth": 2,
            "linecolor": "white",
            "showbackground": true,
            "ticks": "",
            "zerolinecolor": "white"
           },
           "zaxis": {
            "backgroundcolor": "#E5ECF6",
            "gridcolor": "white",
            "gridwidth": 2,
            "linecolor": "white",
            "showbackground": true,
            "ticks": "",
            "zerolinecolor": "white"
           }
          },
          "shapedefaults": {
           "line": {
            "color": "#2a3f5f"
           }
          },
          "ternary": {
           "aaxis": {
            "gridcolor": "white",
            "linecolor": "white",
            "ticks": ""
           },
           "baxis": {
            "gridcolor": "white",
            "linecolor": "white",
            "ticks": ""
           },
           "bgcolor": "#E5ECF6",
           "caxis": {
            "gridcolor": "white",
            "linecolor": "white",
            "ticks": ""
           }
          },
          "title": {
           "x": 0.05
          },
          "xaxis": {
           "automargin": true,
           "gridcolor": "white",
           "linecolor": "white",
           "ticks": "",
           "title": {
            "standoff": 15
           },
           "zerolinecolor": "white",
           "zerolinewidth": 2
          },
          "yaxis": {
           "automargin": true,
           "gridcolor": "white",
           "linecolor": "white",
           "ticks": "",
           "title": {
            "standoff": 15
           },
           "zerolinecolor": "white",
           "zerolinewidth": 2
          }
         }
        },
        "title": {
         "text": "Ratings for Concept M"
        }
       }
      }
     },
     "metadata": {},
     "output_type": "display_data"
    }
   ],
   "source": [
    "selected_book = \"Concept M\"\n",
    "\n",
    "df_plot_book = df_scifi.filter(pl.col(\"title\") == selected_book)\n",
    "\n",
    "categories = [\"Koen\", \"Thomas\", \"Koen_M\"]\n",
    "values = [df_plot_book.select(member).to_series().item() for member in categories]\n",
    "\n",
    "fig = go.Figure()\n",
    "fig.add_trace(go.Scatterpolar(r=values, theta=categories, fill=\"toself\", name=selected_book))\n",
    "fig.update_layout(\n",
    "    polar={\"radialaxis\": {\"visible\": True, \"range\": [0, 5]}},\n",
    "    showlegend=False,\n",
    "    title=f\"Ratings for {selected_book}\",\n",
    ")\n",
    "fig.show()"
   ]
  },
  {
   "cell_type": "code",
   "execution_count": 24,
   "metadata": {},
   "outputs": [
    {
     "data": {
      "application/vnd.plotly.v1+json": {
       "config": {
        "plotlyServerURL": "https://plot.ly"
       },
       "data": [
        {
         "hovertemplate": "<b>%{text}</b><br>Rating: %{y}<br>Date: %{x|%Y-%m-%d}<extra></extra>",
         "mode": "lines+markers",
         "name": "Rating",
         "text": [
          "Ready Player One (Ready Player One, #1)",
          "Do Androids Dream of Electric Sheep?",
          "Do Androids Dream of Electric Sheep?",
          "Starship Troopers",
          "1984",
          "The Hitchhiker’s Guide to the Galaxy (Hitchhiker's Guide to the Galaxy, #1)",
          "The Passion of New Eve",
          "Fahrenheit 451",
          "The Three-Body Problem (Remembrance of Earth’s Past, #1)",
          "Under the Skin",
          "Brave New World",
          "Brave New World",
          "The Heart of a Dog",
          "The Windup Girl",
          "Watchmen",
          "Watchmen",
          "Never Let Me Go",
          "Fear and Loathing in Las Vegas",
          "High-Rise",
          "Things Fall Apart (The African Trilogy, #1)",
          "The Unbearable Lightness of Being",
          "Parable of the Sower (Earthseed, #1)",
          "Het Slot",
          "1Q84 Book 1 (1Q84, #1)",
          "Cat's Cradle",
          "The Left Hand of Darkness",
          "The Power",
          "The Gambler",
          "Fight Club",
          "Fight Club",
          "The Book of Illusions",
          "Ivanov",
          "De Pest",
          "Oryx and Crake (MaddAddam, #1)",
          "Solaris",
          "Solaris",
          "Who Fears Death",
          "A Clockwork Orange",
          "The Dispossessed: An Ambiguous Utopia",
          "Klont",
          "De avond is ongemak",
          "The Drowned World",
          "Het ijs",
          "Mother Night",
          "The Island of Dr. Moreau",
          "One Flew Over the Cuckoo’s Nest",
          "Station Eleven",
          "Ancillary Justice (Imperial Radch, #1)",
          "Tussentijds",
          "Tender is the Flesh",
          "Snow Crash",
          "Bewilderment",
          "Oorlog met de salamanders",
          "Roadside Picnic",
          "Kroniek van een aangekondigde dood",
          "The City & the City",
          "His Master's Voice",
          "Concept M",
          "Galapagos"
         ],
         "type": "scatter",
         "x": [
          "2014-11-26T00:00:00",
          "2015-01-27T00:00:00",
          "2015-01-27T00:00:00",
          "2015-06-08T00:00:00",
          "2015-09-14T00:00:00",
          "2015-11-16T00:00:00",
          "2016-01-05T00:00:00",
          "2016-02-16T00:00:00",
          "2016-03-29T00:00:00",
          "2016-09-06T00:00:00",
          "2016-10-12T00:00:00",
          "2016-10-12T00:00:00",
          "2016-11-30T00:00:00",
          "2017-01-18T00:00:00",
          "2017-03-14T00:00:00",
          "2017-03-14T00:00:00",
          "2017-05-02T00:00:00",
          "2017-09-08T00:00:00",
          "2017-10-30T00:00:00",
          "2017-12-05T00:00:00",
          "2018-01-17T00:00:00",
          "2018-02-19T00:00:00",
          "2018-04-25T00:00:00",
          "2018-06-06T00:00:00",
          "2018-07-03T00:00:00",
          "2018-09-11T00:00:00",
          "2018-10-15T00:00:00",
          "2018-11-30T00:00:00",
          "2019-01-09T00:00:00",
          "2019-01-09T00:00:00",
          "2019-04-17T00:00:00",
          "2019-09-04T00:00:00",
          "2020-02-03T00:00:00",
          "2020-04-04T00:00:00",
          "2020-05-02T00:00:00",
          "2020-05-02T00:00:00",
          "2020-06-19T00:00:00",
          "2020-08-04T00:00:00",
          "2020-11-18T00:00:00",
          "2021-01-05T00:00:00",
          "2021-02-17T00:00:00",
          "2021-04-04T00:00:00",
          "2021-08-13T00:00:00",
          "2021-10-16T00:00:00",
          "2021-12-08T00:00:00",
          "2022-06-06T00:00:00",
          "2022-11-10T00:00:00",
          "2023-01-06T00:00:00",
          "2023-03-03T00:00:00",
          "2023-04-22T00:00:00",
          "2023-07-07T00:00:00",
          "2023-09-03T00:00:00",
          "2023-11-05T00:00:00",
          "2023-12-16T00:00:00",
          "2024-01-26T00:00:00",
          "2024-04-07T00:00:00",
          "2024-05-24T00:00:00",
          "2024-07-20T00:00:00",
          "2024-09-11T00:00:00"
         ],
         "y": [
          4,
          3,
          4,
          3,
          5,
          3.5,
          1.5,
          3,
          3,
          2,
          4,
          4,
          3,
          2,
          4,
          5,
          3,
          3,
          4,
          4,
          3.5,
          4,
          2,
          4,
          4,
          2,
          4,
          3,
          5,
          3,
          3,
          3,
          4,
          4,
          3,
          2,
          1,
          3,
          3,
          3,
          3,
          2,
          2,
          3,
          4,
          4,
          4,
          3,
          3,
          2.5,
          2,
          3.5,
          3.5,
          4.5,
          2,
          3,
          3.6666666666666665,
          2.3333333333333335,
          3.5
         ]
        },
        {
         "hovertemplate": "<b>%{text}</b><br>Goodreads Rating: %{y}<br>Date: %{x|%Y-%m-%d}<extra></extra>",
         "line": {
          "dash": "dash"
         },
         "mode": "lines+markers",
         "name": "Goodreads Rating",
         "text": [
          "Ready Player One (Ready Player One, #1)",
          "Do Androids Dream of Electric Sheep?",
          "Do Androids Dream of Electric Sheep?",
          "Starship Troopers",
          "1984",
          "The Hitchhiker’s Guide to the Galaxy (Hitchhiker's Guide to the Galaxy, #1)",
          "The Passion of New Eve",
          "Fahrenheit 451",
          "The Three-Body Problem (Remembrance of Earth’s Past, #1)",
          "Under the Skin",
          "Brave New World",
          "Brave New World",
          "The Heart of a Dog",
          "The Windup Girl",
          "Watchmen",
          "Watchmen",
          "Never Let Me Go",
          "Fear and Loathing in Las Vegas",
          "High-Rise",
          "Things Fall Apart (The African Trilogy, #1)",
          "The Unbearable Lightness of Being",
          "Parable of the Sower (Earthseed, #1)",
          "Het Slot",
          "1Q84 Book 1 (1Q84, #1)",
          "Cat's Cradle",
          "The Left Hand of Darkness",
          "The Power",
          "The Gambler",
          "Fight Club",
          "Fight Club",
          "The Book of Illusions",
          "Ivanov",
          "De Pest",
          "Oryx and Crake (MaddAddam, #1)",
          "Solaris",
          "Solaris",
          "Who Fears Death",
          "A Clockwork Orange",
          "The Dispossessed: An Ambiguous Utopia",
          "Klont",
          "De avond is ongemak",
          "The Drowned World",
          "Het ijs",
          "Mother Night",
          "The Island of Dr. Moreau",
          "One Flew Over the Cuckoo’s Nest",
          "Station Eleven",
          "Ancillary Justice (Imperial Radch, #1)",
          "Tussentijds",
          "Tender is the Flesh",
          "Snow Crash",
          "Bewilderment",
          "Oorlog met de salamanders",
          "Roadside Picnic",
          "Kroniek van een aangekondigde dood",
          "The City & the City",
          "His Master's Voice",
          "Concept M",
          "Galapagos"
         ],
         "type": "scatter",
         "x": [
          "2014-11-26T00:00:00",
          "2015-01-27T00:00:00",
          "2015-01-27T00:00:00",
          "2015-06-08T00:00:00",
          "2015-09-14T00:00:00",
          "2015-11-16T00:00:00",
          "2016-01-05T00:00:00",
          "2016-02-16T00:00:00",
          "2016-03-29T00:00:00",
          "2016-09-06T00:00:00",
          "2016-10-12T00:00:00",
          "2016-10-12T00:00:00",
          "2016-11-30T00:00:00",
          "2017-01-18T00:00:00",
          "2017-03-14T00:00:00",
          "2017-03-14T00:00:00",
          "2017-05-02T00:00:00",
          "2017-09-08T00:00:00",
          "2017-10-30T00:00:00",
          "2017-12-05T00:00:00",
          "2018-01-17T00:00:00",
          "2018-02-19T00:00:00",
          "2018-04-25T00:00:00",
          "2018-06-06T00:00:00",
          "2018-07-03T00:00:00",
          "2018-09-11T00:00:00",
          "2018-10-15T00:00:00",
          "2018-11-30T00:00:00",
          "2019-01-09T00:00:00",
          "2019-01-09T00:00:00",
          "2019-04-17T00:00:00",
          "2019-09-04T00:00:00",
          "2020-02-03T00:00:00",
          "2020-04-04T00:00:00",
          "2020-05-02T00:00:00",
          "2020-05-02T00:00:00",
          "2020-06-19T00:00:00",
          "2020-08-04T00:00:00",
          "2020-11-18T00:00:00",
          "2021-01-05T00:00:00",
          "2021-02-17T00:00:00",
          "2021-04-04T00:00:00",
          "2021-08-13T00:00:00",
          "2021-10-16T00:00:00",
          "2021-12-08T00:00:00",
          "2022-06-06T00:00:00",
          "2022-11-10T00:00:00",
          "2023-01-06T00:00:00",
          "2023-03-03T00:00:00",
          "2023-04-22T00:00:00",
          "2023-07-07T00:00:00",
          "2023-09-03T00:00:00",
          "2023-11-05T00:00:00",
          "2023-12-16T00:00:00",
          "2024-01-26T00:00:00",
          "2024-04-07T00:00:00",
          "2024-05-24T00:00:00",
          "2024-07-20T00:00:00",
          "2024-09-11T00:00:00"
         ],
         "y": [
          4.23,
          4.09,
          4.09,
          4.01,
          4.19,
          4.23,
          3.67,
          3.96,
          4.08,
          3.75,
          3.99,
          3.99,
          4.1,
          3.75,
          4.38,
          4.38,
          3.85,
          4.07,
          3.61,
          3.73,
          4.11,
          4.21,
          3.93,
          3.96,
          4.15,
          4.1,
          3.76,
          3.91,
          4.18,
          4.18,
          3.9,
          3.62,
          4.02,
          4.01,
          3.99,
          3.99,
          3.94,
          4,
          4.25,
          3.02,
          3.45,
          3.48,
          3.67,
          4.23,
          3.73,
          4.2,
          4.07,
          3.99,
          3.82,
          3.79,
          4.02,
          3.92,
          4.17,
          4.14,
          3.97,
          3.9,
          4.09,
          3.46,
          3.87
         ]
        }
       ],
       "layout": {
        "template": {
         "data": {
          "bar": [
           {
            "error_x": {
             "color": "#2a3f5f"
            },
            "error_y": {
             "color": "#2a3f5f"
            },
            "marker": {
             "line": {
              "color": "white",
              "width": 0.5
             },
             "pattern": {
              "fillmode": "overlay",
              "size": 10,
              "solidity": 0.2
             }
            },
            "type": "bar"
           }
          ],
          "barpolar": [
           {
            "marker": {
             "line": {
              "color": "white",
              "width": 0.5
             },
             "pattern": {
              "fillmode": "overlay",
              "size": 10,
              "solidity": 0.2
             }
            },
            "type": "barpolar"
           }
          ],
          "carpet": [
           {
            "aaxis": {
             "endlinecolor": "#2a3f5f",
             "gridcolor": "#C8D4E3",
             "linecolor": "#C8D4E3",
             "minorgridcolor": "#C8D4E3",
             "startlinecolor": "#2a3f5f"
            },
            "baxis": {
             "endlinecolor": "#2a3f5f",
             "gridcolor": "#C8D4E3",
             "linecolor": "#C8D4E3",
             "minorgridcolor": "#C8D4E3",
             "startlinecolor": "#2a3f5f"
            },
            "type": "carpet"
           }
          ],
          "choropleth": [
           {
            "colorbar": {
             "outlinewidth": 0,
             "ticks": ""
            },
            "type": "choropleth"
           }
          ],
          "contour": [
           {
            "colorbar": {
             "outlinewidth": 0,
             "ticks": ""
            },
            "colorscale": [
             [
              0,
              "#0d0887"
             ],
             [
              0.1111111111111111,
              "#46039f"
             ],
             [
              0.2222222222222222,
              "#7201a8"
             ],
             [
              0.3333333333333333,
              "#9c179e"
             ],
             [
              0.4444444444444444,
              "#bd3786"
             ],
             [
              0.5555555555555556,
              "#d8576b"
             ],
             [
              0.6666666666666666,
              "#ed7953"
             ],
             [
              0.7777777777777778,
              "#fb9f3a"
             ],
             [
              0.8888888888888888,
              "#fdca26"
             ],
             [
              1,
              "#f0f921"
             ]
            ],
            "type": "contour"
           }
          ],
          "contourcarpet": [
           {
            "colorbar": {
             "outlinewidth": 0,
             "ticks": ""
            },
            "type": "contourcarpet"
           }
          ],
          "heatmap": [
           {
            "colorbar": {
             "outlinewidth": 0,
             "ticks": ""
            },
            "colorscale": [
             [
              0,
              "#0d0887"
             ],
             [
              0.1111111111111111,
              "#46039f"
             ],
             [
              0.2222222222222222,
              "#7201a8"
             ],
             [
              0.3333333333333333,
              "#9c179e"
             ],
             [
              0.4444444444444444,
              "#bd3786"
             ],
             [
              0.5555555555555556,
              "#d8576b"
             ],
             [
              0.6666666666666666,
              "#ed7953"
             ],
             [
              0.7777777777777778,
              "#fb9f3a"
             ],
             [
              0.8888888888888888,
              "#fdca26"
             ],
             [
              1,
              "#f0f921"
             ]
            ],
            "type": "heatmap"
           }
          ],
          "heatmapgl": [
           {
            "colorbar": {
             "outlinewidth": 0,
             "ticks": ""
            },
            "colorscale": [
             [
              0,
              "#0d0887"
             ],
             [
              0.1111111111111111,
              "#46039f"
             ],
             [
              0.2222222222222222,
              "#7201a8"
             ],
             [
              0.3333333333333333,
              "#9c179e"
             ],
             [
              0.4444444444444444,
              "#bd3786"
             ],
             [
              0.5555555555555556,
              "#d8576b"
             ],
             [
              0.6666666666666666,
              "#ed7953"
             ],
             [
              0.7777777777777778,
              "#fb9f3a"
             ],
             [
              0.8888888888888888,
              "#fdca26"
             ],
             [
              1,
              "#f0f921"
             ]
            ],
            "type": "heatmapgl"
           }
          ],
          "histogram": [
           {
            "marker": {
             "pattern": {
              "fillmode": "overlay",
              "size": 10,
              "solidity": 0.2
             }
            },
            "type": "histogram"
           }
          ],
          "histogram2d": [
           {
            "colorbar": {
             "outlinewidth": 0,
             "ticks": ""
            },
            "colorscale": [
             [
              0,
              "#0d0887"
             ],
             [
              0.1111111111111111,
              "#46039f"
             ],
             [
              0.2222222222222222,
              "#7201a8"
             ],
             [
              0.3333333333333333,
              "#9c179e"
             ],
             [
              0.4444444444444444,
              "#bd3786"
             ],
             [
              0.5555555555555556,
              "#d8576b"
             ],
             [
              0.6666666666666666,
              "#ed7953"
             ],
             [
              0.7777777777777778,
              "#fb9f3a"
             ],
             [
              0.8888888888888888,
              "#fdca26"
             ],
             [
              1,
              "#f0f921"
             ]
            ],
            "type": "histogram2d"
           }
          ],
          "histogram2dcontour": [
           {
            "colorbar": {
             "outlinewidth": 0,
             "ticks": ""
            },
            "colorscale": [
             [
              0,
              "#0d0887"
             ],
             [
              0.1111111111111111,
              "#46039f"
             ],
             [
              0.2222222222222222,
              "#7201a8"
             ],
             [
              0.3333333333333333,
              "#9c179e"
             ],
             [
              0.4444444444444444,
              "#bd3786"
             ],
             [
              0.5555555555555556,
              "#d8576b"
             ],
             [
              0.6666666666666666,
              "#ed7953"
             ],
             [
              0.7777777777777778,
              "#fb9f3a"
             ],
             [
              0.8888888888888888,
              "#fdca26"
             ],
             [
              1,
              "#f0f921"
             ]
            ],
            "type": "histogram2dcontour"
           }
          ],
          "mesh3d": [
           {
            "colorbar": {
             "outlinewidth": 0,
             "ticks": ""
            },
            "type": "mesh3d"
           }
          ],
          "parcoords": [
           {
            "line": {
             "colorbar": {
              "outlinewidth": 0,
              "ticks": ""
             }
            },
            "type": "parcoords"
           }
          ],
          "pie": [
           {
            "automargin": true,
            "type": "pie"
           }
          ],
          "scatter": [
           {
            "fillpattern": {
             "fillmode": "overlay",
             "size": 10,
             "solidity": 0.2
            },
            "type": "scatter"
           }
          ],
          "scatter3d": [
           {
            "line": {
             "colorbar": {
              "outlinewidth": 0,
              "ticks": ""
             }
            },
            "marker": {
             "colorbar": {
              "outlinewidth": 0,
              "ticks": ""
             }
            },
            "type": "scatter3d"
           }
          ],
          "scattercarpet": [
           {
            "marker": {
             "colorbar": {
              "outlinewidth": 0,
              "ticks": ""
             }
            },
            "type": "scattercarpet"
           }
          ],
          "scattergeo": [
           {
            "marker": {
             "colorbar": {
              "outlinewidth": 0,
              "ticks": ""
             }
            },
            "type": "scattergeo"
           }
          ],
          "scattergl": [
           {
            "marker": {
             "colorbar": {
              "outlinewidth": 0,
              "ticks": ""
             }
            },
            "type": "scattergl"
           }
          ],
          "scattermapbox": [
           {
            "marker": {
             "colorbar": {
              "outlinewidth": 0,
              "ticks": ""
             }
            },
            "type": "scattermapbox"
           }
          ],
          "scatterpolar": [
           {
            "marker": {
             "colorbar": {
              "outlinewidth": 0,
              "ticks": ""
             }
            },
            "type": "scatterpolar"
           }
          ],
          "scatterpolargl": [
           {
            "marker": {
             "colorbar": {
              "outlinewidth": 0,
              "ticks": ""
             }
            },
            "type": "scatterpolargl"
           }
          ],
          "scatterternary": [
           {
            "marker": {
             "colorbar": {
              "outlinewidth": 0,
              "ticks": ""
             }
            },
            "type": "scatterternary"
           }
          ],
          "surface": [
           {
            "colorbar": {
             "outlinewidth": 0,
             "ticks": ""
            },
            "colorscale": [
             [
              0,
              "#0d0887"
             ],
             [
              0.1111111111111111,
              "#46039f"
             ],
             [
              0.2222222222222222,
              "#7201a8"
             ],
             [
              0.3333333333333333,
              "#9c179e"
             ],
             [
              0.4444444444444444,
              "#bd3786"
             ],
             [
              0.5555555555555556,
              "#d8576b"
             ],
             [
              0.6666666666666666,
              "#ed7953"
             ],
             [
              0.7777777777777778,
              "#fb9f3a"
             ],
             [
              0.8888888888888888,
              "#fdca26"
             ],
             [
              1,
              "#f0f921"
             ]
            ],
            "type": "surface"
           }
          ],
          "table": [
           {
            "cells": {
             "fill": {
              "color": "#EBF0F8"
             },
             "line": {
              "color": "white"
             }
            },
            "header": {
             "fill": {
              "color": "#C8D4E3"
             },
             "line": {
              "color": "white"
             }
            },
            "type": "table"
           }
          ]
         },
         "layout": {
          "annotationdefaults": {
           "arrowcolor": "#2a3f5f",
           "arrowhead": 0,
           "arrowwidth": 1
          },
          "autotypenumbers": "strict",
          "coloraxis": {
           "colorbar": {
            "outlinewidth": 0,
            "ticks": ""
           }
          },
          "colorscale": {
           "diverging": [
            [
             0,
             "#8e0152"
            ],
            [
             0.1,
             "#c51b7d"
            ],
            [
             0.2,
             "#de77ae"
            ],
            [
             0.3,
             "#f1b6da"
            ],
            [
             0.4,
             "#fde0ef"
            ],
            [
             0.5,
             "#f7f7f7"
            ],
            [
             0.6,
             "#e6f5d0"
            ],
            [
             0.7,
             "#b8e186"
            ],
            [
             0.8,
             "#7fbc41"
            ],
            [
             0.9,
             "#4d9221"
            ],
            [
             1,
             "#276419"
            ]
           ],
           "sequential": [
            [
             0,
             "#0d0887"
            ],
            [
             0.1111111111111111,
             "#46039f"
            ],
            [
             0.2222222222222222,
             "#7201a8"
            ],
            [
             0.3333333333333333,
             "#9c179e"
            ],
            [
             0.4444444444444444,
             "#bd3786"
            ],
            [
             0.5555555555555556,
             "#d8576b"
            ],
            [
             0.6666666666666666,
             "#ed7953"
            ],
            [
             0.7777777777777778,
             "#fb9f3a"
            ],
            [
             0.8888888888888888,
             "#fdca26"
            ],
            [
             1,
             "#f0f921"
            ]
           ],
           "sequentialminus": [
            [
             0,
             "#0d0887"
            ],
            [
             0.1111111111111111,
             "#46039f"
            ],
            [
             0.2222222222222222,
             "#7201a8"
            ],
            [
             0.3333333333333333,
             "#9c179e"
            ],
            [
             0.4444444444444444,
             "#bd3786"
            ],
            [
             0.5555555555555556,
             "#d8576b"
            ],
            [
             0.6666666666666666,
             "#ed7953"
            ],
            [
             0.7777777777777778,
             "#fb9f3a"
            ],
            [
             0.8888888888888888,
             "#fdca26"
            ],
            [
             1,
             "#f0f921"
            ]
           ]
          },
          "colorway": [
           "#636efa",
           "#EF553B",
           "#00cc96",
           "#ab63fa",
           "#FFA15A",
           "#19d3f3",
           "#FF6692",
           "#B6E880",
           "#FF97FF",
           "#FECB52"
          ],
          "font": {
           "color": "#2a3f5f"
          },
          "geo": {
           "bgcolor": "white",
           "lakecolor": "white",
           "landcolor": "white",
           "showlakes": true,
           "showland": true,
           "subunitcolor": "#C8D4E3"
          },
          "hoverlabel": {
           "align": "left"
          },
          "hovermode": "closest",
          "mapbox": {
           "style": "light"
          },
          "paper_bgcolor": "white",
          "plot_bgcolor": "white",
          "polar": {
           "angularaxis": {
            "gridcolor": "#EBF0F8",
            "linecolor": "#EBF0F8",
            "ticks": ""
           },
           "bgcolor": "white",
           "radialaxis": {
            "gridcolor": "#EBF0F8",
            "linecolor": "#EBF0F8",
            "ticks": ""
           }
          },
          "scene": {
           "xaxis": {
            "backgroundcolor": "white",
            "gridcolor": "#DFE8F3",
            "gridwidth": 2,
            "linecolor": "#EBF0F8",
            "showbackground": true,
            "ticks": "",
            "zerolinecolor": "#EBF0F8"
           },
           "yaxis": {
            "backgroundcolor": "white",
            "gridcolor": "#DFE8F3",
            "gridwidth": 2,
            "linecolor": "#EBF0F8",
            "showbackground": true,
            "ticks": "",
            "zerolinecolor": "#EBF0F8"
           },
           "zaxis": {
            "backgroundcolor": "white",
            "gridcolor": "#DFE8F3",
            "gridwidth": 2,
            "linecolor": "#EBF0F8",
            "showbackground": true,
            "ticks": "",
            "zerolinecolor": "#EBF0F8"
           }
          },
          "shapedefaults": {
           "line": {
            "color": "#2a3f5f"
           }
          },
          "ternary": {
           "aaxis": {
            "gridcolor": "#DFE8F3",
            "linecolor": "#A2B1C6",
            "ticks": ""
           },
           "baxis": {
            "gridcolor": "#DFE8F3",
            "linecolor": "#A2B1C6",
            "ticks": ""
           },
           "bgcolor": "white",
           "caxis": {
            "gridcolor": "#DFE8F3",
            "linecolor": "#A2B1C6",
            "ticks": ""
           }
          },
          "title": {
           "x": 0.05
          },
          "xaxis": {
           "automargin": true,
           "gridcolor": "#EBF0F8",
           "linecolor": "#EBF0F8",
           "ticks": "",
           "title": {
            "standoff": 15
           },
           "zerolinecolor": "#EBF0F8",
           "zerolinewidth": 2
          },
          "yaxis": {
           "automargin": true,
           "gridcolor": "#EBF0F8",
           "linecolor": "#EBF0F8",
           "ticks": "",
           "title": {
            "standoff": 15
           },
           "zerolinecolor": "#EBF0F8",
           "zerolinewidth": 2
          }
         }
        },
        "title": {
         "text": "Rating Over Time"
        },
        "xaxis": {
         "title": {
          "text": "Year"
         }
        },
        "yaxis": {
         "title": {
          "text": "Rating"
         }
        }
       }
      }
     },
     "metadata": {},
     "output_type": "display_data"
    }
   ],
   "source": [
    "# Ensure the 'date' column is in datetime format\n",
    "# df_plot = (\n",
    "#     df_scifi.to_pandas()\n",
    "# )  # If df_scifi is in Polars, convert it to Pandas, otherwise skip this step\n",
    "# df_plot[\"date\"] = pd.to_datetime(df_plot[\"date\"])\n",
    "\n",
    "# Sort the dataframe by date\n",
    "df_plot = df_plot.sort_values(\"date\")\n",
    "\n",
    "# Create a Plotly figure\n",
    "fig = go.Figure()\n",
    "\n",
    "# Add a line trace for the rating over time, with hover information for the book title\n",
    "fig.add_trace(\n",
    "    go.Scatter(\n",
    "        x=df_plot[\"date\"],\n",
    "        y=df_plot[\"average_bookclub_rating\"],\n",
    "        mode=\"lines+markers\",\n",
    "        name=\"Rating\",\n",
    "        text=df_plot[\"title\"],  # Add the book title for hover information\n",
    "        hovertemplate=\"<b>%{text}</b><br>Rating: %{y}<br>Date: %{x|%Y-%m-%d}<extra></extra>\",\n",
    "    )\n",
    ")\n",
    "\n",
    "# Add a line trace for the average Goodreads rating over time\n",
    "fig.add_trace(\n",
    "    go.Scatter(\n",
    "        x=df_plot[\"date\"],\n",
    "        y=df_plot[\"average_goodreads_rating\"],\n",
    "        mode=\"lines+markers\",\n",
    "        name=\"Goodreads Rating\",\n",
    "        text=df_plot[\"title\"],  # Add the book title for hover information\n",
    "        hovertemplate=\"<b>%{text}</b><br>Goodreads Rating: %{y}<br>Date: %{x|%Y-%m-%d}<extra></extra>\",\n",
    "        line={\"dash\": \"dash\"},  # Optionally make the Goodreads rating line dashed\n",
    "    )\n",
    ")\n",
    "\n",
    "# Set the title and labels for axes\n",
    "fig.update_layout(\n",
    "    title=\"Rating Over Time\", xaxis_title=\"Year\", yaxis_title=\"Rating\", template=\"plotly_white\"\n",
    ")\n",
    "\n",
    "# Show the interactive plot\n",
    "fig.show()"
   ]
  },
  {
   "cell_type": "code",
   "execution_count": null,
   "metadata": {},
   "outputs": [],
   "source": []
  }
 ],
 "metadata": {
  "kernelspec": {
   "display_name": ".venv",
   "language": "python",
   "name": "python3"
  },
  "language_info": {
   "codemirror_mode": {
    "name": "ipython",
    "version": 3
   },
   "file_extension": ".py",
   "mimetype": "text/x-python",
   "name": "python",
   "nbconvert_exporter": "python",
   "pygments_lexer": "ipython3",
   "version": "3.12.6"
  }
 },
 "nbformat": 4,
 "nbformat_minor": 2
}
