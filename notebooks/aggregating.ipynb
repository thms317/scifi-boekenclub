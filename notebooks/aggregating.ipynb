{
 "cells": [
  {
   "cell_type": "markdown",
   "metadata": {},
   "source": [
    "# Aggregate Goodreads and Bookclub data"
   ]
  },
  {
   "cell_type": "code",
   "execution_count": 7,
   "metadata": {},
   "outputs": [],
   "source": [
    "from pathlib import Path\n",
    "\n",
    "from scifi.data_processor import process_bookclub_data, save_processed_data\n",
    "from scifi.utils import get_active_book_suggesters"
   ]
  },
  {
   "cell_type": "code",
   "execution_count": 8,
   "metadata": {},
   "outputs": [],
   "source": [
    "# Paths to source files\n",
    "goodreads_dir = Path(\"data/goodreads/clean\")\n",
    "bookclub_path = Path(\"data/bookclub/bookclub.csv\")\n",
    "manual_ratings_path = Path(\"data/bookclub/manual_ratings.csv\")"
   ]
  },
  {
   "cell_type": "code",
   "execution_count": 9,
   "metadata": {},
   "outputs": [
    {
     "name": "stdout",
     "output_type": "stream",
     "text": [
      "✅ Processing complete!\n",
      "📚 Processed 76 books\n",
      "📖 Combined 2069 Goodreads entries\n",
      "❓ Found 2 unmatched books\n"
     ]
    }
   ],
   "source": [
    "# Process all data using the new data processor module\n",
    "bookclub_processed_df, unmatched_df, goodreads_df = process_bookclub_data(\n",
    "    goodreads_dir=goodreads_dir,\n",
    "    bookclub_path=bookclub_path,\n",
    "    manual_ratings_path=manual_ratings_path,\n",
    ")\n",
    "\n",
    "print(\"✅ Processing complete!\")\n",
    "print(f\"📚 Processed {len(bookclub_processed_df)} books\")\n",
    "print(f\"📖 Combined {len(goodreads_df)} Goodreads entries\")\n",
    "print(f\"❓ Found {len(unmatched_df)} unmatched books\")"
   ]
  },
  {
   "cell_type": "code",
   "execution_count": 10,
   "metadata": {},
   "outputs": [
    {
     "name": "stdout",
     "output_type": "stream",
     "text": [
      "📁 Data saved to CSV files!\n"
     ]
    }
   ],
   "source": [
    "# Save results to CSV files\n",
    "save_processed_data(bookclub_processed_df, unmatched_df, goodreads_df)\n",
    "print(\"📁 Data saved to CSV files!\")"
   ]
  },
  {
   "cell_type": "markdown",
   "metadata": {},
   "source": [
    "Which books have we read but no one can remember it..?"
   ]
  },
  {
   "cell_type": "code",
   "execution_count": 11,
   "metadata": {},
   "outputs": [
    {
     "name": "stdout",
     "output_type": "stream",
     "text": [
      "shape: (2, 6)\n",
      "┌───────┬────────────┬───────────────────┬─────────────────────┬──────────────┬────────────────────┐\n",
      "│ index ┆ date       ┆ title             ┆ author              ┆ suggested_by ┆ location           │\n",
      "│ ---   ┆ ---        ┆ ---               ┆ ---                 ┆ ---          ┆ ---                │\n",
      "│ i64   ┆ date       ┆ str               ┆ str                 ┆ str          ┆ str                │\n",
      "╞═══════╪════════════╪═══════════════════╪═════════════════════╪══════════════╪════════════════════╡\n",
      "│ 34    ┆ 2019-02-20 ┆ Saga comic series ┆ Bryan K. Vaughan &  ┆ David        ┆ De Doelen          │\n",
      "│       ┆            ┆                   ┆ Fiona Stapl…        ┆              ┆                    │\n",
      "│ 51    ┆ 2021-05-22 ┆ The Things        ┆ Peter Watts         ┆ Peter        ┆ Laurynas -         │\n",
      "│       ┆            ┆                   ┆                     ┆              ┆ Keizersgracht 92k  │\n",
      "└───────┴────────────┴───────────────────┴─────────────────────┴──────────────┴────────────────────┘\n"
     ]
    }
   ],
   "source": [
    "print(unmatched_df)"
   ]
  },
  {
   "cell_type": "markdown",
   "metadata": {},
   "source": [
    "Print the number of books suggested by each member of the book club."
   ]
  },
  {
   "cell_type": "code",
   "execution_count": 12,
   "metadata": {},
   "outputs": [
    {
     "name": "stdout",
     "output_type": "stream",
     "text": [
      "📊 Active book suggesters:\n",
      "- Laurynas....... 11 books\n",
      "- Dion........... 11 books\n",
      "- Robert......... 11 books\n",
      "- David.......... 8 books\n",
      "- Thirsa & Koen.. 8 books\n",
      "- gezamenlijk.... 4 books\n",
      "- Marloes........ 4 books\n",
      "- Peter.......... 4 books\n",
      "- Koen........... 3 books\n",
      "- Thirsa......... 2 books\n",
      "- Thomas......... 2 books\n",
      "- Koen_M......... 1 books\n"
     ]
    }
   ],
   "source": [
    "# Show active book suggesters\n",
    "active_suggesters = get_active_book_suggesters(bookclub_processed_df)\n",
    "print(\"📊 Active book suggesters:\")\n",
    "\n",
    "for row in active_suggesters.iter_rows(named=True):\n",
    "    print(f\"- {row['suggested_by']:.<15} {row['count']} books\")"
   ]
  },
  {
   "cell_type": "code",
   "execution_count": null,
   "metadata": {},
   "outputs": [],
   "source": []
  }
 ],
 "metadata": {
  "kernelspec": {
   "display_name": "scifi",
   "language": "python",
   "name": "python3"
  },
  "language_info": {
   "codemirror_mode": {
    "name": "ipython",
    "version": 3
   },
   "file_extension": ".py",
   "mimetype": "text/x-python",
   "name": "python",
   "nbconvert_exporter": "python",
   "pygments_lexer": "ipython3",
   "version": "3.12.6"
  }
 },
 "nbformat": 4,
 "nbformat_minor": 2
}
