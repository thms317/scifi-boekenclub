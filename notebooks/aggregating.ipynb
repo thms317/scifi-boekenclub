{
 "cells": [
  {
   "cell_type": "markdown",
   "metadata": {},
   "source": [
    "# Aggregate Goodreads and Bookclub data"
   ]
  },
  {
   "cell_type": "code",
   "execution_count": 34,
   "metadata": {},
   "outputs": [],
   "source": [
    "from pathlib import Path\n",
    "\n",
    "from scifi.data_processor import process_bookclub_data, save_processed_data\n",
    "from scifi.utils import get_active_book_suggesters"
   ]
  },
  {
   "cell_type": "code",
   "execution_count": 35,
   "metadata": {},
   "outputs": [],
   "source": [
    "# Paths to source files\n",
    "goodreads_dir = Path(\"data/goodreads/clean\")\n",
    "bookclub_path = Path(\"data/bookclub/bookclub.csv\")\n",
    "manual_ratings_path = Path(\"data/bookclub/manual_ratings.csv\")"
   ]
  },
  {
   "cell_type": "code",
   "execution_count": 36,
   "metadata": {},
   "outputs": [
    {
     "name": "stdout",
     "output_type": "stream",
     "text": [
      "✅ Processing complete!\n",
      "📚 Processed 74 books\n",
      "📖 Combined 1634 Goodreads entries\n",
      "❓ Found 2 unmatched books\n"
     ]
    }
   ],
   "source": [
    "# Process all data using the new data processor module\n",
    "bookclub_processed_df, unmatched_df, goodreads_df = process_bookclub_data(\n",
    "    goodreads_dir=goodreads_dir,\n",
    "    bookclub_path=bookclub_path,\n",
    "    manual_ratings_path=manual_ratings_path,\n",
    ")\n",
    "\n",
    "print(\"✅ Processing complete!\")\n",
    "print(f\"📚 Processed {len(bookclub_processed_df)} books\")\n",
    "print(f\"📖 Combined {len(goodreads_df)} Goodreads entries\")\n",
    "print(f\"❓ Found {len(unmatched_df)} unmatched books\")"
   ]
  },
  {
   "cell_type": "code",
   "execution_count": 37,
   "metadata": {},
   "outputs": [
    {
     "name": "stdout",
     "output_type": "stream",
     "text": [
      "📁 Data saved to CSV files!\n"
     ]
    }
   ],
   "source": [
    "# Save results to CSV files\n",
    "save_processed_data(bookclub_processed_df, unmatched_df, goodreads_df)\n",
    "print(\"📁 Data saved to CSV files!\")"
   ]
  },
  {
   "cell_type": "markdown",
   "metadata": {},
   "source": [
    "Which books have we read but no one can remember it..?"
   ]
  },
  {
   "cell_type": "code",
   "execution_count": 38,
   "metadata": {},
   "outputs": [
    {
     "name": "stdout",
     "output_type": "stream",
     "text": [
      "shape: (2, 6)\n",
      "┌───────┬────────────┬───────────────────┬─────────────────────┬──────────────┬────────────────────┐\n",
      "│ index ┆ date       ┆ title             ┆ author              ┆ suggested_by ┆ location           │\n",
      "│ ---   ┆ ---        ┆ ---               ┆ ---                 ┆ ---          ┆ ---                │\n",
      "│ i64   ┆ date       ┆ str               ┆ str                 ┆ str          ┆ str                │\n",
      "╞═══════╪════════════╪═══════════════════╪═════════════════════╪══════════════╪════════════════════╡\n",
      "│ 34    ┆ 2019-02-20 ┆ Saga comic series ┆ Bryan K. Vaughan &  ┆ David        ┆ De Doelen          │\n",
      "│       ┆            ┆                   ┆ Fiona Stapl…        ┆              ┆                    │\n",
      "│ 51    ┆ 2021-05-22 ┆ The Things        ┆ Peter Watts         ┆ gezamenlijk  ┆ Laurynas -         │\n",
      "│       ┆            ┆                   ┆                     ┆              ┆ Keizersgracht 92k  │\n",
      "└───────┴────────────┴───────────────────┴─────────────────────┴──────────────┴────────────────────┘\n"
     ]
    }
   ],
   "source": [
    "print(unmatched_df)"
   ]
  },
  {
   "cell_type": "markdown",
   "metadata": {},
   "source": [
    "Print the number of books suggested by each member of the book club."
   ]
  },
  {
   "cell_type": "code",
   "execution_count": 39,
   "metadata": {},
   "outputs": [
    {
     "name": "stdout",
     "output_type": "stream",
     "text": [
      "📊 Active book suggesters:\n",
      "shape: (12, 2)\n",
      "┌───────────────┬───────┐\n",
      "│ suggested_by  ┆ count │\n",
      "│ ---           ┆ ---   │\n",
      "│ str           ┆ u32   │\n",
      "╞═══════════════╪═══════╡\n",
      "│ Dion          ┆ 12    │\n",
      "│ Laurynas      ┆ 10    │\n",
      "│ Robert        ┆ 9     │\n",
      "│ gezamenlijk   ┆ 9     │\n",
      "│ Thirsa & Koen ┆ 8     │\n",
      "│ …             ┆ …     │\n",
      "│ Koen          ┆ 3     │\n",
      "│ Thomas        ┆ 2     │\n",
      "│ Peter         ┆ 2     │\n",
      "│ Koen_M        ┆ 1     │\n",
      "│ Thirsa        ┆ 1     │\n",
      "└───────────────┴───────┘\n"
     ]
    }
   ],
   "source": [
    "# Show active book suggesters\n",
    "active_suggesters = get_active_book_suggesters(bookclub_processed_df)\n",
    "print(\"📊 Active book suggesters:\")\n",
    "print(active_suggesters)"
   ]
  }
 ],
 "metadata": {
  "kernelspec": {
   "display_name": "scifi",
   "language": "python",
   "name": "python3"
  },
  "language_info": {
   "codemirror_mode": {
    "name": "ipython",
    "version": 3
   },
   "file_extension": ".py",
   "mimetype": "text/x-python",
   "name": "python",
   "nbconvert_exporter": "python",
   "pygments_lexer": "ipython3",
   "version": "3.12.6"
  }
 },
 "nbformat": 4,
 "nbformat_minor": 2
}
