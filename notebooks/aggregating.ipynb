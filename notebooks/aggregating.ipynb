{
 "cells": [
  {
   "cell_type": "markdown",
   "metadata": {},
   "source": [
    "# Aggregate Goodreads and Bookclub data"
   ]
  },
  {
   "cell_type": "code",
   "execution_count": 1,
   "metadata": {},
   "outputs": [],
   "source": [
    "from pathlib import Path\n",
    "\n",
    "from scifi.utils import (\n",
    "    get_reviewer_mapping,\n",
    "    match_dataframes,\n",
    "    merge_manual_ratings,\n",
    "    pivot_goodreads_data,\n",
    "    read_bookclub,\n",
    "    read_combine_goodreads,\n",
    "    read_manual_ratings,\n",
    ")"
   ]
  },
  {
   "cell_type": "code",
   "execution_count": 2,
   "metadata": {},
   "outputs": [],
   "source": [
    "# Paths to source files\n",
    "goodreads_dir = Path(\"data/goodreads/clean\")\n",
    "bookclub_path = Path(\"data/bookclub_source.csv\")\n",
    "manual_ratings_path = Path(\"data/goodreads/manual_ratings.csv\")"
   ]
  },
  {
   "cell_type": "code",
   "execution_count": 3,
   "metadata": {},
   "outputs": [],
   "source": [
    "# Read and combine all Goodreads CSV files\n",
    "goodreads_df = read_combine_goodreads(goodreads_dir)\n",
    "\n",
    "# Group the Goodreads data by book and calculating average ratings\n",
    "goodreads_pivot_df = pivot_goodreads_data(\n",
    "    goodreads_df=goodreads_df,\n",
    "    reviewer_mapping=get_reviewer_mapping(),\n",
    ")"
   ]
  },
  {
   "cell_type": "code",
   "execution_count": 4,
   "metadata": {},
   "outputs": [],
   "source": [
    "# Read the book club data\n",
    "bookclub_df = read_bookclub(bookclub_path)\n",
    "\n",
    "# Match the book club data with Goodreads data with an inner join\n",
    "bookclub_processed_df = match_dataframes(\n",
    "    bookclub_df=bookclub_df,\n",
    "    goodreads_pivot_df=goodreads_pivot_df,\n",
    "    on=\"title\",\n",
    "    how=\"inner\",\n",
    ")\n",
    "\n",
    "# Find unmatched records with an anti join\n",
    "unmatched_df = match_dataframes(\n",
    "    bookclub_df=bookclub_df,\n",
    "    goodreads_pivot_df=goodreads_pivot_df,\n",
    "    on=\"title\",\n",
    "    how=\"anti\",\n",
    ")"
   ]
  },
  {
   "cell_type": "code",
   "execution_count": 5,
   "metadata": {},
   "outputs": [],
   "source": [
    "# Read manual ratings\n",
    "manual_ratings_df = read_manual_ratings(manual_ratings_path)\n",
    "\n",
    "# Merge the manual ratings into the processed bookclub data\n",
    "bookclub_processed_df = merge_manual_ratings(\n",
    "    bookclub_processed_df=bookclub_processed_df,\n",
    "    manual_ratings_df=manual_ratings_df,\n",
    "    on=\"title\",\n",
    ")"
   ]
  },
  {
   "cell_type": "code",
   "execution_count": 6,
   "metadata": {},
   "outputs": [],
   "source": [
    "# Sort by date\n",
    "bookclub_processed_df = bookclub_processed_df.sort(\"date\")\n",
    "\n",
    "# Save results to CSV files\n",
    "bookclub_processed_df.write_csv(\"data/bookclub_processed.csv\")\n",
    "unmatched_df.write_csv(\"data/goodreads/goodreads_unmatched.csv\")\n",
    "goodreads_df.write_csv(\"data/goodreads/goodreads_combined.csv\")"
   ]
  },
  {
   "cell_type": "markdown",
   "metadata": {},
   "source": [
    "Which books have we read but no one can remember it..?"
   ]
  },
  {
   "cell_type": "code",
   "execution_count": 7,
   "metadata": {},
   "outputs": [
    {
     "name": "stdout",
     "output_type": "stream",
     "text": [
      "shape: (3, 6)\n",
      "┌───────┬────────────┬───────────────────┬───────────────────┬─────────────────┬───────────────────┐\n",
      "│ index ┆ date       ┆ title             ┆ author            ┆ suggested_by    ┆ location          │\n",
      "│ ---   ┆ ---        ┆ ---               ┆ ---               ┆ ---             ┆ ---               │\n",
      "│ i64   ┆ date       ┆ str               ┆ str               ┆ str             ┆ str               │\n",
      "╞═══════╪════════════╪═══════════════════╪═══════════════════╪═════════════════╪═══════════════════╡\n",
      "│ 34    ┆ 2019-02-20 ┆ Saga comic series ┆ Bryan K. Vaughan  ┆ David           ┆ De Doelen         │\n",
      "│       ┆            ┆                   ┆ & Fiona Stapl…    ┆                 ┆                   │\n",
      "│ 51    ┆ 2021-05-22 ┆ The Things        ┆ Peter Watts       ┆ Allen (stemmen) ┆ Laurynas -        │\n",
      "│       ┆            ┆                   ┆                   ┆                 ┆ Keizersgracht 92k │\n",
      "│ 57    ┆ 2022-06-06 ┆ One Flew Over the ┆ Ken Kesey         ┆ David           ┆ De Doelen         │\n",
      "│       ┆            ┆ Cuckoo's Nes…     ┆                   ┆                 ┆                   │\n",
      "└───────┴────────────┴───────────────────┴───────────────────┴─────────────────┴───────────────────┘\n"
     ]
    }
   ],
   "source": [
    "print(unmatched_df)"
   ]
  }
 ],
 "metadata": {
  "kernelspec": {
   "display_name": "scifi",
   "language": "python",
   "name": "python3"
  },
  "language_info": {
   "codemirror_mode": {
    "name": "ipython",
    "version": 3
   },
   "file_extension": ".py",
   "mimetype": "text/x-python",
   "name": "python",
   "nbconvert_exporter": "python",
   "pygments_lexer": "ipython3",
   "version": "3.12.6"
  }
 },
 "nbformat": 4,
 "nbformat_minor": 2
}
