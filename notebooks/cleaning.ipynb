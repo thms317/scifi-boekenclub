{
 "cells": [
  {
   "cell_type": "markdown",
   "metadata": {},
   "source": [
    "# Cleaning\n",
    "Clean messy dataframes provided by messy people"
   ]
  },
  {
   "cell_type": "code",
   "execution_count": 7,
   "metadata": {},
   "outputs": [],
   "source": [
    "import csv\n",
    "from io import StringIO\n",
    "from pathlib import Path\n",
    "\n",
    "import numpy as np\n",
    "import polars as pl"
   ]
  },
  {
   "cell_type": "markdown",
   "metadata": {},
   "source": [
    "## Robert"
   ]
  },
  {
   "cell_type": "code",
   "execution_count": 8,
   "metadata": {},
   "outputs": [
    {
     "name": "stdout",
     "output_type": "stream",
     "text": [
      "shape: (663, 24)\n",
      "┌───────────┬───────────────┬──────────────┬──────────────┬───┬─────────┬─────────┬───────┬────────┐\n",
      "│ Book Id   ┆ Title         ┆ Author       ┆ Author l-f   ┆ … ┆ Spoiler ┆ Private ┆ Read  ┆ Owned  │\n",
      "│ ---       ┆ ---           ┆ ---          ┆ ---          ┆   ┆ ---     ┆ Notes   ┆ Count ┆ Copies │\n",
      "│ str       ┆ str           ┆ str          ┆ str          ┆   ┆ str     ┆ ---     ┆ ---   ┆ ---    │\n",
      "│           ┆               ┆              ┆              ┆   ┆         ┆ str     ┆ str   ┆ str    │\n",
      "╞═══════════╪═══════════════╪══════════════╪══════════════╪═══╪═════════╪═════════╪═══════╪════════╡\n",
      "│ 128427762 ┆ Galapagos by  ┆ Kurt         ┆ Jr., Kurt    ┆ … ┆         ┆         ┆ 1     ┆ 0      │\n",
      "│           ┆ Kurt Vonnegut ┆ Vonnegut Jr. ┆ Vonnegut     ┆   ┆         ┆         ┆       ┆        │\n",
      "│           ┆ (19…          ┆              ┆              ┆   ┆         ┆         ┆       ┆        │\n",
      "│ 19161852  ┆ The Fifth     ┆ N.K. Jemisin ┆ Jemisin,     ┆ … ┆         ┆         ┆ 2     ┆ 0      │\n",
      "│           ┆ Season (The   ┆              ┆ N.K.         ┆   ┆         ┆         ┆       ┆        │\n",
      "│           ┆ Broken E…     ┆              ┆              ┆   ┆         ┆         ┆       ┆        │\n",
      "│ 57891620  ┆ Fine          ┆ qntm         ┆ qntm, qntm   ┆ … ┆         ┆         ┆ 1     ┆ 0      │\n",
      "│           ┆ Structure     ┆              ┆              ┆   ┆         ┆         ┆       ┆        │\n",
      "│ 39794472  ┆ Concept M     ┆ Aafke        ┆ Romeijn,     ┆ … ┆         ┆         ┆ 1     ┆ 0      │\n",
      "│           ┆               ┆ Romeijn      ┆ Aafke        ┆   ┆         ┆         ┆       ┆        │\n",
      "│ 43444934  ┆ Het zoutpad   ┆ Raynor Winn  ┆ Winn, Raynor ┆ … ┆         ┆         ┆ 1     ┆ 0      │\n",
      "│ …         ┆ …             ┆ …            ┆ …            ┆ … ┆ …       ┆ …       ┆ …     ┆ …      │\n",
      "│ 8909      ┆ The War of    ┆ H.G. Wells   ┆ Wells, H.G.  ┆ … ┆         ┆         ┆ 1     ┆ 0      │\n",
      "│           ┆ the Worlds    ┆              ┆              ┆   ┆         ┆         ┆       ┆        │\n",
      "│ 5470      ┆ 1984          ┆ George       ┆ Orwell,      ┆ … ┆         ┆         ┆ 1     ┆ 0      │\n",
      "│           ┆               ┆ Orwell       ┆ George       ┆   ┆         ┆         ┆       ┆        │\n",
      "│ 4671      ┆ The Great     ┆ F. Scott     ┆ Fitzgerald,  ┆ … ┆         ┆         ┆ 1     ┆ 0      │\n",
      "│           ┆ Gatsby        ┆ Fitzgerald   ┆ F. Scott     ┆   ┆         ┆         ┆       ┆        │\n",
      "│ 13912     ┆ A Beautiful   ┆ Sylvia Nasar ┆ Nasar,       ┆ … ┆         ┆         ┆ 1     ┆ 0      │\n",
      "│           ┆ Mind          ┆              ┆ Sylvia       ┆   ┆         ┆         ┆       ┆        │\n",
      "│ 48855     ┆ The Diary of  ┆ Anne Frank   ┆ Frank, Anne  ┆ … ┆         ┆         ┆ 1     ┆ 0      │\n",
      "│           ┆ a Young Girl  ┆              ┆              ┆   ┆         ┆         ┆       ┆        │\n",
      "└───────────┴───────────────┴──────────────┴──────────────┴───┴─────────┴─────────┴───────┴────────┘\n"
     ]
    }
   ],
   "source": [
    "# Open Robert's ridiculous file\n",
    "path_robert = Path(\"data/goodreads/messy/Thomas is een worstje.csv\")\n",
    "\n",
    "# Open file with utf-8 encoding\n",
    "with Path(path_robert).open(encoding=\"utf-8\") as f:\n",
    "    data = f.read()\n",
    "\n",
    "# Split data into records using the semicolon as the separator\n",
    "records = data.strip().split(\";\")\n",
    "\n",
    "# Remove empty records and strip whitespace\n",
    "records = [record.strip() for record in records if record.strip()]\n",
    "\n",
    "# Store first record as the header\n",
    "header = records[0]\n",
    "\n",
    "# Use csv.reader to parse the header\n",
    "header_io = StringIO(header)\n",
    "reader = csv.reader(header_io, delimiter=\",\", quotechar='\"')\n",
    "columns = next(reader)\n",
    "\n",
    "# Parse the remaining records\n",
    "parsed_records = []\n",
    "for record in records[1:]:\n",
    "    # Remove leading and trailing quotes\n",
    "    record_stripped = record.strip('\"')\n",
    "    # replace double quotes with single quotes\n",
    "    record_cleaned = record_stripped.replace('\"\"', '\"')\n",
    "    # Use csv.reader to parse each record\n",
    "    record_io = StringIO(record_cleaned)\n",
    "    reader = csv.reader(record_io, delimiter=\",\", quotechar='\"')\n",
    "    parsed_record = next(reader)\n",
    "    # Append to list\n",
    "    parsed_records.append(parsed_record)\n",
    "\n",
    "# Delete all elementes which are not 24 long (because, for some reason Robert, sometimes they are not)\n",
    "parsed_records = [record for record in parsed_records if len(record) == 24]  # noqa: PLR2004\n",
    "\n",
    "# Create a Polars DataFrame\n",
    "df_clean = pl.from_numpy(np.array(parsed_records), orient=\"row\")\n",
    "\n",
    "# Set the column names\n",
    "df_clean.columns = columns\n",
    "\n",
    "# Write the data to a new CSV file\n",
    "df_clean.write_csv(\"data/goodreads/clean/Thomas is een worstje_clean.csv\")\n",
    "\n",
    "print(df_clean)"
   ]
  },
  {
   "cell_type": "markdown",
   "metadata": {},
   "source": [
    "## Peter"
   ]
  },
  {
   "cell_type": "code",
   "execution_count": 9,
   "metadata": {},
   "outputs": [
    {
     "name": "stdout",
     "output_type": "stream",
     "text": [
      "shape: (172, 24)\n",
      "┌──────────┬───────────────┬───────────────┬──────────────┬───┬─────────┬─────────┬───────┬────────┐\n",
      "│ Book Id  ┆ Title         ┆ Author        ┆ Author l-f   ┆ … ┆ Spoiler ┆ Private ┆ Read  ┆ Owned  │\n",
      "│ ---      ┆ ---           ┆ ---           ┆ ---          ┆   ┆ ---     ┆ Notes   ┆ Count ┆ Copies │\n",
      "│ i64      ┆ str           ┆ str           ┆ str          ┆   ┆ str     ┆ ---     ┆ ---   ┆ ---    │\n",
      "│          ┆               ┆               ┆              ┆   ┆         ┆ str     ┆ i64   ┆ i64    │\n",
      "╞══════════╪═══════════════╪═══════════════╪══════════════╪═══╪═════════╪═════════╪═══════╪════════╡\n",
      "│ 16234584 ┆ The Drowned   ┆ J.G. Ballard  ┆ Ballard,     ┆ … ┆ null    ┆ null    ┆ 1     ┆ 0      │\n",
      "│          ┆ World         ┆               ┆ J.G.         ┆   ┆         ┆         ┆       ┆        │\n",
      "│ 4883025  ┆ Vochtige      ┆ Charlotte     ┆ Roche,       ┆ … ┆ null    ┆ null    ┆ 1     ┆ 0      │\n",
      "│          ┆ streken       ┆ Roche         ┆ Charlotte    ┆   ┆         ┆         ┆       ┆        │\n",
      "│ 31356681 ┆ Black         ┆ Rick Remender ┆ Remender,    ┆ … ┆ null    ┆ null    ┆ 1     ┆ 0      │\n",
      "│          ┆ Science, Vol. ┆               ┆ Rick         ┆   ┆         ┆         ┆       ┆        │\n",
      "│          ┆ 5: True At…   ┆               ┆              ┆   ┆         ┆         ┆       ┆        │\n",
      "│ 35989498 ┆ Black         ┆ Rick Remender ┆ Remender,    ┆ … ┆ null    ┆ null    ┆ 1     ┆ 0      │\n",
      "│          ┆ Science, Vol. ┆               ┆ Rick         ┆   ┆         ┆         ┆       ┆        │\n",
      "│          ┆ 7: Extinct…   ┆               ┆              ┆   ┆         ┆         ┆       ┆        │\n",
      "│ 33585537 ┆ Black         ┆ Rick Remender ┆ Remender,    ┆ … ┆ null    ┆ null    ┆ 1     ┆ 0      │\n",
      "│          ┆ Science, Vol. ┆               ┆ Rick         ┆   ┆         ┆         ┆       ┆        │\n",
      "│          ┆ 6: Forbidd…   ┆               ┆              ┆   ┆         ┆         ┆       ┆        │\n",
      "│ …        ┆ …             ┆ …             ┆ …            ┆ … ┆ …       ┆ …       ┆ …     ┆ …      │\n",
      "│ 46654    ┆ The           ┆ Isaac Asimov  ┆ Asimov,      ┆ … ┆ null    ┆ null    ┆ 1     ┆ 0      │\n",
      "│          ┆ Foundation    ┆               ┆ Isaac        ┆   ┆         ┆         ┆       ┆        │\n",
      "│          ┆ Trilogy       ┆               ┆              ┆   ┆         ┆         ┆       ┆        │\n",
      "│          ┆ (Founda…      ┆               ┆              ┆   ┆         ┆         ┆       ┆        │\n",
      "│ 17214    ┆ Starship      ┆ Robert A.     ┆ Heinlein,    ┆ … ┆ null    ┆ null    ┆ 1     ┆ 0      │\n",
      "│          ┆ Troopers      ┆ Heinlein      ┆ Robert A.    ┆   ┆         ┆         ┆       ┆        │\n",
      "│ 7082     ┆ Do Androids   ┆ Philip K.     ┆ Dick, Philip ┆ … ┆ null    ┆ null    ┆ 1     ┆ 0      │\n",
      "│          ┆ Dream of      ┆ Dick          ┆ K.           ┆   ┆         ┆         ┆       ┆        │\n",
      "│          ┆ Electric …    ┆               ┆              ┆   ┆         ┆         ┆       ┆        │\n",
      "│ 5129     ┆ Brave New     ┆ Aldous Huxley ┆ Huxley,      ┆ … ┆ null    ┆ null    ┆ 1     ┆ 0      │\n",
      "│          ┆ World         ┆               ┆ Aldous       ┆   ┆         ┆         ┆       ┆        │\n",
      "│ 17863    ┆ Accelerando   ┆ Charles       ┆ Stross,      ┆ … ┆ null    ┆ null    ┆ 1     ┆ 0      │\n",
      "│          ┆               ┆ Stross        ┆ Charles      ┆   ┆         ┆         ┆       ┆        │\n",
      "└──────────┴───────────────┴───────────────┴──────────────┴───┴─────────┴─────────┴───────┴────────┘\n"
     ]
    }
   ],
   "source": [
    "# Open Peter's file\n",
    "path_peter = Path(\"data/goodreads/messy/goodreads_library_export-PHT.csv\")\n",
    "\n",
    "# Clean Peter's file - provide the correct separator\n",
    "df_clean = pl.read_csv(path_peter, separator=\";\")\n",
    "\n",
    "# Write the data to a new CSV file\n",
    "df_clean.write_csv(\"data/goodreads/clean/goodreads_library_export-PHT_clean.csv\")\n",
    "\n",
    "print(df_clean)"
   ]
  }
 ],
 "metadata": {
  "kernelspec": {
   "display_name": ".venv",
   "language": "python",
   "name": "python3"
  },
  "language_info": {
   "codemirror_mode": {
    "name": "ipython",
    "version": 3
   },
   "file_extension": ".py",
   "mimetype": "text/x-python",
   "name": "python",
   "nbconvert_exporter": "python",
   "pygments_lexer": "ipython3",
   "version": "3.12.6"
  }
 },
 "nbformat": 4,
 "nbformat_minor": 2
}
